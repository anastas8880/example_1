{
 "cells": [
  {
   "cell_type": "markdown",
   "metadata": {},
   "source": [
    "#  **Временные ряды: прогнозирование заказов такси**"
   ]
  },
  {
   "cell_type": "markdown",
   "metadata": {},
   "source": [
    "Компания «Чётенькое такси» собрала исторические данные о заказах такси в аэропортах. Чтобы привлекать больше водителей в период пиковой нагрузки, нужно спрогнозировать количество заказов такси на следующий час. Постройте модель для такого предсказания.\n",
    "\n",
    "Требование заказчика: значение метрики *RMSE* на тестовой выборке должно быть не больше 48."
   ]
  },
  {
   "cell_type": "markdown",
   "metadata": {},
   "source": [
    "# Цель проекта"
   ]
  },
  {
   "cell_type": "markdown",
   "metadata": {},
   "source": [
    "**Главной целью** данного проекта стало предсказание количества заказов во время пиковой нагрузки для компании «Чётенькое такси», чтобы у них была возможность привлечь больше водителей, согласно предсказанной нагрузке. В ходе проекта будет подобрана лучшая модель с оптимальными гиперпараметрами, согласно поставленной задаче."
   ]
  },
  {
   "cell_type": "markdown",
   "metadata": {},
   "source": [
    "# Предоставленные заказчиком данные"
   ]
  },
  {
   "cell_type": "markdown",
   "metadata": {},
   "source": [
    "Заказчик предоставил исходные данные, которые содержат в себе следующие признаки:\n",
    "- datetime - дата и время\n",
    "- num_orders - количество заказов (целевой признак)"
   ]
  },
  {
   "cell_type": "markdown",
   "metadata": {},
   "source": [
    "## Подготовка данных"
   ]
  },
  {
   "cell_type": "markdown",
   "metadata": {},
   "source": [
    "Для начала следует импортировать все необходимые библиотеки"
   ]
  },
  {
   "cell_type": "code",
   "execution_count": 1,
   "metadata": {},
   "outputs": [],
   "source": [
    "import pandas as pd\n",
    "import numpy as np\n",
    "import matplotlib.pyplot as plt\n",
    "\n",
    "from statsmodels.tsa.seasonal import seasonal_decompose\n",
    "from statsmodels.tsa.stattools import adfuller\n",
    "\n",
    "from sklearn.linear_model import LinearRegression\n",
    "from sklearn.ensemble import GradientBoostingRegressor\n",
    "from sklearn.ensemble import RandomForestRegressor\n",
    "from sklearn.tree import DecisionTreeRegressor\n",
    "from sklearn.dummy import DummyRegressor\n",
    "import lightgbm as ltb\n",
    "\n",
    "from math import sqrt\n",
    "from sklearn.metrics import mean_squared_error\n",
    "from sklearn.model_selection import train_test_split\n",
    "from sklearn.model_selection import TimeSeriesSplit\n",
    "from sklearn.model_selection import cross_val_score\n",
    "\n",
    "from sklearn.model_selection import GridSearchCV\n",
    "from sklearn.ensemble import GradientBoostingRegressor\n",
    "from time import time"
   ]
  },
  {
   "cell_type": "code",
   "execution_count": 2,
   "metadata": {},
   "outputs": [
    {
     "name": "stdout",
     "output_type": "stream",
     "text": [
      "<class 'pandas.core.frame.DataFrame'>\n",
      "RangeIndex: 26496 entries, 0 to 26495\n",
      "Data columns (total 2 columns):\n",
      " #   Column      Non-Null Count  Dtype \n",
      "---  ------      --------------  ----- \n",
      " 0   datetime    26496 non-null  object\n",
      " 1   num_orders  26496 non-null  int64 \n",
      "dtypes: int64(1), object(1)\n",
      "memory usage: 414.1+ KB\n"
     ]
    }
   ],
   "source": [
    "data = pd.read_csv('/datasets/taxi.csv')\n",
    "data.info()"
   ]
  },
  {
   "cell_type": "code",
   "execution_count": 3,
   "metadata": {},
   "outputs": [
    {
     "data": {
      "text/html": [
       "<div>\n",
       "<style scoped>\n",
       "    .dataframe tbody tr th:only-of-type {\n",
       "        vertical-align: middle;\n",
       "    }\n",
       "\n",
       "    .dataframe tbody tr th {\n",
       "        vertical-align: top;\n",
       "    }\n",
       "\n",
       "    .dataframe thead th {\n",
       "        text-align: right;\n",
       "    }\n",
       "</style>\n",
       "<table border=\"1\" class=\"dataframe\">\n",
       "  <thead>\n",
       "    <tr style=\"text-align: right;\">\n",
       "      <th></th>\n",
       "      <th>datetime</th>\n",
       "      <th>num_orders</th>\n",
       "    </tr>\n",
       "  </thead>\n",
       "  <tbody>\n",
       "    <tr>\n",
       "      <th>0</th>\n",
       "      <td>2018-03-01 00:00:00</td>\n",
       "      <td>9</td>\n",
       "    </tr>\n",
       "    <tr>\n",
       "      <th>1</th>\n",
       "      <td>2018-03-01 00:10:00</td>\n",
       "      <td>14</td>\n",
       "    </tr>\n",
       "    <tr>\n",
       "      <th>2</th>\n",
       "      <td>2018-03-01 00:20:00</td>\n",
       "      <td>28</td>\n",
       "    </tr>\n",
       "    <tr>\n",
       "      <th>3</th>\n",
       "      <td>2018-03-01 00:30:00</td>\n",
       "      <td>20</td>\n",
       "    </tr>\n",
       "    <tr>\n",
       "      <th>4</th>\n",
       "      <td>2018-03-01 00:40:00</td>\n",
       "      <td>32</td>\n",
       "    </tr>\n",
       "  </tbody>\n",
       "</table>\n",
       "</div>"
      ],
      "text/plain": [
       "              datetime  num_orders\n",
       "0  2018-03-01 00:00:00           9\n",
       "1  2018-03-01 00:10:00          14\n",
       "2  2018-03-01 00:20:00          28\n",
       "3  2018-03-01 00:30:00          20\n",
       "4  2018-03-01 00:40:00          32"
      ]
     },
     "execution_count": 3,
     "metadata": {},
     "output_type": "execute_result"
    }
   ],
   "source": [
    "data.head()"
   ]
  },
  {
   "cell_type": "markdown",
   "metadata": {},
   "source": [
    "Следует изменить тип данных datetime с object на datetime"
   ]
  },
  {
   "cell_type": "code",
   "execution_count": 4,
   "metadata": {},
   "outputs": [],
   "source": [
    "data['datetime'] = pd.to_datetime(data['datetime'], format = '%Y-%m-%d %H:%M:%S')"
   ]
  },
  {
   "cell_type": "code",
   "execution_count": 5,
   "metadata": {},
   "outputs": [
    {
     "name": "stdout",
     "output_type": "stream",
     "text": [
      "<class 'pandas.core.frame.DataFrame'>\n",
      "RangeIndex: 26496 entries, 0 to 26495\n",
      "Data columns (total 2 columns):\n",
      " #   Column      Non-Null Count  Dtype         \n",
      "---  ------      --------------  -----         \n",
      " 0   datetime    26496 non-null  datetime64[ns]\n",
      " 1   num_orders  26496 non-null  int64         \n",
      "dtypes: datetime64[ns](1), int64(1)\n",
      "memory usage: 414.1 KB\n"
     ]
    }
   ],
   "source": [
    "data.info()"
   ]
  },
  {
   "cell_type": "markdown",
   "metadata": {},
   "source": [
    "Теперь следует исследовать на предмет дубликатов"
   ]
  },
  {
   "cell_type": "code",
   "execution_count": 6,
   "metadata": {},
   "outputs": [
    {
     "data": {
      "text/plain": [
       "0"
      ]
     },
     "execution_count": 6,
     "metadata": {},
     "output_type": "execute_result"
    }
   ],
   "source": [
    "data.duplicated().sum()"
   ]
  },
  {
   "cell_type": "markdown",
   "metadata": {},
   "source": [
    "Пропусков и дубликатов не обнаружено."
   ]
  },
  {
   "cell_type": "markdown",
   "metadata": {},
   "source": [
    "Теперь следует ресемплировать по каждому часу, для того, чтобы в дальнейшим анализировать почасовую нагрузку заказов такси"
   ]
  },
  {
   "cell_type": "code",
   "execution_count": 7,
   "metadata": {},
   "outputs": [],
   "source": [
    "data.sort_index(inplace=True)\n",
    "data = data.resample('1H', on='datetime').sum()"
   ]
  },
  {
   "cell_type": "code",
   "execution_count": 8,
   "metadata": {},
   "outputs": [
    {
     "data": {
      "text/html": [
       "<div>\n",
       "<style scoped>\n",
       "    .dataframe tbody tr th:only-of-type {\n",
       "        vertical-align: middle;\n",
       "    }\n",
       "\n",
       "    .dataframe tbody tr th {\n",
       "        vertical-align: top;\n",
       "    }\n",
       "\n",
       "    .dataframe thead th {\n",
       "        text-align: right;\n",
       "    }\n",
       "</style>\n",
       "<table border=\"1\" class=\"dataframe\">\n",
       "  <thead>\n",
       "    <tr style=\"text-align: right;\">\n",
       "      <th></th>\n",
       "      <th>num_orders</th>\n",
       "    </tr>\n",
       "    <tr>\n",
       "      <th>datetime</th>\n",
       "      <th></th>\n",
       "    </tr>\n",
       "  </thead>\n",
       "  <tbody>\n",
       "    <tr>\n",
       "      <th>2018-03-01 00:00:00</th>\n",
       "      <td>124</td>\n",
       "    </tr>\n",
       "    <tr>\n",
       "      <th>2018-03-01 01:00:00</th>\n",
       "      <td>85</td>\n",
       "    </tr>\n",
       "    <tr>\n",
       "      <th>2018-03-01 02:00:00</th>\n",
       "      <td>71</td>\n",
       "    </tr>\n",
       "    <tr>\n",
       "      <th>2018-03-01 03:00:00</th>\n",
       "      <td>66</td>\n",
       "    </tr>\n",
       "    <tr>\n",
       "      <th>2018-03-01 04:00:00</th>\n",
       "      <td>43</td>\n",
       "    </tr>\n",
       "  </tbody>\n",
       "</table>\n",
       "</div>"
      ],
      "text/plain": [
       "                     num_orders\n",
       "datetime                       \n",
       "2018-03-01 00:00:00         124\n",
       "2018-03-01 01:00:00          85\n",
       "2018-03-01 02:00:00          71\n",
       "2018-03-01 03:00:00          66\n",
       "2018-03-01 04:00:00          43"
      ]
     },
     "execution_count": 8,
     "metadata": {},
     "output_type": "execute_result"
    }
   ],
   "source": [
    "data.head()"
   ]
  },
  {
   "cell_type": "markdown",
   "metadata": {},
   "source": [
    "Следует более детально рассмотреть распределение количества заказов за час"
   ]
  },
  {
   "cell_type": "code",
   "execution_count": 9,
   "metadata": {},
   "outputs": [
    {
     "data": {
      "text/plain": [
       "count    4416.000000\n",
       "mean       84.422781\n",
       "std        45.023853\n",
       "min         0.000000\n",
       "25%        54.000000\n",
       "50%        78.000000\n",
       "75%       107.000000\n",
       "max       462.000000\n",
       "Name: num_orders, dtype: float64"
      ]
     },
     "execution_count": 9,
     "metadata": {},
     "output_type": "execute_result"
    }
   ],
   "source": [
    "data['num_orders'].describe()"
   ]
  },
  {
   "cell_type": "code",
   "execution_count": 10,
   "metadata": {},
   "outputs": [
    {
     "data": {
      "image/png": "[encoded data removed]",
      "text/plain": [
       "<Figure size 864x720 with 1 Axes>"
      ]
     },
     "metadata": {
      "needs_background": "light"
     },
     "output_type": "display_data"
    }
   ],
   "source": [
    "data['num_orders'].plot(kind='box', figsize=(12, 10))\n",
    "plt.ylim (0, 500)\n",
    "\n",
    "plt.ylabel('распредление количества заказов такси')\n",
    "plt.title('количество заказов такси')\n",
    "plt.show()"
   ]
  },
  {
   "cell_type": "code",
   "execution_count": 11,
   "metadata": {},
   "outputs": [
    {
     "data": {
      "image/png": "[encoded data removed]",
      "text/plain": [
       "<Figure size 720x1080 with 1 Axes>"
      ]
     },
     "metadata": {
      "needs_background": "light"
     },
     "output_type": "display_data"
    }
   ],
   "source": [
    "data['num_orders'].plot(kind = 'hist', figsize=(10, 15), bins = 50)\n",
    "plt.xlabel('количество заказов такси')\n",
    "plt.ylabel('частота')\n",
    "plt.title('частотное распредление количества заказов такси')\n",
    "plt.show()"
   ]
  },
  {
   "cell_type": "code",
   "execution_count": 12,
   "metadata": {},
   "outputs": [
    {
     "name": "stdout",
     "output_type": "stream",
     "text": [
      "<class 'pandas.core.frame.DataFrame'>\n",
      "DatetimeIndex: 4416 entries, 2018-03-01 00:00:00 to 2018-08-31 23:00:00\n",
      "Freq: H\n",
      "Data columns (total 1 columns):\n",
      " #   Column      Non-Null Count  Dtype\n",
      "---  ------      --------------  -----\n",
      " 0   num_orders  4416 non-null   int64\n",
      "dtypes: int64(1)\n",
      "memory usage: 69.0 KB\n"
     ]
    }
   ],
   "source": [
    "data.info()"
   ]
  },
  {
   "cell_type": "markdown",
   "metadata": {},
   "source": [
    "**Вывод:** в исходных данных нет пропусков и дубликатов. В ходе подготовки данных было реализовано:  \n",
    "- изменение типа данных на datetime\n",
    "- ресемплирование по часу\n",
    "- удаление выбросов"
   ]
  },
  {
   "cell_type": "markdown",
   "metadata": {},
   "source": [
    "## Анализ"
   ]
  },
  {
   "cell_type": "markdown",
   "metadata": {},
   "source": [
    "Следует проанализировать общий тренд за весь исследуемый период с марта по сентябрь, а также проанализировать тренд и сезонность в масштабе нескольких суток и недели"
   ]
  },
  {
   "cell_type": "code",
   "execution_count": 13,
   "metadata": {},
   "outputs": [],
   "source": [
    "plt.rcParams ['figure.figsize'] = [20, 15]"
   ]
  },
  {
   "cell_type": "code",
   "execution_count": 14,
   "metadata": {},
   "outputs": [
    {
     "data": {
      "image/png": "[encoded data removed]",
      "text/plain": [
       "<Figure size 1440x1080 with 1 Axes>"
      ]
     },
     "metadata": {
      "needs_background": "light"
     },
     "output_type": "display_data"
    }
   ],
   "source": [
    "decomposition = seasonal_decompose(data)\n",
    "plt.subplot(311)\n",
    "decomposition.trend.plot(ax=plt.gca())\n",
    "plt.xlabel('месяцы, дни и время')\n",
    "plt.ylabel('количество заказов такси')\n",
    "plt.title('Trend')\n",
    "plt.show()"
   ]
  },
  {
   "cell_type": "markdown",
   "metadata": {},
   "source": [
    "Для того, чтобы посмотреть сезонности в часовом масштабе, то это следует это сделать на примере нескольких суток, поскольку это соответсвует поставленной задаче"
   ]
  },
  {
   "cell_type": "code",
   "execution_count": 15,
   "metadata": {},
   "outputs": [
    {
     "data": {
      "image/png": "[encoded data removed]",
      "text/plain": [
       "<Figure size 1440x1080 with 4 Axes>"
      ]
     },
     "metadata": {
      "needs_background": "light"
     },
     "output_type": "display_data"
    }
   ],
   "source": [
    "decomposition = seasonal_decompose(data['2018-03-01 00:00:00':'2018-03-03 23:00:00'])\n",
    "decomposition.plot()\n",
    "plt.show()"
   ]
  },
  {
   "cell_type": "code",
   "execution_count": 16,
   "metadata": {},
   "outputs": [
    {
     "data": {
      "image/png": "[encoded data removed]",
      "text/plain": [
       "<Figure size 1440x1080 with 4 Axes>"
      ]
     },
     "metadata": {
      "needs_background": "light"
     },
     "output_type": "display_data"
    }
   ],
   "source": [
    "decomposition = seasonal_decompose(data['2018-03-01 00:00:00':'2018-03-07 23:00:00'])\n",
    "fig = decomposition.plot()\n",
    "plt.show()"
   ]
  },
  {
   "cell_type": "markdown",
   "metadata": {},
   "source": [
    "Далее следует проанализировать стационарность временного ряда исходных данных, ресемлированных по часу.\n",
    "Размер окна будет установлен 24, поскольку именно столько часов в сутках."
   ]
  },
  {
   "cell_type": "code",
   "execution_count": 17,
   "metadata": {},
   "outputs": [
    {
     "data": {
      "image/png": "[encoded data removed]",
      "text/plain": [
       "<Figure size 1440x1080 with 1 Axes>"
      ]
     },
     "metadata": {
      "needs_background": "light"
     },
     "output_type": "display_data"
    }
   ],
   "source": [
    "data['mean'] = data['num_orders'].shift().rolling(24).mean()\n",
    "data['std'] = data['num_orders'].shift().rolling(24).std()\n",
    "data.plot(xlabel='месяцы', ylabel = 'количество заказов такси')\n",
    "plt.show()"
   ]
  },
  {
   "cell_type": "markdown",
   "metadata": {},
   "source": [
    "Для проверки стационарности ряда так же стоит использовать обобщенный тест Дикки-Фуллера."
   ]
  },
  {
   "cell_type": "code",
   "execution_count": 18,
   "metadata": {},
   "outputs": [
    {
     "name": "stdout",
     "output_type": "stream",
     "text": [
      "adf:  -3.0689242890279558\n",
      "p-value:  0.028940051402612906\n",
      "Critical values:  {'1%': -3.431842162413052, '5%': -2.8621993540813637, '10%': -2.567120978470452}\n",
      "ряд стационарен\n"
     ]
    }
   ],
   "source": [
    "test = adfuller(data['num_orders'])\n",
    "print ('adf: ', test[0]) \n",
    "print ('p-value: ', test[1])\n",
    "print ('Critical values: ', test[4])\n",
    "if test[0]> test[4]['5%']: \n",
    "    print ('ряд не стационарен')\n",
    "else:\n",
    "    print ('ряд стационарен')"
   ]
  },
  {
   "cell_type": "code",
   "execution_count": 19,
   "metadata": {},
   "outputs": [
    {
     "name": "stdout",
     "output_type": "stream",
     "text": [
      "adf:  -3.0689242890279558\n",
      "p-value:  0.028940051402612906\n",
      "Critical values:  {'1%': -3.431842162413052, '5%': -2.8621993540813637, '10%': -2.567120978470452}\n",
      "ряд не стационарен\n"
     ]
    }
   ],
   "source": [
    "test = adfuller(data['num_orders'])\n",
    "print ('adf: ', test[0]) \n",
    "print ('p-value: ', test[1])\n",
    "print ('Critical values: ', test[4])\n",
    "if test[0]> test[4]['1%']: \n",
    "    print ('ряд не стационарен')\n",
    "else:\n",
    "    print ('ряд стационарен')"
   ]
  },
  {
   "cell_type": "markdown",
   "metadata": {},
   "source": [
    "Для того, чтобы не было \"утечки признаков\" в будущем, стоит удалить столбцы со стандартным отклонением и средним значением целевого признака."
   ]
  },
  {
   "cell_type": "code",
   "execution_count": 20,
   "metadata": {},
   "outputs": [],
   "source": [
    "data = data.drop(columns=['std', 'mean'])"
   ]
  },
  {
   "cell_type": "code",
   "execution_count": 21,
   "metadata": {},
   "outputs": [
    {
     "data": {
      "text/html": [
       "<div>\n",
       "<style scoped>\n",
       "    .dataframe tbody tr th:only-of-type {\n",
       "        vertical-align: middle;\n",
       "    }\n",
       "\n",
       "    .dataframe tbody tr th {\n",
       "        vertical-align: top;\n",
       "    }\n",
       "\n",
       "    .dataframe thead th {\n",
       "        text-align: right;\n",
       "    }\n",
       "</style>\n",
       "<table border=\"1\" class=\"dataframe\">\n",
       "  <thead>\n",
       "    <tr style=\"text-align: right;\">\n",
       "      <th></th>\n",
       "      <th>num_orders</th>\n",
       "    </tr>\n",
       "    <tr>\n",
       "      <th>datetime</th>\n",
       "      <th></th>\n",
       "    </tr>\n",
       "  </thead>\n",
       "  <tbody>\n",
       "    <tr>\n",
       "      <th>2018-03-01 00:00:00</th>\n",
       "      <td>124</td>\n",
       "    </tr>\n",
       "    <tr>\n",
       "      <th>2018-03-01 01:00:00</th>\n",
       "      <td>85</td>\n",
       "    </tr>\n",
       "    <tr>\n",
       "      <th>2018-03-01 02:00:00</th>\n",
       "      <td>71</td>\n",
       "    </tr>\n",
       "    <tr>\n",
       "      <th>2018-03-01 03:00:00</th>\n",
       "      <td>66</td>\n",
       "    </tr>\n",
       "    <tr>\n",
       "      <th>2018-03-01 04:00:00</th>\n",
       "      <td>43</td>\n",
       "    </tr>\n",
       "  </tbody>\n",
       "</table>\n",
       "</div>"
      ],
      "text/plain": [
       "                     num_orders\n",
       "datetime                       \n",
       "2018-03-01 00:00:00         124\n",
       "2018-03-01 01:00:00          85\n",
       "2018-03-01 02:00:00          71\n",
       "2018-03-01 03:00:00          66\n",
       "2018-03-01 04:00:00          43"
      ]
     },
     "execution_count": 21,
     "metadata": {},
     "output_type": "execute_result"
    }
   ],
   "source": [
    "data.head()"
   ]
  },
  {
   "cell_type": "markdown",
   "metadata": {},
   "source": [
    "**Вывод:**   \n",
    "В ходе анализа были проанализированы общий тренд, трехсуточный и недельный тренды и сезонность, а также стационарность ряда. Было обнаружено:  \n",
    "- летом (с мая по сентябрь) наблюдается резкий рост спроса на такси возле аэропорта, что можно объяснить открытием сезона отпусков, а то, что в августе наблюдается пиковая нагрузка, может означать возвращение семейных пар перед школой домой или закрытие отпускного сезона;\n",
    "- наблюдается почасовая сезонность спроса на услуги такси у аэропорта, поскольку пиковая нагрузка наблюдается в полночь, а также приблизительно в 10 вечера. Резкий спад спроса происходит в 3 часа ночи. Такое распредление повторяется изо дня в день, на основе анализа недельного периода.\n",
    "- Для проверки стационарности временного ряда были визуализированы стандартное отклонение и среднее. Анализ показал, что среднее со временем увиличивается, а также нестабильно и стандартное отклонение, что могло означать не стационарность ряда. Для проверки гипотезы о не стационарности было проведено 2 теста Дикки-Фуллера. Науровне значимости 5% результат был отрицательный (ряд стационарен), однако, при уровне значимости 1% результат был обратным. Следовательно, ряд не является стационарным."
   ]
  },
  {
   "cell_type": "markdown",
   "metadata": {},
   "source": [
    "## Обучение"
   ]
  },
  {
   "cell_type": "markdown",
   "metadata": {},
   "source": [
    "Перед началом обучения следует создать копию исходных данных."
   ]
  },
  {
   "cell_type": "code",
   "execution_count": 22,
   "metadata": {},
   "outputs": [],
   "source": [
    "def pep(df):\n",
    "    df_pep = df.copy()\n",
    "    return df_pep.dropna()"
   ]
  },
  {
   "cell_type": "code",
   "execution_count": 23,
   "metadata": {},
   "outputs": [
    {
     "data": {
      "text/html": [
       "<div>\n",
       "<style scoped>\n",
       "    .dataframe tbody tr th:only-of-type {\n",
       "        vertical-align: middle;\n",
       "    }\n",
       "\n",
       "    .dataframe tbody tr th {\n",
       "        vertical-align: top;\n",
       "    }\n",
       "\n",
       "    .dataframe thead th {\n",
       "        text-align: right;\n",
       "    }\n",
       "</style>\n",
       "<table border=\"1\" class=\"dataframe\">\n",
       "  <thead>\n",
       "    <tr style=\"text-align: right;\">\n",
       "      <th></th>\n",
       "      <th>num_orders</th>\n",
       "    </tr>\n",
       "    <tr>\n",
       "      <th>datetime</th>\n",
       "      <th></th>\n",
       "    </tr>\n",
       "  </thead>\n",
       "  <tbody>\n",
       "    <tr>\n",
       "      <th>2018-03-01 00:00:00</th>\n",
       "      <td>124</td>\n",
       "    </tr>\n",
       "    <tr>\n",
       "      <th>2018-03-01 01:00:00</th>\n",
       "      <td>85</td>\n",
       "    </tr>\n",
       "    <tr>\n",
       "      <th>2018-03-01 02:00:00</th>\n",
       "      <td>71</td>\n",
       "    </tr>\n",
       "    <tr>\n",
       "      <th>2018-03-01 03:00:00</th>\n",
       "      <td>66</td>\n",
       "    </tr>\n",
       "    <tr>\n",
       "      <th>2018-03-01 04:00:00</th>\n",
       "      <td>43</td>\n",
       "    </tr>\n",
       "  </tbody>\n",
       "</table>\n",
       "</div>"
      ],
      "text/plain": [
       "                     num_orders\n",
       "datetime                       \n",
       "2018-03-01 00:00:00         124\n",
       "2018-03-01 01:00:00          85\n",
       "2018-03-01 02:00:00          71\n",
       "2018-03-01 03:00:00          66\n",
       "2018-03-01 04:00:00          43"
      ]
     },
     "execution_count": 23,
     "metadata": {},
     "output_type": "execute_result"
    }
   ],
   "source": [
    "data_copy = pep(data)\n",
    "data_copy.head()"
   ]
  },
  {
   "cell_type": "markdown",
   "metadata": {},
   "source": [
    "Для начала следует написать функцию, которая добавит новые признаки для прогноза количества заказов. Необходимо создать календарные признаки, отстающие значения и скользящее среднее (следует сделать со сдвигом 1, поскольку так можно избежать утечки целевого признака)."
   ]
  },
  {
   "cell_type": "code",
   "execution_count": 24,
   "metadata": {},
   "outputs": [],
   "source": [
    "def make_features(data, max_lag, rolling_mean_size):\n",
    "    data['day'] = data.index.day\n",
    "    data['hour'] = data.index.hour\n",
    "    data['weekday'] = data.index.weekday\n",
    "    \n",
    "    for lag in range(1, max_lag + 1):\n",
    "        data['lag_{}'.format(lag)] = data['num_orders'].shift(lag)\n",
    "        \n",
    "\n",
    "    data['rolling_mean'] = data['num_orders'].shift(1).rolling(rolling_mean_size).mean()"
   ]
  },
  {
   "cell_type": "markdown",
   "metadata": {},
   "source": [
    "Создадим признаки."
   ]
  },
  {
   "cell_type": "code",
   "execution_count": 25,
   "metadata": {},
   "outputs": [],
   "source": [
    "make_features(data_copy, 2, 24)"
   ]
  },
  {
   "cell_type": "code",
   "execution_count": 26,
   "metadata": {},
   "outputs": [
    {
     "data": {
      "text/html": [
       "<div>\n",
       "<style scoped>\n",
       "    .dataframe tbody tr th:only-of-type {\n",
       "        vertical-align: middle;\n",
       "    }\n",
       "\n",
       "    .dataframe tbody tr th {\n",
       "        vertical-align: top;\n",
       "    }\n",
       "\n",
       "    .dataframe thead th {\n",
       "        text-align: right;\n",
       "    }\n",
       "</style>\n",
       "<table border=\"1\" class=\"dataframe\">\n",
       "  <thead>\n",
       "    <tr style=\"text-align: right;\">\n",
       "      <th></th>\n",
       "      <th>num_orders</th>\n",
       "      <th>day</th>\n",
       "      <th>hour</th>\n",
       "      <th>weekday</th>\n",
       "      <th>lag_1</th>\n",
       "      <th>lag_2</th>\n",
       "      <th>rolling_mean</th>\n",
       "    </tr>\n",
       "    <tr>\n",
       "      <th>datetime</th>\n",
       "      <th></th>\n",
       "      <th></th>\n",
       "      <th></th>\n",
       "      <th></th>\n",
       "      <th></th>\n",
       "      <th></th>\n",
       "      <th></th>\n",
       "    </tr>\n",
       "  </thead>\n",
       "  <tbody>\n",
       "    <tr>\n",
       "      <th>2018-03-01 00:00:00</th>\n",
       "      <td>124</td>\n",
       "      <td>1</td>\n",
       "      <td>0</td>\n",
       "      <td>3</td>\n",
       "      <td>NaN</td>\n",
       "      <td>NaN</td>\n",
       "      <td>NaN</td>\n",
       "    </tr>\n",
       "    <tr>\n",
       "      <th>2018-03-01 01:00:00</th>\n",
       "      <td>85</td>\n",
       "      <td>1</td>\n",
       "      <td>1</td>\n",
       "      <td>3</td>\n",
       "      <td>124.0</td>\n",
       "      <td>NaN</td>\n",
       "      <td>NaN</td>\n",
       "    </tr>\n",
       "    <tr>\n",
       "      <th>2018-03-01 02:00:00</th>\n",
       "      <td>71</td>\n",
       "      <td>1</td>\n",
       "      <td>2</td>\n",
       "      <td>3</td>\n",
       "      <td>85.0</td>\n",
       "      <td>124.0</td>\n",
       "      <td>NaN</td>\n",
       "    </tr>\n",
       "    <tr>\n",
       "      <th>2018-03-01 03:00:00</th>\n",
       "      <td>66</td>\n",
       "      <td>1</td>\n",
       "      <td>3</td>\n",
       "      <td>3</td>\n",
       "      <td>71.0</td>\n",
       "      <td>85.0</td>\n",
       "      <td>NaN</td>\n",
       "    </tr>\n",
       "    <tr>\n",
       "      <th>2018-03-01 04:00:00</th>\n",
       "      <td>43</td>\n",
       "      <td>1</td>\n",
       "      <td>4</td>\n",
       "      <td>3</td>\n",
       "      <td>66.0</td>\n",
       "      <td>71.0</td>\n",
       "      <td>NaN</td>\n",
       "    </tr>\n",
       "  </tbody>\n",
       "</table>\n",
       "</div>"
      ],
      "text/plain": [
       "                     num_orders  day  hour  weekday  lag_1  lag_2  \\\n",
       "datetime                                                            \n",
       "2018-03-01 00:00:00         124    1     0        3    NaN    NaN   \n",
       "2018-03-01 01:00:00          85    1     1        3  124.0    NaN   \n",
       "2018-03-01 02:00:00          71    1     2        3   85.0  124.0   \n",
       "2018-03-01 03:00:00          66    1     3        3   71.0   85.0   \n",
       "2018-03-01 04:00:00          43    1     4        3   66.0   71.0   \n",
       "\n",
       "                     rolling_mean  \n",
       "datetime                           \n",
       "2018-03-01 00:00:00           NaN  \n",
       "2018-03-01 01:00:00           NaN  \n",
       "2018-03-01 02:00:00           NaN  \n",
       "2018-03-01 03:00:00           NaN  \n",
       "2018-03-01 04:00:00           NaN  "
      ]
     },
     "execution_count": 26,
     "metadata": {},
     "output_type": "execute_result"
    }
   ],
   "source": [
    "data_copy.head()"
   ]
  },
  {
   "cell_type": "markdown",
   "metadata": {},
   "source": [
    "Далее следует разделить данные на обучающую и тестовую выборку в соотношении 9:1"
   ]
  },
  {
   "cell_type": "code",
   "execution_count": 27,
   "metadata": {},
   "outputs": [],
   "source": [
    "train, test = train_test_split(data_copy, shuffle=False, test_size=0.1)\n",
    "train = train.dropna()"
   ]
  },
  {
   "cell_type": "code",
   "execution_count": 28,
   "metadata": {},
   "outputs": [],
   "source": [
    "train_features = train.drop(['num_orders'], axis = 1)\n",
    "train_target = train['num_orders']\n",
    "\n",
    "test_features = test.drop(['num_orders'], axis = 1)\n",
    "test_target = test['num_orders']"
   ]
  },
  {
   "cell_type": "markdown",
   "metadata": {},
   "source": [
    "Далее следует подобрать модели обучения, релевантные поставленной задаче.  \n",
    "Поскольку перед нами стоит задача регрессии (предсказание количества заказов текси), то следует рассмотреть регрессионные модели."
   ]
  },
  {
   "cell_type": "code",
   "execution_count": 29,
   "metadata": {},
   "outputs": [],
   "source": [
    "regressors = [\n",
    "    GradientBoostingRegressor(random_state = 12345),\n",
    "    RandomForestRegressor(random_state = 12345),\n",
    "    DecisionTreeRegressor(random_state = 12345)\n",
    "]"
   ]
  },
  {
   "cell_type": "code",
   "execution_count": 30,
   "metadata": {},
   "outputs": [],
   "source": [
    "tss = TimeSeriesSplit(n_splits=5)"
   ]
  },
  {
   "cell_type": "code",
   "execution_count": 31,
   "metadata": {},
   "outputs": [
    {
     "name": "stdout",
     "output_type": "stream",
     "text": [
      "GradientBoostingRegressor(random_state=12345)\n",
      "\tВремя обучения: 0.326s\n",
      "\tВремя предсказания: 0.004s\n",
      "Средняя оценка качества модели: 25.94705135903603\n",
      "\n",
      "RandomForestRegressor(random_state=12345)\n",
      "\tВремя обучения: 1.046s\n",
      "\tВремя предсказания: 0.072s\n",
      "Средняя оценка качества модели: 25.373576618452734\n",
      "\n",
      "DecisionTreeRegressor(random_state=12345)\n",
      "\tВремя обучения: 0.018s\n",
      "\tВремя предсказания: 0.002s\n",
      "Средняя оценка качества модели: 33.53791934536745\n",
      "\n"
     ]
    }
   ],
   "source": [
    "head = 10\n",
    "for model in regressors[:head]:\n",
    "    start = time()\n",
    "    model.fit(train_features, train_target)\n",
    "    train_time = time() - start\n",
    "    start = time()\n",
    "    pred_train = model.predict(train_features)\n",
    "    predict_time = time()-start\n",
    "    scores = cross_val_score(estimator = model, cv=tss, X=train_features, y=train_target, scoring='neg_root_mean_squared_error')\n",
    "    -np.average(scores)\n",
    "    final_score = -(sum(scores) / len(scores))\n",
    "    print(model)\n",
    "    print(\"\\tВремя обучения: %0.3fs\" % train_time)\n",
    "    print(\"\\tВремя предсказания: %0.3fs\" % predict_time)\n",
    "    print('Средняя оценка качества модели:', final_score)\n",
    "    print()"
   ]
  },
  {
   "cell_type": "markdown",
   "metadata": {},
   "source": [
    "Таким образом, под требование заказчика, чтобы RMSE было меньше 48 подходит каждая из моделей. Следует пообрать оптимальные гиперпараметры для каждой."
   ]
  },
  {
   "cell_type": "markdown",
   "metadata": {},
   "source": [
    "**Модель GradientBoostingRegressor()**"
   ]
  },
  {
   "cell_type": "code",
   "execution_count": 32,
   "metadata": {},
   "outputs": [],
   "source": [
    "parameters_1 = {'n_estimators' : (range(10, 100, 10)),\n",
    "              'max_depth' : (range(1, 10))\n",
    "             }"
   ]
  },
  {
   "cell_type": "code",
   "execution_count": 33,
   "metadata": {
    "scrolled": true
   },
   "outputs": [
    {
     "name": "stdout",
     "output_type": "stream",
     "text": [
      "{'max_depth': 6, 'n_estimators': 50} \n",
      "\n",
      "25.929435937559447 \n",
      "\n",
      "CPU times: user 58.3 s, sys: 213 ms, total: 58.5 s\n",
      "Wall time: 58.6 s\n"
     ]
    }
   ],
   "source": [
    "%%time\n",
    "grid = GridSearchCV(GradientBoostingRegressor(),parameters_1, scoring='neg_root_mean_squared_error', cv = tss)\n",
    "\n",
    "model = grid.fit(train_features, train_target)\n",
    "\n",
    "print(model.best_params_,'\\n')\n",
    "print(-1*model.best_score_,'\\n')"
   ]
  },
  {
   "cell_type": "markdown",
   "metadata": {},
   "source": [
    "**Модель RandomForestRegressor()**"
   ]
  },
  {
   "cell_type": "code",
   "execution_count": 34,
   "metadata": {},
   "outputs": [],
   "source": [
    "parameters_2 = {'n_estimators' : (range(10, 100, 10)),\n",
    "              'max_depth' : (range(1, 7))\n",
    "             }"
   ]
  },
  {
   "cell_type": "code",
   "execution_count": 35,
   "metadata": {},
   "outputs": [
    {
     "name": "stdout",
     "output_type": "stream",
     "text": [
      "{'max_depth': 6, 'n_estimators': 20} \n",
      "\n",
      "27.326490658290805 \n",
      "\n",
      "CPU times: user 30.7 s, sys: 184 ms, total: 30.9 s\n",
      "Wall time: 30.9 s\n"
     ]
    }
   ],
   "source": [
    "%%time\n",
    "grid = GridSearchCV(RandomForestRegressor(),parameters_2, scoring='neg_root_mean_squared_error', cv = tss)\n",
    "\n",
    "model = grid.fit(train_features, train_target)\n",
    "\n",
    "print(model.best_params_,'\\n')\n",
    "print(-1*model.best_score_,'\\n')"
   ]
  },
  {
   "cell_type": "markdown",
   "metadata": {},
   "source": [
    "**Модель DecisionTreeRegressor()**"
   ]
  },
  {
   "cell_type": "code",
   "execution_count": 36,
   "metadata": {},
   "outputs": [],
   "source": [
    "parameters_3 = {'min_samples_split' : (range(2, 100)),\n",
    "              'max_depth' : (range(1, 7))\n",
    "             }"
   ]
  },
  {
   "cell_type": "code",
   "execution_count": 37,
   "metadata": {},
   "outputs": [
    {
     "name": "stdout",
     "output_type": "stream",
     "text": [
      "{'max_depth': 6, 'min_samples_split': 32} \n",
      "\n",
      "28.127057929567563 \n",
      "\n",
      "CPU times: user 17 s, sys: 29 ms, total: 17 s\n",
      "Wall time: 17.1 s\n"
     ]
    }
   ],
   "source": [
    "%%time\n",
    "grid = GridSearchCV(DecisionTreeRegressor(),parameters_3, scoring='neg_root_mean_squared_error', cv = tss)\n",
    "\n",
    "model = grid.fit(train_features, train_target)\n",
    "\n",
    "print(model.best_params_,'\\n')\n",
    "print(-1*model.best_score_,'\\n')"
   ]
  },
  {
   "cell_type": "markdown",
   "metadata": {},
   "source": [
    "**Вывод:** таким образом, модель GradientBoostingRegressor() удовлетворяет требованию заказчика и показала лучшие показатели метрики качества, поэтому ее стоит протестировать на тестовой выборке"
   ]
  },
  {
   "cell_type": "markdown",
   "metadata": {},
   "source": [
    "## Тестирование"
   ]
  },
  {
   "cell_type": "code",
   "execution_count": 40,
   "metadata": {},
   "outputs": [
    {
     "name": "stdout",
     "output_type": "stream",
     "text": [
      "RMSE: 47.5215481147471\n",
      "CPU times: user 300 ms, sys: 7.89 ms, total: 308 ms\n",
      "Wall time: 307 ms\n"
     ]
    }
   ],
   "source": [
    "%%time\n",
    "model_1 = GradientBoostingRegressor(random_state = 12345, max_depth= 6, n_estimators=50)\n",
    "model_1.fit(train_features, train_target)\n",
    "predict_valid = model_1.predict(test_features)\n",
    "print('RMSE:', sqrt(mean_squared_error(test_target, predict_valid)))"
   ]
  },
  {
   "cell_type": "code",
   "execution_count": 41,
   "metadata": {},
   "outputs": [
    {
     "name": "stdout",
     "output_type": "stream",
     "text": [
      "RMSE: 87.15277582981295\n"
     ]
    }
   ],
   "source": [
    "dummy_mean_0 = DummyRegressor(strategy = 'median').fit(train_features, train_target)\n",
    "predict_dum_0 = dummy_mean_0.predict(test_features)\n",
    "\n",
    "print('RMSE:', sqrt(mean_squared_error(test_target, predict_dum_0)))"
   ]
  },
  {
   "cell_type": "markdown",
   "metadata": {},
   "source": [
    "**Общий вывод по проекту:**\n",
    "- Была проанализирована стационарность временного ряда исходных данных;\n",
    "- Были обнаружены пиковые часы нагрузки на услуги такси возле аэропорта;\n",
    "- Поскольку задачей проекта является предсказание стоимости, то для этой задачи были обучены регрессионные модели GradientBoostingRegressor(), RandomForestRegressor(), DecisionTreeRegressor();\n",
    "- Каждая из этих моделей удовлетворяла условиям заказчика о допустимом пороге RMSE, однако лучшей оказалась модель GradientBoostingRegressor() и именно она была протестирована на тестовой выборке; \n",
    "- Модель GradientBoostingRegressor() на тестовой выборке так же удовлетворяет требованиям заказчика, а именно RMSE = 47.5"
   ]
  }
 ],
 "metadata": {
  "ExecuteTimeLog": [
   {
    "duration": 424,
    "start_time": "2023-07-03T20:41:59.845Z"
   },
   {
    "duration": 166,
    "start_time": "2023-07-03T20:44:35.502Z"
   },
   {
    "duration": 61,
    "start_time": "2023-07-03T20:47:49.470Z"
   },
   {
    "duration": 2,
    "start_time": "2023-07-03T20:51:02.926Z"
   },
   {
    "duration": 12,
    "start_time": "2023-07-03T20:57:50.884Z"
   },
   {
    "duration": 9,
    "start_time": "2023-07-03T20:58:04.322Z"
   },
   {
    "duration": 14,
    "start_time": "2023-07-03T20:58:14.173Z"
   },
   {
    "duration": 7,
    "start_time": "2023-07-03T20:58:25.195Z"
   },
   {
    "duration": 10,
    "start_time": "2023-07-03T20:58:27.015Z"
   },
   {
    "duration": 419,
    "start_time": "2023-07-03T20:58:35.144Z"
   },
   {
    "duration": 51,
    "start_time": "2023-07-03T20:58:35.565Z"
   },
   {
    "duration": 11,
    "start_time": "2023-07-03T20:58:35.617Z"
   },
   {
    "duration": 8,
    "start_time": "2023-07-03T20:58:35.630Z"
   },
   {
    "duration": 10,
    "start_time": "2023-07-03T20:58:35.639Z"
   },
   {
    "duration": 9,
    "start_time": "2023-07-03T20:59:00.540Z"
   },
   {
    "duration": 68,
    "start_time": "2023-07-03T21:03:55.329Z"
   },
   {
    "duration": 90,
    "start_time": "2023-07-03T21:05:17.280Z"
   },
   {
    "duration": 59,
    "start_time": "2023-07-03T21:07:11.572Z"
   },
   {
    "duration": 14,
    "start_time": "2023-07-03T21:07:18.943Z"
   },
   {
    "duration": 9,
    "start_time": "2023-07-03T21:07:41.460Z"
   },
   {
    "duration": 10,
    "start_time": "2023-07-03T21:07:50.399Z"
   },
   {
    "duration": 9,
    "start_time": "2023-07-03T21:09:04.649Z"
   },
   {
    "duration": 10,
    "start_time": "2023-07-03T21:09:07.295Z"
   },
   {
    "duration": 2,
    "start_time": "2023-07-03T21:09:30.896Z"
   },
   {
    "duration": 12,
    "start_time": "2023-07-03T21:09:37.549Z"
   },
   {
    "duration": 10,
    "start_time": "2023-07-03T21:10:24.836Z"
   },
   {
    "duration": 406,
    "start_time": "2023-07-03T21:11:05.666Z"
   },
   {
    "duration": 54,
    "start_time": "2023-07-03T21:11:07.389Z"
   },
   {
    "duration": 47,
    "start_time": "2023-07-03T21:11:27.537Z"
   },
   {
    "duration": 14,
    "start_time": "2023-07-03T21:11:30.650Z"
   },
   {
    "duration": 9,
    "start_time": "2023-07-03T21:11:36.586Z"
   },
   {
    "duration": 14,
    "start_time": "2023-07-03T21:11:38.154Z"
   },
   {
    "duration": 11,
    "start_time": "2023-07-03T21:11:41.133Z"
   },
   {
    "duration": 81,
    "start_time": "2023-07-03T21:11:44.533Z"
   },
   {
    "duration": 10,
    "start_time": "2023-07-03T21:13:13.693Z"
   },
   {
    "duration": 7,
    "start_time": "2023-07-03T21:13:26.552Z"
   },
   {
    "duration": 11,
    "start_time": "2023-07-03T21:13:42.049Z"
   },
   {
    "duration": 412,
    "start_time": "2023-07-03T21:13:49.489Z"
   },
   {
    "duration": 53,
    "start_time": "2023-07-03T21:13:49.903Z"
   },
   {
    "duration": 14,
    "start_time": "2023-07-03T21:13:49.958Z"
   },
   {
    "duration": 9,
    "start_time": "2023-07-03T21:13:49.974Z"
   },
   {
    "duration": 14,
    "start_time": "2023-07-03T21:13:49.984Z"
   },
   {
    "duration": 8,
    "start_time": "2023-07-03T21:13:49.999Z"
   },
   {
    "duration": 20,
    "start_time": "2023-07-03T21:13:50.008Z"
   },
   {
    "duration": 10,
    "start_time": "2023-07-03T21:13:50.030Z"
   },
   {
    "duration": 682,
    "start_time": "2023-07-03T21:32:03.642Z"
   },
   {
    "duration": 257,
    "start_time": "2023-07-03T21:38:44.574Z"
   },
   {
    "duration": 84,
    "start_time": "2023-07-03T21:40:23.961Z"
   },
   {
    "duration": 494,
    "start_time": "2023-07-03T21:40:57.000Z"
   },
   {
    "duration": 38,
    "start_time": "2023-07-03T21:46:46.584Z"
   },
   {
    "duration": 6,
    "start_time": "2023-07-03T21:47:29.949Z"
   },
   {
    "duration": 10,
    "start_time": "2023-07-03T21:49:39.321Z"
   },
   {
    "duration": 1058,
    "start_time": "2023-07-03T21:49:45.006Z"
   },
   {
    "duration": 50,
    "start_time": "2023-07-03T21:49:46.066Z"
   },
   {
    "duration": 9,
    "start_time": "2023-07-03T21:49:46.119Z"
   },
   {
    "duration": 9,
    "start_time": "2023-07-03T21:49:46.130Z"
   },
   {
    "duration": 10,
    "start_time": "2023-07-03T21:49:46.140Z"
   },
   {
    "duration": 7,
    "start_time": "2023-07-03T21:49:46.151Z"
   },
   {
    "duration": 14,
    "start_time": "2023-07-03T21:49:46.159Z"
   },
   {
    "duration": 7,
    "start_time": "2023-07-03T21:49:46.174Z"
   },
   {
    "duration": 24,
    "start_time": "2023-07-03T21:49:46.182Z"
   },
   {
    "duration": 5,
    "start_time": "2023-07-03T21:49:46.208Z"
   },
   {
    "duration": 231,
    "start_time": "2023-07-03T21:50:15.293Z"
   },
   {
    "duration": 190,
    "start_time": "2023-07-03T21:51:01.797Z"
   },
   {
    "duration": 1385,
    "start_time": "2023-07-04T00:05:16.210Z"
   },
   {
    "duration": 9,
    "start_time": "2023-07-04T00:05:53.128Z"
   },
   {
    "duration": 3,
    "start_time": "2023-07-04T00:05:59.374Z"
   },
   {
    "duration": 200,
    "start_time": "2023-07-04T00:06:03.789Z"
   },
   {
    "duration": 10,
    "start_time": "2023-07-04T00:06:09.152Z"
   },
   {
    "duration": 8,
    "start_time": "2023-07-04T00:06:12.895Z"
   },
   {
    "duration": 11,
    "start_time": "2023-07-04T00:06:16.792Z"
   },
   {
    "duration": 9,
    "start_time": "2023-07-04T00:06:19.991Z"
   },
   {
    "duration": 10,
    "start_time": "2023-07-04T00:06:22.570Z"
   },
   {
    "duration": 7,
    "start_time": "2023-07-04T00:06:28.202Z"
   },
   {
    "duration": 15,
    "start_time": "2023-07-04T00:06:37.757Z"
   },
   {
    "duration": 213,
    "start_time": "2023-07-04T00:06:40.102Z"
   },
   {
    "duration": 9,
    "start_time": "2023-07-04T00:06:42.930Z"
   },
   {
    "duration": 12,
    "start_time": "2023-07-04T00:06:50.230Z"
   },
   {
    "duration": 9,
    "start_time": "2023-07-04T00:07:01.347Z"
   },
   {
    "duration": 254,
    "start_time": "2023-07-04T00:28:29.008Z"
   },
   {
    "duration": 255,
    "start_time": "2023-07-04T00:28:37.137Z"
   },
   {
    "duration": 4,
    "start_time": "2023-07-04T00:31:36.056Z"
   },
   {
    "duration": 341,
    "start_time": "2023-07-04T00:36:38.837Z"
   },
   {
    "duration": 1317,
    "start_time": "2023-07-04T00:36:46.841Z"
   },
   {
    "duration": 17,
    "start_time": "2023-07-04T00:37:23.928Z"
   },
   {
    "duration": 13,
    "start_time": "2023-07-04T00:37:58.137Z"
   },
   {
    "duration": 32,
    "start_time": "2023-07-04T00:38:17.485Z"
   },
   {
    "duration": 56,
    "start_time": "2023-07-04T00:38:21.995Z"
   },
   {
    "duration": 16,
    "start_time": "2023-07-04T00:39:55.051Z"
   },
   {
    "duration": 39,
    "start_time": "2023-07-04T00:40:11.311Z"
   },
   {
    "duration": 15,
    "start_time": "2023-07-04T00:40:16.551Z"
   },
   {
    "duration": 15,
    "start_time": "2023-07-04T00:40:18.409Z"
   },
   {
    "duration": 67,
    "start_time": "2023-07-04T15:55:31.698Z"
   },
   {
    "duration": 1651,
    "start_time": "2023-07-04T15:55:44.135Z"
   },
   {
    "duration": 160,
    "start_time": "2023-07-04T15:55:45.788Z"
   },
   {
    "duration": 12,
    "start_time": "2023-07-04T15:55:45.950Z"
   },
   {
    "duration": 53,
    "start_time": "2023-07-04T15:55:45.963Z"
   },
   {
    "duration": 40,
    "start_time": "2023-07-04T15:55:46.018Z"
   },
   {
    "duration": 9,
    "start_time": "2023-07-04T15:55:46.060Z"
   },
   {
    "duration": 14,
    "start_time": "2023-07-04T15:55:46.071Z"
   },
   {
    "duration": 7,
    "start_time": "2023-07-04T15:55:46.086Z"
   },
   {
    "duration": 16,
    "start_time": "2023-07-04T15:55:46.095Z"
   },
   {
    "duration": 272,
    "start_time": "2023-07-04T15:55:46.118Z"
   },
   {
    "duration": 294,
    "start_time": "2023-07-04T15:55:46.392Z"
   },
   {
    "duration": 4,
    "start_time": "2023-07-04T15:55:46.688Z"
   },
   {
    "duration": 99,
    "start_time": "2023-07-04T15:55:46.720Z"
   },
   {
    "duration": 330,
    "start_time": "2023-07-04T15:55:46.832Z"
   },
   {
    "duration": 3,
    "start_time": "2023-07-04T15:56:27.638Z"
   },
   {
    "duration": 14,
    "start_time": "2023-07-04T15:56:31.332Z"
   },
   {
    "duration": 29,
    "start_time": "2023-07-04T16:17:47.003Z"
   },
   {
    "duration": 237,
    "start_time": "2023-07-04T16:18:02.622Z"
   },
   {
    "duration": 14,
    "start_time": "2023-07-04T16:20:48.066Z"
   },
   {
    "duration": 20,
    "start_time": "2023-07-04T16:20:51.867Z"
   },
   {
    "duration": 13,
    "start_time": "2023-07-04T16:26:09.527Z"
   },
   {
    "duration": 16,
    "start_time": "2023-07-04T16:26:21.143Z"
   },
   {
    "duration": 1733,
    "start_time": "2023-07-04T16:26:41.426Z"
   },
   {
    "duration": 65,
    "start_time": "2023-07-04T16:26:43.162Z"
   },
   {
    "duration": 12,
    "start_time": "2023-07-04T16:26:43.229Z"
   },
   {
    "duration": 16,
    "start_time": "2023-07-04T16:26:43.243Z"
   },
   {
    "duration": 17,
    "start_time": "2023-07-04T16:26:43.262Z"
   },
   {
    "duration": 22,
    "start_time": "2023-07-04T16:26:43.281Z"
   },
   {
    "duration": 32,
    "start_time": "2023-07-04T16:26:43.304Z"
   },
   {
    "duration": 8,
    "start_time": "2023-07-04T16:26:43.339Z"
   },
   {
    "duration": 22,
    "start_time": "2023-07-04T16:26:43.350Z"
   },
   {
    "duration": 13,
    "start_time": "2023-07-04T16:26:43.374Z"
   },
   {
    "duration": 8,
    "start_time": "2023-07-04T16:27:10.955Z"
   },
   {
    "duration": 813,
    "start_time": "2023-07-04T16:27:53.085Z"
   },
   {
    "duration": 700,
    "start_time": "2023-07-04T16:28:31.331Z"
   },
   {
    "duration": 745,
    "start_time": "2023-07-04T16:29:27.449Z"
   },
   {
    "duration": 578,
    "start_time": "2023-07-04T16:29:34.150Z"
   },
   {
    "duration": 421,
    "start_time": "2023-07-04T16:29:44.456Z"
   },
   {
    "duration": 363,
    "start_time": "2023-07-04T16:29:47.812Z"
   },
   {
    "duration": 321,
    "start_time": "2023-07-04T16:33:00.798Z"
   },
   {
    "duration": 145,
    "start_time": "2023-07-04T16:59:17.167Z"
   },
   {
    "duration": 143,
    "start_time": "2023-07-04T17:01:29.502Z"
   },
   {
    "duration": 289,
    "start_time": "2023-07-04T17:01:43.463Z"
   },
   {
    "duration": 130,
    "start_time": "2023-07-04T17:01:49.916Z"
   },
   {
    "duration": 1523,
    "start_time": "2023-07-04T17:04:07.004Z"
   },
   {
    "duration": 62,
    "start_time": "2023-07-04T17:04:08.529Z"
   },
   {
    "duration": 28,
    "start_time": "2023-07-04T17:04:08.593Z"
   },
   {
    "duration": 28,
    "start_time": "2023-07-04T17:04:08.623Z"
   },
   {
    "duration": 30,
    "start_time": "2023-07-04T17:04:08.655Z"
   },
   {
    "duration": 32,
    "start_time": "2023-07-04T17:04:08.686Z"
   },
   {
    "duration": 32,
    "start_time": "2023-07-04T17:04:08.721Z"
   },
   {
    "duration": 33,
    "start_time": "2023-07-04T17:04:08.755Z"
   },
   {
    "duration": 173,
    "start_time": "2023-07-04T17:04:08.791Z"
   },
   {
    "duration": 139,
    "start_time": "2023-07-04T17:04:22.955Z"
   },
   {
    "duration": 12,
    "start_time": "2023-07-04T17:18:40.542Z"
   },
   {
    "duration": 9,
    "start_time": "2023-07-04T17:18:55.058Z"
   },
   {
    "duration": 11,
    "start_time": "2023-07-04T17:19:07.664Z"
   },
   {
    "duration": 9,
    "start_time": "2023-07-04T17:19:22.838Z"
   },
   {
    "duration": 8,
    "start_time": "2023-07-04T17:19:34.753Z"
   },
   {
    "duration": 4,
    "start_time": "2023-07-04T17:23:37.022Z"
   },
   {
    "duration": 15,
    "start_time": "2023-07-04T17:23:39.508Z"
   },
   {
    "duration": 8,
    "start_time": "2023-07-04T17:23:41.204Z"
   },
   {
    "duration": 9,
    "start_time": "2023-07-04T17:23:47.014Z"
   },
   {
    "duration": 409,
    "start_time": "2023-07-04T17:23:49.673Z"
   },
   {
    "duration": 4469,
    "start_time": "2023-07-04T17:23:58.909Z"
   },
   {
    "duration": 11,
    "start_time": "2023-07-04T17:24:27.127Z"
   },
   {
    "duration": 13,
    "start_time": "2023-07-04T17:24:32.162Z"
   },
   {
    "duration": 3873,
    "start_time": "2023-07-04T17:24:42.434Z"
   },
   {
    "duration": 1690,
    "start_time": "2023-07-04T17:25:38.576Z"
   },
   {
    "duration": 57,
    "start_time": "2023-07-04T17:25:40.268Z"
   },
   {
    "duration": 11,
    "start_time": "2023-07-04T17:25:40.327Z"
   },
   {
    "duration": 9,
    "start_time": "2023-07-04T17:25:40.339Z"
   },
   {
    "duration": 27,
    "start_time": "2023-07-04T17:25:40.350Z"
   },
   {
    "duration": 23,
    "start_time": "2023-07-04T17:25:40.380Z"
   },
   {
    "duration": 38,
    "start_time": "2023-07-04T17:25:40.405Z"
   },
   {
    "duration": 36,
    "start_time": "2023-07-04T17:25:40.445Z"
   },
   {
    "duration": 215,
    "start_time": "2023-07-04T17:25:40.484Z"
   },
   {
    "duration": 27,
    "start_time": "2023-07-04T17:25:40.701Z"
   },
   {
    "duration": 22,
    "start_time": "2023-07-04T17:25:40.731Z"
   },
   {
    "duration": 19,
    "start_time": "2023-07-04T17:25:40.756Z"
   },
   {
    "duration": 17,
    "start_time": "2023-07-04T17:25:40.776Z"
   },
   {
    "duration": 20,
    "start_time": "2023-07-04T17:25:40.795Z"
   },
   {
    "duration": 16,
    "start_time": "2023-07-04T17:25:40.817Z"
   },
   {
    "duration": 391,
    "start_time": "2023-07-04T17:25:40.835Z"
   },
   {
    "duration": 267,
    "start_time": "2023-07-04T17:25:41.231Z"
   },
   {
    "duration": 18,
    "start_time": "2023-07-04T17:27:57.426Z"
   },
   {
    "duration": 8,
    "start_time": "2023-07-04T17:28:59.553Z"
   },
   {
    "duration": 5,
    "start_time": "2023-07-04T17:29:18.176Z"
   },
   {
    "duration": 14,
    "start_time": "2023-07-04T17:29:22.088Z"
   },
   {
    "duration": 18,
    "start_time": "2023-07-04T17:29:38.995Z"
   },
   {
    "duration": 8,
    "start_time": "2023-07-04T17:29:41.230Z"
   },
   {
    "duration": 8,
    "start_time": "2023-07-04T17:29:43.923Z"
   },
   {
    "duration": 500,
    "start_time": "2023-07-04T17:29:45.545Z"
   },
   {
    "duration": 320,
    "start_time": "2023-07-04T17:29:50.491Z"
   },
   {
    "duration": 136,
    "start_time": "2023-07-04T17:30:21.772Z"
   },
   {
    "duration": 15,
    "start_time": "2023-07-04T17:30:27.331Z"
   },
   {
    "duration": 8,
    "start_time": "2023-07-04T17:30:43.620Z"
   },
   {
    "duration": 277,
    "start_time": "2023-07-04T17:32:40.255Z"
   },
   {
    "duration": 346,
    "start_time": "2023-07-04T17:32:52.219Z"
   },
   {
    "duration": 44,
    "start_time": "2023-07-04T17:35:59.825Z"
   },
   {
    "duration": 165,
    "start_time": "2023-07-04T17:36:05.918Z"
   },
   {
    "duration": 15,
    "start_time": "2023-07-04T17:36:46.263Z"
   },
   {
    "duration": 24,
    "start_time": "2023-07-04T17:36:58.955Z"
   },
   {
    "duration": 4,
    "start_time": "2023-07-04T17:58:01.719Z"
   },
   {
    "duration": 14,
    "start_time": "2023-07-04T17:58:42.540Z"
   },
   {
    "duration": 5,
    "start_time": "2023-07-04T17:59:08.755Z"
   },
   {
    "duration": 11,
    "start_time": "2023-07-04T17:59:11.635Z"
   },
   {
    "duration": 258,
    "start_time": "2023-07-04T18:00:18.414Z"
   },
   {
    "duration": 5,
    "start_time": "2023-07-04T18:00:25.347Z"
   },
   {
    "duration": 15,
    "start_time": "2023-07-04T18:00:28.419Z"
   },
   {
    "duration": 230,
    "start_time": "2023-07-04T18:00:41.954Z"
   },
   {
    "duration": 499,
    "start_time": "2023-07-04T18:00:53.493Z"
   },
   {
    "duration": 4711,
    "start_time": "2023-07-04T18:01:18.222Z"
   },
   {
    "duration": 5,
    "start_time": "2023-07-04T18:04:08.732Z"
   },
   {
    "duration": 289,
    "start_time": "2023-07-04T18:06:31.915Z"
   },
   {
    "duration": 230,
    "start_time": "2023-07-04T18:13:26.727Z"
   },
   {
    "duration": 3584,
    "start_time": "2023-07-04T18:14:01.519Z"
   },
   {
    "duration": 1422,
    "start_time": "2023-07-04T18:14:55.065Z"
   },
   {
    "duration": 78,
    "start_time": "2023-07-04T18:14:56.489Z"
   },
   {
    "duration": 11,
    "start_time": "2023-07-04T18:14:56.568Z"
   },
   {
    "duration": 11,
    "start_time": "2023-07-04T18:14:56.581Z"
   },
   {
    "duration": 23,
    "start_time": "2023-07-04T18:14:56.594Z"
   },
   {
    "duration": 11,
    "start_time": "2023-07-04T18:14:56.618Z"
   },
   {
    "duration": 11,
    "start_time": "2023-07-04T18:14:56.630Z"
   },
   {
    "duration": 6,
    "start_time": "2023-07-04T18:14:56.643Z"
   },
   {
    "duration": 11,
    "start_time": "2023-07-04T18:14:56.651Z"
   },
   {
    "duration": 170,
    "start_time": "2023-07-04T18:14:56.664Z"
   },
   {
    "duration": 289,
    "start_time": "2023-07-04T18:14:56.835Z"
   },
   {
    "duration": 8,
    "start_time": "2023-07-04T18:14:57.125Z"
   },
   {
    "duration": 6,
    "start_time": "2023-07-04T18:14:57.135Z"
   },
   {
    "duration": 9,
    "start_time": "2023-07-04T18:14:57.144Z"
   },
   {
    "duration": 15,
    "start_time": "2023-07-04T18:14:57.154Z"
   },
   {
    "duration": 42,
    "start_time": "2023-07-04T18:14:57.170Z"
   },
   {
    "duration": 20,
    "start_time": "2023-07-04T18:14:57.216Z"
   },
   {
    "duration": 9,
    "start_time": "2023-07-04T18:14:57.238Z"
   },
   {
    "duration": 8,
    "start_time": "2023-07-04T18:14:57.249Z"
   },
   {
    "duration": 392,
    "start_time": "2023-07-04T18:14:57.259Z"
   },
   {
    "duration": 371,
    "start_time": "2023-07-04T18:14:57.653Z"
   },
   {
    "duration": 5,
    "start_time": "2023-07-04T18:14:58.026Z"
   },
   {
    "duration": 17,
    "start_time": "2023-07-04T18:14:58.033Z"
   },
   {
    "duration": 3,
    "start_time": "2023-07-04T18:14:58.052Z"
   },
   {
    "duration": 387,
    "start_time": "2023-07-04T18:14:58.057Z"
   },
   {
    "duration": 5,
    "start_time": "2023-07-04T18:14:58.446Z"
   },
   {
    "duration": 2960,
    "start_time": "2023-07-04T18:14:58.452Z"
   },
   {
    "duration": 505,
    "start_time": "2023-07-04T18:15:01.414Z"
   },
   {
    "duration": 238,
    "start_time": "2023-07-04T18:15:01.922Z"
   },
   {
    "duration": 2839,
    "start_time": "2023-07-04T18:15:02.163Z"
   },
   {
    "duration": 3689,
    "start_time": "2023-07-04T18:26:48.824Z"
   },
   {
    "duration": 5,
    "start_time": "2023-07-04T18:28:34.189Z"
   },
   {
    "duration": 8,
    "start_time": "2023-07-04T18:29:45.839Z"
   },
   {
    "duration": 91,
    "start_time": "2023-07-04T18:58:43.149Z"
   },
   {
    "duration": 5,
    "start_time": "2023-07-04T19:20:03.167Z"
   },
   {
    "duration": 2034,
    "start_time": "2023-07-04T19:21:29.149Z"
   },
   {
    "duration": 5,
    "start_time": "2023-07-04T19:21:56.057Z"
   },
   {
    "duration": 8,
    "start_time": "2023-07-04T19:21:58.242Z"
   },
   {
    "duration": 14,
    "start_time": "2023-07-04T19:22:16.043Z"
   },
   {
    "duration": 7,
    "start_time": "2023-07-04T19:25:08.365Z"
   },
   {
    "duration": 14,
    "start_time": "2023-07-04T19:25:10.899Z"
   },
   {
    "duration": 13,
    "start_time": "2023-07-04T19:25:14.047Z"
   },
   {
    "duration": 6,
    "start_time": "2023-07-04T19:25:39.181Z"
   },
   {
    "duration": 7,
    "start_time": "2023-07-04T19:25:41.946Z"
   },
   {
    "duration": 26,
    "start_time": "2023-07-04T19:25:43.804Z"
   },
   {
    "duration": 7,
    "start_time": "2023-07-04T19:26:36.037Z"
   },
   {
    "duration": 6,
    "start_time": "2023-07-04T19:26:38.464Z"
   },
   {
    "duration": 19,
    "start_time": "2023-07-04T19:26:40.327Z"
   },
   {
    "duration": 4,
    "start_time": "2023-07-04T19:26:49.769Z"
   },
   {
    "duration": 11,
    "start_time": "2023-07-04T19:26:52.734Z"
   },
   {
    "duration": 15,
    "start_time": "2023-07-04T19:26:54.498Z"
   },
   {
    "duration": 4,
    "start_time": "2023-07-04T19:28:01.946Z"
   },
   {
    "duration": 7,
    "start_time": "2023-07-04T19:28:04.175Z"
   },
   {
    "duration": 21,
    "start_time": "2023-07-04T19:28:05.814Z"
   },
   {
    "duration": 1649,
    "start_time": "2023-07-04T19:28:19.078Z"
   },
   {
    "duration": 70,
    "start_time": "2023-07-04T19:28:20.731Z"
   },
   {
    "duration": 21,
    "start_time": "2023-07-04T19:28:20.812Z"
   },
   {
    "duration": 30,
    "start_time": "2023-07-04T19:28:20.837Z"
   },
   {
    "duration": 15,
    "start_time": "2023-07-04T19:28:20.868Z"
   },
   {
    "duration": 13,
    "start_time": "2023-07-04T19:28:20.885Z"
   },
   {
    "duration": 16,
    "start_time": "2023-07-04T19:28:20.900Z"
   },
   {
    "duration": 36,
    "start_time": "2023-07-04T19:28:20.918Z"
   },
   {
    "duration": 24,
    "start_time": "2023-07-04T19:28:20.955Z"
   },
   {
    "duration": 172,
    "start_time": "2023-07-04T19:28:20.982Z"
   },
   {
    "duration": 309,
    "start_time": "2023-07-04T19:28:21.156Z"
   },
   {
    "duration": 8,
    "start_time": "2023-07-04T19:28:21.467Z"
   },
   {
    "duration": 6,
    "start_time": "2023-07-04T19:28:21.477Z"
   },
   {
    "duration": 6,
    "start_time": "2023-07-04T19:28:21.484Z"
   },
   {
    "duration": 5,
    "start_time": "2023-07-04T19:28:21.505Z"
   },
   {
    "duration": 33,
    "start_time": "2023-07-04T19:28:21.512Z"
   },
   {
    "duration": 11,
    "start_time": "2023-07-04T19:28:21.547Z"
   },
   {
    "duration": 14,
    "start_time": "2023-07-04T19:28:21.560Z"
   },
   {
    "duration": 11,
    "start_time": "2023-07-04T19:28:21.576Z"
   },
   {
    "duration": 431,
    "start_time": "2023-07-04T19:28:21.589Z"
   },
   {
    "duration": 453,
    "start_time": "2023-07-04T19:28:22.022Z"
   },
   {
    "duration": 5528,
    "start_time": "2023-07-04T19:28:22.477Z"
   },
   {
    "duration": 29,
    "start_time": "2023-07-04T19:28:28.010Z"
   },
   {
    "duration": 98,
    "start_time": "2023-07-04T19:28:28.041Z"
   },
   {
    "duration": 5,
    "start_time": "2023-07-04T19:28:28.143Z"
   },
   {
    "duration": 11,
    "start_time": "2023-07-04T19:28:28.149Z"
   },
   {
    "duration": 10,
    "start_time": "2023-07-04T19:28:28.162Z"
   },
   {
    "duration": 9,
    "start_time": "2023-07-04T19:28:54.645Z"
   },
   {
    "duration": 14,
    "start_time": "2023-07-04T19:31:48.426Z"
   },
   {
    "duration": 7,
    "start_time": "2023-07-04T19:32:53.120Z"
   },
   {
    "duration": 32,
    "start_time": "2023-07-04T19:33:17.613Z"
   },
   {
    "duration": 275,
    "start_time": "2023-07-04T19:35:48.282Z"
   },
   {
    "duration": 12,
    "start_time": "2023-07-04T19:36:12.816Z"
   },
   {
    "duration": 33,
    "start_time": "2023-07-04T19:36:19.477Z"
   },
   {
    "duration": 12,
    "start_time": "2023-07-04T19:36:51.856Z"
   },
   {
    "duration": 15,
    "start_time": "2023-07-04T20:26:47.355Z"
   },
   {
    "duration": 61,
    "start_time": "2023-07-04T20:27:21.889Z"
   },
   {
    "duration": 5,
    "start_time": "2023-07-04T20:27:33.207Z"
   },
   {
    "duration": 3,
    "start_time": "2023-07-04T20:27:39.733Z"
   },
   {
    "duration": 26,
    "start_time": "2023-07-04T20:28:00.451Z"
   },
   {
    "duration": 5,
    "start_time": "2023-07-04T20:28:25.125Z"
   },
   {
    "duration": 12,
    "start_time": "2023-07-04T20:28:31.519Z"
   },
   {
    "duration": 193999,
    "start_time": "2023-07-04T20:30:13.212Z"
   },
   {
    "duration": 4,
    "start_time": "2023-07-04T20:33:38.215Z"
   },
   {
    "duration": 1501,
    "start_time": "2023-07-04T20:33:40.202Z"
   },
   {
    "duration": 3,
    "start_time": "2023-07-04T20:38:42.446Z"
   },
   {
    "duration": 80458,
    "start_time": "2023-07-04T20:39:12.720Z"
   },
   {
    "duration": 277,
    "start_time": "2023-07-04T20:43:05.871Z"
   },
   {
    "duration": 3,
    "start_time": "2023-07-04T20:43:53.189Z"
   },
   {
    "duration": 69873,
    "start_time": "2023-07-04T20:44:27.918Z"
   },
   {
    "duration": 124,
    "start_time": "2023-07-04T21:07:19.648Z"
   },
   {
    "duration": 500,
    "start_time": "2023-07-04T21:07:39.207Z"
   },
   {
    "duration": 4,
    "start_time": "2023-07-04T21:11:04.346Z"
   },
   {
    "duration": 92637,
    "start_time": "2023-07-04T21:11:48.451Z"
   },
   {
    "duration": 129,
    "start_time": "2023-07-04T21:13:35.748Z"
   },
   {
    "duration": 25,
    "start_time": "2023-07-04T21:14:16.252Z"
   },
   {
    "duration": 114,
    "start_time": "2023-07-04T21:15:58.222Z"
   },
   {
    "duration": 303,
    "start_time": "2023-07-04T21:19:12.351Z"
   },
   {
    "duration": 551,
    "start_time": "2023-07-04T21:19:38.587Z"
   },
   {
    "duration": 16,
    "start_time": "2023-07-04T21:20:14.954Z"
   },
   {
    "duration": 13,
    "start_time": "2023-07-04T21:20:47.106Z"
   },
   {
    "duration": 80,
    "start_time": "2023-07-04T21:32:39.771Z"
   },
   {
    "duration": 48,
    "start_time": "2023-07-07T18:48:50.371Z"
   },
   {
    "duration": 1620,
    "start_time": "2023-07-07T18:49:04.091Z"
   },
   {
    "duration": 298,
    "start_time": "2023-07-07T18:49:09.684Z"
   },
   {
    "duration": 11,
    "start_time": "2023-07-07T18:49:14.351Z"
   },
   {
    "duration": 8,
    "start_time": "2023-07-07T18:49:18.506Z"
   },
   {
    "duration": 12,
    "start_time": "2023-07-07T18:49:20.921Z"
   },
   {
    "duration": 11,
    "start_time": "2023-07-07T18:49:23.876Z"
   },
   {
    "duration": 10,
    "start_time": "2023-07-07T18:49:26.284Z"
   },
   {
    "duration": 8,
    "start_time": "2023-07-07T18:49:28.289Z"
   },
   {
    "duration": 9,
    "start_time": "2023-07-07T18:49:34.521Z"
   },
   {
    "duration": 146,
    "start_time": "2023-07-07T18:49:38.305Z"
   },
   {
    "duration": 121,
    "start_time": "2023-07-07T18:49:51.027Z"
   },
   {
    "duration": 265,
    "start_time": "2023-07-07T18:49:58.750Z"
   },
   {
    "duration": 205,
    "start_time": "2023-07-07T18:50:14.876Z"
   },
   {
    "duration": 1634,
    "start_time": "2023-07-07T18:55:52.711Z"
   },
   {
    "duration": 54,
    "start_time": "2023-07-07T18:55:54.347Z"
   },
   {
    "duration": 12,
    "start_time": "2023-07-07T18:55:54.403Z"
   },
   {
    "duration": 12,
    "start_time": "2023-07-07T18:55:54.416Z"
   },
   {
    "duration": 35,
    "start_time": "2023-07-07T18:55:54.431Z"
   },
   {
    "duration": 10,
    "start_time": "2023-07-07T18:55:54.468Z"
   },
   {
    "duration": 11,
    "start_time": "2023-07-07T18:55:54.479Z"
   },
   {
    "duration": 12,
    "start_time": "2023-07-07T18:55:54.492Z"
   },
   {
    "duration": 26,
    "start_time": "2023-07-07T18:55:54.506Z"
   },
   {
    "duration": 145,
    "start_time": "2023-07-07T18:55:54.534Z"
   },
   {
    "duration": 230,
    "start_time": "2023-07-07T18:55:54.681Z"
   },
   {
    "duration": 4,
    "start_time": "2023-07-07T18:56:06.155Z"
   },
   {
    "duration": 54,
    "start_time": "2023-07-07T18:56:06.161Z"
   },
   {
    "duration": 8,
    "start_time": "2023-07-07T18:56:06.216Z"
   },
   {
    "duration": 12,
    "start_time": "2023-07-07T18:56:06.226Z"
   },
   {
    "duration": 17,
    "start_time": "2023-07-07T18:56:06.240Z"
   },
   {
    "duration": 13,
    "start_time": "2023-07-07T18:56:06.260Z"
   },
   {
    "duration": 8,
    "start_time": "2023-07-07T18:56:06.275Z"
   },
   {
    "duration": 8,
    "start_time": "2023-07-07T18:56:06.285Z"
   },
   {
    "duration": 12,
    "start_time": "2023-07-07T18:56:06.295Z"
   },
   {
    "duration": 148,
    "start_time": "2023-07-07T18:56:06.309Z"
   },
   {
    "duration": 286,
    "start_time": "2023-07-07T18:56:06.459Z"
   },
   {
    "duration": 208,
    "start_time": "2023-07-07T18:56:17.743Z"
   },
   {
    "duration": 11,
    "start_time": "2023-07-07T18:59:48.532Z"
   },
   {
    "duration": 9,
    "start_time": "2023-07-07T19:00:17.014Z"
   },
   {
    "duration": 8,
    "start_time": "2023-07-07T19:00:20.173Z"
   },
   {
    "duration": 6,
    "start_time": "2023-07-07T19:00:26.832Z"
   },
   {
    "duration": 336,
    "start_time": "2023-07-07T19:00:38.334Z"
   },
   {
    "duration": 448,
    "start_time": "2023-07-07T19:00:50.757Z"
   },
   {
    "duration": 266,
    "start_time": "2023-07-07T19:01:30.555Z"
   },
   {
    "duration": 383,
    "start_time": "2023-07-07T19:01:47.152Z"
   },
   {
    "duration": 1625,
    "start_time": "2023-07-07T19:02:51.955Z"
   },
   {
    "duration": 279,
    "start_time": "2023-07-07T19:03:17.155Z"
   },
   {
    "duration": 258,
    "start_time": "2023-07-07T19:03:30.222Z"
   },
   {
    "duration": 192,
    "start_time": "2023-07-07T19:04:34.599Z"
   },
   {
    "duration": 195,
    "start_time": "2023-07-07T19:04:50.360Z"
   },
   {
    "duration": 202,
    "start_time": "2023-07-07T19:08:32.389Z"
   },
   {
    "duration": 174,
    "start_time": "2023-07-07T19:09:42.811Z"
   },
   {
    "duration": 285,
    "start_time": "2023-07-07T19:09:54.717Z"
   },
   {
    "duration": 13,
    "start_time": "2023-07-07T19:11:14.025Z"
   },
   {
    "duration": 123,
    "start_time": "2023-07-07T19:13:21.185Z"
   },
   {
    "duration": 153,
    "start_time": "2023-07-07T19:13:37.308Z"
   },
   {
    "duration": 114,
    "start_time": "2023-07-07T19:13:54.549Z"
   },
   {
    "duration": 4,
    "start_time": "2023-07-07T19:14:16.817Z"
   },
   {
    "duration": 124,
    "start_time": "2023-07-07T19:14:35.760Z"
   },
   {
    "duration": 161,
    "start_time": "2023-07-07T19:14:43.288Z"
   },
   {
    "duration": 113,
    "start_time": "2023-07-07T19:15:54.321Z"
   },
   {
    "duration": 15,
    "start_time": "2023-07-07T19:22:06.767Z"
   },
   {
    "duration": 203,
    "start_time": "2023-07-07T19:22:15.654Z"
   },
   {
    "duration": 116,
    "start_time": "2023-07-07T19:22:22.091Z"
   },
   {
    "duration": 11,
    "start_time": "2023-07-07T19:22:43.538Z"
   },
   {
    "duration": 1760,
    "start_time": "2023-07-07T19:23:20.587Z"
   },
   {
    "duration": 54,
    "start_time": "2023-07-07T19:23:22.349Z"
   },
   {
    "duration": 15,
    "start_time": "2023-07-07T19:23:22.405Z"
   },
   {
    "duration": 9,
    "start_time": "2023-07-07T19:23:22.422Z"
   },
   {
    "duration": 11,
    "start_time": "2023-07-07T19:23:22.433Z"
   },
   {
    "duration": 21,
    "start_time": "2023-07-07T19:23:22.446Z"
   },
   {
    "duration": 11,
    "start_time": "2023-07-07T19:23:22.468Z"
   },
   {
    "duration": 13,
    "start_time": "2023-07-07T19:23:22.481Z"
   },
   {
    "duration": 29,
    "start_time": "2023-07-07T19:23:22.495Z"
   },
   {
    "duration": 156,
    "start_time": "2023-07-07T19:23:22.526Z"
   },
   {
    "duration": 227,
    "start_time": "2023-07-07T19:23:22.685Z"
   },
   {
    "duration": 12,
    "start_time": "2023-07-07T19:23:22.914Z"
   },
   {
    "duration": 24,
    "start_time": "2023-07-07T19:23:22.927Z"
   },
   {
    "duration": 346,
    "start_time": "2023-07-07T19:23:22.953Z"
   },
   {
    "duration": 153,
    "start_time": "2023-07-07T19:23:23.300Z"
   },
   {
    "duration": 78,
    "start_time": "2023-07-07T19:23:57.383Z"
   },
   {
    "duration": 301,
    "start_time": "2023-07-07T19:24:47.708Z"
   },
   {
    "duration": 269,
    "start_time": "2023-07-07T19:25:16.705Z"
   },
   {
    "duration": 237,
    "start_time": "2023-07-07T19:25:59.542Z"
   },
   {
    "duration": 114,
    "start_time": "2023-07-07T19:30:14.179Z"
   },
   {
    "duration": 12,
    "start_time": "2023-07-07T19:30:32.288Z"
   },
   {
    "duration": 1512,
    "start_time": "2023-07-07T19:31:48.030Z"
   },
   {
    "duration": 53,
    "start_time": "2023-07-07T19:31:49.544Z"
   },
   {
    "duration": 10,
    "start_time": "2023-07-07T19:31:49.599Z"
   },
   {
    "duration": 9,
    "start_time": "2023-07-07T19:31:49.611Z"
   },
   {
    "duration": 10,
    "start_time": "2023-07-07T19:31:49.622Z"
   },
   {
    "duration": 8,
    "start_time": "2023-07-07T19:31:49.634Z"
   },
   {
    "duration": 30,
    "start_time": "2023-07-07T19:31:49.644Z"
   },
   {
    "duration": 18,
    "start_time": "2023-07-07T19:31:49.676Z"
   },
   {
    "duration": 13,
    "start_time": "2023-07-07T19:31:49.696Z"
   },
   {
    "duration": 159,
    "start_time": "2023-07-07T19:31:49.710Z"
   },
   {
    "duration": 216,
    "start_time": "2023-07-07T19:31:49.870Z"
   },
   {
    "duration": 11,
    "start_time": "2023-07-07T19:31:50.088Z"
   },
   {
    "duration": 130,
    "start_time": "2023-07-07T19:31:50.101Z"
   },
   {
    "duration": 7,
    "start_time": "2023-07-07T19:31:58.211Z"
   },
   {
    "duration": 328,
    "start_time": "2023-07-07T19:32:00.492Z"
   },
   {
    "duration": 332,
    "start_time": "2023-07-07T19:32:04.093Z"
   },
   {
    "duration": 251,
    "start_time": "2023-07-07T19:32:08.401Z"
   },
   {
    "duration": 1817,
    "start_time": "2023-07-07T21:28:27.767Z"
   },
   {
    "duration": 124,
    "start_time": "2023-07-07T21:29:13.843Z"
   },
   {
    "duration": 8,
    "start_time": "2023-07-07T21:29:20.888Z"
   },
   {
    "duration": 130,
    "start_time": "2023-07-07T21:29:20.899Z"
   },
   {
    "duration": 11,
    "start_time": "2023-07-07T21:29:21.032Z"
   },
   {
    "duration": 15,
    "start_time": "2023-07-07T21:29:21.045Z"
   },
   {
    "duration": 17,
    "start_time": "2023-07-07T21:29:21.063Z"
   },
   {
    "duration": 10,
    "start_time": "2023-07-07T21:29:21.083Z"
   },
   {
    "duration": 12,
    "start_time": "2023-07-07T21:29:21.095Z"
   },
   {
    "duration": 8,
    "start_time": "2023-07-07T21:29:21.109Z"
   },
   {
    "duration": 35,
    "start_time": "2023-07-07T21:29:21.118Z"
   },
   {
    "duration": 150,
    "start_time": "2023-07-07T21:29:21.155Z"
   },
   {
    "duration": 216,
    "start_time": "2023-07-07T21:29:21.306Z"
   },
   {
    "duration": 10,
    "start_time": "2023-07-07T21:29:21.524Z"
   },
   {
    "duration": 15,
    "start_time": "2023-07-07T21:29:25.810Z"
   },
   {
    "duration": 688,
    "start_time": "2023-07-07T21:30:03.480Z"
   },
   {
    "duration": 502,
    "start_time": "2023-07-07T21:30:38.546Z"
   },
   {
    "duration": 18,
    "start_time": "2023-07-07T21:31:21.583Z"
   },
   {
    "duration": 17,
    "start_time": "2023-07-07T21:31:34.577Z"
   },
   {
    "duration": 21,
    "start_time": "2023-07-07T21:32:02.400Z"
   },
   {
    "duration": 535,
    "start_time": "2023-07-07T21:32:11.364Z"
   },
   {
    "duration": 592,
    "start_time": "2023-07-07T21:32:28.045Z"
   },
   {
    "duration": 503,
    "start_time": "2023-07-07T21:32:37.162Z"
   },
   {
    "duration": 632,
    "start_time": "2023-07-07T21:32:59.756Z"
   },
   {
    "duration": 477,
    "start_time": "2023-07-07T21:33:12.836Z"
   },
   {
    "duration": 492,
    "start_time": "2023-07-07T21:33:41.525Z"
   },
   {
    "duration": 18,
    "start_time": "2023-07-07T21:35:03.316Z"
   },
   {
    "duration": 524,
    "start_time": "2023-07-07T21:35:08.393Z"
   },
   {
    "duration": 9,
    "start_time": "2023-07-07T21:36:02.977Z"
   },
   {
    "duration": 624,
    "start_time": "2023-07-07T21:36:29.920Z"
   },
   {
    "duration": 630,
    "start_time": "2023-07-07T21:36:38.444Z"
   },
   {
    "duration": 520,
    "start_time": "2023-07-07T21:36:52.044Z"
   },
   {
    "duration": 124,
    "start_time": "2023-07-07T21:37:20.441Z"
   },
   {
    "duration": 252,
    "start_time": "2023-07-07T21:37:32.077Z"
   },
   {
    "duration": 223,
    "start_time": "2023-07-07T21:37:55.397Z"
   },
   {
    "duration": 630,
    "start_time": "2023-07-07T21:47:03.843Z"
   },
   {
    "duration": 217,
    "start_time": "2023-07-07T21:50:24.317Z"
   },
   {
    "duration": 412,
    "start_time": "2023-07-07T21:50:37.058Z"
   },
   {
    "duration": 4870,
    "start_time": "2023-07-07T21:51:00.286Z"
   },
   {
    "duration": 5012,
    "start_time": "2023-07-07T21:51:12.257Z"
   },
   {
    "duration": 5,
    "start_time": "2023-07-07T21:52:14.362Z"
   },
   {
    "duration": 8,
    "start_time": "2023-07-07T21:52:16.095Z"
   },
   {
    "duration": 135,
    "start_time": "2023-07-07T22:13:07.764Z"
   },
   {
    "duration": 4,
    "start_time": "2023-07-07T22:13:22.718Z"
   },
   {
    "duration": 10,
    "start_time": "2023-07-07T22:16:49.698Z"
   },
   {
    "duration": 3,
    "start_time": "2023-07-07T22:17:16.690Z"
   },
   {
    "duration": 10,
    "start_time": "2023-07-07T22:17:18.641Z"
   },
   {
    "duration": 9,
    "start_time": "2023-07-07T22:19:13.192Z"
   },
   {
    "duration": 12,
    "start_time": "2023-07-07T22:19:15.339Z"
   },
   {
    "duration": 9,
    "start_time": "2023-07-07T22:19:30.539Z"
   },
   {
    "duration": 5,
    "start_time": "2023-07-07T22:19:32.109Z"
   },
   {
    "duration": 12,
    "start_time": "2023-07-07T22:20:19.864Z"
   },
   {
    "duration": 3,
    "start_time": "2023-07-07T22:20:34.450Z"
   },
   {
    "duration": 5,
    "start_time": "2023-07-07T22:20:43.300Z"
   },
   {
    "duration": 4,
    "start_time": "2023-07-07T22:24:31.671Z"
   },
   {
    "duration": 4,
    "start_time": "2023-07-07T22:25:10.712Z"
   },
   {
    "duration": 5,
    "start_time": "2023-07-07T22:25:24.680Z"
   },
   {
    "duration": 8,
    "start_time": "2023-07-07T22:25:32.421Z"
   },
   {
    "duration": 9,
    "start_time": "2023-07-07T22:25:39.042Z"
   },
   {
    "duration": 11,
    "start_time": "2023-07-07T22:25:41.901Z"
   },
   {
    "duration": 7,
    "start_time": "2023-07-07T22:26:02.820Z"
   },
   {
    "duration": 5,
    "start_time": "2023-07-07T22:26:05.779Z"
   },
   {
    "duration": 2,
    "start_time": "2023-07-07T22:26:09.641Z"
   },
   {
    "duration": 4,
    "start_time": "2023-07-07T22:31:52.689Z"
   },
   {
    "duration": 358,
    "start_time": "2023-07-07T22:34:24.394Z"
   },
   {
    "duration": 4,
    "start_time": "2023-07-07T22:34:49.205Z"
   },
   {
    "duration": 315,
    "start_time": "2023-07-07T22:34:58.216Z"
   },
   {
    "duration": 1012,
    "start_time": "2023-07-07T22:35:43.011Z"
   },
   {
    "duration": 4439,
    "start_time": "2023-07-07T22:35:59.214Z"
   },
   {
    "duration": 4866,
    "start_time": "2023-07-07T22:38:23.299Z"
   },
   {
    "duration": 4714,
    "start_time": "2023-07-07T22:39:55.245Z"
   },
   {
    "duration": 4635,
    "start_time": "2023-07-07T22:40:27.918Z"
   },
   {
    "duration": 4381,
    "start_time": "2023-07-07T22:40:36.777Z"
   },
   {
    "duration": 4258,
    "start_time": "2023-07-07T22:41:22.195Z"
   },
   {
    "duration": 1003,
    "start_time": "2023-07-07T22:41:34.174Z"
   },
   {
    "duration": 1182,
    "start_time": "2023-07-07T22:42:25.193Z"
   },
   {
    "duration": 5074,
    "start_time": "2023-07-07T22:42:53.395Z"
   },
   {
    "duration": 4856,
    "start_time": "2023-07-07T22:43:53.805Z"
   },
   {
    "duration": 3,
    "start_time": "2023-07-07T22:44:40.206Z"
   },
   {
    "duration": 49115,
    "start_time": "2023-07-07T22:45:11.213Z"
   },
   {
    "duration": 48794,
    "start_time": "2023-07-07T22:46:28.635Z"
   },
   {
    "duration": 4,
    "start_time": "2023-07-07T22:49:08.107Z"
   },
   {
    "duration": 7,
    "start_time": "2023-07-07T22:49:20.951Z"
   },
   {
    "duration": 3,
    "start_time": "2023-07-07T22:49:33.610Z"
   },
   {
    "duration": 29539,
    "start_time": "2023-07-07T22:50:17.475Z"
   },
   {
    "duration": 3,
    "start_time": "2023-07-07T22:51:05.611Z"
   },
   {
    "duration": 16748,
    "start_time": "2023-07-07T22:51:33.323Z"
   },
   {
    "duration": 128,
    "start_time": "2023-07-07T23:44:35.079Z"
   },
   {
    "duration": 16,
    "start_time": "2023-07-07T23:44:42.302Z"
   },
   {
    "duration": 5,
    "start_time": "2023-07-07T23:45:39.897Z"
   },
   {
    "duration": 389,
    "start_time": "2023-07-07T23:46:23.634Z"
   },
   {
    "duration": 198,
    "start_time": "2023-07-07T23:46:36.885Z"
   },
   {
    "duration": 153,
    "start_time": "2023-07-07T23:46:58.654Z"
   },
   {
    "duration": 12,
    "start_time": "2023-07-07T23:48:09.188Z"
   },
   {
    "duration": 4,
    "start_time": "2023-07-07T23:53:09.688Z"
   },
   {
    "duration": 6,
    "start_time": "2023-07-07T23:53:16.426Z"
   },
   {
    "duration": 1329,
    "start_time": "2023-07-07T23:57:57.884Z"
   },
   {
    "duration": 57,
    "start_time": "2023-07-07T23:57:59.215Z"
   },
   {
    "duration": 10,
    "start_time": "2023-07-07T23:57:59.273Z"
   },
   {
    "duration": 7,
    "start_time": "2023-07-07T23:57:59.285Z"
   },
   {
    "duration": 10,
    "start_time": "2023-07-07T23:57:59.295Z"
   },
   {
    "duration": 8,
    "start_time": "2023-07-07T23:57:59.307Z"
   },
   {
    "duration": 9,
    "start_time": "2023-07-07T23:57:59.317Z"
   },
   {
    "duration": 36,
    "start_time": "2023-07-07T23:57:59.328Z"
   },
   {
    "duration": 8,
    "start_time": "2023-07-07T23:57:59.365Z"
   },
   {
    "duration": 133,
    "start_time": "2023-07-07T23:57:59.375Z"
   },
   {
    "duration": 202,
    "start_time": "2023-07-07T23:57:59.510Z"
   },
   {
    "duration": 9,
    "start_time": "2023-07-07T23:57:59.714Z"
   },
   {
    "duration": 310,
    "start_time": "2023-07-07T23:57:59.725Z"
   },
   {
    "duration": 580,
    "start_time": "2023-07-07T23:58:00.039Z"
   },
   {
    "duration": 510,
    "start_time": "2023-07-07T23:58:00.621Z"
   },
   {
    "duration": 277,
    "start_time": "2023-07-07T23:58:01.134Z"
   },
   {
    "duration": 2340,
    "start_time": "2023-07-07T23:58:01.413Z"
   },
   {
    "duration": 3497,
    "start_time": "2023-07-07T23:58:03.754Z"
   },
   {
    "duration": 4,
    "start_time": "2023-07-07T23:58:07.253Z"
   },
   {
    "duration": 114,
    "start_time": "2023-07-07T23:58:07.261Z"
   },
   {
    "duration": 6,
    "start_time": "2023-07-07T23:58:07.377Z"
   },
   {
    "duration": 11,
    "start_time": "2023-07-07T23:58:07.384Z"
   },
   {
    "duration": 4,
    "start_time": "2023-07-07T23:58:07.396Z"
   },
   {
    "duration": 13,
    "start_time": "2023-07-07T23:58:07.402Z"
   },
   {
    "duration": 14,
    "start_time": "2023-07-07T23:58:07.416Z"
   },
   {
    "duration": 8,
    "start_time": "2023-07-07T23:58:07.432Z"
   },
   {
    "duration": 24,
    "start_time": "2023-07-07T23:58:07.442Z"
   },
   {
    "duration": 6,
    "start_time": "2023-07-07T23:58:07.468Z"
   },
   {
    "duration": 8,
    "start_time": "2023-07-07T23:58:07.475Z"
   },
   {
    "duration": 4266,
    "start_time": "2023-07-07T23:58:07.484Z"
   },
   {
    "duration": 10,
    "start_time": "2023-07-07T23:58:11.752Z"
   },
   {
    "duration": 45099,
    "start_time": "2023-07-07T23:58:11.766Z"
   },
   {
    "duration": 7,
    "start_time": "2023-07-07T23:58:56.866Z"
   },
   {
    "duration": 26366,
    "start_time": "2023-07-07T23:58:56.874Z"
   },
   {
    "duration": 2,
    "start_time": "2023-07-07T23:59:23.242Z"
   },
   {
    "duration": 15651,
    "start_time": "2023-07-07T23:59:23.253Z"
   },
   {
    "duration": 209,
    "start_time": "2023-07-07T23:59:38.905Z"
   },
   {
    "duration": 163,
    "start_time": "2023-07-07T23:59:39.116Z"
   },
   {
    "duration": 11,
    "start_time": "2023-07-07T23:59:39.281Z"
   },
   {
    "duration": 4,
    "start_time": "2023-07-07T23:59:39.294Z"
   },
   {
    "duration": 3366,
    "start_time": "2023-07-09T05:16:31.804Z"
   },
   {
    "duration": 143,
    "start_time": "2023-07-09T05:16:35.172Z"
   },
   {
    "duration": 12,
    "start_time": "2023-07-09T05:16:35.317Z"
   },
   {
    "duration": 13,
    "start_time": "2023-07-09T05:16:35.331Z"
   },
   {
    "duration": 40,
    "start_time": "2023-07-09T05:16:35.346Z"
   },
   {
    "duration": 32,
    "start_time": "2023-07-09T05:16:35.388Z"
   },
   {
    "duration": 42,
    "start_time": "2023-07-09T05:16:35.422Z"
   },
   {
    "duration": 12,
    "start_time": "2023-07-09T05:16:35.466Z"
   },
   {
    "duration": 13,
    "start_time": "2023-07-09T05:16:35.480Z"
   },
   {
    "duration": 146,
    "start_time": "2023-07-09T05:16:35.495Z"
   },
   {
    "duration": 234,
    "start_time": "2023-07-09T05:16:35.643Z"
   },
   {
    "duration": 331,
    "start_time": "2023-07-09T05:17:01.683Z"
   },
   {
    "duration": 286,
    "start_time": "2023-07-09T05:17:04.398Z"
   },
   {
    "duration": 1963,
    "start_time": "2023-07-09T21:42:28.223Z"
   },
   {
    "duration": 157,
    "start_time": "2023-07-09T21:42:35.889Z"
   },
   {
    "duration": 20,
    "start_time": "2023-07-09T21:42:41.162Z"
   },
   {
    "duration": 10,
    "start_time": "2023-07-09T21:42:46.538Z"
   },
   {
    "duration": 11,
    "start_time": "2023-07-09T21:42:48.636Z"
   },
   {
    "duration": 10,
    "start_time": "2023-07-09T21:42:51.982Z"
   },
   {
    "duration": 13,
    "start_time": "2023-07-09T21:42:55.386Z"
   },
   {
    "duration": 8,
    "start_time": "2023-07-09T21:42:57.495Z"
   },
   {
    "duration": 9,
    "start_time": "2023-07-09T21:43:01.839Z"
   },
   {
    "duration": 151,
    "start_time": "2023-07-09T21:43:06.394Z"
   },
   {
    "duration": 223,
    "start_time": "2023-07-09T21:43:19.700Z"
   },
   {
    "duration": 244,
    "start_time": "2023-07-09T21:45:44.940Z"
   },
   {
    "duration": 359,
    "start_time": "2023-07-09T21:52:14.470Z"
   },
   {
    "duration": 177,
    "start_time": "2023-07-09T21:52:35.136Z"
   },
   {
    "duration": 237,
    "start_time": "2023-07-09T22:00:54.092Z"
   },
   {
    "duration": 22,
    "start_time": "2023-07-09T22:01:32.757Z"
   },
   {
    "duration": 281,
    "start_time": "2023-07-09T22:02:00.648Z"
   },
   {
    "duration": 698,
    "start_time": "2023-07-09T22:02:09.978Z"
   },
   {
    "duration": 574,
    "start_time": "2023-07-09T22:02:17.719Z"
   },
   {
    "duration": 649,
    "start_time": "2023-07-09T22:02:28.733Z"
   },
   {
    "duration": 576,
    "start_time": "2023-07-09T22:02:53.883Z"
   },
   {
    "duration": 3,
    "start_time": "2023-07-09T22:04:51.062Z"
   },
   {
    "duration": 10,
    "start_time": "2023-07-09T22:04:59.376Z"
   },
   {
    "duration": 279,
    "start_time": "2023-07-09T22:05:06.654Z"
   },
   {
    "duration": 780,
    "start_time": "2023-07-09T22:05:21.456Z"
   },
   {
    "duration": 259,
    "start_time": "2023-07-09T22:05:37.153Z"
   },
   {
    "duration": 798,
    "start_time": "2023-07-09T22:05:54.813Z"
   },
   {
    "duration": 992,
    "start_time": "2023-07-09T22:05:59.122Z"
   },
   {
    "duration": 266,
    "start_time": "2023-07-09T22:08:38.817Z"
   },
   {
    "duration": 273,
    "start_time": "2023-07-09T22:08:53.077Z"
   },
   {
    "duration": 771,
    "start_time": "2023-07-09T22:09:10.013Z"
   },
   {
    "duration": 766,
    "start_time": "2023-07-09T22:09:35.518Z"
   },
   {
    "duration": 588,
    "start_time": "2023-07-09T22:09:46.237Z"
   },
   {
    "duration": 3250,
    "start_time": "2023-07-09T22:09:55.517Z"
   },
   {
    "duration": 3002,
    "start_time": "2023-07-09T22:10:01.683Z"
   },
   {
    "duration": 5,
    "start_time": "2023-07-09T22:10:08.844Z"
   },
   {
    "duration": 7,
    "start_time": "2023-07-09T22:10:15.925Z"
   },
   {
    "duration": 3,
    "start_time": "2023-07-09T22:10:20.190Z"
   },
   {
    "duration": 11,
    "start_time": "2023-07-09T22:10:22.377Z"
   },
   {
    "duration": 3,
    "start_time": "2023-07-09T22:26:42.151Z"
   },
   {
    "duration": 7,
    "start_time": "2023-07-09T22:26:47.016Z"
   },
   {
    "duration": 4,
    "start_time": "2023-07-09T22:28:38.092Z"
   },
   {
    "duration": 6,
    "start_time": "2023-07-09T22:28:42.142Z"
   },
   {
    "duration": 11,
    "start_time": "2023-07-09T22:28:48.178Z"
   },
   {
    "duration": 17,
    "start_time": "2023-07-09T22:28:58.726Z"
   },
   {
    "duration": 69,
    "start_time": "2023-07-09T22:48:34.498Z"
   },
   {
    "duration": 124,
    "start_time": "2023-07-09T22:48:45.378Z"
   },
   {
    "duration": 13,
    "start_time": "2023-07-09T22:48:55.765Z"
   },
   {
    "duration": 11,
    "start_time": "2023-07-09T23:16:27.342Z"
   },
   {
    "duration": 1050,
    "start_time": "2023-07-09T23:16:33.689Z"
   },
   {
    "duration": 448,
    "start_time": "2023-07-09T23:16:55.759Z"
   },
   {
    "duration": 17,
    "start_time": "2023-07-09T23:17:10.016Z"
   },
   {
    "duration": 16,
    "start_time": "2023-07-09T23:19:02.551Z"
   },
   {
    "duration": 431,
    "start_time": "2023-07-09T23:20:44.290Z"
   },
   {
    "duration": 16,
    "start_time": "2023-07-09T23:20:46.642Z"
   },
   {
    "duration": 13,
    "start_time": "2023-07-09T23:27:40.472Z"
   },
   {
    "duration": 536,
    "start_time": "2023-07-09T23:27:48.494Z"
   },
   {
    "duration": 16,
    "start_time": "2023-07-09T23:27:51.362Z"
   },
   {
    "duration": 1106,
    "start_time": "2023-07-09T23:32:10.267Z"
   },
   {
    "duration": 5,
    "start_time": "2023-07-09T23:34:50.658Z"
   },
   {
    "duration": 564,
    "start_time": "2023-07-09T23:34:53.481Z"
   },
   {
    "duration": 13,
    "start_time": "2023-07-09T23:34:59.475Z"
   },
   {
    "duration": 11,
    "start_time": "2023-07-09T23:35:55.018Z"
   },
   {
    "duration": 16,
    "start_time": "2023-07-09T23:36:08.410Z"
   },
   {
    "duration": 15,
    "start_time": "2023-07-09T23:37:27.359Z"
   },
   {
    "duration": 10,
    "start_time": "2023-07-09T23:37:37.934Z"
   },
   {
    "duration": 5,
    "start_time": "2023-07-09T23:38:19.402Z"
   },
   {
    "duration": 463,
    "start_time": "2023-07-09T23:40:40.320Z"
   },
   {
    "duration": 10,
    "start_time": "2023-07-09T23:40:47.672Z"
   },
   {
    "duration": 5,
    "start_time": "2023-07-09T23:41:26.251Z"
   },
   {
    "duration": 15,
    "start_time": "2023-07-09T23:41:48.595Z"
   },
   {
    "duration": 1352,
    "start_time": "2023-07-09T23:42:28.017Z"
   },
   {
    "duration": 1371,
    "start_time": "2023-07-09T23:43:34.117Z"
   },
   {
    "duration": 11,
    "start_time": "2023-07-09T23:43:39.825Z"
   },
   {
    "duration": 1291,
    "start_time": "2023-07-09T23:43:47.816Z"
   },
   {
    "duration": 1064,
    "start_time": "2023-07-09T23:44:10.504Z"
   },
   {
    "duration": 16,
    "start_time": "2023-07-09T23:44:13.898Z"
   },
   {
    "duration": 230,
    "start_time": "2023-07-09T23:44:34.025Z"
   },
   {
    "duration": 10,
    "start_time": "2023-07-09T23:44:36.681Z"
   },
   {
    "duration": 4,
    "start_time": "2023-07-09T23:48:14.466Z"
   },
   {
    "duration": 1210,
    "start_time": "2023-07-09T23:48:29.789Z"
   },
   {
    "duration": 15,
    "start_time": "2023-07-09T23:48:41.481Z"
   },
   {
    "duration": 4,
    "start_time": "2023-07-09T23:49:39.967Z"
   },
   {
    "duration": 13,
    "start_time": "2023-07-09T23:49:41.992Z"
   },
   {
    "duration": 15,
    "start_time": "2023-07-09T23:50:28.411Z"
   },
   {
    "duration": 3,
    "start_time": "2023-07-09T23:50:44.219Z"
   },
   {
    "duration": 15,
    "start_time": "2023-07-09T23:50:47.095Z"
   },
   {
    "duration": 1422,
    "start_time": "2023-07-09T23:51:06.970Z"
   },
   {
    "duration": 54,
    "start_time": "2023-07-09T23:51:08.394Z"
   },
   {
    "duration": 10,
    "start_time": "2023-07-09T23:51:08.450Z"
   },
   {
    "duration": 10,
    "start_time": "2023-07-09T23:51:08.462Z"
   },
   {
    "duration": 34,
    "start_time": "2023-07-09T23:51:08.473Z"
   },
   {
    "duration": 18,
    "start_time": "2023-07-09T23:51:08.509Z"
   },
   {
    "duration": 13,
    "start_time": "2023-07-09T23:51:08.529Z"
   },
   {
    "duration": 10,
    "start_time": "2023-07-09T23:51:08.544Z"
   },
   {
    "duration": 16,
    "start_time": "2023-07-09T23:51:08.556Z"
   },
   {
    "duration": 166,
    "start_time": "2023-07-09T23:51:08.575Z"
   },
   {
    "duration": 235,
    "start_time": "2023-07-09T23:51:08.743Z"
   },
   {
    "duration": 12,
    "start_time": "2023-07-09T23:51:08.980Z"
   },
   {
    "duration": 19,
    "start_time": "2023-07-09T23:51:08.994Z"
   },
   {
    "duration": 370,
    "start_time": "2023-07-09T23:51:09.015Z"
   },
   {
    "duration": 795,
    "start_time": "2023-07-09T23:51:09.387Z"
   },
   {
    "duration": 760,
    "start_time": "2023-07-09T23:51:10.184Z"
   },
   {
    "duration": 436,
    "start_time": "2023-07-09T23:51:10.946Z"
   },
   {
    "duration": 1384,
    "start_time": "2023-07-09T23:51:11.384Z"
   },
   {
    "duration": 1603,
    "start_time": "2023-07-09T23:51:12.770Z"
   },
   {
    "duration": 94,
    "start_time": "2023-07-09T23:51:14.375Z"
   },
   {
    "duration": 37,
    "start_time": "2023-07-09T23:51:14.471Z"
   },
   {
    "duration": 15,
    "start_time": "2023-07-09T23:51:14.510Z"
   },
   {
    "duration": 22,
    "start_time": "2023-07-09T23:51:14.527Z"
   },
   {
    "duration": 11,
    "start_time": "2023-07-09T23:51:14.551Z"
   },
   {
    "duration": 11,
    "start_time": "2023-07-09T23:51:14.564Z"
   },
   {
    "duration": 10,
    "start_time": "2023-07-09T23:51:14.577Z"
   },
   {
    "duration": 25,
    "start_time": "2023-07-09T23:51:14.589Z"
   },
   {
    "duration": 4,
    "start_time": "2023-07-09T23:51:14.616Z"
   },
   {
    "duration": 1400,
    "start_time": "2023-07-09T23:51:14.622Z"
   },
   {
    "duration": 3,
    "start_time": "2023-07-09T23:51:36.754Z"
   },
   {
    "duration": 15,
    "start_time": "2023-07-09T23:51:41.480Z"
   },
   {
    "duration": 12,
    "start_time": "2023-07-09T23:52:06.601Z"
   },
   {
    "duration": 230,
    "start_time": "2023-07-09T23:52:27.840Z"
   },
   {
    "duration": 1162,
    "start_time": "2023-07-09T23:52:30.733Z"
   },
   {
    "duration": 17,
    "start_time": "2023-07-09T23:52:39.652Z"
   },
   {
    "duration": 16,
    "start_time": "2023-07-09T23:53:04.077Z"
   },
   {
    "duration": 1110,
    "start_time": "2023-07-09T23:53:23.483Z"
   },
   {
    "duration": 1082,
    "start_time": "2023-07-09T23:53:38.646Z"
   },
   {
    "duration": 16,
    "start_time": "2023-07-09T23:53:41.845Z"
   },
   {
    "duration": 14,
    "start_time": "2023-07-09T23:54:05.085Z"
   },
   {
    "duration": 1123,
    "start_time": "2023-07-09T23:54:18.045Z"
   },
   {
    "duration": 16,
    "start_time": "2023-07-09T23:54:21.824Z"
   },
   {
    "duration": 3,
    "start_time": "2023-07-09T23:57:43.007Z"
   },
   {
    "duration": 15,
    "start_time": "2023-07-09T23:57:45.414Z"
   },
   {
    "duration": 4,
    "start_time": "2023-07-09T23:58:36.591Z"
   },
   {
    "duration": 226,
    "start_time": "2023-07-09T23:58:39.222Z"
   },
   {
    "duration": 17,
    "start_time": "2023-07-09T23:58:48.605Z"
   },
   {
    "duration": 1561,
    "start_time": "2023-07-09T23:59:36.239Z"
   },
   {
    "duration": 1525,
    "start_time": "2023-07-09T23:59:46.601Z"
   },
   {
    "duration": 362,
    "start_time": "2023-07-10T00:00:06.658Z"
   },
   {
    "duration": 245,
    "start_time": "2023-07-10T00:00:16.738Z"
   },
   {
    "duration": 239,
    "start_time": "2023-07-10T00:01:55.987Z"
   },
   {
    "duration": 16,
    "start_time": "2023-07-10T00:01:59.057Z"
   },
   {
    "duration": 237,
    "start_time": "2023-07-10T00:02:32.841Z"
   },
   {
    "duration": 16,
    "start_time": "2023-07-10T00:02:35.282Z"
   },
   {
    "duration": 13,
    "start_time": "2023-07-10T00:07:16.464Z"
   },
   {
    "duration": 40,
    "start_time": "2023-07-10T00:07:25.145Z"
   },
   {
    "duration": 4,
    "start_time": "2023-07-10T00:07:54.409Z"
   },
   {
    "duration": 18,
    "start_time": "2023-07-10T00:07:56.705Z"
   },
   {
    "duration": 4,
    "start_time": "2023-07-10T00:08:13.579Z"
   },
   {
    "duration": 18,
    "start_time": "2023-07-10T00:08:15.930Z"
   },
   {
    "duration": 17,
    "start_time": "2023-07-10T00:08:45.092Z"
   },
   {
    "duration": 4,
    "start_time": "2023-07-10T00:09:34.772Z"
   },
   {
    "duration": 13,
    "start_time": "2023-07-10T00:09:37.224Z"
   },
   {
    "duration": 1494,
    "start_time": "2023-07-10T00:11:00.726Z"
   },
   {
    "duration": 56,
    "start_time": "2023-07-10T00:11:02.223Z"
   },
   {
    "duration": 11,
    "start_time": "2023-07-10T00:11:02.281Z"
   },
   {
    "duration": 29,
    "start_time": "2023-07-10T00:11:02.295Z"
   },
   {
    "duration": 47,
    "start_time": "2023-07-10T00:11:02.326Z"
   },
   {
    "duration": 16,
    "start_time": "2023-07-10T00:11:02.375Z"
   },
   {
    "duration": 11,
    "start_time": "2023-07-10T00:11:02.392Z"
   },
   {
    "duration": 14,
    "start_time": "2023-07-10T00:11:02.405Z"
   },
   {
    "duration": 30,
    "start_time": "2023-07-10T00:11:02.420Z"
   },
   {
    "duration": 166,
    "start_time": "2023-07-10T00:11:02.454Z"
   },
   {
    "duration": 226,
    "start_time": "2023-07-10T00:11:02.622Z"
   },
   {
    "duration": 18,
    "start_time": "2023-07-10T00:11:02.850Z"
   },
   {
    "duration": 9,
    "start_time": "2023-07-10T00:11:02.870Z"
   },
   {
    "duration": 380,
    "start_time": "2023-07-10T00:11:02.880Z"
   },
   {
    "duration": 831,
    "start_time": "2023-07-10T00:11:03.263Z"
   },
   {
    "duration": 797,
    "start_time": "2023-07-10T00:11:04.095Z"
   },
   {
    "duration": 500,
    "start_time": "2023-07-10T00:11:04.893Z"
   },
   {
    "duration": 1574,
    "start_time": "2023-07-10T00:11:05.395Z"
   },
   {
    "duration": 1704,
    "start_time": "2023-07-10T00:11:06.971Z"
   },
   {
    "duration": 91,
    "start_time": "2023-07-10T00:11:08.677Z"
   },
   {
    "duration": 99,
    "start_time": "2023-07-10T00:11:08.770Z"
   },
   {
    "duration": 9,
    "start_time": "2023-07-10T00:11:08.870Z"
   },
   {
    "duration": 14,
    "start_time": "2023-07-10T00:11:08.881Z"
   },
   {
    "duration": 4,
    "start_time": "2023-07-10T00:11:08.897Z"
   },
   {
    "duration": 19,
    "start_time": "2023-07-10T00:11:08.902Z"
   },
   {
    "duration": 9,
    "start_time": "2023-07-10T00:11:08.923Z"
   },
   {
    "duration": 7,
    "start_time": "2023-07-10T00:11:30.241Z"
   },
   {
    "duration": 7,
    "start_time": "2023-07-10T00:11:33.973Z"
   },
   {
    "duration": 3,
    "start_time": "2023-07-10T00:11:37.876Z"
   },
   {
    "duration": 3,
    "start_time": "2023-07-10T00:11:40.632Z"
   },
   {
    "duration": 4701,
    "start_time": "2023-07-10T00:11:43.344Z"
   },
   {
    "duration": 4,
    "start_time": "2023-07-10T00:12:23.923Z"
   },
   {
    "duration": 50509,
    "start_time": "2023-07-10T00:12:25.621Z"
   },
   {
    "duration": 2,
    "start_time": "2023-07-10T00:13:40.064Z"
   },
   {
    "duration": 28281,
    "start_time": "2023-07-10T00:13:43.594Z"
   },
   {
    "duration": 3,
    "start_time": "2023-07-10T00:14:19.990Z"
   },
   {
    "duration": 16062,
    "start_time": "2023-07-10T00:14:22.687Z"
   },
   {
    "duration": 281,
    "start_time": "2023-07-10T00:15:38.514Z"
   },
   {
    "duration": 5,
    "start_time": "2023-07-10T00:16:28.766Z"
   },
   {
    "duration": 6,
    "start_time": "2023-07-10T00:16:33.580Z"
   },
   {
    "duration": 11,
    "start_time": "2023-07-10T00:16:36.982Z"
   },
   {
    "duration": 8,
    "start_time": "2023-07-10T00:16:41.702Z"
   },
   {
    "duration": 5,
    "start_time": "2023-07-10T00:16:43.425Z"
   },
   {
    "duration": 3,
    "start_time": "2023-07-10T00:16:46.024Z"
   },
   {
    "duration": 3,
    "start_time": "2023-07-10T00:16:48.882Z"
   },
   {
    "duration": 4831,
    "start_time": "2023-07-10T00:16:50.410Z"
   },
   {
    "duration": 3,
    "start_time": "2023-07-10T00:17:04.137Z"
   },
   {
    "duration": 50812,
    "start_time": "2023-07-10T00:17:07.635Z"
   },
   {
    "duration": 2,
    "start_time": "2023-07-10T00:18:33.393Z"
   },
   {
    "duration": 28007,
    "start_time": "2023-07-10T00:18:36.264Z"
   },
   {
    "duration": 3,
    "start_time": "2023-07-10T00:19:15.154Z"
   },
   {
    "duration": 16126,
    "start_time": "2023-07-10T00:19:18.064Z"
   },
   {
    "duration": 335,
    "start_time": "2023-07-10T00:20:18.993Z"
   },
   {
    "duration": 7,
    "start_time": "2023-07-10T00:20:39.292Z"
   },
   {
    "duration": 11,
    "start_time": "2023-07-10T00:20:41.326Z"
   },
   {
    "duration": 8,
    "start_time": "2023-07-10T00:20:44.534Z"
   },
   {
    "duration": 6,
    "start_time": "2023-07-10T00:20:46.063Z"
   },
   {
    "duration": 4,
    "start_time": "2023-07-10T00:20:48.830Z"
   },
   {
    "duration": 3,
    "start_time": "2023-07-10T00:20:50.790Z"
   },
   {
    "duration": 5456,
    "start_time": "2023-07-10T00:20:58.844Z"
   },
   {
    "duration": 3,
    "start_time": "2023-07-10T00:21:12.512Z"
   },
   {
    "duration": 60881,
    "start_time": "2023-07-10T00:21:15.066Z"
   },
   {
    "duration": 3,
    "start_time": "2023-07-10T00:22:54.002Z"
   },
   {
    "duration": 31163,
    "start_time": "2023-07-10T00:22:56.798Z"
   },
   {
    "duration": 4,
    "start_time": "2023-07-10T00:23:34.395Z"
   },
   {
    "duration": 17149,
    "start_time": "2023-07-10T00:23:37.500Z"
   },
   {
    "duration": 390,
    "start_time": "2023-07-10T00:24:17.056Z"
   },
   {
    "duration": 5,
    "start_time": "2023-07-10T00:26:19.929Z"
   },
   {
    "duration": 1441,
    "start_time": "2023-07-10T00:26:42.253Z"
   },
   {
    "duration": 53,
    "start_time": "2023-07-10T00:26:43.696Z"
   },
   {
    "duration": 11,
    "start_time": "2023-07-10T00:26:43.751Z"
   },
   {
    "duration": 9,
    "start_time": "2023-07-10T00:26:43.764Z"
   },
   {
    "duration": 12,
    "start_time": "2023-07-10T00:26:43.775Z"
   },
   {
    "duration": 8,
    "start_time": "2023-07-10T00:26:43.789Z"
   },
   {
    "duration": 9,
    "start_time": "2023-07-10T00:26:43.798Z"
   },
   {
    "duration": 7,
    "start_time": "2023-07-10T00:26:43.809Z"
   },
   {
    "duration": 11,
    "start_time": "2023-07-10T00:26:43.817Z"
   },
   {
    "duration": 200,
    "start_time": "2023-07-10T00:26:43.831Z"
   },
   {
    "duration": 224,
    "start_time": "2023-07-10T00:26:44.033Z"
   },
   {
    "duration": 14,
    "start_time": "2023-07-10T00:26:44.259Z"
   },
   {
    "duration": 7,
    "start_time": "2023-07-10T00:26:44.274Z"
   },
   {
    "duration": 343,
    "start_time": "2023-07-10T00:26:44.283Z"
   },
   {
    "duration": 831,
    "start_time": "2023-07-10T00:26:44.628Z"
   },
   {
    "duration": 766,
    "start_time": "2023-07-10T00:26:45.467Z"
   },
   {
    "duration": 439,
    "start_time": "2023-07-10T00:26:46.235Z"
   },
   {
    "duration": 1500,
    "start_time": "2023-07-10T00:26:46.676Z"
   },
   {
    "duration": 1696,
    "start_time": "2023-07-10T00:26:48.272Z"
   },
   {
    "duration": 5,
    "start_time": "2023-07-10T00:26:49.970Z"
   },
   {
    "duration": 100,
    "start_time": "2023-07-10T00:26:49.976Z"
   },
   {
    "duration": 5,
    "start_time": "2023-07-10T00:26:50.078Z"
   },
   {
    "duration": 14,
    "start_time": "2023-07-10T00:26:50.085Z"
   },
   {
    "duration": 8,
    "start_time": "2023-07-10T00:26:50.100Z"
   },
   {
    "duration": 20,
    "start_time": "2023-07-10T00:26:50.110Z"
   },
   {
    "duration": 11,
    "start_time": "2023-07-10T00:26:50.131Z"
   },
   {
    "duration": 26,
    "start_time": "2023-07-10T00:26:50.144Z"
   },
   {
    "duration": 8,
    "start_time": "2023-07-10T00:26:50.173Z"
   },
   {
    "duration": 9,
    "start_time": "2023-07-10T00:26:50.182Z"
   },
   {
    "duration": 7,
    "start_time": "2023-07-10T00:26:50.192Z"
   },
   {
    "duration": 5489,
    "start_time": "2023-07-10T00:26:50.200Z"
   },
   {
    "duration": 3,
    "start_time": "2023-07-10T00:26:55.691Z"
   },
   {
    "duration": 58328,
    "start_time": "2023-07-10T00:26:55.696Z"
   },
   {
    "duration": 2,
    "start_time": "2023-07-10T00:27:54.026Z"
   },
   {
    "duration": 30442,
    "start_time": "2023-07-10T00:27:54.029Z"
   },
   {
    "duration": 3,
    "start_time": "2023-07-10T00:28:24.473Z"
   },
   {
    "duration": 16718,
    "start_time": "2023-07-10T00:28:24.477Z"
   },
   {
    "duration": 381,
    "start_time": "2023-07-10T00:28:41.197Z"
   },
   {
    "duration": 5,
    "start_time": "2023-07-10T00:28:41.579Z"
   },
   {
    "duration": 311,
    "start_time": "2023-07-10T00:30:01.128Z"
   },
   {
    "duration": 5,
    "start_time": "2023-07-10T00:30:12.208Z"
   },
   {
    "duration": 1459,
    "start_time": "2023-07-10T00:30:21.347Z"
   },
   {
    "duration": 57,
    "start_time": "2023-07-10T00:30:22.808Z"
   },
   {
    "duration": 10,
    "start_time": "2023-07-10T00:30:22.869Z"
   },
   {
    "duration": 9,
    "start_time": "2023-07-10T00:30:22.881Z"
   },
   {
    "duration": 12,
    "start_time": "2023-07-10T00:30:22.892Z"
   },
   {
    "duration": 8,
    "start_time": "2023-07-10T00:30:22.905Z"
   },
   {
    "duration": 9,
    "start_time": "2023-07-10T00:30:22.915Z"
   },
   {
    "duration": 6,
    "start_time": "2023-07-10T00:30:22.926Z"
   },
   {
    "duration": 42,
    "start_time": "2023-07-10T00:30:22.933Z"
   },
   {
    "duration": 160,
    "start_time": "2023-07-10T00:30:22.978Z"
   },
   {
    "duration": 247,
    "start_time": "2023-07-10T00:30:23.140Z"
   },
   {
    "duration": 10,
    "start_time": "2023-07-10T00:30:23.389Z"
   },
   {
    "duration": 6,
    "start_time": "2023-07-10T00:30:23.401Z"
   },
   {
    "duration": 355,
    "start_time": "2023-07-10T00:30:23.408Z"
   },
   {
    "duration": 891,
    "start_time": "2023-07-10T00:30:23.767Z"
   },
   {
    "duration": 768,
    "start_time": "2023-07-10T00:30:24.666Z"
   },
   {
    "duration": 434,
    "start_time": "2023-07-10T00:30:25.437Z"
   },
   {
    "duration": 1502,
    "start_time": "2023-07-10T00:30:25.873Z"
   },
   {
    "duration": 1794,
    "start_time": "2023-07-10T00:30:27.377Z"
   },
   {
    "duration": 95,
    "start_time": "2023-07-10T00:30:29.173Z"
   },
   {
    "duration": 106,
    "start_time": "2023-07-10T00:30:29.270Z"
   },
   {
    "duration": 8,
    "start_time": "2023-07-10T00:30:29.378Z"
   },
   {
    "duration": 35,
    "start_time": "2023-07-10T00:30:29.388Z"
   },
   {
    "duration": 7,
    "start_time": "2023-07-10T00:30:29.424Z"
   },
   {
    "duration": 15,
    "start_time": "2023-07-10T00:30:29.433Z"
   },
   {
    "duration": 13,
    "start_time": "2023-07-10T00:30:29.450Z"
   },
   {
    "duration": 15,
    "start_time": "2023-07-10T00:30:29.466Z"
   },
   {
    "duration": 7,
    "start_time": "2023-07-10T00:30:29.485Z"
   },
   {
    "duration": 7,
    "start_time": "2023-07-10T00:30:29.493Z"
   },
   {
    "duration": 9,
    "start_time": "2023-07-10T00:30:29.501Z"
   },
   {
    "duration": 5312,
    "start_time": "2023-07-10T00:30:29.512Z"
   },
   {
    "duration": 4,
    "start_time": "2023-07-10T00:30:34.826Z"
   },
   {
    "duration": 58451,
    "start_time": "2023-07-10T00:30:34.832Z"
   },
   {
    "duration": 3,
    "start_time": "2023-07-10T00:31:33.285Z"
   },
   {
    "duration": 30424,
    "start_time": "2023-07-10T00:31:33.290Z"
   },
   {
    "duration": 3,
    "start_time": "2023-07-10T00:32:03.716Z"
   },
   {
    "duration": 16764,
    "start_time": "2023-07-10T00:32:03.720Z"
   },
   {
    "duration": 331,
    "start_time": "2023-07-10T00:32:20.486Z"
   },
   {
    "duration": 6,
    "start_time": "2023-07-10T00:32:20.819Z"
   },
   {
    "duration": 2,
    "start_time": "2023-07-10T00:34:53.490Z"
   },
   {
    "duration": 13126,
    "start_time": "2023-07-10T00:34:55.804Z"
   },
   {
    "duration": 3,
    "start_time": "2023-07-10T00:35:14.882Z"
   },
   {
    "duration": 174292,
    "start_time": "2023-07-10T00:35:16.765Z"
   },
   {
    "duration": 268,
    "start_time": "2023-07-10T00:38:53.991Z"
   },
   {
    "duration": 6,
    "start_time": "2023-07-10T00:39:02.167Z"
   },
   {
    "duration": 1409,
    "start_time": "2023-07-10T00:39:21.280Z"
   },
   {
    "duration": 53,
    "start_time": "2023-07-10T00:39:22.692Z"
   },
   {
    "duration": 10,
    "start_time": "2023-07-10T00:39:22.747Z"
   },
   {
    "duration": 10,
    "start_time": "2023-07-10T00:39:22.758Z"
   },
   {
    "duration": 13,
    "start_time": "2023-07-10T00:39:22.769Z"
   },
   {
    "duration": 12,
    "start_time": "2023-07-10T00:39:22.784Z"
   },
   {
    "duration": 12,
    "start_time": "2023-07-10T00:39:22.798Z"
   },
   {
    "duration": 8,
    "start_time": "2023-07-10T00:39:22.811Z"
   },
   {
    "duration": 18,
    "start_time": "2023-07-10T00:39:22.820Z"
   },
   {
    "duration": 155,
    "start_time": "2023-07-10T00:39:22.840Z"
   },
   {
    "duration": 236,
    "start_time": "2023-07-10T00:39:22.997Z"
   },
   {
    "duration": 10,
    "start_time": "2023-07-10T00:39:23.235Z"
   },
   {
    "duration": 5,
    "start_time": "2023-07-10T00:39:23.247Z"
   },
   {
    "duration": 343,
    "start_time": "2023-07-10T00:39:23.266Z"
   },
   {
    "duration": 875,
    "start_time": "2023-07-10T00:39:23.611Z"
   },
   {
    "duration": 791,
    "start_time": "2023-07-10T00:39:24.488Z"
   },
   {
    "duration": 458,
    "start_time": "2023-07-10T00:39:25.280Z"
   },
   {
    "duration": 1436,
    "start_time": "2023-07-10T00:39:25.739Z"
   },
   {
    "duration": 1799,
    "start_time": "2023-07-10T00:39:27.176Z"
   },
   {
    "duration": 91,
    "start_time": "2023-07-10T00:39:28.977Z"
   },
   {
    "duration": 100,
    "start_time": "2023-07-10T00:39:29.070Z"
   },
   {
    "duration": 4,
    "start_time": "2023-07-10T00:39:29.171Z"
   },
   {
    "duration": 13,
    "start_time": "2023-07-10T00:39:29.177Z"
   },
   {
    "duration": 5,
    "start_time": "2023-07-10T00:39:29.192Z"
   },
   {
    "duration": 12,
    "start_time": "2023-07-10T00:39:29.198Z"
   },
   {
    "duration": 10,
    "start_time": "2023-07-10T00:39:29.212Z"
   },
   {
    "duration": 9,
    "start_time": "2023-07-10T00:39:29.223Z"
   },
   {
    "duration": 6,
    "start_time": "2023-07-10T00:39:29.266Z"
   },
   {
    "duration": 4,
    "start_time": "2023-07-10T00:39:29.274Z"
   },
   {
    "duration": 7,
    "start_time": "2023-07-10T00:39:29.280Z"
   },
   {
    "duration": 5285,
    "start_time": "2023-07-10T00:39:29.288Z"
   },
   {
    "duration": 4,
    "start_time": "2023-07-10T00:39:34.574Z"
   },
   {
    "duration": 58579,
    "start_time": "2023-07-10T00:39:34.580Z"
   },
   {
    "duration": 3,
    "start_time": "2023-07-10T00:40:33.166Z"
   },
   {
    "duration": 30913,
    "start_time": "2023-07-10T00:40:33.171Z"
   },
   {
    "duration": 3,
    "start_time": "2023-07-10T00:41:04.085Z"
   },
   {
    "duration": 17140,
    "start_time": "2023-07-10T00:41:04.090Z"
   },
   {
    "duration": 272,
    "start_time": "2023-07-10T00:41:21.232Z"
   },
   {
    "duration": 5,
    "start_time": "2023-07-10T00:41:21.506Z"
   },
   {
    "duration": 311,
    "start_time": "2023-07-10T00:42:26.759Z"
   },
   {
    "duration": 5,
    "start_time": "2023-07-10T00:42:30.889Z"
   }
  ],
  "kernelspec": {
   "display_name": "Python 3 (ipykernel)",
   "language": "python",
   "name": "python3"
  },
  "language_info": {
   "codemirror_mode": {
    "name": "ipython",
    "version": 3
   },
   "file_extension": ".py",
   "mimetype": "text/x-python",
   "name": "python",
   "nbconvert_exporter": "python",
   "pygments_lexer": "ipython3",
   "version": "3.12.4"
  },
  "toc": {
   "base_numbering": 1,
   "nav_menu": {},
   "number_sections": true,
   "sideBar": true,
   "skip_h1_title": true,
   "title_cell": "Содержание",
   "title_sidebar": "Contents",
   "toc_cell": true,
   "toc_position": {
    "height": "calc(100% - 180px)",
    "left": "10px",
    "top": "150px",
    "width": "165px"
   },
   "toc_section_display": true,
   "toc_window_display": true
  }
 },
 "nbformat": 4,
 "nbformat_minor": 4
}
