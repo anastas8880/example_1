{
 "cells": [
  {
   "cell_type": "markdown",
   "metadata": {},
   "source": [
    "# **Защита персональных данных клиентов**"
   ]
  },
  {
   "cell_type": "markdown",
   "metadata": {},
   "source": [
    "Заказчиком поставлена задача защитить данные клиентов страховой компании «Хоть потоп». Необходимо разработать такой метод преобразования данных, чтобы по ним было сложно восстановить персональную информацию. Было поставлено условие, чтобы при преобразовании качество моделей машинного обучения не ухудшилось."
   ]
  },
  {
   "cell_type": "markdown",
   "metadata": {},
   "source": [
    "# Цель проекта"
   ]
  },
  {
   "cell_type": "markdown",
   "metadata": {},
   "source": [
    "**Главной задачей** данного проекта стал поиск способа защиты данных клиентов страховой компании «Хоть потоп» путем преобразования данных без ухудшения качества модели."
   ]
  },
  {
   "cell_type": "markdown",
   "metadata": {},
   "source": [
    "# Предоставленные заказчиком данные"
   ]
  },
  {
   "cell_type": "markdown",
   "metadata": {},
   "source": [
    "Для анализа заказчик предоставил 1 датасет с исходными данными, котрые содержат слебующие признаки:  \n",
    "- Пол (gender) \n",
    "- Возраст (age) \n",
    "- Зарплата (salary) - зарплата застрахованного  \n",
    "- Члены семьи (family) - количество членов его семьи  \n",
    "И целeвой признак:\n",
    "- Страховые выплаты (payments) - количество страховых выплат клиенту за последние 5 лет"
   ]
  },
  {
   "cell_type": "markdown",
   "metadata": {},
   "source": [
    "## Исследование предоставленных данных"
   ]
  },
  {
   "cell_type": "markdown",
   "metadata": {},
   "source": [
    "Для начала следует импотретировать необходимые для дальнейшей работы библиотеки.  "
   ]
  },
  {
   "cell_type": "code",
   "execution_count": 2,
   "metadata": {},
   "outputs": [],
   "source": [
    "import numpy as np\n",
    "import os\n",
    "import pandas as pd\n",
    "import matplotlib.pyplot as plt\n",
    "\n",
    "from sklearn.metrics import mean_squared_error, r2_score"
   ]
  },
  {
   "cell_type": "markdown",
   "metadata": {},
   "source": [
    "Далее я открою файл с данными для дальнейшего изучения."
   ]
  },
  {
   "cell_type": "code",
   "execution_count": 3,
   "metadata": {},
   "outputs": [],
   "source": [
    "way_1 = '/Users/anastasiaklubkova/Downloads/insurance.csv'\n",
    "way_2 = '/datasets/insurance.csv'"
   ]
  },
  {
   "cell_type": "code",
   "execution_count": 4,
   "metadata": {},
   "outputs": [
    {
     "name": "stdout",
     "output_type": "stream",
     "text": [
      "Открыто локально\n"
     ]
    }
   ],
   "source": [
    "if os.path.exists(way_1):\n",
    "    data = pd.read_csv(way_1)\n",
    "    print('Открыто локально')\n",
    "elif os.path.exists(way_2):\n",
    "    data = pd.read_csv(way_2)\n",
    "    print('Открыто через ЯП')\n",
    "else:\n",
    "    print('Что-то пошло не так')"
   ]
  },
  {
   "cell_type": "code",
   "execution_count": 3,
   "metadata": {},
   "outputs": [
    {
     "data": {
      "text/html": [
       "<div>\n",
       "<style scoped>\n",
       "    .dataframe tbody tr th:only-of-type {\n",
       "        vertical-align: middle;\n",
       "    }\n",
       "\n",
       "    .dataframe tbody tr th {\n",
       "        vertical-align: top;\n",
       "    }\n",
       "\n",
       "    .dataframe thead th {\n",
       "        text-align: right;\n",
       "    }\n",
       "</style>\n",
       "<table border=\"1\" class=\"dataframe\">\n",
       "  <thead>\n",
       "    <tr style=\"text-align: right;\">\n",
       "      <th></th>\n",
       "      <th>Пол</th>\n",
       "      <th>Возраст</th>\n",
       "      <th>Зарплата</th>\n",
       "      <th>Члены семьи</th>\n",
       "      <th>Страховые выплаты</th>\n",
       "    </tr>\n",
       "  </thead>\n",
       "  <tbody>\n",
       "    <tr>\n",
       "      <th>0</th>\n",
       "      <td>1</td>\n",
       "      <td>41.0</td>\n",
       "      <td>49600.0</td>\n",
       "      <td>1</td>\n",
       "      <td>0</td>\n",
       "    </tr>\n",
       "    <tr>\n",
       "      <th>1</th>\n",
       "      <td>0</td>\n",
       "      <td>46.0</td>\n",
       "      <td>38000.0</td>\n",
       "      <td>1</td>\n",
       "      <td>1</td>\n",
       "    </tr>\n",
       "    <tr>\n",
       "      <th>2</th>\n",
       "      <td>0</td>\n",
       "      <td>29.0</td>\n",
       "      <td>21000.0</td>\n",
       "      <td>0</td>\n",
       "      <td>0</td>\n",
       "    </tr>\n",
       "    <tr>\n",
       "      <th>3</th>\n",
       "      <td>0</td>\n",
       "      <td>21.0</td>\n",
       "      <td>41700.0</td>\n",
       "      <td>2</td>\n",
       "      <td>0</td>\n",
       "    </tr>\n",
       "    <tr>\n",
       "      <th>4</th>\n",
       "      <td>1</td>\n",
       "      <td>28.0</td>\n",
       "      <td>26100.0</td>\n",
       "      <td>0</td>\n",
       "      <td>0</td>\n",
       "    </tr>\n",
       "  </tbody>\n",
       "</table>\n",
       "</div>"
      ],
      "text/plain": [
       "   Пол  Возраст  Зарплата  Члены семьи  Страховые выплаты\n",
       "0    1     41.0   49600.0            1                  0\n",
       "1    0     46.0   38000.0            1                  1\n",
       "2    0     29.0   21000.0            0                  0\n",
       "3    0     21.0   41700.0            2                  0\n",
       "4    1     28.0   26100.0            0                  0"
      ]
     },
     "execution_count": 3,
     "metadata": {},
     "output_type": "execute_result"
    }
   ],
   "source": [
    "data.head()"
   ]
  },
  {
   "cell_type": "markdown",
   "metadata": {},
   "source": [
    "Сперва стоит поменять названия колонок согласно правилам PEP8"
   ]
  },
  {
   "cell_type": "code",
   "execution_count": 4,
   "metadata": {},
   "outputs": [
    {
     "data": {
      "text/plain": [
       "Index(['gender', 'age', 'salary', 'family', 'payments'], dtype='object')"
      ]
     },
     "execution_count": 4,
     "metadata": {},
     "output_type": "execute_result"
    }
   ],
   "source": [
    "data.columns = ['gender', 'age', 'salary', 'family', 'payments']\n",
    "data.columns"
   ]
  },
  {
   "cell_type": "code",
   "execution_count": 5,
   "metadata": {},
   "outputs": [
    {
     "data": {
      "text/plain": [
       "153"
      ]
     },
     "execution_count": 5,
     "metadata": {},
     "output_type": "execute_result"
    }
   ],
   "source": [
    "data.duplicated().sum()"
   ]
  },
  {
   "cell_type": "markdown",
   "metadata": {},
   "source": [
    "Во время предобработки данных были обнаружены дибликаты, поэтому следует от них избавиться."
   ]
  },
  {
   "cell_type": "code",
   "execution_count": 6,
   "metadata": {},
   "outputs": [
    {
     "data": {
      "text/plain": [
       "(4847, 5)"
      ]
     },
     "execution_count": 6,
     "metadata": {},
     "output_type": "execute_result"
    }
   ],
   "source": [
    "data = data.drop_duplicates()\n",
    "data.shape"
   ]
  },
  {
   "cell_type": "markdown",
   "metadata": {},
   "source": [
    "Также следует провести описательный анализ и визуализацию исходных данных."
   ]
  },
  {
   "cell_type": "code",
   "execution_count": 12,
   "metadata": {},
   "outputs": [
    {
     "data": {
      "text/plain": [
       "count    4847.000000\n",
       "mean       31.023932\n",
       "std         8.487995\n",
       "min        18.000000\n",
       "25%        24.000000\n",
       "50%        30.000000\n",
       "75%        37.000000\n",
       "max        65.000000\n",
       "Name: age, dtype: float64"
      ]
     },
     "execution_count": 12,
     "metadata": {},
     "output_type": "execute_result"
    }
   ],
   "source": [
    "data['age'].describe()"
   ]
  },
  {
   "cell_type": "code",
   "execution_count": 8,
   "metadata": {},
   "outputs": [
    {
     "data": {
      "text/plain": [
       "count     4847.000000\n",
       "mean     39895.811842\n",
       "std       9972.953985\n",
       "min       5300.000000\n",
       "25%      33200.000000\n",
       "50%      40200.000000\n",
       "75%      46600.000000\n",
       "max      79000.000000\n",
       "Name: salary, dtype: float64"
      ]
     },
     "execution_count": 8,
     "metadata": {},
     "output_type": "execute_result"
    }
   ],
   "source": [
    "data['salary'].describe()"
   ]
  },
  {
   "cell_type": "code",
   "execution_count": 22,
   "metadata": {},
   "outputs": [
    {
     "data": {
      "text/plain": [
       "<AxesSubplot:>"
      ]
     },
     "execution_count": 22,
     "metadata": {},
     "output_type": "execute_result"
    },
    {
     "data": {
      "image/png": "[encoded data removed]",
      "text/plain": [
       "<Figure size 432x288 with 1 Axes>"
      ]
     },
     "metadata": {
      "needs_background": "light"
     },
     "output_type": "display_data"
    }
   ],
   "source": [
    "data['age'].hist(bins=50)"
   ]
  },
  {
   "cell_type": "code",
   "execution_count": 19,
   "metadata": {},
   "outputs": [
    {
     "data": {
      "text/plain": [
       "<AxesSubplot:>"
      ]
     },
     "execution_count": 19,
     "metadata": {},
     "output_type": "execute_result"
    },
    {
     "data": {
      "image/png": "[encoded data removed]",
      "text/plain": [
       "<Figure size 432x288 with 1 Axes>"
      ]
     },
     "metadata": {
      "needs_background": "light"
     },
     "output_type": "display_data"
    }
   ],
   "source": [
    "data['salary'].hist(bins=50)"
   ]
  },
  {
   "cell_type": "code",
   "execution_count": 70,
   "metadata": {},
   "outputs": [
    {
     "name": "stdout",
     "output_type": "stream",
     "text": [
      "0    0.501547\n",
      "1    0.498453\n",
      "Name: gender, dtype: float64\n"
     ]
    },
    {
     "data": {
      "text/plain": [
       "<AxesSubplot:ylabel='gender'>"
      ]
     },
     "execution_count": 70,
     "metadata": {},
     "output_type": "execute_result"
    },
    {
     "data": {
      "image/png": "[encoded data removed]",
      "text/plain": [
       "<Figure size 720x720 with 1 Axes>"
      ]
     },
     "metadata": {},
     "output_type": "display_data"
    }
   ],
   "source": [
    "class_frequency = data['gender'].value_counts(normalize= True)\n",
    "print(class_frequency)\n",
    "class_frequency.plot(kind='pie', figsize = (10, 10))"
   ]
  },
  {
   "cell_type": "code",
   "execution_count": 69,
   "metadata": {},
   "outputs": [
    {
     "name": "stdout",
     "output_type": "stream",
     "text": [
      "1    0.360635\n",
      "0    0.301424\n",
      "2    0.214153\n",
      "3    0.090159\n",
      "4    0.025583\n",
      "5    0.006602\n",
      "6    0.001444\n",
      "Name: family, dtype: float64\n"
     ]
    },
    {
     "data": {
      "text/plain": [
       "<AxesSubplot:ylabel='family'>"
      ]
     },
     "execution_count": 69,
     "metadata": {},
     "output_type": "execute_result"
    },
    {
     "data": {
      "image/png": "[encoded data removed]",
      "text/plain": [
       "<Figure size 720x720 with 1 Axes>"
      ]
     },
     "metadata": {},
     "output_type": "display_data"
    }
   ],
   "source": [
    "class_frequency = data['family'].value_counts(normalize= True)\n",
    "print(class_frequency)\n",
    "class_frequency.plot(kind='pie', figsize = (10, 10))"
   ]
  },
  {
   "cell_type": "code",
   "execution_count": 79,
   "metadata": {},
   "outputs": [
    {
     "name": "stdout",
     "output_type": "stream",
     "text": [
      "0    0.883846\n",
      "1    0.087270\n",
      "2    0.023520\n",
      "3    0.003714\n",
      "4    0.001444\n",
      "5    0.000206\n",
      "Name: payments, dtype: float64\n"
     ]
    },
    {
     "data": {
      "text/plain": [
       "<AxesSubplot:ylabel='payments'>"
      ]
     },
     "execution_count": 79,
     "metadata": {},
     "output_type": "execute_result"
    },
    {
     "data": {
      "image/png": "[encoded data removed]",
      "text/plain": [
       "<Figure size 720x720 with 1 Axes>"
      ]
     },
     "metadata": {},
     "output_type": "display_data"
    }
   ],
   "source": [
    "class_frequency = data['payments'].value_counts(normalize= True)\n",
    "print(class_frequency)\n",
    "explode = (0.1, 0, 0.15, 0.1, 0.5, 0.3)\n",
    "class_frequency.plot(kind='pie', figsize = (10, 10), explode=explode)"
   ]
  },
  {
   "cell_type": "markdown",
   "metadata": {},
   "source": [
    "**Выводы:**\n",
    "На основе проведенного первичного анализа данных можно сделать вывод о следующем:  \n",
    "- в данных отсутсвуют пропуски  \n",
    "- присутствовали дубликаты (устранено)\n",
    "- распределение возраста клиентов смещен слево к более младшему (до 30ти)  \n",
    "- распределение зарабатной платы клиентов распределено нормально\n",
    "- отсутствует дисбаланс по полу клиентов\n",
    "- чаще всего у клиентов до 4 членов семьи\n",
    "- в исходных данных приобладает категория клиентов без истории страховых выплат"
   ]
  },
  {
   "cell_type": "markdown",
   "metadata": {},
   "source": [
    "## Умножение матриц"
   ]
  },
  {
   "cell_type": "markdown",
   "metadata": {},
   "source": [
    "**Обозначения:**\n",
    "\n",
    "- $X$ — матрица признаков (нулевой столбец состоит из единиц)\n",
    "\n",
    "- $y$ — вектор целевого признака\n",
    "\n",
    "- $P$ — матрица, на которую умножаются признаки\n",
    "\n",
    "- $w$ — вектор весов линейной регрессии (нулевой элемент равен сдвигу)  \n",
    "\n",
    "- $n$ - количество строк в матрице признаков  \n",
    "\n",
    "- $m$ - количество столбцов в матрице признаков   \n",
    "\n",
    "- $T$ - обозначение транспонирования матрицы\n",
    "\n",
    "- $P$ - обратимая матрица"
   ]
  },
  {
   "cell_type": "markdown",
   "metadata": {},
   "source": [
    "**Предсказания:**\n",
    "\n",
    "$$\n",
    "a = Xw\n",
    "$$\n",
    "\n",
    "**Задача обучения:**\n",
    "\n",
    "$$\n",
    "w = \\arg\\min_w MSE(Xw, y)\n",
    "$$\n",
    "\n",
    "**Формула обучения:**\n",
    "\n",
    "$$\n",
    "w = (X^T X)^{-1} X^T y\n",
    "$$"
   ]
  },
  {
   "cell_type": "markdown",
   "metadata": {},
   "source": [
    "**Ответ:** показатель метрики качества модели линейной регрессии не изменится, поскольку параметры исходной модели и преобразованной не изменятся путем умножения признаков на обратимую матрицу."
   ]
  },
  {
   "cell_type": "markdown",
   "metadata": {},
   "source": [
    "**Обоснование:** Следует рассмотреть доказательство данного ответа путем пошагового преобразования формул обучения исходной модели и преобразованной."
   ]
  },
  {
   "cell_type": "markdown",
   "metadata": {},
   "source": [
    "**Шаг 1.**  \n",
    "Согласно первому условию, \"Признаки умножают...\". Из этого следует, что умножение матрицы признаков X, которая имеет размерность n строк на m столбцов, и обратимой матрицы P, которая имеет размерность m строк на k столбцов, имеет следующий вид поскольку только при равенстве количества ширины первой матрицы и высоты второй возможно матричное умножение: "
   ]
  },
  {
   "cell_type": "markdown",
   "metadata": {},
   "source": [
    "$$ (n*m)@(m*k)$$"
   ]
  },
  {
   "cell_type": "markdown",
   "metadata": {},
   "source": [
    "Согласно второму условию, \"... на обратимую матрицу\". Из этого следует, что данная матрица является квадратной. Поскольку известно, что ширина матрицы P равна m, как и высота матрицы X, а также, что матрица P является квадратичной, то логично утверждение, что произведение матриц X и P имеет следующий вид:"
   ]
  },
  {
   "cell_type": "markdown",
   "metadata": {},
   "source": [
    "$$(n*m)@(m*m)$$"
   ]
  },
  {
   "cell_type": "markdown",
   "metadata": {},
   "source": [
    "Далее в доказательстве в качестве изображения умножения матриц X и P будет использоваться данное произведение высот и широт матриц."
   ]
  },
  {
   "cell_type": "markdown",
   "metadata": {},
   "source": [
    "**Шаг 2.** \n",
    "В данном шаге я докажу, что умножение признаков на обратимую матрицу не повлияет на результат обучения модели линейной регрессии путем математического доказательства о равенстве формул с умножением признака и без него."
   ]
  },
  {
   "cell_type": "markdown",
   "metadata": {},
   "source": [
    "$$\n",
    "a = Xw = XEw = XPP^{-1}w = (XP)P^{-1}w = (XP)w'\n",
    "$$\n",
    "\n",
    "$$\n",
    "w' = ((XP)^T XP)^{-1} (XP)^T y\n",
    "$$\n",
    "$$\n",
    "w' = (XP)^{-1} ((XP)^T)^{-1} (XP)^T  y\n",
    "$$\n",
    "$$\n",
    "w' = (XP)^{-1} E  y\n",
    "$$\n",
    "$$\n",
    "w' = (XP)^{-1}  y\n",
    "$$"
   ]
  },
  {
   "cell_type": "markdown",
   "metadata": {},
   "source": [
    "Таким образом, ни параметры модели, ни размерность модели не влияют на конечный вид формулы обучения, а значит параметры модели линейной регрессии в исходной модели и в преобразованной моделях соотносимы и не повлияют на метрику качества модели. "
   ]
  },
  {
   "cell_type": "markdown",
   "metadata": {},
   "source": [
    "$$\n",
    "a = Xw = XEw = XPP^{-1}w = (XP)P^{-1}w = (XP)w'\n",
    "$$\n",
    "\n",
    "$$\n",
    "w' = ((XP)^T XP)^{-1} (XP)^T y\n",
    "$$\n",
    "$$\n",
    "w' = (P^T (X^T X) P)^{-1} (XP)^T y\n",
    "$$\n",
    "$$\n",
    ".....\n",
    "$$"
   ]
  },
  {
   "cell_type": "markdown",
   "metadata": {},
   "source": [
    "$$\n",
    "a = Xw = XEw = XPP^{-1}w = (XP)P^{-1}w = (XP)w'\n",
    "$$\n",
    "\n",
    "$$\n",
    "w' = ((XP)^T XP)^{-1} (XP)^T y\n",
    "$$\n",
    "$$\n",
    "w' = (P^T (X^T X) P)^{-1} (XP)^T y\n",
    "$$\n",
    "$$\n",
    "w' = (P^T (X^T X) P)^{-1} P^T X^T y\n",
    "$$\n",
    "$$\n",
    "w' = P^{-1} (X^T X)^{-1} (P^T)^{-1} P^T X^T y\n",
    "$$\n",
    "$$\n",
    "w' = P^{-1} (X^T X)^{-1} E X^T y\n",
    "$$\n",
    "$$\n",
    "w' = P^{-1} (X^T X)^{-1} X^T y\n",
    "$$"
   ]
  },
  {
   "cell_type": "markdown",
   "metadata": {},
   "source": [
    "## Алгоритм преобразования"
   ]
  },
  {
   "cell_type": "markdown",
   "metadata": {},
   "source": [
    "**Алгоритм:**\n",
    "1. Определить размер квадратной обратимой матрицы\n",
    "2. Сгенерировать рандомную обратимую матрицу с нормальным распределением\n",
    "3. Далее следует убедиться, что она в действительности обратима\n",
    "4. Совершить матричное умножение признаков на обратимую матрицу\n",
    "5. Обучить модель на исходных признаках и на преобразованных\n",
    "6. Сравнить прогнозы двух моделей\n",
    "7. Сравнить метрики качества"
   ]
  },
  {
   "cell_type": "markdown",
   "metadata": {},
   "source": [
    "**Обоснование:**\n",
    "1. Как было определено ранее, ширина матрицы X равна по условию умножения высоте матрицы P, а следовательно стороны матрицы P равны ширине матрицы X\n",
    "2. Генерация нормально распределенной обратимой матрицы методом np.random.normal для повышения вероятности обратимости матрицы, ка было доказано ранее, это не повляиет на метрику качества\n",
    "3. Проверка обратимости методом np.linalg.det\n",
    "4. Как было доказано ранее, данное действие не повляиет на качество модели (реализуется посредством умножения X на P знаком @)"
   ]
  },
  {
   "cell_type": "markdown",
   "metadata": {},
   "source": [
    "## Проверка алгоритма"
   ]
  },
  {
   "cell_type": "markdown",
   "metadata": {},
   "source": [
    "Проверка алгоритма на исходных признаках."
   ]
  },
  {
   "cell_type": "code",
   "execution_count": 84,
   "metadata": {},
   "outputs": [],
   "source": [
    "features = data.drop('payments', axis=1)\n",
    "target = data['payments']"
   ]
  },
  {
   "cell_type": "code",
   "execution_count": 85,
   "metadata": {},
   "outputs": [
    {
     "name": "stdout",
     "output_type": "stream",
     "text": [
      "0.4302010044852068\n"
     ]
    }
   ],
   "source": [
    "class LinearRegression:\n",
    "    def fit(self, train_features, train_target):\n",
    "        X = np.concatenate((np.ones((train_features.shape[0], 1)), train_features), axis=1)\n",
    "        y = train_target\n",
    "        w = np.linalg.inv(X.T.dot(X)).dot(X.T).dot(y)\n",
    "        self.w = w[1:]\n",
    "        self.w0 = w[0]\n",
    "\n",
    "    def predict(self, test_features):\n",
    "        return test_features.dot(self.w) + self.w0\n",
    "    \n",
    "model = LinearRegression()\n",
    "model.fit(features, target)\n",
    "predictions = model.predict(features)\n",
    "print(r2_score(target, predictions))"
   ]
  },
  {
   "cell_type": "markdown",
   "metadata": {},
   "source": [
    "Проверка алгоритма на преобразованных признаках."
   ]
  },
  {
   "cell_type": "markdown",
   "metadata": {},
   "source": [
    "Сперва следует создать новую матрицу по числу признаков - 4 на 4"
   ]
  },
  {
   "cell_type": "code",
   "execution_count": 90,
   "metadata": {},
   "outputs": [
    {
     "name": "stdout",
     "output_type": "stream",
     "text": [
      "[[ 0.49671415 -0.1382643   0.64768854  1.52302986]\n",
      " [-0.23415337 -0.23413696  1.57921282  0.76743473]\n",
      " [-0.46947439  0.54256004 -0.46341769 -0.46572975]\n",
      " [ 0.24196227 -1.91328024 -1.72491783 -0.56228753]]\n"
     ]
    }
   ],
   "source": [
    "np.random.seed(42)\n",
    "P = np.random.normal(size=(4, 4))\n",
    "print(P)"
   ]
  },
  {
   "cell_type": "code",
   "execution_count": 99,
   "metadata": {},
   "outputs": [],
   "source": [
    "new_features = features@P"
   ]
  },
  {
   "cell_type": "code",
   "execution_count": 102,
   "metadata": {},
   "outputs": [
    {
     "name": "stdout",
     "output_type": "stream",
     "text": [
      "0.4302010044852028\n"
     ]
    }
   ],
   "source": [
    "class LinearRegression:\n",
    "    def fit(self, train_features, train_target):\n",
    "        X = np.concatenate((np.ones((train_features.shape[0], 1)), train_features), axis=1)\n",
    "        y = train_target\n",
    "        w = np.linalg.inv(X.T.dot(X)).dot(X.T).dot(y)\n",
    "        self.w = w[1:]\n",
    "        self.w0 = w[0]\n",
    "\n",
    "    def predict(self, test_features):\n",
    "        return test_features.dot(self.w) + self.w0\n",
    "    \n",
    "model = LinearRegression()\n",
    "model.fit(new_features, target)\n",
    "predictions = model.predict(new_features)\n",
    "print(r2_score(target, predictions))"
   ]
  }
 ],
 "metadata": {
  "ExecuteTimeLog": [
   {
    "duration": 381,
    "start_time": "2023-06-16T15:36:23.552Z"
   },
   {
    "duration": 98,
    "start_time": "2023-06-16T15:37:10.802Z"
   },
   {
    "duration": 91,
    "start_time": "2023-06-16T15:37:48.528Z"
   },
   {
    "duration": 35,
    "start_time": "2023-06-16T15:37:56.552Z"
   },
   {
    "duration": 15,
    "start_time": "2023-06-16T15:42:39.603Z"
   },
   {
    "duration": 6,
    "start_time": "2023-06-16T15:53:52.590Z"
   },
   {
    "duration": 11,
    "start_time": "2023-06-16T15:54:28.372Z"
   },
   {
    "duration": 13,
    "start_time": "2023-06-16T15:55:06.069Z"
   },
   {
    "duration": 5,
    "start_time": "2023-06-16T16:06:02.242Z"
   },
   {
    "duration": 6,
    "start_time": "2023-06-16T16:06:06.503Z"
   },
   {
    "duration": 13,
    "start_time": "2023-06-16T16:06:11.343Z"
   },
   {
    "duration": 5,
    "start_time": "2023-06-16T16:06:25.259Z"
   },
   {
    "duration": 10,
    "start_time": "2023-06-16T16:06:33.505Z"
   },
   {
    "duration": 9,
    "start_time": "2023-06-16T16:06:39.468Z"
   },
   {
    "duration": 7,
    "start_time": "2023-06-16T16:06:46.702Z"
   },
   {
    "duration": 74,
    "start_time": "2023-06-16T16:07:40.037Z"
   },
   {
    "duration": 96,
    "start_time": "2023-06-16T19:56:15.747Z"
   },
   {
    "duration": 16,
    "start_time": "2023-06-16T21:20:10.409Z"
   },
   {
    "duration": 786,
    "start_time": "2023-06-16T21:45:59.540Z"
   },
   {
    "duration": 8,
    "start_time": "2023-06-16T21:46:04.471Z"
   },
   {
    "duration": 4,
    "start_time": "2023-06-16T21:47:27.219Z"
   },
   {
    "duration": 9,
    "start_time": "2023-06-16T21:47:31.912Z"
   },
   {
    "duration": 4,
    "start_time": "2023-06-16T21:48:49.277Z"
   },
   {
    "duration": 9,
    "start_time": "2023-06-16T21:51:12.941Z"
   },
   {
    "duration": 3,
    "start_time": "2023-06-16T21:53:47.333Z"
   },
   {
    "duration": 4,
    "start_time": "2023-06-16T21:57:38.934Z"
   },
   {
    "duration": 42,
    "start_time": "2023-06-16T22:24:14.018Z"
   },
   {
    "duration": 60,
    "start_time": "2023-06-16T22:24:34.760Z"
   },
   {
    "duration": 13,
    "start_time": "2023-06-16T22:27:24.987Z"
   },
   {
    "duration": 9,
    "start_time": "2023-06-16T22:27:33.806Z"
   },
   {
    "duration": 8,
    "start_time": "2023-06-16T22:28:39.159Z"
   },
   {
    "duration": 11,
    "start_time": "2023-06-16T22:46:30.970Z"
   },
   {
    "duration": 8,
    "start_time": "2023-06-16T22:46:33.394Z"
   },
   {
    "duration": 8,
    "start_time": "2023-06-16T22:47:03.619Z"
   },
   {
    "duration": 10,
    "start_time": "2023-06-16T22:47:08.422Z"
   },
   {
    "duration": 11,
    "start_time": "2023-06-16T22:48:24.149Z"
   },
   {
    "duration": 14,
    "start_time": "2023-06-16T22:49:08.222Z"
   },
   {
    "duration": 9,
    "start_time": "2023-06-16T22:49:11.226Z"
   },
   {
    "duration": 2,
    "start_time": "2023-06-16T22:53:13.840Z"
   },
   {
    "duration": 2,
    "start_time": "2023-06-16T22:54:43.526Z"
   },
   {
    "duration": 2337,
    "start_time": "2023-06-17T05:24:08.424Z"
   },
   {
    "duration": 81,
    "start_time": "2023-06-17T05:24:10.764Z"
   },
   {
    "duration": 18,
    "start_time": "2023-06-17T05:24:31.593Z"
   },
   {
    "duration": 6,
    "start_time": "2023-06-17T05:24:32.339Z"
   },
   {
    "duration": 7,
    "start_time": "2023-06-17T05:24:32.527Z"
   },
   {
    "duration": 7,
    "start_time": "2023-06-17T05:24:33.239Z"
   },
   {
    "duration": 3,
    "start_time": "2023-06-17T05:30:49.558Z"
   },
   {
    "duration": 31,
    "start_time": "2023-06-17T05:30:50.119Z"
   },
   {
    "duration": 16,
    "start_time": "2023-06-17T05:31:03.910Z"
   },
   {
    "duration": 109,
    "start_time": "2023-06-17T05:31:41.950Z"
   },
   {
    "duration": 9,
    "start_time": "2023-06-17T05:34:58.468Z"
   },
   {
    "duration": 5,
    "start_time": "2023-06-17T05:35:06.605Z"
   },
   {
    "duration": 79,
    "start_time": "2023-06-17T05:37:57.362Z"
   },
   {
    "duration": 19,
    "start_time": "2023-06-17T05:38:31.551Z"
   },
   {
    "duration": 29,
    "start_time": "2023-06-17T05:38:43.120Z"
   },
   {
    "duration": 1204,
    "start_time": "2023-06-20T21:05:22.317Z"
   },
   {
    "duration": 109,
    "start_time": "2023-06-20T21:05:26.280Z"
   },
   {
    "duration": 35,
    "start_time": "2023-06-20T21:05:30.396Z"
   },
   {
    "duration": 5,
    "start_time": "2023-06-20T21:05:34.400Z"
   },
   {
    "duration": 11,
    "start_time": "2023-06-20T21:05:37.595Z"
   },
   {
    "duration": 9,
    "start_time": "2023-06-20T21:05:44.882Z"
   },
   {
    "duration": 19,
    "start_time": "2023-06-20T21:07:19.249Z"
   },
   {
    "duration": 11,
    "start_time": "2023-06-20T21:07:57.824Z"
   },
   {
    "duration": 24,
    "start_time": "2023-06-20T21:08:20.124Z"
   },
   {
    "duration": 3793,
    "start_time": "2023-06-20T21:09:14.073Z"
   },
   {
    "duration": 2398,
    "start_time": "2023-06-20T21:09:24.709Z"
   },
   {
    "duration": 11,
    "start_time": "2023-06-20T21:09:31.676Z"
   },
   {
    "duration": 657,
    "start_time": "2023-06-20T21:11:22.968Z"
   },
   {
    "duration": 153,
    "start_time": "2023-06-20T21:11:32.547Z"
   },
   {
    "duration": 168,
    "start_time": "2023-06-20T21:11:42.806Z"
   },
   {
    "duration": 165,
    "start_time": "2023-06-20T21:11:52.735Z"
   },
   {
    "duration": 162,
    "start_time": "2023-06-20T21:11:57.734Z"
   },
   {
    "duration": 240,
    "start_time": "2023-06-20T21:13:28.941Z"
   },
   {
    "duration": 323,
    "start_time": "2023-06-20T21:13:56.607Z"
   },
   {
    "duration": 259,
    "start_time": "2023-06-20T21:14:18.539Z"
   },
   {
    "duration": 344,
    "start_time": "2023-06-20T21:14:27.249Z"
   },
   {
    "duration": 234,
    "start_time": "2023-06-20T21:14:53.866Z"
   },
   {
    "duration": 163,
    "start_time": "2023-06-20T21:17:13.212Z"
   },
   {
    "duration": 151,
    "start_time": "2023-06-20T21:17:17.992Z"
   },
   {
    "duration": 14,
    "start_time": "2023-06-20T21:18:05.900Z"
   },
   {
    "duration": 11,
    "start_time": "2023-06-20T21:18:26.017Z"
   },
   {
    "duration": 12,
    "start_time": "2023-06-20T21:19:50.998Z"
   },
   {
    "duration": 11,
    "start_time": "2023-06-20T21:19:56.128Z"
   },
   {
    "duration": 12,
    "start_time": "2023-06-20T21:20:46.497Z"
   },
   {
    "duration": 28,
    "start_time": "2023-06-20T21:21:05.210Z"
   },
   {
    "duration": 4,
    "start_time": "2023-06-20T21:21:19.118Z"
   },
   {
    "duration": 11,
    "start_time": "2023-06-20T21:21:26.691Z"
   },
   {
    "duration": 15,
    "start_time": "2023-06-20T21:22:45.121Z"
   },
   {
    "duration": 9,
    "start_time": "2023-06-20T21:23:57.391Z"
   },
   {
    "duration": 67,
    "start_time": "2023-06-20T21:26:02.773Z"
   },
   {
    "duration": 3,
    "start_time": "2023-06-20T21:26:22.312Z"
   },
   {
    "duration": 7,
    "start_time": "2023-06-20T21:27:47.710Z"
   },
   {
    "duration": 10,
    "start_time": "2023-06-20T21:27:52.933Z"
   },
   {
    "duration": 8,
    "start_time": "2023-06-20T21:28:15.277Z"
   },
   {
    "duration": 11,
    "start_time": "2023-06-20T21:28:18.149Z"
   },
   {
    "duration": 113,
    "start_time": "2023-06-20T21:30:08.919Z"
   },
   {
    "duration": 86,
    "start_time": "2023-06-20T21:30:19.029Z"
   },
   {
    "duration": 133,
    "start_time": "2023-06-20T21:31:15.297Z"
   },
   {
    "duration": 17,
    "start_time": "2023-06-20T21:31:36.866Z"
   },
   {
    "duration": 87,
    "start_time": "2023-06-20T21:32:55.664Z"
   },
   {
    "duration": 13,
    "start_time": "2023-06-20T21:33:07.918Z"
   },
   {
    "duration": 22,
    "start_time": "2023-06-20T21:33:20.441Z"
   },
   {
    "duration": 125,
    "start_time": "2023-06-20T21:33:35.653Z"
   },
   {
    "duration": 251,
    "start_time": "2023-06-20T21:36:14.829Z"
   },
   {
    "duration": 108,
    "start_time": "2023-06-20T21:36:39.681Z"
   },
   {
    "duration": 135,
    "start_time": "2023-06-20T21:37:02.314Z"
   },
   {
    "duration": 136,
    "start_time": "2023-06-20T21:37:38.142Z"
   },
   {
    "duration": 115,
    "start_time": "2023-06-20T21:37:51.369Z"
   },
   {
    "duration": 110,
    "start_time": "2023-06-20T21:38:34.166Z"
   },
   {
    "duration": 4,
    "start_time": "2023-06-20T21:38:44.570Z"
   },
   {
    "duration": 139,
    "start_time": "2023-06-20T21:38:53.233Z"
   },
   {
    "duration": 119,
    "start_time": "2023-06-20T21:39:41.074Z"
   },
   {
    "duration": 111,
    "start_time": "2023-06-20T21:39:58.017Z"
   },
   {
    "duration": 1417,
    "start_time": "2023-06-20T21:42:13.300Z"
   },
   {
    "duration": 90,
    "start_time": "2023-06-20T21:49:52.101Z"
   },
   {
    "duration": 418,
    "start_time": "2023-06-20T21:50:08.403Z"
   },
   {
    "duration": 285,
    "start_time": "2023-06-20T21:50:20.519Z"
   },
   {
    "duration": 146,
    "start_time": "2023-06-20T21:50:53.217Z"
   },
   {
    "duration": 253,
    "start_time": "2023-06-20T21:51:06.290Z"
   },
   {
    "duration": 10,
    "start_time": "2023-06-20T21:51:34.830Z"
   },
   {
    "duration": 74,
    "start_time": "2023-06-20T21:51:47.775Z"
   },
   {
    "duration": 131,
    "start_time": "2023-06-20T21:52:59.270Z"
   },
   {
    "duration": 199,
    "start_time": "2023-06-20T21:53:29.371Z"
   },
   {
    "duration": 133,
    "start_time": "2023-06-20T21:53:40.036Z"
   },
   {
    "duration": 106,
    "start_time": "2023-06-20T21:53:56.881Z"
   },
   {
    "duration": 164,
    "start_time": "2023-06-20T21:54:19.232Z"
   },
   {
    "duration": 161,
    "start_time": "2023-06-20T21:55:13.773Z"
   },
   {
    "duration": 191,
    "start_time": "2023-06-20T21:55:20.100Z"
   },
   {
    "duration": 14,
    "start_time": "2023-06-20T21:55:51.913Z"
   },
   {
    "duration": 304,
    "start_time": "2023-06-20T21:56:17.470Z"
   },
   {
    "duration": 146,
    "start_time": "2023-06-20T21:56:41.742Z"
   },
   {
    "duration": 157,
    "start_time": "2023-06-20T21:57:03.140Z"
   },
   {
    "duration": 185,
    "start_time": "2023-06-20T21:57:10.478Z"
   },
   {
    "duration": 164,
    "start_time": "2023-06-20T21:57:22.926Z"
   },
   {
    "duration": 2,
    "start_time": "2023-06-20T22:06:05.212Z"
   },
   {
    "duration": 2,
    "start_time": "2023-06-20T22:55:11.225Z"
   },
   {
    "duration": 13,
    "start_time": "2023-06-20T22:55:22.950Z"
   },
   {
    "duration": 4,
    "start_time": "2023-06-20T23:24:57.068Z"
   },
   {
    "duration": 10,
    "start_time": "2023-06-20T23:25:02.247Z"
   },
   {
    "duration": 12,
    "start_time": "2023-06-20T23:25:04.374Z"
   },
   {
    "duration": 24,
    "start_time": "2023-06-20T23:27:11.293Z"
   },
   {
    "duration": 22,
    "start_time": "2023-06-20T23:27:17.891Z"
   },
   {
    "duration": 232,
    "start_time": "2023-06-20T23:27:25.407Z"
   },
   {
    "duration": 4,
    "start_time": "2023-06-20T23:28:30.345Z"
   },
   {
    "duration": 4,
    "start_time": "2023-06-20T23:28:38.512Z"
   },
   {
    "duration": 24,
    "start_time": "2023-06-20T23:29:10.282Z"
   },
   {
    "duration": 27,
    "start_time": "2023-06-20T23:29:56.618Z"
   },
   {
    "duration": 127,
    "start_time": "2023-06-20T23:35:49.780Z"
   },
   {
    "duration": 186,
    "start_time": "2023-06-20T23:36:42.231Z"
   },
   {
    "duration": 57,
    "start_time": "2023-06-20T23:37:08.832Z"
   },
   {
    "duration": 17,
    "start_time": "2023-06-20T23:37:56.737Z"
   },
   {
    "duration": 14,
    "start_time": "2023-06-20T23:38:40.572Z"
   },
   {
    "duration": 12,
    "start_time": "2023-06-20T23:38:51.099Z"
   },
   {
    "duration": 4,
    "start_time": "2023-06-20T23:41:17.335Z"
   },
   {
    "duration": 21,
    "start_time": "2023-06-20T23:42:27.090Z"
   },
   {
    "duration": 20,
    "start_time": "2023-06-20T23:42:41.778Z"
   },
   {
    "duration": 40,
    "start_time": "2023-06-20T23:43:42.670Z"
   },
   {
    "duration": 3,
    "start_time": "2023-06-20T23:44:20.932Z"
   },
   {
    "duration": 2,
    "start_time": "2023-06-20T23:44:26.444Z"
   },
   {
    "duration": 3,
    "start_time": "2023-06-20T23:44:42.201Z"
   },
   {
    "duration": 4,
    "start_time": "2023-06-21T11:18:51.476Z"
   }
  ],
  "kernelspec": {
   "display_name": "Python 3 (ipykernel)",
   "language": "python",
   "name": "python3"
  },
  "language_info": {
   "codemirror_mode": {
    "name": "ipython",
    "version": 3
   },
   "file_extension": ".py",
   "mimetype": "text/x-python",
   "name": "python",
   "nbconvert_exporter": "python",
   "pygments_lexer": "ipython3",
   "version": "3.12.7"
  },
  "toc": {
   "base_numbering": 1,
   "nav_menu": {},
   "number_sections": true,
   "sideBar": true,
   "skip_h1_title": true,
   "title_cell": "Содержание",
   "title_sidebar": "Contents",
   "toc_cell": true,
   "toc_position": {
    "height": "calc(100% - 180px)",
    "left": "10px",
    "top": "150px",
    "width": "220px"
   },
   "toc_section_display": true,
   "toc_window_display": true
  }
 },
 "nbformat": 4,
 "nbformat_minor": 4
}
