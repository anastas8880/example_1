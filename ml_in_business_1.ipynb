{
 "cells": [
  {
   "cell_type": "markdown",
   "metadata": {
    "toc": true
   },
   "source": [
    "<h1>Содержание<span class=\"tocSkip\"></span></h1>\n",
    "<div class=\"toc\"><ul class=\"toc-item\"><li><span><a href=\"#Подготовка-данных\" data-toc-modified-id=\"Подготовка-данных-1\"><span class=\"toc-item-num\">1&nbsp;&nbsp;</span>Подготовка данных</a></span><ul class=\"toc-item\"><li><span><a href=\"#Импорт-библиотек\" data-toc-modified-id=\"Импорт-библиотек-1.1\"><span class=\"toc-item-num\">1.1&nbsp;&nbsp;</span>Импорт библиотек</a></span></li><li><span><a href=\"#Работа-с-обучающей-выборкой\" data-toc-modified-id=\"Работа-с-обучающей-выборкой-1.2\"><span class=\"toc-item-num\">1.2&nbsp;&nbsp;</span>Работа с обучающей выборкой</a></span></li><li><span><a href=\"#Работа-с-тестовой-выборкой\" data-toc-modified-id=\"Работа-с-тестовой-выборкой-1.3\"><span class=\"toc-item-num\">1.3&nbsp;&nbsp;</span>Работа с тестовой выборкой</a></span></li><li><span><a href=\"#Работа-с-исходными-данными\" data-toc-modified-id=\"Работа-с-исходными-данными-1.4\"><span class=\"toc-item-num\">1.4&nbsp;&nbsp;</span>Работа с исходными данными</a></span></li><li><span><a href=\"#Проверка-правильности-формулы-эффективности-обогащения\" data-toc-modified-id=\"Проверка-правильности-формулы-эффективности-обогащения-1.5\"><span class=\"toc-item-num\">1.5&nbsp;&nbsp;</span>Проверка правильности формулы эффективности обогащения</a></span></li><li><span><a href=\"#Поиск-отсутствующих-признаков-в-тестовой-выборке\" data-toc-modified-id=\"Поиск-отсутствующих-признаков-в-тестовой-выборке-1.6\"><span class=\"toc-item-num\">1.6&nbsp;&nbsp;</span>Поиск отсутствующих признаков в тестовой выборке</a></span></li><li><span><a href=\"#Целевые-и-обычные-признаки-для-двух-моделей\" data-toc-modified-id=\"Целевые-и-обычные-признаки-для-двух-моделей-1.7\"><span class=\"toc-item-num\">1.7&nbsp;&nbsp;</span>Целевые и обычные признаки для двух моделей</a></span></li></ul></li><li><span><a href=\"#Анализ-данных\" data-toc-modified-id=\"Анализ-данных-2\"><span class=\"toc-item-num\">2&nbsp;&nbsp;</span>Анализ данных</a></span><ul class=\"toc-item\"><li><span><a href=\"#Исследование-изменения-концентрации-металлов\" data-toc-modified-id=\"Исследование-изменения-концентрации-металлов-2.1\"><span class=\"toc-item-num\">2.1&nbsp;&nbsp;</span>Исследование изменения концентрации металлов</a></span></li><li><span><a href=\"#Исследование-распределения-размера-гранул-на-обучающей-и-тестовой-выборках\" data-toc-modified-id=\"Исследование-распределения-размера-гранул-на-обучающей-и-тестовой-выборках-2.2\"><span class=\"toc-item-num\">2.2&nbsp;&nbsp;</span>Исследование распределения размера гранул на обучающей и тестовой выборках</a></span></li><li><span><a href=\"#Исследование-суммарной-концентрации-металлов-на-разных-стадиях-обработки\" data-toc-modified-id=\"Исследование-суммарной-концентрации-металлов-на-разных-стадиях-обработки-2.3\"><span class=\"toc-item-num\">2.3&nbsp;&nbsp;</span>Исследование суммарной концентрации металлов на разных стадиях обработки</a></span></li></ul></li><li><span><a href=\"#Модель\" data-toc-modified-id=\"Модель-3\"><span class=\"toc-item-num\">3&nbsp;&nbsp;</span>Модель</a></span><ul class=\"toc-item\"><li><span><a href=\"#Функция-расчета-sMAPE\" data-toc-modified-id=\"Функция-расчета-sMAPE-3.1\"><span class=\"toc-item-num\">3.1&nbsp;&nbsp;</span>Функция расчета sMAPE</a></span></li><li><span><a href=\"#для-предсказания-'rougher.output.recovery'\" data-toc-modified-id=\"для-предсказания-'rougher.output.recovery'-3.2\"><span class=\"toc-item-num\">3.2&nbsp;&nbsp;</span>для предсказания 'rougher.output.recovery'</a></span><ul class=\"toc-item\"><li><span><a href=\"#DecisionTreeRegressor\" data-toc-modified-id=\"DecisionTreeRegressor-3.2.1\"><span class=\"toc-item-num\">3.2.1&nbsp;&nbsp;</span>DecisionTreeRegressor</a></span></li><li><span><a href=\"#RandomForestRegressor\" data-toc-modified-id=\"RandomForestRegressor-3.2.2\"><span class=\"toc-item-num\">3.2.2&nbsp;&nbsp;</span>RandomForestRegressor</a></span></li><li><span><a href=\"#LinearRegression\" data-toc-modified-id=\"LinearRegression-3.2.3\"><span class=\"toc-item-num\">3.2.3&nbsp;&nbsp;</span>LinearRegression</a></span></li></ul></li><li><span><a href=\"#для-предсказания-'rougher.final.recovery'\" data-toc-modified-id=\"для-предсказания-'rougher.final.recovery'-3.3\"><span class=\"toc-item-num\">3.3&nbsp;&nbsp;</span>для предсказания 'rougher.final.recovery'</a></span><ul class=\"toc-item\"><li><span><a href=\"#DecisionTreeRegressor\" data-toc-modified-id=\"DecisionTreeRegressor-3.3.1\"><span class=\"toc-item-num\">3.3.1&nbsp;&nbsp;</span>DecisionTreeRegressor</a></span></li><li><span><a href=\"#RandomForestRegressor\" data-toc-modified-id=\"RandomForestRegressor-3.3.2\"><span class=\"toc-item-num\">3.3.2&nbsp;&nbsp;</span>RandomForestRegressor</a></span></li><li><span><a href=\"#LinearRegression\" data-toc-modified-id=\"LinearRegression-3.3.3\"><span class=\"toc-item-num\">3.3.3&nbsp;&nbsp;</span>LinearRegression</a></span></li></ul></li><li><span><a href=\"#Проверка-на-тестовой-выборке\" data-toc-modified-id=\"Проверка-на-тестовой-выборке-3.4\"><span class=\"toc-item-num\">3.4&nbsp;&nbsp;</span>Проверка на тестовой выборке</a></span></li></ul></li><li><span>"
   ]
  },
  {
   "cell_type": "markdown",
   "metadata": {},
   "source": [
    "# **Восстановление золота из руды**"
   ]
  },
  {
   "cell_type": "markdown",
   "metadata": {},
   "source": [
    "Подготовьте прототип модели машинного обучения для «Цифры». Компания разрабатывает решения для эффективной работы промышленных предприятий.\n",
    "\n",
    "Модель должна предсказать коэффициент восстановления золота из золотосодержащей руды. Используйте данные с параметрами добычи и очистки. \n",
    "\n",
    "Модель поможет оптимизировать производство, чтобы не запускать предприятие с убыточными характеристиками.\n",
    "\n",
    "Вам нужно:\n",
    "\n",
    "1. Подготовить данные;\n",
    "2. Провести исследовательский анализ данных;\n",
    "3. Построить и обучить модель.\n",
    "\n",
    "Чтобы выполнить проект, обращайтесь к библиотекам *pandas*, *matplotlib* и *sklearn.* Вам поможет их документация."
   ]
  },
  {
   "cell_type": "markdown",
   "metadata": {},
   "source": [
    "# Гипотезы исследования и исследовательские вопросы"
   ]
  },
  {
   "cell_type": "markdown",
   "metadata": {},
   "source": [
    "Главной **задачей** данного проекта стало построение модели машинного обучения для компании «Цифра», занимающейся разработкой решений для эффективной работы промышленных предприятий, для прогноза коэффициента восстановления золота из золотосодержащей руды, на основе данных технологического производства. Модель поможет оптимизировать производство, чтобы не запускать предприятие с убыточными характеристиками."
   ]
  },
  {
   "cell_type": "markdown",
   "metadata": {},
   "source": [
    "Для анализа заказчик предоставил 3 датасета - исходные данные, данные для обучающей выборки и данные для тестовой выборки. В данных присутствуют признаки разных технологических этапов. Они обозначены следующим образом: **этап.тип_параметра.название_параметра**"
   ]
  },
  {
   "cell_type": "markdown",
   "metadata": {},
   "source": [
    "**Технологический процесс**  \n",
    "- Rougher feed — исходное сырье  \n",
    "- Rougher additions (или reagent additions) — флотационные реагенты: Xanthate, Sulphate, Depressant  \n",
    "- Xanthate — ксантогенат (промотер, или активатор флотации)  \n",
    "- Sulphate — сульфат (на данном производстве сульфид натрия)  \n",
    "- Depressant — депрессант (силикат натрия)  \n",
    "- Rougher process (англ. «грубый процесс») — флотация  \n",
    "- Rougher tails — отвальные хвосты\n",
    "- Float banks — флотационная установка\n",
    "- Cleaner process — очистка\n",
    "- Rougher Au — черновой концентрат золота\n",
    "- Final Au — финальный концентрат золота  \n",
    "\n",
    "Параметры этапов\n",
    "- air amount — объём воздуха\n",
    "- fluid levels — уровень жидкости\n",
    "- feed size — размер гранул сырья\n",
    "- feed rate — скорость подачи\n",
    "\n",
    "Возможные значения для блока [этап]:\n",
    "- rougher — флотация\n",
    "- primary_cleaner — первичная очистка\n",
    "- secondary_cleaner — вторичная очистка\n",
    "- final — финальные характеристики \n",
    "\n",
    "Возможные значения для блока [тип_параметра]:\n",
    "- input — параметры сырья\n",
    "- output — параметры продукта\n",
    "- state — параметры, характеризующие текущее состояние этапа\n",
    "- calculation — расчётные характеристики"
   ]
  },
  {
   "cell_type": "markdown",
   "metadata": {},
   "source": [
    "Для выполнения проекта будет реализовываться следующий план:  \n",
    "1. Подготовка данных  \n",
    "- открыть файлы и изучить их  \n",
    "- проанализировать дубли  \n",
    "- проанализировать и изменить типы данных  \n",
    "- отфильтровать колонки по последовательности технологического процесса  \n",
    "- проанализировать пропуски  \n",
    "- определить релевантные для построения модели признаки   \n",
    "- проанализировать артефакты релевантных признаков  \n",
    "- изучить недостающие признаки в тестовой выборке  \n",
    "- добавить их по индексу из исходных данных  \n",
    "- проверить, что эффективность обогащения рассчитана правильно (найти MAE между новыми расчётами и значением признака)  \n",
    "2. Анализ данных  \n",
    "- изучить, как меняется концентрация металлов (Au, Ag, Pb) на разных этапах очистки \n",
    "- сравнить распределения размеров гранул сырья на обучающей и тестовой выборках  \n",
    "- исследовать суммарную концентрацию всех веществ на разных стадиях: в сырье, в черновом и финальном концентратах\n",
    "3. Построение и обучение модели  \n",
    "- написать функцию для вычисления итоговой sMAPE  \n",
    "- обучить разные модели  \n",
    "- оценить их качество кросс-валидацией   \n",
    "- выбрать лучшую модель и проверьте её на тестовой выборке  "
   ]
  },
  {
   "cell_type": "markdown",
   "metadata": {},
   "source": [
    "## Подготовка данных"
   ]
  },
  {
   "cell_type": "markdown",
   "metadata": {},
   "source": [
    "Для начала следует импотретировать необходимые для дальнейшей работы библиотеки.  "
   ]
  },
  {
   "cell_type": "code",
   "execution_count": 1,
   "metadata": {},
   "outputs": [],
   "source": [
    "import pandas as pd\n",
    "import seaborn as sns\n",
    "import matplotlib.pyplot as plt\n",
    "import numpy as np\n",
    "import os\n",
    "\n",
    "from sklearn. metrics import mean_absolute_error as mae\n",
    "from sklearn.metrics import make_scorer\n",
    "from sklearn.model_selection import cross_val_score\n",
    "from sklearn.preprocessing import StandardScaler\n",
    "\n",
    "from sklearn.tree import DecisionTreeRegressor\n",
    "from sklearn.ensemble import RandomForestRegressor\n",
    "from sklearn.linear_model import LinearRegression\n",
    "from sklearn.dummy import DummyRegressor"
   ]
  },
  {
   "cell_type": "markdown",
   "metadata": {},
   "source": [
    "### Работа с обучающей выборкой"
   ]
  },
  {
   "cell_type": "markdown",
   "metadata": {},
   "source": [
    "Далее следует рассмотреть каждый датасет на предмет особенностей - место появления пропусков, дубликаты, артефакты. "
   ]
  },
  {
   "cell_type": "code",
   "execution_count": 2,
   "metadata": {},
   "outputs": [],
   "source": [
    "way_1 = '/Users/anastasiaklubkova/Downloads/gold_recovery_train_new.csv'\n",
    "way_2 = '/datasets/gold_recovery_train_new.csv'"
   ]
  },
  {
   "cell_type": "code",
   "execution_count": 3,
   "metadata": {},
   "outputs": [
    {
     "name": "stdout",
     "output_type": "stream",
     "text": [
      "Открыто локально\n"
     ]
    }
   ],
   "source": [
    "if os.path.exists(way_1):\n",
    "    data_train = pd.read_csv(way_1)\n",
    "    print('Открыто локально')\n",
    "elif os.path.exists(way_2):\n",
    "    data_train = pd.read_csv(way_2)\n",
    "    print('Открыто через ЯП')\n",
    "else:\n",
    "    print('Что-то пошло не так')"
   ]
  },
  {
   "cell_type": "code",
   "execution_count": 4,
   "metadata": {},
   "outputs": [
    {
     "name": "stdout",
     "output_type": "stream",
     "text": [
      "<class 'pandas.core.frame.DataFrame'>\n",
      "RangeIndex: 14149 entries, 0 to 14148\n",
      "Data columns (total 87 columns):\n",
      " #   Column                                              Non-Null Count  Dtype  \n",
      "---  ------                                              --------------  -----  \n",
      " 0   date                                                14149 non-null  object \n",
      " 1   final.output.concentrate_ag                         14148 non-null  float64\n",
      " 2   final.output.concentrate_pb                         14148 non-null  float64\n",
      " 3   final.output.concentrate_sol                        13938 non-null  float64\n",
      " 4   final.output.concentrate_au                         14149 non-null  float64\n",
      " 5   final.output.recovery                               14149 non-null  float64\n",
      " 6   final.output.tail_ag                                14149 non-null  float64\n",
      " 7   final.output.tail_pb                                14049 non-null  float64\n",
      " 8   final.output.tail_sol                               14144 non-null  float64\n",
      " 9   final.output.tail_au                                14149 non-null  float64\n",
      " 10  primary_cleaner.input.sulfate                       14129 non-null  float64\n",
      " 11  primary_cleaner.input.depressant                    14117 non-null  float64\n",
      " 12  primary_cleaner.input.feed_size                     14149 non-null  float64\n",
      " 13  primary_cleaner.input.xanthate                      14049 non-null  float64\n",
      " 14  primary_cleaner.output.concentrate_ag               14149 non-null  float64\n",
      " 15  primary_cleaner.output.concentrate_pb               14063 non-null  float64\n",
      " 16  primary_cleaner.output.concentrate_sol              13863 non-null  float64\n",
      " 17  primary_cleaner.output.concentrate_au               14149 non-null  float64\n",
      " 18  primary_cleaner.output.tail_ag                      14148 non-null  float64\n",
      " 19  primary_cleaner.output.tail_pb                      14134 non-null  float64\n",
      " 20  primary_cleaner.output.tail_sol                     14103 non-null  float64\n",
      " 21  primary_cleaner.output.tail_au                      14149 non-null  float64\n",
      " 22  primary_cleaner.state.floatbank8_a_air              14145 non-null  float64\n",
      " 23  primary_cleaner.state.floatbank8_a_level            14148 non-null  float64\n",
      " 24  primary_cleaner.state.floatbank8_b_air              14145 non-null  float64\n",
      " 25  primary_cleaner.state.floatbank8_b_level            14148 non-null  float64\n",
      " 26  primary_cleaner.state.floatbank8_c_air              14147 non-null  float64\n",
      " 27  primary_cleaner.state.floatbank8_c_level            14148 non-null  float64\n",
      " 28  primary_cleaner.state.floatbank8_d_air              14146 non-null  float64\n",
      " 29  primary_cleaner.state.floatbank8_d_level            14148 non-null  float64\n",
      " 30  rougher.calculation.sulfate_to_au_concentrate       14148 non-null  float64\n",
      " 31  rougher.calculation.floatbank10_sulfate_to_au_feed  14148 non-null  float64\n",
      " 32  rougher.calculation.floatbank11_sulfate_to_au_feed  14148 non-null  float64\n",
      " 33  rougher.calculation.au_pb_ratio                     14149 non-null  float64\n",
      " 34  rougher.input.feed_ag                               14149 non-null  float64\n",
      " 35  rougher.input.feed_pb                               14049 non-null  float64\n",
      " 36  rougher.input.feed_rate                             14141 non-null  float64\n",
      " 37  rougher.input.feed_size                             14005 non-null  float64\n",
      " 38  rougher.input.feed_sol                              14071 non-null  float64\n",
      " 39  rougher.input.feed_au                               14149 non-null  float64\n",
      " 40  rougher.input.floatbank10_sulfate                   14120 non-null  float64\n",
      " 41  rougher.input.floatbank10_xanthate                  14141 non-null  float64\n",
      " 42  rougher.input.floatbank11_sulfate                   14113 non-null  float64\n",
      " 43  rougher.input.floatbank11_xanthate                  13721 non-null  float64\n",
      " 44  rougher.output.concentrate_ag                       14149 non-null  float64\n",
      " 45  rougher.output.concentrate_pb                       14149 non-null  float64\n",
      " 46  rougher.output.concentrate_sol                      14127 non-null  float64\n",
      " 47  rougher.output.concentrate_au                       14149 non-null  float64\n",
      " 48  rougher.output.recovery                             14149 non-null  float64\n",
      " 49  rougher.output.tail_ag                              14148 non-null  float64\n",
      " 50  rougher.output.tail_pb                              14149 non-null  float64\n",
      " 51  rougher.output.tail_sol                             14149 non-null  float64\n",
      " 52  rougher.output.tail_au                              14149 non-null  float64\n",
      " 53  rougher.state.floatbank10_a_air                     14148 non-null  float64\n",
      " 54  rougher.state.floatbank10_a_level                   14148 non-null  float64\n",
      " 55  rougher.state.floatbank10_b_air                     14148 non-null  float64\n",
      " 56  rougher.state.floatbank10_b_level                   14148 non-null  float64\n",
      " 57  rougher.state.floatbank10_c_air                     14148 non-null  float64\n",
      " 58  rougher.state.floatbank10_c_level                   14148 non-null  float64\n",
      " 59  rougher.state.floatbank10_d_air                     14149 non-null  float64\n",
      " 60  rougher.state.floatbank10_d_level                   14149 non-null  float64\n",
      " 61  rougher.state.floatbank10_e_air                     13713 non-null  float64\n",
      " 62  rougher.state.floatbank10_e_level                   14149 non-null  float64\n",
      " 63  rougher.state.floatbank10_f_air                     14149 non-null  float64\n",
      " 64  rougher.state.floatbank10_f_level                   14149 non-null  float64\n",
      " 65  secondary_cleaner.output.tail_ag                    14147 non-null  float64\n",
      " 66  secondary_cleaner.output.tail_pb                    14139 non-null  float64\n",
      " 67  secondary_cleaner.output.tail_sol                   12544 non-null  float64\n",
      " 68  secondary_cleaner.output.tail_au                    14149 non-null  float64\n",
      " 69  secondary_cleaner.state.floatbank2_a_air            13932 non-null  float64\n",
      " 70  secondary_cleaner.state.floatbank2_a_level          14148 non-null  float64\n",
      " 71  secondary_cleaner.state.floatbank2_b_air            14128 non-null  float64\n",
      " 72  secondary_cleaner.state.floatbank2_b_level          14148 non-null  float64\n",
      " 73  secondary_cleaner.state.floatbank3_a_air            14145 non-null  float64\n",
      " 74  secondary_cleaner.state.floatbank3_a_level          14148 non-null  float64\n",
      " 75  secondary_cleaner.state.floatbank3_b_air            14148 non-null  float64\n",
      " 76  secondary_cleaner.state.floatbank3_b_level          14148 non-null  float64\n",
      " 77  secondary_cleaner.state.floatbank4_a_air            14143 non-null  float64\n",
      " 78  secondary_cleaner.state.floatbank4_a_level          14148 non-null  float64\n",
      " 79  secondary_cleaner.state.floatbank4_b_air            14148 non-null  float64\n",
      " 80  secondary_cleaner.state.floatbank4_b_level          14148 non-null  float64\n",
      " 81  secondary_cleaner.state.floatbank5_a_air            14148 non-null  float64\n",
      " 82  secondary_cleaner.state.floatbank5_a_level          14148 non-null  float64\n",
      " 83  secondary_cleaner.state.floatbank5_b_air            14148 non-null  float64\n",
      " 84  secondary_cleaner.state.floatbank5_b_level          14148 non-null  float64\n",
      " 85  secondary_cleaner.state.floatbank6_a_air            14147 non-null  float64\n",
      " 86  secondary_cleaner.state.floatbank6_a_level          14148 non-null  float64\n",
      "dtypes: float64(86), object(1)\n",
      "memory usage: 9.4+ MB\n"
     ]
    }
   ],
   "source": [
    "data_train.info()"
   ]
  },
  {
   "cell_type": "code",
   "execution_count": 5,
   "metadata": {},
   "outputs": [
    {
     "data": {
      "text/plain": [
       "0    2016-01-15 00:00:00\n",
       "1    2016-01-15 01:00:00\n",
       "2    2016-01-15 02:00:00\n",
       "3    2016-01-15 03:00:00\n",
       "4    2016-01-15 04:00:00\n",
       "5    2016-01-15 05:00:00\n",
       "6    2016-01-15 06:00:00\n",
       "7    2016-01-15 07:00:00\n",
       "8    2016-01-15 08:00:00\n",
       "9    2016-01-15 09:00:00\n",
       "Name: date, dtype: object"
      ]
     },
     "execution_count": 5,
     "metadata": {},
     "output_type": "execute_result"
    }
   ],
   "source": [
    "data_train['date'].head(10)"
   ]
  },
  {
   "cell_type": "markdown",
   "metadata": {},
   "source": [
    "Следует изменить тип данных на datetime"
   ]
  },
  {
   "cell_type": "code",
   "execution_count": 6,
   "metadata": {},
   "outputs": [
    {
     "data": {
      "text/plain": [
       "0   2016-01-15 00:00:00\n",
       "1   2016-01-15 01:00:00\n",
       "2   2016-01-15 02:00:00\n",
       "3   2016-01-15 03:00:00\n",
       "4   2016-01-15 04:00:00\n",
       "Name: date_datetime, dtype: datetime64[ns]"
      ]
     },
     "execution_count": 6,
     "metadata": {},
     "output_type": "execute_result"
    }
   ],
   "source": [
    "data_train['date_datetime'] = pd.to_datetime(\n",
    "    data_train['date'], format='%Y-%m-%d %H:%M:%S')\n",
    "data_train['date_datetime'].head(5)"
   ]
  },
  {
   "cell_type": "code",
   "execution_count": 7,
   "metadata": {},
   "outputs": [
    {
     "data": {
      "text/plain": [
       "0"
      ]
     },
     "execution_count": 7,
     "metadata": {},
     "output_type": "execute_result"
    }
   ],
   "source": [
    "data_train.duplicated().sum()"
   ]
  },
  {
   "cell_type": "markdown",
   "metadata": {},
   "source": [
    "**Вывод:** дублей в датасете не наблюдается"
   ]
  },
  {
   "cell_type": "code",
   "execution_count": 8,
   "metadata": {},
   "outputs": [],
   "source": [
    "data_train_col = data_train.columns"
   ]
  },
  {
   "cell_type": "code",
   "execution_count": 9,
   "metadata": {},
   "outputs": [
    {
     "data": {
      "text/plain": [
       "['date',\n",
       " 'date_datetime',\n",
       " 'rougher.calculation.sulfate_to_au_concentrate',\n",
       " 'rougher.calculation.floatbank10_sulfate_to_au_feed',\n",
       " 'rougher.calculation.floatbank11_sulfate_to_au_feed',\n",
       " 'rougher.calculation.au_pb_ratio',\n",
       " 'rougher.input.feed_ag',\n",
       " 'rougher.input.feed_pb',\n",
       " 'rougher.input.feed_rate',\n",
       " 'rougher.input.feed_size',\n",
       " 'rougher.input.feed_sol',\n",
       " 'rougher.input.feed_au',\n",
       " 'rougher.input.floatbank10_sulfate',\n",
       " 'rougher.input.floatbank10_xanthate',\n",
       " 'rougher.input.floatbank11_sulfate',\n",
       " 'rougher.input.floatbank11_xanthate',\n",
       " 'rougher.output.concentrate_ag',\n",
       " 'rougher.output.concentrate_pb',\n",
       " 'rougher.output.concentrate_sol',\n",
       " 'rougher.output.concentrate_au',\n",
       " 'rougher.output.recovery',\n",
       " 'rougher.output.tail_ag',\n",
       " 'rougher.output.tail_pb',\n",
       " 'rougher.output.tail_sol',\n",
       " 'rougher.output.tail_au',\n",
       " 'rougher.state.floatbank10_a_air',\n",
       " 'rougher.state.floatbank10_a_level',\n",
       " 'rougher.state.floatbank10_b_air',\n",
       " 'rougher.state.floatbank10_b_level',\n",
       " 'rougher.state.floatbank10_c_air',\n",
       " 'rougher.state.floatbank10_c_level',\n",
       " 'rougher.state.floatbank10_d_air',\n",
       " 'rougher.state.floatbank10_d_level',\n",
       " 'rougher.state.floatbank10_e_air',\n",
       " 'rougher.state.floatbank10_e_level',\n",
       " 'rougher.state.floatbank10_f_air',\n",
       " 'rougher.state.floatbank10_f_level',\n",
       " 'primary_cleaner.input.sulfate',\n",
       " 'primary_cleaner.input.depressant',\n",
       " 'primary_cleaner.input.feed_size',\n",
       " 'primary_cleaner.input.xanthate',\n",
       " 'primary_cleaner.output.concentrate_ag',\n",
       " 'primary_cleaner.output.concentrate_pb',\n",
       " 'primary_cleaner.output.concentrate_sol',\n",
       " 'primary_cleaner.output.concentrate_au',\n",
       " 'primary_cleaner.output.tail_ag',\n",
       " 'primary_cleaner.output.tail_pb',\n",
       " 'primary_cleaner.output.tail_sol',\n",
       " 'primary_cleaner.output.tail_au',\n",
       " 'primary_cleaner.state.floatbank8_a_air',\n",
       " 'primary_cleaner.state.floatbank8_a_level',\n",
       " 'primary_cleaner.state.floatbank8_b_air',\n",
       " 'primary_cleaner.state.floatbank8_b_level',\n",
       " 'primary_cleaner.state.floatbank8_c_air',\n",
       " 'primary_cleaner.state.floatbank8_c_level',\n",
       " 'primary_cleaner.state.floatbank8_d_air',\n",
       " 'primary_cleaner.state.floatbank8_d_level',\n",
       " 'secondary_cleaner.output.tail_ag',\n",
       " 'secondary_cleaner.output.tail_pb',\n",
       " 'secondary_cleaner.output.tail_sol',\n",
       " 'secondary_cleaner.output.tail_au',\n",
       " 'secondary_cleaner.state.floatbank2_a_air',\n",
       " 'secondary_cleaner.state.floatbank2_a_level',\n",
       " 'secondary_cleaner.state.floatbank2_b_air',\n",
       " 'secondary_cleaner.state.floatbank2_b_level',\n",
       " 'secondary_cleaner.state.floatbank3_a_air',\n",
       " 'secondary_cleaner.state.floatbank3_a_level',\n",
       " 'secondary_cleaner.state.floatbank3_b_air',\n",
       " 'secondary_cleaner.state.floatbank3_b_level',\n",
       " 'secondary_cleaner.state.floatbank4_a_air',\n",
       " 'secondary_cleaner.state.floatbank4_a_level',\n",
       " 'secondary_cleaner.state.floatbank4_b_air',\n",
       " 'secondary_cleaner.state.floatbank4_b_level',\n",
       " 'secondary_cleaner.state.floatbank5_a_air',\n",
       " 'secondary_cleaner.state.floatbank5_a_level',\n",
       " 'secondary_cleaner.state.floatbank5_b_air',\n",
       " 'secondary_cleaner.state.floatbank5_b_level',\n",
       " 'secondary_cleaner.state.floatbank6_a_air',\n",
       " 'secondary_cleaner.state.floatbank6_a_level',\n",
       " 'final.output.concentrate_ag',\n",
       " 'final.output.concentrate_pb',\n",
       " 'final.output.concentrate_sol',\n",
       " 'final.output.concentrate_au',\n",
       " 'final.output.recovery',\n",
       " 'final.output.tail_ag',\n",
       " 'final.output.tail_pb',\n",
       " 'final.output.tail_sol',\n",
       " 'final.output.tail_au']"
      ]
     },
     "execution_count": 9,
     "metadata": {},
     "output_type": "execute_result"
    }
   ],
   "source": [
    "data_train_col_new = []\n",
    "for a in data_train_col:\n",
    "    if 'date' in a:\n",
    "        data_train_col_new.append(a)\n",
    "for a in data_train_col:\n",
    "    if 'rougher' in a:\n",
    "        data_train_col_new.append(a)\n",
    "for a in data_train_col:\n",
    "    if 'primary_cleaner' in a:\n",
    "        data_train_col_new.append(a)\n",
    "for a in data_train_col:\n",
    "    if 'secondary_cleaner' in a:\n",
    "        data_train_col_new.append(a)\n",
    "for a in data_train_col:\n",
    "    if 'final' in a:\n",
    "        data_train_col_new.append(a)\n",
    "\n",
    "data_train_col_new"
   ]
  },
  {
   "cell_type": "code",
   "execution_count": 10,
   "metadata": {},
   "outputs": [
    {
     "data": {
      "text/plain": [
       "88"
      ]
     },
     "execution_count": 10,
     "metadata": {},
     "output_type": "execute_result"
    }
   ],
   "source": [
    "len(data_train_col_new)"
   ]
  },
  {
   "cell_type": "code",
   "execution_count": 11,
   "metadata": {},
   "outputs": [],
   "source": [
    "data_train_copy = pd.DataFrame(columns = ['a', 'b'])\n",
    "for a in data_train_col_new:\n",
    "    data_train_copy[a] = data_train[a]"
   ]
  },
  {
   "cell_type": "code",
   "execution_count": 12,
   "metadata": {},
   "outputs": [],
   "source": [
    "data_train_copy = data_train_copy.drop(columns = ['a', 'b'])"
   ]
  },
  {
   "cell_type": "code",
   "execution_count": 13,
   "metadata": {},
   "outputs": [
    {
     "data": {
      "text/html": [
       "<div>\n",
       "<style scoped>\n",
       "    .dataframe tbody tr th:only-of-type {\n",
       "        vertical-align: middle;\n",
       "    }\n",
       "\n",
       "    .dataframe tbody tr th {\n",
       "        vertical-align: top;\n",
       "    }\n",
       "\n",
       "    .dataframe thead th {\n",
       "        text-align: right;\n",
       "    }\n",
       "</style>\n",
       "<table border=\"1\" class=\"dataframe\">\n",
       "  <thead>\n",
       "    <tr style=\"text-align: right;\">\n",
       "      <th></th>\n",
       "      <th>date</th>\n",
       "      <th>date_datetime</th>\n",
       "      <th>rougher.calculation.sulfate_to_au_concentrate</th>\n",
       "      <th>rougher.calculation.floatbank10_sulfate_to_au_feed</th>\n",
       "      <th>rougher.calculation.floatbank11_sulfate_to_au_feed</th>\n",
       "      <th>rougher.calculation.au_pb_ratio</th>\n",
       "      <th>rougher.input.feed_ag</th>\n",
       "      <th>rougher.input.feed_pb</th>\n",
       "      <th>rougher.input.feed_rate</th>\n",
       "      <th>rougher.input.feed_size</th>\n",
       "      <th>...</th>\n",
       "      <th>secondary_cleaner.state.floatbank6_a_level</th>\n",
       "      <th>final.output.concentrate_ag</th>\n",
       "      <th>final.output.concentrate_pb</th>\n",
       "      <th>final.output.concentrate_sol</th>\n",
       "      <th>final.output.concentrate_au</th>\n",
       "      <th>final.output.recovery</th>\n",
       "      <th>final.output.tail_ag</th>\n",
       "      <th>final.output.tail_pb</th>\n",
       "      <th>final.output.tail_sol</th>\n",
       "      <th>final.output.tail_au</th>\n",
       "    </tr>\n",
       "  </thead>\n",
       "  <tbody>\n",
       "    <tr>\n",
       "      <th>0</th>\n",
       "      <td>2016-01-15 00:00:00</td>\n",
       "      <td>2016-01-15 00:00:00</td>\n",
       "      <td>41885.707031</td>\n",
       "      <td>3481.779053</td>\n",
       "      <td>3520.337158</td>\n",
       "      <td>2.838687</td>\n",
       "      <td>6.100378</td>\n",
       "      <td>2.284912</td>\n",
       "      <td>523.546326</td>\n",
       "      <td>55.486599</td>\n",
       "      <td>...</td>\n",
       "      <td>-605.841980</td>\n",
       "      <td>6.055403</td>\n",
       "      <td>9.889648</td>\n",
       "      <td>5.507324</td>\n",
       "      <td>42.192020</td>\n",
       "      <td>70.541216</td>\n",
       "      <td>10.411962</td>\n",
       "      <td>0.895447</td>\n",
       "      <td>16.904297</td>\n",
       "      <td>2.143149</td>\n",
       "    </tr>\n",
       "    <tr>\n",
       "      <th>1</th>\n",
       "      <td>2016-01-15 01:00:00</td>\n",
       "      <td>2016-01-15 01:00:00</td>\n",
       "      <td>42050.861809</td>\n",
       "      <td>3498.370979</td>\n",
       "      <td>3489.981857</td>\n",
       "      <td>2.858998</td>\n",
       "      <td>6.161113</td>\n",
       "      <td>2.266033</td>\n",
       "      <td>525.290581</td>\n",
       "      <td>57.278666</td>\n",
       "      <td>...</td>\n",
       "      <td>-599.787184</td>\n",
       "      <td>6.029369</td>\n",
       "      <td>9.968944</td>\n",
       "      <td>5.257781</td>\n",
       "      <td>42.701629</td>\n",
       "      <td>69.266198</td>\n",
       "      <td>10.462676</td>\n",
       "      <td>0.927452</td>\n",
       "      <td>16.634514</td>\n",
       "      <td>2.224930</td>\n",
       "    </tr>\n",
       "    <tr>\n",
       "      <th>2</th>\n",
       "      <td>2016-01-15 02:00:00</td>\n",
       "      <td>2016-01-15 02:00:00</td>\n",
       "      <td>42018.101184</td>\n",
       "      <td>3495.348910</td>\n",
       "      <td>3502.359819</td>\n",
       "      <td>2.945989</td>\n",
       "      <td>6.116455</td>\n",
       "      <td>2.159622</td>\n",
       "      <td>530.026610</td>\n",
       "      <td>57.510649</td>\n",
       "      <td>...</td>\n",
       "      <td>-601.427363</td>\n",
       "      <td>6.055926</td>\n",
       "      <td>10.213995</td>\n",
       "      <td>5.383759</td>\n",
       "      <td>42.657501</td>\n",
       "      <td>68.116445</td>\n",
       "      <td>10.507046</td>\n",
       "      <td>0.953716</td>\n",
       "      <td>16.208849</td>\n",
       "      <td>2.257889</td>\n",
       "    </tr>\n",
       "    <tr>\n",
       "      <th>3</th>\n",
       "      <td>2016-01-15 03:00:00</td>\n",
       "      <td>2016-01-15 03:00:00</td>\n",
       "      <td>42029.447991</td>\n",
       "      <td>3498.578313</td>\n",
       "      <td>3499.162912</td>\n",
       "      <td>3.002340</td>\n",
       "      <td>6.043309</td>\n",
       "      <td>2.037807</td>\n",
       "      <td>542.590390</td>\n",
       "      <td>57.792734</td>\n",
       "      <td>...</td>\n",
       "      <td>-599.996129</td>\n",
       "      <td>6.047977</td>\n",
       "      <td>9.977019</td>\n",
       "      <td>4.858634</td>\n",
       "      <td>42.689819</td>\n",
       "      <td>68.347543</td>\n",
       "      <td>10.422762</td>\n",
       "      <td>0.883763</td>\n",
       "      <td>16.532835</td>\n",
       "      <td>2.146849</td>\n",
       "    </tr>\n",
       "    <tr>\n",
       "      <th>4</th>\n",
       "      <td>2016-01-15 04:00:00</td>\n",
       "      <td>2016-01-15 04:00:00</td>\n",
       "      <td>42125.354245</td>\n",
       "      <td>3494.800771</td>\n",
       "      <td>3506.679315</td>\n",
       "      <td>3.169615</td>\n",
       "      <td>6.060915</td>\n",
       "      <td>1.786875</td>\n",
       "      <td>540.531893</td>\n",
       "      <td>56.047189</td>\n",
       "      <td>...</td>\n",
       "      <td>-601.496691</td>\n",
       "      <td>6.148599</td>\n",
       "      <td>10.142511</td>\n",
       "      <td>4.939416</td>\n",
       "      <td>42.774141</td>\n",
       "      <td>66.927016</td>\n",
       "      <td>10.360302</td>\n",
       "      <td>0.792826</td>\n",
       "      <td>16.525686</td>\n",
       "      <td>2.055292</td>\n",
       "    </tr>\n",
       "  </tbody>\n",
       "</table>\n",
       "<p>5 rows × 88 columns</p>\n",
       "</div>"
      ],
      "text/plain": [
       "                  date       date_datetime  \\\n",
       "0  2016-01-15 00:00:00 2016-01-15 00:00:00   \n",
       "1  2016-01-15 01:00:00 2016-01-15 01:00:00   \n",
       "2  2016-01-15 02:00:00 2016-01-15 02:00:00   \n",
       "3  2016-01-15 03:00:00 2016-01-15 03:00:00   \n",
       "4  2016-01-15 04:00:00 2016-01-15 04:00:00   \n",
       "\n",
       "   rougher.calculation.sulfate_to_au_concentrate  \\\n",
       "0                                   41885.707031   \n",
       "1                                   42050.861809   \n",
       "2                                   42018.101184   \n",
       "3                                   42029.447991   \n",
       "4                                   42125.354245   \n",
       "\n",
       "   rougher.calculation.floatbank10_sulfate_to_au_feed  \\\n",
       "0                                        3481.779053    \n",
       "1                                        3498.370979    \n",
       "2                                        3495.348910    \n",
       "3                                        3498.578313    \n",
       "4                                        3494.800771    \n",
       "\n",
       "   rougher.calculation.floatbank11_sulfate_to_au_feed  \\\n",
       "0                                        3520.337158    \n",
       "1                                        3489.981857    \n",
       "2                                        3502.359819    \n",
       "3                                        3499.162912    \n",
       "4                                        3506.679315    \n",
       "\n",
       "   rougher.calculation.au_pb_ratio  rougher.input.feed_ag  \\\n",
       "0                         2.838687               6.100378   \n",
       "1                         2.858998               6.161113   \n",
       "2                         2.945989               6.116455   \n",
       "3                         3.002340               6.043309   \n",
       "4                         3.169615               6.060915   \n",
       "\n",
       "   rougher.input.feed_pb  rougher.input.feed_rate  rougher.input.feed_size  \\\n",
       "0               2.284912               523.546326                55.486599   \n",
       "1               2.266033               525.290581                57.278666   \n",
       "2               2.159622               530.026610                57.510649   \n",
       "3               2.037807               542.590390                57.792734   \n",
       "4               1.786875               540.531893                56.047189   \n",
       "\n",
       "   ...  secondary_cleaner.state.floatbank6_a_level  \\\n",
       "0  ...                                 -605.841980   \n",
       "1  ...                                 -599.787184   \n",
       "2  ...                                 -601.427363   \n",
       "3  ...                                 -599.996129   \n",
       "4  ...                                 -601.496691   \n",
       "\n",
       "   final.output.concentrate_ag  final.output.concentrate_pb  \\\n",
       "0                     6.055403                     9.889648   \n",
       "1                     6.029369                     9.968944   \n",
       "2                     6.055926                    10.213995   \n",
       "3                     6.047977                     9.977019   \n",
       "4                     6.148599                    10.142511   \n",
       "\n",
       "   final.output.concentrate_sol  final.output.concentrate_au  \\\n",
       "0                      5.507324                    42.192020   \n",
       "1                      5.257781                    42.701629   \n",
       "2                      5.383759                    42.657501   \n",
       "3                      4.858634                    42.689819   \n",
       "4                      4.939416                    42.774141   \n",
       "\n",
       "   final.output.recovery  final.output.tail_ag  final.output.tail_pb  \\\n",
       "0              70.541216             10.411962              0.895447   \n",
       "1              69.266198             10.462676              0.927452   \n",
       "2              68.116445             10.507046              0.953716   \n",
       "3              68.347543             10.422762              0.883763   \n",
       "4              66.927016             10.360302              0.792826   \n",
       "\n",
       "   final.output.tail_sol  final.output.tail_au  \n",
       "0              16.904297              2.143149  \n",
       "1              16.634514              2.224930  \n",
       "2              16.208849              2.257889  \n",
       "3              16.532835              2.146849  \n",
       "4              16.525686              2.055292  \n",
       "\n",
       "[5 rows x 88 columns]"
      ]
     },
     "execution_count": 13,
     "metadata": {},
     "output_type": "execute_result"
    }
   ],
   "source": [
    "data_train_copy.head()"
   ]
  },
  {
   "cell_type": "code",
   "execution_count": 14,
   "metadata": {},
   "outputs": [
    {
     "data": {
      "text/html": [
       "<div>\n",
       "<style scoped>\n",
       "    .dataframe tbody tr th:only-of-type {\n",
       "        vertical-align: middle;\n",
       "    }\n",
       "\n",
       "    .dataframe tbody tr th {\n",
       "        vertical-align: top;\n",
       "    }\n",
       "\n",
       "    .dataframe thead th {\n",
       "        text-align: right;\n",
       "    }\n",
       "</style>\n",
       "<table border=\"1\" class=\"dataframe\">\n",
       "  <thead>\n",
       "    <tr style=\"text-align: right;\">\n",
       "      <th></th>\n",
       "      <th>date</th>\n",
       "      <th>final.output.concentrate_ag</th>\n",
       "      <th>final.output.concentrate_pb</th>\n",
       "      <th>final.output.concentrate_sol</th>\n",
       "      <th>final.output.concentrate_au</th>\n",
       "      <th>final.output.recovery</th>\n",
       "      <th>final.output.tail_ag</th>\n",
       "      <th>final.output.tail_pb</th>\n",
       "      <th>final.output.tail_sol</th>\n",
       "      <th>final.output.tail_au</th>\n",
       "      <th>...</th>\n",
       "      <th>secondary_cleaner.state.floatbank4_a_level</th>\n",
       "      <th>secondary_cleaner.state.floatbank4_b_air</th>\n",
       "      <th>secondary_cleaner.state.floatbank4_b_level</th>\n",
       "      <th>secondary_cleaner.state.floatbank5_a_air</th>\n",
       "      <th>secondary_cleaner.state.floatbank5_a_level</th>\n",
       "      <th>secondary_cleaner.state.floatbank5_b_air</th>\n",
       "      <th>secondary_cleaner.state.floatbank5_b_level</th>\n",
       "      <th>secondary_cleaner.state.floatbank6_a_air</th>\n",
       "      <th>secondary_cleaner.state.floatbank6_a_level</th>\n",
       "      <th>date_datetime</th>\n",
       "    </tr>\n",
       "  </thead>\n",
       "  <tbody>\n",
       "    <tr>\n",
       "      <th>0</th>\n",
       "      <td>2016-01-15 00:00:00</td>\n",
       "      <td>6.055403</td>\n",
       "      <td>9.889648</td>\n",
       "      <td>5.507324</td>\n",
       "      <td>42.192020</td>\n",
       "      <td>70.541216</td>\n",
       "      <td>10.411962</td>\n",
       "      <td>0.895447</td>\n",
       "      <td>16.904297</td>\n",
       "      <td>2.143149</td>\n",
       "      <td>...</td>\n",
       "      <td>-502.488007</td>\n",
       "      <td>12.099931</td>\n",
       "      <td>-504.715942</td>\n",
       "      <td>9.925633</td>\n",
       "      <td>-498.310211</td>\n",
       "      <td>8.079666</td>\n",
       "      <td>-500.470978</td>\n",
       "      <td>14.151341</td>\n",
       "      <td>-605.841980</td>\n",
       "      <td>2016-01-15 00:00:00</td>\n",
       "    </tr>\n",
       "    <tr>\n",
       "      <th>1</th>\n",
       "      <td>2016-01-15 01:00:00</td>\n",
       "      <td>6.029369</td>\n",
       "      <td>9.968944</td>\n",
       "      <td>5.257781</td>\n",
       "      <td>42.701629</td>\n",
       "      <td>69.266198</td>\n",
       "      <td>10.462676</td>\n",
       "      <td>0.927452</td>\n",
       "      <td>16.634514</td>\n",
       "      <td>2.224930</td>\n",
       "      <td>...</td>\n",
       "      <td>-505.503262</td>\n",
       "      <td>11.950531</td>\n",
       "      <td>-501.331529</td>\n",
       "      <td>10.039245</td>\n",
       "      <td>-500.169983</td>\n",
       "      <td>7.984757</td>\n",
       "      <td>-500.582168</td>\n",
       "      <td>13.998353</td>\n",
       "      <td>-599.787184</td>\n",
       "      <td>2016-01-15 01:00:00</td>\n",
       "    </tr>\n",
       "    <tr>\n",
       "      <th>2</th>\n",
       "      <td>2016-01-15 02:00:00</td>\n",
       "      <td>6.055926</td>\n",
       "      <td>10.213995</td>\n",
       "      <td>5.383759</td>\n",
       "      <td>42.657501</td>\n",
       "      <td>68.116445</td>\n",
       "      <td>10.507046</td>\n",
       "      <td>0.953716</td>\n",
       "      <td>16.208849</td>\n",
       "      <td>2.257889</td>\n",
       "      <td>...</td>\n",
       "      <td>-502.520901</td>\n",
       "      <td>11.912783</td>\n",
       "      <td>-501.133383</td>\n",
       "      <td>10.070913</td>\n",
       "      <td>-500.129135</td>\n",
       "      <td>8.013877</td>\n",
       "      <td>-500.517572</td>\n",
       "      <td>14.028663</td>\n",
       "      <td>-601.427363</td>\n",
       "      <td>2016-01-15 02:00:00</td>\n",
       "    </tr>\n",
       "    <tr>\n",
       "      <th>3</th>\n",
       "      <td>2016-01-15 03:00:00</td>\n",
       "      <td>6.047977</td>\n",
       "      <td>9.977019</td>\n",
       "      <td>4.858634</td>\n",
       "      <td>42.689819</td>\n",
       "      <td>68.347543</td>\n",
       "      <td>10.422762</td>\n",
       "      <td>0.883763</td>\n",
       "      <td>16.532835</td>\n",
       "      <td>2.146849</td>\n",
       "      <td>...</td>\n",
       "      <td>-500.857308</td>\n",
       "      <td>11.999550</td>\n",
       "      <td>-501.193686</td>\n",
       "      <td>9.970366</td>\n",
       "      <td>-499.201640</td>\n",
       "      <td>7.977324</td>\n",
       "      <td>-500.255908</td>\n",
       "      <td>14.005551</td>\n",
       "      <td>-599.996129</td>\n",
       "      <td>2016-01-15 03:00:00</td>\n",
       "    </tr>\n",
       "    <tr>\n",
       "      <th>4</th>\n",
       "      <td>2016-01-15 04:00:00</td>\n",
       "      <td>6.148599</td>\n",
       "      <td>10.142511</td>\n",
       "      <td>4.939416</td>\n",
       "      <td>42.774141</td>\n",
       "      <td>66.927016</td>\n",
       "      <td>10.360302</td>\n",
       "      <td>0.792826</td>\n",
       "      <td>16.525686</td>\n",
       "      <td>2.055292</td>\n",
       "      <td>...</td>\n",
       "      <td>-499.838632</td>\n",
       "      <td>11.953070</td>\n",
       "      <td>-501.053894</td>\n",
       "      <td>9.925709</td>\n",
       "      <td>-501.686727</td>\n",
       "      <td>7.894242</td>\n",
       "      <td>-500.356035</td>\n",
       "      <td>13.996647</td>\n",
       "      <td>-601.496691</td>\n",
       "      <td>2016-01-15 04:00:00</td>\n",
       "    </tr>\n",
       "  </tbody>\n",
       "</table>\n",
       "<p>5 rows × 88 columns</p>\n",
       "</div>"
      ],
      "text/plain": [
       "                  date  final.output.concentrate_ag  \\\n",
       "0  2016-01-15 00:00:00                     6.055403   \n",
       "1  2016-01-15 01:00:00                     6.029369   \n",
       "2  2016-01-15 02:00:00                     6.055926   \n",
       "3  2016-01-15 03:00:00                     6.047977   \n",
       "4  2016-01-15 04:00:00                     6.148599   \n",
       "\n",
       "   final.output.concentrate_pb  final.output.concentrate_sol  \\\n",
       "0                     9.889648                      5.507324   \n",
       "1                     9.968944                      5.257781   \n",
       "2                    10.213995                      5.383759   \n",
       "3                     9.977019                      4.858634   \n",
       "4                    10.142511                      4.939416   \n",
       "\n",
       "   final.output.concentrate_au  final.output.recovery  final.output.tail_ag  \\\n",
       "0                    42.192020              70.541216             10.411962   \n",
       "1                    42.701629              69.266198             10.462676   \n",
       "2                    42.657501              68.116445             10.507046   \n",
       "3                    42.689819              68.347543             10.422762   \n",
       "4                    42.774141              66.927016             10.360302   \n",
       "\n",
       "   final.output.tail_pb  final.output.tail_sol  final.output.tail_au  ...  \\\n",
       "0              0.895447              16.904297              2.143149  ...   \n",
       "1              0.927452              16.634514              2.224930  ...   \n",
       "2              0.953716              16.208849              2.257889  ...   \n",
       "3              0.883763              16.532835              2.146849  ...   \n",
       "4              0.792826              16.525686              2.055292  ...   \n",
       "\n",
       "   secondary_cleaner.state.floatbank4_a_level  \\\n",
       "0                                 -502.488007   \n",
       "1                                 -505.503262   \n",
       "2                                 -502.520901   \n",
       "3                                 -500.857308   \n",
       "4                                 -499.838632   \n",
       "\n",
       "   secondary_cleaner.state.floatbank4_b_air  \\\n",
       "0                                 12.099931   \n",
       "1                                 11.950531   \n",
       "2                                 11.912783   \n",
       "3                                 11.999550   \n",
       "4                                 11.953070   \n",
       "\n",
       "   secondary_cleaner.state.floatbank4_b_level  \\\n",
       "0                                 -504.715942   \n",
       "1                                 -501.331529   \n",
       "2                                 -501.133383   \n",
       "3                                 -501.193686   \n",
       "4                                 -501.053894   \n",
       "\n",
       "   secondary_cleaner.state.floatbank5_a_air  \\\n",
       "0                                  9.925633   \n",
       "1                                 10.039245   \n",
       "2                                 10.070913   \n",
       "3                                  9.970366   \n",
       "4                                  9.925709   \n",
       "\n",
       "   secondary_cleaner.state.floatbank5_a_level  \\\n",
       "0                                 -498.310211   \n",
       "1                                 -500.169983   \n",
       "2                                 -500.129135   \n",
       "3                                 -499.201640   \n",
       "4                                 -501.686727   \n",
       "\n",
       "   secondary_cleaner.state.floatbank5_b_air  \\\n",
       "0                                  8.079666   \n",
       "1                                  7.984757   \n",
       "2                                  8.013877   \n",
       "3                                  7.977324   \n",
       "4                                  7.894242   \n",
       "\n",
       "   secondary_cleaner.state.floatbank5_b_level  \\\n",
       "0                                 -500.470978   \n",
       "1                                 -500.582168   \n",
       "2                                 -500.517572   \n",
       "3                                 -500.255908   \n",
       "4                                 -500.356035   \n",
       "\n",
       "   secondary_cleaner.state.floatbank6_a_air  \\\n",
       "0                                 14.151341   \n",
       "1                                 13.998353   \n",
       "2                                 14.028663   \n",
       "3                                 14.005551   \n",
       "4                                 13.996647   \n",
       "\n",
       "   secondary_cleaner.state.floatbank6_a_level       date_datetime  \n",
       "0                                 -605.841980 2016-01-15 00:00:00  \n",
       "1                                 -599.787184 2016-01-15 01:00:00  \n",
       "2                                 -601.427363 2016-01-15 02:00:00  \n",
       "3                                 -599.996129 2016-01-15 03:00:00  \n",
       "4                                 -601.496691 2016-01-15 04:00:00  \n",
       "\n",
       "[5 rows x 88 columns]"
      ]
     },
     "execution_count": 14,
     "metadata": {},
     "output_type": "execute_result"
    }
   ],
   "source": [
    "data_train.head()"
   ]
  },
  {
   "cell_type": "markdown",
   "metadata": {},
   "source": [
    "### Работа с тестовой выборкой"
   ]
  },
  {
   "cell_type": "code",
   "execution_count": 15,
   "metadata": {},
   "outputs": [],
   "source": [
    "way_1 = '/Users/anastasiaklubkova/Downloads/gold_recovery_test_new.csv'\n",
    "way_2 = '/datasets/gold_recovery_test_new.csv'"
   ]
  },
  {
   "cell_type": "code",
   "execution_count": 16,
   "metadata": {},
   "outputs": [
    {
     "name": "stdout",
     "output_type": "stream",
     "text": [
      "Открыто локально\n"
     ]
    }
   ],
   "source": [
    "if os.path.exists(way_1):\n",
    "    data_test = pd.read_csv(way_1)\n",
    "    print('Открыто локально')\n",
    "elif os.path.exists(way_2):\n",
    "    data_test = pd.read_csv(way_2)\n",
    "    print('Открыто через ЯП')\n",
    "else:\n",
    "    print('Что-то пошло не так')"
   ]
  },
  {
   "cell_type": "code",
   "execution_count": 17,
   "metadata": {},
   "outputs": [
    {
     "name": "stdout",
     "output_type": "stream",
     "text": [
      "<class 'pandas.core.frame.DataFrame'>\n",
      "RangeIndex: 5290 entries, 0 to 5289\n",
      "Data columns (total 53 columns):\n",
      " #   Column                                      Non-Null Count  Dtype  \n",
      "---  ------                                      --------------  -----  \n",
      " 0   date                                        5290 non-null   object \n",
      " 1   primary_cleaner.input.sulfate               5286 non-null   float64\n",
      " 2   primary_cleaner.input.depressant            5285 non-null   float64\n",
      " 3   primary_cleaner.input.feed_size             5290 non-null   float64\n",
      " 4   primary_cleaner.input.xanthate              5286 non-null   float64\n",
      " 5   primary_cleaner.state.floatbank8_a_air      5290 non-null   float64\n",
      " 6   primary_cleaner.state.floatbank8_a_level    5290 non-null   float64\n",
      " 7   primary_cleaner.state.floatbank8_b_air      5290 non-null   float64\n",
      " 8   primary_cleaner.state.floatbank8_b_level    5290 non-null   float64\n",
      " 9   primary_cleaner.state.floatbank8_c_air      5290 non-null   float64\n",
      " 10  primary_cleaner.state.floatbank8_c_level    5290 non-null   float64\n",
      " 11  primary_cleaner.state.floatbank8_d_air      5290 non-null   float64\n",
      " 12  primary_cleaner.state.floatbank8_d_level    5290 non-null   float64\n",
      " 13  rougher.input.feed_ag                       5290 non-null   float64\n",
      " 14  rougher.input.feed_pb                       5290 non-null   float64\n",
      " 15  rougher.input.feed_rate                     5287 non-null   float64\n",
      " 16  rougher.input.feed_size                     5289 non-null   float64\n",
      " 17  rougher.input.feed_sol                      5269 non-null   float64\n",
      " 18  rougher.input.feed_au                       5290 non-null   float64\n",
      " 19  rougher.input.floatbank10_sulfate           5285 non-null   float64\n",
      " 20  rougher.input.floatbank10_xanthate          5290 non-null   float64\n",
      " 21  rougher.input.floatbank11_sulfate           5282 non-null   float64\n",
      " 22  rougher.input.floatbank11_xanthate          5265 non-null   float64\n",
      " 23  rougher.state.floatbank10_a_air             5290 non-null   float64\n",
      " 24  rougher.state.floatbank10_a_level           5290 non-null   float64\n",
      " 25  rougher.state.floatbank10_b_air             5290 non-null   float64\n",
      " 26  rougher.state.floatbank10_b_level           5290 non-null   float64\n",
      " 27  rougher.state.floatbank10_c_air             5290 non-null   float64\n",
      " 28  rougher.state.floatbank10_c_level           5290 non-null   float64\n",
      " 29  rougher.state.floatbank10_d_air             5290 non-null   float64\n",
      " 30  rougher.state.floatbank10_d_level           5290 non-null   float64\n",
      " 31  rougher.state.floatbank10_e_air             5290 non-null   float64\n",
      " 32  rougher.state.floatbank10_e_level           5290 non-null   float64\n",
      " 33  rougher.state.floatbank10_f_air             5290 non-null   float64\n",
      " 34  rougher.state.floatbank10_f_level           5290 non-null   float64\n",
      " 35  secondary_cleaner.state.floatbank2_a_air    5287 non-null   float64\n",
      " 36  secondary_cleaner.state.floatbank2_a_level  5290 non-null   float64\n",
      " 37  secondary_cleaner.state.floatbank2_b_air    5288 non-null   float64\n",
      " 38  secondary_cleaner.state.floatbank2_b_level  5290 non-null   float64\n",
      " 39  secondary_cleaner.state.floatbank3_a_air    5281 non-null   float64\n",
      " 40  secondary_cleaner.state.floatbank3_a_level  5290 non-null   float64\n",
      " 41  secondary_cleaner.state.floatbank3_b_air    5290 non-null   float64\n",
      " 42  secondary_cleaner.state.floatbank3_b_level  5290 non-null   float64\n",
      " 43  secondary_cleaner.state.floatbank4_a_air    5290 non-null   float64\n",
      " 44  secondary_cleaner.state.floatbank4_a_level  5290 non-null   float64\n",
      " 45  secondary_cleaner.state.floatbank4_b_air    5290 non-null   float64\n",
      " 46  secondary_cleaner.state.floatbank4_b_level  5290 non-null   float64\n",
      " 47  secondary_cleaner.state.floatbank5_a_air    5290 non-null   float64\n",
      " 48  secondary_cleaner.state.floatbank5_a_level  5290 non-null   float64\n",
      " 49  secondary_cleaner.state.floatbank5_b_air    5290 non-null   float64\n",
      " 50  secondary_cleaner.state.floatbank5_b_level  5290 non-null   float64\n",
      " 51  secondary_cleaner.state.floatbank6_a_air    5290 non-null   float64\n",
      " 52  secondary_cleaner.state.floatbank6_a_level  5290 non-null   float64\n",
      "dtypes: float64(52), object(1)\n",
      "memory usage: 2.1+ MB\n"
     ]
    }
   ],
   "source": [
    "data_test.info()"
   ]
  },
  {
   "cell_type": "code",
   "execution_count": 18,
   "metadata": {},
   "outputs": [
    {
     "data": {
      "text/plain": [
       "0    2016-09-01 00:59:59\n",
       "1    2016-09-01 01:59:59\n",
       "2    2016-09-01 02:59:59\n",
       "3    2016-09-01 03:59:59\n",
       "4    2016-09-01 04:59:59\n",
       "5    2016-09-01 05:59:59\n",
       "6    2016-09-01 06:59:59\n",
       "7    2016-09-01 07:59:59\n",
       "8    2016-09-01 08:59:59\n",
       "9    2016-09-01 09:59:59\n",
       "Name: date, dtype: object"
      ]
     },
     "execution_count": 18,
     "metadata": {},
     "output_type": "execute_result"
    }
   ],
   "source": [
    "data_test['date'].head(10)"
   ]
  },
  {
   "cell_type": "code",
   "execution_count": 19,
   "metadata": {},
   "outputs": [
    {
     "data": {
      "text/plain": [
       "0   2016-09-01 00:59:59\n",
       "1   2016-09-01 01:59:59\n",
       "2   2016-09-01 02:59:59\n",
       "3   2016-09-01 03:59:59\n",
       "4   2016-09-01 04:59:59\n",
       "Name: date_datetime, dtype: datetime64[ns]"
      ]
     },
     "execution_count": 19,
     "metadata": {},
     "output_type": "execute_result"
    }
   ],
   "source": [
    "data_test['date_datetime'] = pd.to_datetime(\n",
    "    data_test['date'], format='%Y-%m-%d %H:%M:%S')\n",
    "data_test['date_datetime'].head(5)"
   ]
  },
  {
   "cell_type": "code",
   "execution_count": 20,
   "metadata": {},
   "outputs": [
    {
     "data": {
      "text/plain": [
       "0"
      ]
     },
     "execution_count": 20,
     "metadata": {},
     "output_type": "execute_result"
    }
   ],
   "source": [
    "data_test.duplicated().sum()"
   ]
  },
  {
   "cell_type": "markdown",
   "metadata": {},
   "source": [
    "**Вывод:** дубликатов не обнаружено"
   ]
  },
  {
   "cell_type": "code",
   "execution_count": 21,
   "metadata": {},
   "outputs": [
    {
     "data": {
      "text/plain": [
       "['date',\n",
       " 'date_datetime',\n",
       " 'rougher.input.feed_ag',\n",
       " 'rougher.input.feed_pb',\n",
       " 'rougher.input.feed_rate',\n",
       " 'rougher.input.feed_size',\n",
       " 'rougher.input.feed_sol',\n",
       " 'rougher.input.feed_au',\n",
       " 'rougher.input.floatbank10_sulfate',\n",
       " 'rougher.input.floatbank10_xanthate',\n",
       " 'rougher.input.floatbank11_sulfate',\n",
       " 'rougher.input.floatbank11_xanthate',\n",
       " 'rougher.state.floatbank10_a_air',\n",
       " 'rougher.state.floatbank10_a_level',\n",
       " 'rougher.state.floatbank10_b_air',\n",
       " 'rougher.state.floatbank10_b_level',\n",
       " 'rougher.state.floatbank10_c_air',\n",
       " 'rougher.state.floatbank10_c_level',\n",
       " 'rougher.state.floatbank10_d_air',\n",
       " 'rougher.state.floatbank10_d_level',\n",
       " 'rougher.state.floatbank10_e_air',\n",
       " 'rougher.state.floatbank10_e_level',\n",
       " 'rougher.state.floatbank10_f_air',\n",
       " 'rougher.state.floatbank10_f_level',\n",
       " 'primary_cleaner.input.sulfate',\n",
       " 'primary_cleaner.input.depressant',\n",
       " 'primary_cleaner.input.feed_size',\n",
       " 'primary_cleaner.input.xanthate',\n",
       " 'primary_cleaner.state.floatbank8_a_air',\n",
       " 'primary_cleaner.state.floatbank8_a_level',\n",
       " 'primary_cleaner.state.floatbank8_b_air',\n",
       " 'primary_cleaner.state.floatbank8_b_level',\n",
       " 'primary_cleaner.state.floatbank8_c_air',\n",
       " 'primary_cleaner.state.floatbank8_c_level',\n",
       " 'primary_cleaner.state.floatbank8_d_air',\n",
       " 'primary_cleaner.state.floatbank8_d_level',\n",
       " 'secondary_cleaner.state.floatbank2_a_air',\n",
       " 'secondary_cleaner.state.floatbank2_a_level',\n",
       " 'secondary_cleaner.state.floatbank2_b_air',\n",
       " 'secondary_cleaner.state.floatbank2_b_level',\n",
       " 'secondary_cleaner.state.floatbank3_a_air',\n",
       " 'secondary_cleaner.state.floatbank3_a_level',\n",
       " 'secondary_cleaner.state.floatbank3_b_air',\n",
       " 'secondary_cleaner.state.floatbank3_b_level',\n",
       " 'secondary_cleaner.state.floatbank4_a_air',\n",
       " 'secondary_cleaner.state.floatbank4_a_level',\n",
       " 'secondary_cleaner.state.floatbank4_b_air',\n",
       " 'secondary_cleaner.state.floatbank4_b_level',\n",
       " 'secondary_cleaner.state.floatbank5_a_air',\n",
       " 'secondary_cleaner.state.floatbank5_a_level',\n",
       " 'secondary_cleaner.state.floatbank5_b_air',\n",
       " 'secondary_cleaner.state.floatbank5_b_level',\n",
       " 'secondary_cleaner.state.floatbank6_a_air',\n",
       " 'secondary_cleaner.state.floatbank6_a_level']"
      ]
     },
     "execution_count": 21,
     "metadata": {},
     "output_type": "execute_result"
    }
   ],
   "source": [
    "data_test_col = data_test.columns\n",
    "data_test_col_new = []\n",
    "for a in data_test_col:\n",
    "    if 'date' in a:\n",
    "        data_test_col_new.append(a)\n",
    "for a in data_test_col:\n",
    "    if 'rougher' in a:\n",
    "        data_test_col_new.append(a)\n",
    "for a in data_test_col:\n",
    "    if 'primary_cleaner' in a:\n",
    "        data_test_col_new.append(a)\n",
    "for a in data_test_col:\n",
    "    if 'secondary_cleaner' in a:\n",
    "        data_test_col_new.append(a)\n",
    "for a in data_test_col:\n",
    "    if 'final' in a:\n",
    "        data_test_col_new.append(a)\n",
    "\n",
    "data_test_col_new"
   ]
  },
  {
   "cell_type": "code",
   "execution_count": 22,
   "metadata": {},
   "outputs": [],
   "source": [
    "data_test_copy = pd.DataFrame(columns = ['a', 'b'])\n",
    "for a in data_test_col_new:\n",
    "    data_test_copy[a] = data_test[a]\n",
    "data_test_copy = data_test_copy.drop(columns = ['a', 'b'])"
   ]
  },
  {
   "cell_type": "code",
   "execution_count": 23,
   "metadata": {},
   "outputs": [
    {
     "data": {
      "text/html": [
       "<div>\n",
       "<style scoped>\n",
       "    .dataframe tbody tr th:only-of-type {\n",
       "        vertical-align: middle;\n",
       "    }\n",
       "\n",
       "    .dataframe tbody tr th {\n",
       "        vertical-align: top;\n",
       "    }\n",
       "\n",
       "    .dataframe thead th {\n",
       "        text-align: right;\n",
       "    }\n",
       "</style>\n",
       "<table border=\"1\" class=\"dataframe\">\n",
       "  <thead>\n",
       "    <tr style=\"text-align: right;\">\n",
       "      <th></th>\n",
       "      <th>date</th>\n",
       "      <th>date_datetime</th>\n",
       "      <th>rougher.input.feed_ag</th>\n",
       "      <th>rougher.input.feed_pb</th>\n",
       "      <th>rougher.input.feed_rate</th>\n",
       "      <th>rougher.input.feed_size</th>\n",
       "      <th>rougher.input.feed_sol</th>\n",
       "      <th>rougher.input.feed_au</th>\n",
       "      <th>rougher.input.floatbank10_sulfate</th>\n",
       "      <th>rougher.input.floatbank10_xanthate</th>\n",
       "      <th>...</th>\n",
       "      <th>secondary_cleaner.state.floatbank4_a_air</th>\n",
       "      <th>secondary_cleaner.state.floatbank4_a_level</th>\n",
       "      <th>secondary_cleaner.state.floatbank4_b_air</th>\n",
       "      <th>secondary_cleaner.state.floatbank4_b_level</th>\n",
       "      <th>secondary_cleaner.state.floatbank5_a_air</th>\n",
       "      <th>secondary_cleaner.state.floatbank5_a_level</th>\n",
       "      <th>secondary_cleaner.state.floatbank5_b_air</th>\n",
       "      <th>secondary_cleaner.state.floatbank5_b_level</th>\n",
       "      <th>secondary_cleaner.state.floatbank6_a_air</th>\n",
       "      <th>secondary_cleaner.state.floatbank6_a_level</th>\n",
       "    </tr>\n",
       "  </thead>\n",
       "  <tbody>\n",
       "    <tr>\n",
       "      <th>0</th>\n",
       "      <td>2016-09-01 00:59:59</td>\n",
       "      <td>2016-09-01 00:59:59</td>\n",
       "      <td>13.128569</td>\n",
       "      <td>5.636710</td>\n",
       "      <td>489.793655</td>\n",
       "      <td>62.710452</td>\n",
       "      <td>42.022440</td>\n",
       "      <td>12.084103</td>\n",
       "      <td>16.922877</td>\n",
       "      <td>6.153479</td>\n",
       "      <td>...</td>\n",
       "      <td>12.023554</td>\n",
       "      <td>-497.795834</td>\n",
       "      <td>8.016656</td>\n",
       "      <td>-501.289139</td>\n",
       "      <td>7.946562</td>\n",
       "      <td>-432.317850</td>\n",
       "      <td>4.872511</td>\n",
       "      <td>-500.037437</td>\n",
       "      <td>26.705889</td>\n",
       "      <td>-499.709414</td>\n",
       "    </tr>\n",
       "    <tr>\n",
       "      <th>1</th>\n",
       "      <td>2016-09-01 01:59:59</td>\n",
       "      <td>2016-09-01 01:59:59</td>\n",
       "      <td>13.036280</td>\n",
       "      <td>5.526065</td>\n",
       "      <td>490.104534</td>\n",
       "      <td>61.961163</td>\n",
       "      <td>41.187903</td>\n",
       "      <td>11.918977</td>\n",
       "      <td>17.002532</td>\n",
       "      <td>5.999043</td>\n",
       "      <td>...</td>\n",
       "      <td>12.058140</td>\n",
       "      <td>-498.695773</td>\n",
       "      <td>8.130979</td>\n",
       "      <td>-499.634209</td>\n",
       "      <td>7.958270</td>\n",
       "      <td>-525.839648</td>\n",
       "      <td>4.878850</td>\n",
       "      <td>-500.162375</td>\n",
       "      <td>25.019940</td>\n",
       "      <td>-499.819438</td>\n",
       "    </tr>\n",
       "    <tr>\n",
       "      <th>2</th>\n",
       "      <td>2016-09-01 02:59:59</td>\n",
       "      <td>2016-09-01 02:59:59</td>\n",
       "      <td>13.138412</td>\n",
       "      <td>5.426561</td>\n",
       "      <td>489.617969</td>\n",
       "      <td>66.903807</td>\n",
       "      <td>42.546294</td>\n",
       "      <td>12.091332</td>\n",
       "      <td>16.992520</td>\n",
       "      <td>5.850632</td>\n",
       "      <td>...</td>\n",
       "      <td>11.962366</td>\n",
       "      <td>-498.767484</td>\n",
       "      <td>8.096893</td>\n",
       "      <td>-500.827423</td>\n",
       "      <td>8.071056</td>\n",
       "      <td>-500.801673</td>\n",
       "      <td>4.905125</td>\n",
       "      <td>-499.828510</td>\n",
       "      <td>24.994862</td>\n",
       "      <td>-500.622559</td>\n",
       "    </tr>\n",
       "    <tr>\n",
       "      <th>3</th>\n",
       "      <td>2016-09-01 03:59:59</td>\n",
       "      <td>2016-09-01 03:59:59</td>\n",
       "      <td>12.400507</td>\n",
       "      <td>5.114758</td>\n",
       "      <td>476.618130</td>\n",
       "      <td>59.865919</td>\n",
       "      <td>41.060195</td>\n",
       "      <td>12.181597</td>\n",
       "      <td>16.532144</td>\n",
       "      <td>5.801935</td>\n",
       "      <td>...</td>\n",
       "      <td>12.033091</td>\n",
       "      <td>-498.350935</td>\n",
       "      <td>8.074946</td>\n",
       "      <td>-499.474407</td>\n",
       "      <td>7.897085</td>\n",
       "      <td>-500.868509</td>\n",
       "      <td>4.931400</td>\n",
       "      <td>-499.963623</td>\n",
       "      <td>24.948919</td>\n",
       "      <td>-498.709987</td>\n",
       "    </tr>\n",
       "    <tr>\n",
       "      <th>4</th>\n",
       "      <td>2016-09-01 04:59:59</td>\n",
       "      <td>2016-09-01 04:59:59</td>\n",
       "      <td>11.327427</td>\n",
       "      <td>4.767383</td>\n",
       "      <td>488.248117</td>\n",
       "      <td>63.315324</td>\n",
       "      <td>41.269161</td>\n",
       "      <td>11.290425</td>\n",
       "      <td>13.607257</td>\n",
       "      <td>5.738081</td>\n",
       "      <td>...</td>\n",
       "      <td>12.025367</td>\n",
       "      <td>-500.786497</td>\n",
       "      <td>8.054678</td>\n",
       "      <td>-500.397500</td>\n",
       "      <td>8.107890</td>\n",
       "      <td>-509.526725</td>\n",
       "      <td>4.957674</td>\n",
       "      <td>-500.360026</td>\n",
       "      <td>25.003331</td>\n",
       "      <td>-500.856333</td>\n",
       "    </tr>\n",
       "  </tbody>\n",
       "</table>\n",
       "<p>5 rows × 54 columns</p>\n",
       "</div>"
      ],
      "text/plain": [
       "                  date       date_datetime  rougher.input.feed_ag  \\\n",
       "0  2016-09-01 00:59:59 2016-09-01 00:59:59              13.128569   \n",
       "1  2016-09-01 01:59:59 2016-09-01 01:59:59              13.036280   \n",
       "2  2016-09-01 02:59:59 2016-09-01 02:59:59              13.138412   \n",
       "3  2016-09-01 03:59:59 2016-09-01 03:59:59              12.400507   \n",
       "4  2016-09-01 04:59:59 2016-09-01 04:59:59              11.327427   \n",
       "\n",
       "   rougher.input.feed_pb  rougher.input.feed_rate  rougher.input.feed_size  \\\n",
       "0               5.636710               489.793655                62.710452   \n",
       "1               5.526065               490.104534                61.961163   \n",
       "2               5.426561               489.617969                66.903807   \n",
       "3               5.114758               476.618130                59.865919   \n",
       "4               4.767383               488.248117                63.315324   \n",
       "\n",
       "   rougher.input.feed_sol  rougher.input.feed_au  \\\n",
       "0               42.022440              12.084103   \n",
       "1               41.187903              11.918977   \n",
       "2               42.546294              12.091332   \n",
       "3               41.060195              12.181597   \n",
       "4               41.269161              11.290425   \n",
       "\n",
       "   rougher.input.floatbank10_sulfate  rougher.input.floatbank10_xanthate  ...  \\\n",
       "0                          16.922877                            6.153479  ...   \n",
       "1                          17.002532                            5.999043  ...   \n",
       "2                          16.992520                            5.850632  ...   \n",
       "3                          16.532144                            5.801935  ...   \n",
       "4                          13.607257                            5.738081  ...   \n",
       "\n",
       "   secondary_cleaner.state.floatbank4_a_air  \\\n",
       "0                                 12.023554   \n",
       "1                                 12.058140   \n",
       "2                                 11.962366   \n",
       "3                                 12.033091   \n",
       "4                                 12.025367   \n",
       "\n",
       "   secondary_cleaner.state.floatbank4_a_level  \\\n",
       "0                                 -497.795834   \n",
       "1                                 -498.695773   \n",
       "2                                 -498.767484   \n",
       "3                                 -498.350935   \n",
       "4                                 -500.786497   \n",
       "\n",
       "   secondary_cleaner.state.floatbank4_b_air  \\\n",
       "0                                  8.016656   \n",
       "1                                  8.130979   \n",
       "2                                  8.096893   \n",
       "3                                  8.074946   \n",
       "4                                  8.054678   \n",
       "\n",
       "   secondary_cleaner.state.floatbank4_b_level  \\\n",
       "0                                 -501.289139   \n",
       "1                                 -499.634209   \n",
       "2                                 -500.827423   \n",
       "3                                 -499.474407   \n",
       "4                                 -500.397500   \n",
       "\n",
       "   secondary_cleaner.state.floatbank5_a_air  \\\n",
       "0                                  7.946562   \n",
       "1                                  7.958270   \n",
       "2                                  8.071056   \n",
       "3                                  7.897085   \n",
       "4                                  8.107890   \n",
       "\n",
       "   secondary_cleaner.state.floatbank5_a_level  \\\n",
       "0                                 -432.317850   \n",
       "1                                 -525.839648   \n",
       "2                                 -500.801673   \n",
       "3                                 -500.868509   \n",
       "4                                 -509.526725   \n",
       "\n",
       "   secondary_cleaner.state.floatbank5_b_air  \\\n",
       "0                                  4.872511   \n",
       "1                                  4.878850   \n",
       "2                                  4.905125   \n",
       "3                                  4.931400   \n",
       "4                                  4.957674   \n",
       "\n",
       "   secondary_cleaner.state.floatbank5_b_level  \\\n",
       "0                                 -500.037437   \n",
       "1                                 -500.162375   \n",
       "2                                 -499.828510   \n",
       "3                                 -499.963623   \n",
       "4                                 -500.360026   \n",
       "\n",
       "   secondary_cleaner.state.floatbank6_a_air  \\\n",
       "0                                 26.705889   \n",
       "1                                 25.019940   \n",
       "2                                 24.994862   \n",
       "3                                 24.948919   \n",
       "4                                 25.003331   \n",
       "\n",
       "   secondary_cleaner.state.floatbank6_a_level  \n",
       "0                                 -499.709414  \n",
       "1                                 -499.819438  \n",
       "2                                 -500.622559  \n",
       "3                                 -498.709987  \n",
       "4                                 -500.856333  \n",
       "\n",
       "[5 rows x 54 columns]"
      ]
     },
     "execution_count": 23,
     "metadata": {},
     "output_type": "execute_result"
    }
   ],
   "source": [
    "data_test_copy.head()"
   ]
  },
  {
   "cell_type": "code",
   "execution_count": 24,
   "metadata": {},
   "outputs": [
    {
     "data": {
      "text/html": [
       "<div>\n",
       "<style scoped>\n",
       "    .dataframe tbody tr th:only-of-type {\n",
       "        vertical-align: middle;\n",
       "    }\n",
       "\n",
       "    .dataframe tbody tr th {\n",
       "        vertical-align: top;\n",
       "    }\n",
       "\n",
       "    .dataframe thead th {\n",
       "        text-align: right;\n",
       "    }\n",
       "</style>\n",
       "<table border=\"1\" class=\"dataframe\">\n",
       "  <thead>\n",
       "    <tr style=\"text-align: right;\">\n",
       "      <th></th>\n",
       "      <th>date</th>\n",
       "      <th>primary_cleaner.input.sulfate</th>\n",
       "      <th>primary_cleaner.input.depressant</th>\n",
       "      <th>primary_cleaner.input.feed_size</th>\n",
       "      <th>primary_cleaner.input.xanthate</th>\n",
       "      <th>primary_cleaner.state.floatbank8_a_air</th>\n",
       "      <th>primary_cleaner.state.floatbank8_a_level</th>\n",
       "      <th>primary_cleaner.state.floatbank8_b_air</th>\n",
       "      <th>primary_cleaner.state.floatbank8_b_level</th>\n",
       "      <th>primary_cleaner.state.floatbank8_c_air</th>\n",
       "      <th>...</th>\n",
       "      <th>secondary_cleaner.state.floatbank4_a_level</th>\n",
       "      <th>secondary_cleaner.state.floatbank4_b_air</th>\n",
       "      <th>secondary_cleaner.state.floatbank4_b_level</th>\n",
       "      <th>secondary_cleaner.state.floatbank5_a_air</th>\n",
       "      <th>secondary_cleaner.state.floatbank5_a_level</th>\n",
       "      <th>secondary_cleaner.state.floatbank5_b_air</th>\n",
       "      <th>secondary_cleaner.state.floatbank5_b_level</th>\n",
       "      <th>secondary_cleaner.state.floatbank6_a_air</th>\n",
       "      <th>secondary_cleaner.state.floatbank6_a_level</th>\n",
       "      <th>date_datetime</th>\n",
       "    </tr>\n",
       "  </thead>\n",
       "  <tbody>\n",
       "    <tr>\n",
       "      <th>0</th>\n",
       "      <td>2016-09-01 00:59:59</td>\n",
       "      <td>210.800909</td>\n",
       "      <td>14.993118</td>\n",
       "      <td>8.080000</td>\n",
       "      <td>1.005021</td>\n",
       "      <td>1398.981301</td>\n",
       "      <td>-500.225577</td>\n",
       "      <td>1399.144926</td>\n",
       "      <td>-499.919735</td>\n",
       "      <td>1400.102998</td>\n",
       "      <td>...</td>\n",
       "      <td>-497.795834</td>\n",
       "      <td>8.016656</td>\n",
       "      <td>-501.289139</td>\n",
       "      <td>7.946562</td>\n",
       "      <td>-432.317850</td>\n",
       "      <td>4.872511</td>\n",
       "      <td>-500.037437</td>\n",
       "      <td>26.705889</td>\n",
       "      <td>-499.709414</td>\n",
       "      <td>2016-09-01 00:59:59</td>\n",
       "    </tr>\n",
       "    <tr>\n",
       "      <th>1</th>\n",
       "      <td>2016-09-01 01:59:59</td>\n",
       "      <td>215.392455</td>\n",
       "      <td>14.987471</td>\n",
       "      <td>8.080000</td>\n",
       "      <td>0.990469</td>\n",
       "      <td>1398.777912</td>\n",
       "      <td>-500.057435</td>\n",
       "      <td>1398.055362</td>\n",
       "      <td>-499.778182</td>\n",
       "      <td>1396.151033</td>\n",
       "      <td>...</td>\n",
       "      <td>-498.695773</td>\n",
       "      <td>8.130979</td>\n",
       "      <td>-499.634209</td>\n",
       "      <td>7.958270</td>\n",
       "      <td>-525.839648</td>\n",
       "      <td>4.878850</td>\n",
       "      <td>-500.162375</td>\n",
       "      <td>25.019940</td>\n",
       "      <td>-499.819438</td>\n",
       "      <td>2016-09-01 01:59:59</td>\n",
       "    </tr>\n",
       "    <tr>\n",
       "      <th>2</th>\n",
       "      <td>2016-09-01 02:59:59</td>\n",
       "      <td>215.259946</td>\n",
       "      <td>12.884934</td>\n",
       "      <td>7.786667</td>\n",
       "      <td>0.996043</td>\n",
       "      <td>1398.493666</td>\n",
       "      <td>-500.868360</td>\n",
       "      <td>1398.860436</td>\n",
       "      <td>-499.764529</td>\n",
       "      <td>1398.075709</td>\n",
       "      <td>...</td>\n",
       "      <td>-498.767484</td>\n",
       "      <td>8.096893</td>\n",
       "      <td>-500.827423</td>\n",
       "      <td>8.071056</td>\n",
       "      <td>-500.801673</td>\n",
       "      <td>4.905125</td>\n",
       "      <td>-499.828510</td>\n",
       "      <td>24.994862</td>\n",
       "      <td>-500.622559</td>\n",
       "      <td>2016-09-01 02:59:59</td>\n",
       "    </tr>\n",
       "    <tr>\n",
       "      <th>3</th>\n",
       "      <td>2016-09-01 03:59:59</td>\n",
       "      <td>215.336236</td>\n",
       "      <td>12.006805</td>\n",
       "      <td>7.640000</td>\n",
       "      <td>0.863514</td>\n",
       "      <td>1399.618111</td>\n",
       "      <td>-498.863574</td>\n",
       "      <td>1397.440120</td>\n",
       "      <td>-499.211024</td>\n",
       "      <td>1400.129303</td>\n",
       "      <td>...</td>\n",
       "      <td>-498.350935</td>\n",
       "      <td>8.074946</td>\n",
       "      <td>-499.474407</td>\n",
       "      <td>7.897085</td>\n",
       "      <td>-500.868509</td>\n",
       "      <td>4.931400</td>\n",
       "      <td>-499.963623</td>\n",
       "      <td>24.948919</td>\n",
       "      <td>-498.709987</td>\n",
       "      <td>2016-09-01 03:59:59</td>\n",
       "    </tr>\n",
       "    <tr>\n",
       "      <th>4</th>\n",
       "      <td>2016-09-01 04:59:59</td>\n",
       "      <td>199.099327</td>\n",
       "      <td>10.682530</td>\n",
       "      <td>7.530000</td>\n",
       "      <td>0.805575</td>\n",
       "      <td>1401.268123</td>\n",
       "      <td>-500.808305</td>\n",
       "      <td>1398.128818</td>\n",
       "      <td>-499.504543</td>\n",
       "      <td>1402.172226</td>\n",
       "      <td>...</td>\n",
       "      <td>-500.786497</td>\n",
       "      <td>8.054678</td>\n",
       "      <td>-500.397500</td>\n",
       "      <td>8.107890</td>\n",
       "      <td>-509.526725</td>\n",
       "      <td>4.957674</td>\n",
       "      <td>-500.360026</td>\n",
       "      <td>25.003331</td>\n",
       "      <td>-500.856333</td>\n",
       "      <td>2016-09-01 04:59:59</td>\n",
       "    </tr>\n",
       "  </tbody>\n",
       "</table>\n",
       "<p>5 rows × 54 columns</p>\n",
       "</div>"
      ],
      "text/plain": [
       "                  date  primary_cleaner.input.sulfate  \\\n",
       "0  2016-09-01 00:59:59                     210.800909   \n",
       "1  2016-09-01 01:59:59                     215.392455   \n",
       "2  2016-09-01 02:59:59                     215.259946   \n",
       "3  2016-09-01 03:59:59                     215.336236   \n",
       "4  2016-09-01 04:59:59                     199.099327   \n",
       "\n",
       "   primary_cleaner.input.depressant  primary_cleaner.input.feed_size  \\\n",
       "0                         14.993118                         8.080000   \n",
       "1                         14.987471                         8.080000   \n",
       "2                         12.884934                         7.786667   \n",
       "3                         12.006805                         7.640000   \n",
       "4                         10.682530                         7.530000   \n",
       "\n",
       "   primary_cleaner.input.xanthate  primary_cleaner.state.floatbank8_a_air  \\\n",
       "0                        1.005021                             1398.981301   \n",
       "1                        0.990469                             1398.777912   \n",
       "2                        0.996043                             1398.493666   \n",
       "3                        0.863514                             1399.618111   \n",
       "4                        0.805575                             1401.268123   \n",
       "\n",
       "   primary_cleaner.state.floatbank8_a_level  \\\n",
       "0                               -500.225577   \n",
       "1                               -500.057435   \n",
       "2                               -500.868360   \n",
       "3                               -498.863574   \n",
       "4                               -500.808305   \n",
       "\n",
       "   primary_cleaner.state.floatbank8_b_air  \\\n",
       "0                             1399.144926   \n",
       "1                             1398.055362   \n",
       "2                             1398.860436   \n",
       "3                             1397.440120   \n",
       "4                             1398.128818   \n",
       "\n",
       "   primary_cleaner.state.floatbank8_b_level  \\\n",
       "0                               -499.919735   \n",
       "1                               -499.778182   \n",
       "2                               -499.764529   \n",
       "3                               -499.211024   \n",
       "4                               -499.504543   \n",
       "\n",
       "   primary_cleaner.state.floatbank8_c_air  ...  \\\n",
       "0                             1400.102998  ...   \n",
       "1                             1396.151033  ...   \n",
       "2                             1398.075709  ...   \n",
       "3                             1400.129303  ...   \n",
       "4                             1402.172226  ...   \n",
       "\n",
       "   secondary_cleaner.state.floatbank4_a_level  \\\n",
       "0                                 -497.795834   \n",
       "1                                 -498.695773   \n",
       "2                                 -498.767484   \n",
       "3                                 -498.350935   \n",
       "4                                 -500.786497   \n",
       "\n",
       "   secondary_cleaner.state.floatbank4_b_air  \\\n",
       "0                                  8.016656   \n",
       "1                                  8.130979   \n",
       "2                                  8.096893   \n",
       "3                                  8.074946   \n",
       "4                                  8.054678   \n",
       "\n",
       "   secondary_cleaner.state.floatbank4_b_level  \\\n",
       "0                                 -501.289139   \n",
       "1                                 -499.634209   \n",
       "2                                 -500.827423   \n",
       "3                                 -499.474407   \n",
       "4                                 -500.397500   \n",
       "\n",
       "   secondary_cleaner.state.floatbank5_a_air  \\\n",
       "0                                  7.946562   \n",
       "1                                  7.958270   \n",
       "2                                  8.071056   \n",
       "3                                  7.897085   \n",
       "4                                  8.107890   \n",
       "\n",
       "   secondary_cleaner.state.floatbank5_a_level  \\\n",
       "0                                 -432.317850   \n",
       "1                                 -525.839648   \n",
       "2                                 -500.801673   \n",
       "3                                 -500.868509   \n",
       "4                                 -509.526725   \n",
       "\n",
       "   secondary_cleaner.state.floatbank5_b_air  \\\n",
       "0                                  4.872511   \n",
       "1                                  4.878850   \n",
       "2                                  4.905125   \n",
       "3                                  4.931400   \n",
       "4                                  4.957674   \n",
       "\n",
       "   secondary_cleaner.state.floatbank5_b_level  \\\n",
       "0                                 -500.037437   \n",
       "1                                 -500.162375   \n",
       "2                                 -499.828510   \n",
       "3                                 -499.963623   \n",
       "4                                 -500.360026   \n",
       "\n",
       "   secondary_cleaner.state.floatbank6_a_air  \\\n",
       "0                                 26.705889   \n",
       "1                                 25.019940   \n",
       "2                                 24.994862   \n",
       "3                                 24.948919   \n",
       "4                                 25.003331   \n",
       "\n",
       "   secondary_cleaner.state.floatbank6_a_level       date_datetime  \n",
       "0                                 -499.709414 2016-09-01 00:59:59  \n",
       "1                                 -499.819438 2016-09-01 01:59:59  \n",
       "2                                 -500.622559 2016-09-01 02:59:59  \n",
       "3                                 -498.709987 2016-09-01 03:59:59  \n",
       "4                                 -500.856333 2016-09-01 04:59:59  \n",
       "\n",
       "[5 rows x 54 columns]"
      ]
     },
     "execution_count": 24,
     "metadata": {},
     "output_type": "execute_result"
    }
   ],
   "source": [
    "data_test.head()"
   ]
  },
  {
   "cell_type": "markdown",
   "metadata": {},
   "source": [
    "### Работа с исходными данными"
   ]
  },
  {
   "cell_type": "code",
   "execution_count": 25,
   "metadata": {},
   "outputs": [],
   "source": [
    "way_1 = '/Users/anastasiaklubkova/Downloads/gold_recovery_full_new.csv'\n",
    "way_2 = '/datasets/gold_recovery_full_new.csv'"
   ]
  },
  {
   "cell_type": "code",
   "execution_count": 26,
   "metadata": {},
   "outputs": [
    {
     "name": "stdout",
     "output_type": "stream",
     "text": [
      "Открыто локально\n"
     ]
    }
   ],
   "source": [
    "if os.path.exists(way_1):\n",
    "    data_full = pd.read_csv(way_1)\n",
    "    print('Открыто локально')\n",
    "elif os.path.exists(way_2):\n",
    "    data_full = pd.read_csv(way_2)\n",
    "    print('Открыто через ЯП')\n",
    "else:\n",
    "    print('Что-то пошло не так')"
   ]
  },
  {
   "cell_type": "code",
   "execution_count": 27,
   "metadata": {},
   "outputs": [
    {
     "name": "stdout",
     "output_type": "stream",
     "text": [
      "<class 'pandas.core.frame.DataFrame'>\n",
      "RangeIndex: 19439 entries, 0 to 19438\n",
      "Data columns (total 87 columns):\n",
      " #   Column                                              Non-Null Count  Dtype  \n",
      "---  ------                                              --------------  -----  \n",
      " 0   date                                                19439 non-null  object \n",
      " 1   final.output.concentrate_ag                         19438 non-null  float64\n",
      " 2   final.output.concentrate_pb                         19438 non-null  float64\n",
      " 3   final.output.concentrate_sol                        19228 non-null  float64\n",
      " 4   final.output.concentrate_au                         19439 non-null  float64\n",
      " 5   final.output.recovery                               19439 non-null  float64\n",
      " 6   final.output.tail_ag                                19438 non-null  float64\n",
      " 7   final.output.tail_pb                                19338 non-null  float64\n",
      " 8   final.output.tail_sol                               19433 non-null  float64\n",
      " 9   final.output.tail_au                                19439 non-null  float64\n",
      " 10  primary_cleaner.input.sulfate                       19415 non-null  float64\n",
      " 11  primary_cleaner.input.depressant                    19402 non-null  float64\n",
      " 12  primary_cleaner.input.feed_size                     19439 non-null  float64\n",
      " 13  primary_cleaner.input.xanthate                      19335 non-null  float64\n",
      " 14  primary_cleaner.output.concentrate_ag               19439 non-null  float64\n",
      " 15  primary_cleaner.output.concentrate_pb               19323 non-null  float64\n",
      " 16  primary_cleaner.output.concentrate_sol              19069 non-null  float64\n",
      " 17  primary_cleaner.output.concentrate_au               19439 non-null  float64\n",
      " 18  primary_cleaner.output.tail_ag                      19435 non-null  float64\n",
      " 19  primary_cleaner.output.tail_pb                      19418 non-null  float64\n",
      " 20  primary_cleaner.output.tail_sol                     19377 non-null  float64\n",
      " 21  primary_cleaner.output.tail_au                      19439 non-null  float64\n",
      " 22  primary_cleaner.state.floatbank8_a_air              19435 non-null  float64\n",
      " 23  primary_cleaner.state.floatbank8_a_level            19438 non-null  float64\n",
      " 24  primary_cleaner.state.floatbank8_b_air              19435 non-null  float64\n",
      " 25  primary_cleaner.state.floatbank8_b_level            19438 non-null  float64\n",
      " 26  primary_cleaner.state.floatbank8_c_air              19437 non-null  float64\n",
      " 27  primary_cleaner.state.floatbank8_c_level            19438 non-null  float64\n",
      " 28  primary_cleaner.state.floatbank8_d_air              19436 non-null  float64\n",
      " 29  primary_cleaner.state.floatbank8_d_level            19438 non-null  float64\n",
      " 30  rougher.calculation.sulfate_to_au_concentrate       19437 non-null  float64\n",
      " 31  rougher.calculation.floatbank10_sulfate_to_au_feed  19437 non-null  float64\n",
      " 32  rougher.calculation.floatbank11_sulfate_to_au_feed  19437 non-null  float64\n",
      " 33  rougher.calculation.au_pb_ratio                     19439 non-null  float64\n",
      " 34  rougher.input.feed_ag                               19439 non-null  float64\n",
      " 35  rougher.input.feed_pb                               19339 non-null  float64\n",
      " 36  rougher.input.feed_rate                             19428 non-null  float64\n",
      " 37  rougher.input.feed_size                             19294 non-null  float64\n",
      " 38  rougher.input.feed_sol                              19340 non-null  float64\n",
      " 39  rougher.input.feed_au                               19439 non-null  float64\n",
      " 40  rougher.input.floatbank10_sulfate                   19405 non-null  float64\n",
      " 41  rougher.input.floatbank10_xanthate                  19431 non-null  float64\n",
      " 42  rougher.input.floatbank11_sulfate                   19395 non-null  float64\n",
      " 43  rougher.input.floatbank11_xanthate                  18986 non-null  float64\n",
      " 44  rougher.output.concentrate_ag                       19439 non-null  float64\n",
      " 45  rougher.output.concentrate_pb                       19439 non-null  float64\n",
      " 46  rougher.output.concentrate_sol                      19416 non-null  float64\n",
      " 47  rougher.output.concentrate_au                       19439 non-null  float64\n",
      " 48  rougher.output.recovery                             19439 non-null  float64\n",
      " 49  rougher.output.tail_ag                              19438 non-null  float64\n",
      " 50  rougher.output.tail_pb                              19439 non-null  float64\n",
      " 51  rougher.output.tail_sol                             19439 non-null  float64\n",
      " 52  rougher.output.tail_au                              19439 non-null  float64\n",
      " 53  rougher.state.floatbank10_a_air                     19438 non-null  float64\n",
      " 54  rougher.state.floatbank10_a_level                   19438 non-null  float64\n",
      " 55  rougher.state.floatbank10_b_air                     19438 non-null  float64\n",
      " 56  rougher.state.floatbank10_b_level                   19438 non-null  float64\n",
      " 57  rougher.state.floatbank10_c_air                     19438 non-null  float64\n",
      " 58  rougher.state.floatbank10_c_level                   19438 non-null  float64\n",
      " 59  rougher.state.floatbank10_d_air                     19439 non-null  float64\n",
      " 60  rougher.state.floatbank10_d_level                   19439 non-null  float64\n",
      " 61  rougher.state.floatbank10_e_air                     19003 non-null  float64\n",
      " 62  rougher.state.floatbank10_e_level                   19439 non-null  float64\n",
      " 63  rougher.state.floatbank10_f_air                     19439 non-null  float64\n",
      " 64  rougher.state.floatbank10_f_level                   19439 non-null  float64\n",
      " 65  secondary_cleaner.output.tail_ag                    19437 non-null  float64\n",
      " 66  secondary_cleaner.output.tail_pb                    19427 non-null  float64\n",
      " 67  secondary_cleaner.output.tail_sol                   17691 non-null  float64\n",
      " 68  secondary_cleaner.output.tail_au                    19439 non-null  float64\n",
      " 69  secondary_cleaner.state.floatbank2_a_air            19219 non-null  float64\n",
      " 70  secondary_cleaner.state.floatbank2_a_level          19438 non-null  float64\n",
      " 71  secondary_cleaner.state.floatbank2_b_air            19416 non-null  float64\n",
      " 72  secondary_cleaner.state.floatbank2_b_level          19438 non-null  float64\n",
      " 73  secondary_cleaner.state.floatbank3_a_air            19426 non-null  float64\n",
      " 74  secondary_cleaner.state.floatbank3_a_level          19438 non-null  float64\n",
      " 75  secondary_cleaner.state.floatbank3_b_air            19438 non-null  float64\n",
      " 76  secondary_cleaner.state.floatbank3_b_level          19438 non-null  float64\n",
      " 77  secondary_cleaner.state.floatbank4_a_air            19433 non-null  float64\n",
      " 78  secondary_cleaner.state.floatbank4_a_level          19438 non-null  float64\n",
      " 79  secondary_cleaner.state.floatbank4_b_air            19438 non-null  float64\n",
      " 80  secondary_cleaner.state.floatbank4_b_level          19438 non-null  float64\n",
      " 81  secondary_cleaner.state.floatbank5_a_air            19438 non-null  float64\n",
      " 82  secondary_cleaner.state.floatbank5_a_level          19438 non-null  float64\n",
      " 83  secondary_cleaner.state.floatbank5_b_air            19438 non-null  float64\n",
      " 84  secondary_cleaner.state.floatbank5_b_level          19438 non-null  float64\n",
      " 85  secondary_cleaner.state.floatbank6_a_air            19437 non-null  float64\n",
      " 86  secondary_cleaner.state.floatbank6_a_level          19438 non-null  float64\n",
      "dtypes: float64(86), object(1)\n",
      "memory usage: 12.9+ MB\n"
     ]
    }
   ],
   "source": [
    "data_full.info()"
   ]
  },
  {
   "cell_type": "code",
   "execution_count": 28,
   "metadata": {},
   "outputs": [
    {
     "data": {
      "text/plain": [
       "0    2016-01-15 00:00:00\n",
       "1    2016-01-15 01:00:00\n",
       "2    2016-01-15 02:00:00\n",
       "3    2016-01-15 03:00:00\n",
       "4    2016-01-15 04:00:00\n",
       "5    2016-01-15 05:00:00\n",
       "6    2016-01-15 06:00:00\n",
       "7    2016-01-15 07:00:00\n",
       "8    2016-01-15 08:00:00\n",
       "9    2016-01-15 09:00:00\n",
       "Name: date, dtype: object"
      ]
     },
     "execution_count": 28,
     "metadata": {},
     "output_type": "execute_result"
    }
   ],
   "source": [
    "data_full['date'].head(10)"
   ]
  },
  {
   "cell_type": "code",
   "execution_count": 29,
   "metadata": {},
   "outputs": [
    {
     "data": {
      "text/plain": [
       "0   2016-01-15 00:00:00\n",
       "1   2016-01-15 01:00:00\n",
       "2   2016-01-15 02:00:00\n",
       "3   2016-01-15 03:00:00\n",
       "4   2016-01-15 04:00:00\n",
       "Name: date_datetime, dtype: datetime64[ns]"
      ]
     },
     "execution_count": 29,
     "metadata": {},
     "output_type": "execute_result"
    }
   ],
   "source": [
    "data_full['date_datetime'] = pd.to_datetime(\n",
    "    data_full['date'], format='%Y-%m-%d %H:%M:%S')\n",
    "data_full['date_datetime'].head(5)"
   ]
  },
  {
   "cell_type": "code",
   "execution_count": 30,
   "metadata": {},
   "outputs": [
    {
     "data": {
      "text/plain": [
       "0"
      ]
     },
     "execution_count": 30,
     "metadata": {},
     "output_type": "execute_result"
    }
   ],
   "source": [
    "data_full.duplicated().sum()"
   ]
  },
  {
   "cell_type": "markdown",
   "metadata": {},
   "source": [
    "**Вывод:** дубликатов не обнаружено"
   ]
  },
  {
   "cell_type": "code",
   "execution_count": 31,
   "metadata": {},
   "outputs": [
    {
     "data": {
      "text/plain": [
       "['date',\n",
       " 'date_datetime',\n",
       " 'rougher.calculation.sulfate_to_au_concentrate',\n",
       " 'rougher.calculation.floatbank10_sulfate_to_au_feed',\n",
       " 'rougher.calculation.floatbank11_sulfate_to_au_feed',\n",
       " 'rougher.calculation.au_pb_ratio',\n",
       " 'rougher.input.feed_ag',\n",
       " 'rougher.input.feed_pb',\n",
       " 'rougher.input.feed_rate',\n",
       " 'rougher.input.feed_size',\n",
       " 'rougher.input.feed_sol',\n",
       " 'rougher.input.feed_au',\n",
       " 'rougher.input.floatbank10_sulfate',\n",
       " 'rougher.input.floatbank10_xanthate',\n",
       " 'rougher.input.floatbank11_sulfate',\n",
       " 'rougher.input.floatbank11_xanthate',\n",
       " 'rougher.output.concentrate_ag',\n",
       " 'rougher.output.concentrate_pb',\n",
       " 'rougher.output.concentrate_sol',\n",
       " 'rougher.output.concentrate_au',\n",
       " 'rougher.output.recovery',\n",
       " 'rougher.output.tail_ag',\n",
       " 'rougher.output.tail_pb',\n",
       " 'rougher.output.tail_sol',\n",
       " 'rougher.output.tail_au',\n",
       " 'rougher.state.floatbank10_a_air',\n",
       " 'rougher.state.floatbank10_a_level',\n",
       " 'rougher.state.floatbank10_b_air',\n",
       " 'rougher.state.floatbank10_b_level',\n",
       " 'rougher.state.floatbank10_c_air',\n",
       " 'rougher.state.floatbank10_c_level',\n",
       " 'rougher.state.floatbank10_d_air',\n",
       " 'rougher.state.floatbank10_d_level',\n",
       " 'rougher.state.floatbank10_e_air',\n",
       " 'rougher.state.floatbank10_e_level',\n",
       " 'rougher.state.floatbank10_f_air',\n",
       " 'rougher.state.floatbank10_f_level',\n",
       " 'primary_cleaner.input.sulfate',\n",
       " 'primary_cleaner.input.depressant',\n",
       " 'primary_cleaner.input.feed_size',\n",
       " 'primary_cleaner.input.xanthate',\n",
       " 'primary_cleaner.output.concentrate_ag',\n",
       " 'primary_cleaner.output.concentrate_pb',\n",
       " 'primary_cleaner.output.concentrate_sol',\n",
       " 'primary_cleaner.output.concentrate_au',\n",
       " 'primary_cleaner.output.tail_ag',\n",
       " 'primary_cleaner.output.tail_pb',\n",
       " 'primary_cleaner.output.tail_sol',\n",
       " 'primary_cleaner.output.tail_au',\n",
       " 'primary_cleaner.state.floatbank8_a_air',\n",
       " 'primary_cleaner.state.floatbank8_a_level',\n",
       " 'primary_cleaner.state.floatbank8_b_air',\n",
       " 'primary_cleaner.state.floatbank8_b_level',\n",
       " 'primary_cleaner.state.floatbank8_c_air',\n",
       " 'primary_cleaner.state.floatbank8_c_level',\n",
       " 'primary_cleaner.state.floatbank8_d_air',\n",
       " 'primary_cleaner.state.floatbank8_d_level',\n",
       " 'secondary_cleaner.output.tail_ag',\n",
       " 'secondary_cleaner.output.tail_pb',\n",
       " 'secondary_cleaner.output.tail_sol',\n",
       " 'secondary_cleaner.output.tail_au',\n",
       " 'secondary_cleaner.state.floatbank2_a_air',\n",
       " 'secondary_cleaner.state.floatbank2_a_level',\n",
       " 'secondary_cleaner.state.floatbank2_b_air',\n",
       " 'secondary_cleaner.state.floatbank2_b_level',\n",
       " 'secondary_cleaner.state.floatbank3_a_air',\n",
       " 'secondary_cleaner.state.floatbank3_a_level',\n",
       " 'secondary_cleaner.state.floatbank3_b_air',\n",
       " 'secondary_cleaner.state.floatbank3_b_level',\n",
       " 'secondary_cleaner.state.floatbank4_a_air',\n",
       " 'secondary_cleaner.state.floatbank4_a_level',\n",
       " 'secondary_cleaner.state.floatbank4_b_air',\n",
       " 'secondary_cleaner.state.floatbank4_b_level',\n",
       " 'secondary_cleaner.state.floatbank5_a_air',\n",
       " 'secondary_cleaner.state.floatbank5_a_level',\n",
       " 'secondary_cleaner.state.floatbank5_b_air',\n",
       " 'secondary_cleaner.state.floatbank5_b_level',\n",
       " 'secondary_cleaner.state.floatbank6_a_air',\n",
       " 'secondary_cleaner.state.floatbank6_a_level',\n",
       " 'final.output.concentrate_ag',\n",
       " 'final.output.concentrate_pb',\n",
       " 'final.output.concentrate_sol',\n",
       " 'final.output.concentrate_au',\n",
       " 'final.output.recovery',\n",
       " 'final.output.tail_ag',\n",
       " 'final.output.tail_pb',\n",
       " 'final.output.tail_sol',\n",
       " 'final.output.tail_au']"
      ]
     },
     "execution_count": 31,
     "metadata": {},
     "output_type": "execute_result"
    }
   ],
   "source": [
    "data_full_col = data_full.columns\n",
    "data_full_col_new = []\n",
    "for a in data_full_col:\n",
    "    if 'date' in a:\n",
    "        data_full_col_new.append(a)\n",
    "for a in data_full_col:\n",
    "    if 'rougher' in a:\n",
    "        data_full_col_new.append(a)\n",
    "for a in data_full_col:\n",
    "    if 'primary_cleaner' in a:\n",
    "        data_full_col_new.append(a)\n",
    "for a in data_full_col:\n",
    "    if 'secondary_cleaner' in a:\n",
    "        data_full_col_new.append(a)\n",
    "for a in data_full_col:\n",
    "    if 'final' in a:\n",
    "        data_full_col_new.append(a)\n",
    "\n",
    "data_full_col_new"
   ]
  },
  {
   "cell_type": "code",
   "execution_count": 32,
   "metadata": {},
   "outputs": [],
   "source": [
    "data_full_copy = pd.DataFrame(columns = ['a', 'b'])\n",
    "for a in data_full_col_new:\n",
    "    data_full_copy[a] = data_full[a]\n",
    "data_full_copy = data_full_copy.drop(columns = ['a', 'b'])"
   ]
  },
  {
   "cell_type": "code",
   "execution_count": 33,
   "metadata": {},
   "outputs": [
    {
     "data": {
      "text/html": [
       "<div>\n",
       "<style scoped>\n",
       "    .dataframe tbody tr th:only-of-type {\n",
       "        vertical-align: middle;\n",
       "    }\n",
       "\n",
       "    .dataframe tbody tr th {\n",
       "        vertical-align: top;\n",
       "    }\n",
       "\n",
       "    .dataframe thead th {\n",
       "        text-align: right;\n",
       "    }\n",
       "</style>\n",
       "<table border=\"1\" class=\"dataframe\">\n",
       "  <thead>\n",
       "    <tr style=\"text-align: right;\">\n",
       "      <th></th>\n",
       "      <th>date</th>\n",
       "      <th>date_datetime</th>\n",
       "      <th>rougher.calculation.sulfate_to_au_concentrate</th>\n",
       "      <th>rougher.calculation.floatbank10_sulfate_to_au_feed</th>\n",
       "      <th>rougher.calculation.floatbank11_sulfate_to_au_feed</th>\n",
       "      <th>rougher.calculation.au_pb_ratio</th>\n",
       "      <th>rougher.input.feed_ag</th>\n",
       "      <th>rougher.input.feed_pb</th>\n",
       "      <th>rougher.input.feed_rate</th>\n",
       "      <th>rougher.input.feed_size</th>\n",
       "      <th>...</th>\n",
       "      <th>secondary_cleaner.state.floatbank6_a_level</th>\n",
       "      <th>final.output.concentrate_ag</th>\n",
       "      <th>final.output.concentrate_pb</th>\n",
       "      <th>final.output.concentrate_sol</th>\n",
       "      <th>final.output.concentrate_au</th>\n",
       "      <th>final.output.recovery</th>\n",
       "      <th>final.output.tail_ag</th>\n",
       "      <th>final.output.tail_pb</th>\n",
       "      <th>final.output.tail_sol</th>\n",
       "      <th>final.output.tail_au</th>\n",
       "    </tr>\n",
       "  </thead>\n",
       "  <tbody>\n",
       "    <tr>\n",
       "      <th>0</th>\n",
       "      <td>2016-01-15 00:00:00</td>\n",
       "      <td>2016-01-15 00:00:00</td>\n",
       "      <td>41885.707031</td>\n",
       "      <td>3481.779053</td>\n",
       "      <td>3520.337158</td>\n",
       "      <td>2.838687</td>\n",
       "      <td>6.100378</td>\n",
       "      <td>2.284912</td>\n",
       "      <td>523.546326</td>\n",
       "      <td>55.486599</td>\n",
       "      <td>...</td>\n",
       "      <td>-605.841980</td>\n",
       "      <td>6.055403</td>\n",
       "      <td>9.889648</td>\n",
       "      <td>5.507324</td>\n",
       "      <td>42.192020</td>\n",
       "      <td>70.541216</td>\n",
       "      <td>10.411962</td>\n",
       "      <td>0.895447</td>\n",
       "      <td>16.904297</td>\n",
       "      <td>2.143149</td>\n",
       "    </tr>\n",
       "    <tr>\n",
       "      <th>1</th>\n",
       "      <td>2016-01-15 01:00:00</td>\n",
       "      <td>2016-01-15 01:00:00</td>\n",
       "      <td>42050.861809</td>\n",
       "      <td>3498.370979</td>\n",
       "      <td>3489.981857</td>\n",
       "      <td>2.858998</td>\n",
       "      <td>6.161113</td>\n",
       "      <td>2.266033</td>\n",
       "      <td>525.290581</td>\n",
       "      <td>57.278666</td>\n",
       "      <td>...</td>\n",
       "      <td>-599.787184</td>\n",
       "      <td>6.029369</td>\n",
       "      <td>9.968944</td>\n",
       "      <td>5.257781</td>\n",
       "      <td>42.701629</td>\n",
       "      <td>69.266198</td>\n",
       "      <td>10.462676</td>\n",
       "      <td>0.927452</td>\n",
       "      <td>16.634514</td>\n",
       "      <td>2.224930</td>\n",
       "    </tr>\n",
       "    <tr>\n",
       "      <th>2</th>\n",
       "      <td>2016-01-15 02:00:00</td>\n",
       "      <td>2016-01-15 02:00:00</td>\n",
       "      <td>42018.101184</td>\n",
       "      <td>3495.348910</td>\n",
       "      <td>3502.359819</td>\n",
       "      <td>2.945989</td>\n",
       "      <td>6.116455</td>\n",
       "      <td>2.159622</td>\n",
       "      <td>530.026610</td>\n",
       "      <td>57.510649</td>\n",
       "      <td>...</td>\n",
       "      <td>-601.427363</td>\n",
       "      <td>6.055926</td>\n",
       "      <td>10.213995</td>\n",
       "      <td>5.383759</td>\n",
       "      <td>42.657501</td>\n",
       "      <td>68.116445</td>\n",
       "      <td>10.507046</td>\n",
       "      <td>0.953716</td>\n",
       "      <td>16.208849</td>\n",
       "      <td>2.257889</td>\n",
       "    </tr>\n",
       "    <tr>\n",
       "      <th>3</th>\n",
       "      <td>2016-01-15 03:00:00</td>\n",
       "      <td>2016-01-15 03:00:00</td>\n",
       "      <td>42029.447991</td>\n",
       "      <td>3498.578313</td>\n",
       "      <td>3499.162912</td>\n",
       "      <td>3.002340</td>\n",
       "      <td>6.043309</td>\n",
       "      <td>2.037807</td>\n",
       "      <td>542.590390</td>\n",
       "      <td>57.792734</td>\n",
       "      <td>...</td>\n",
       "      <td>-599.996129</td>\n",
       "      <td>6.047977</td>\n",
       "      <td>9.977019</td>\n",
       "      <td>4.858634</td>\n",
       "      <td>42.689819</td>\n",
       "      <td>68.347543</td>\n",
       "      <td>10.422762</td>\n",
       "      <td>0.883763</td>\n",
       "      <td>16.532835</td>\n",
       "      <td>2.146849</td>\n",
       "    </tr>\n",
       "    <tr>\n",
       "      <th>4</th>\n",
       "      <td>2016-01-15 04:00:00</td>\n",
       "      <td>2016-01-15 04:00:00</td>\n",
       "      <td>42125.354245</td>\n",
       "      <td>3494.800771</td>\n",
       "      <td>3506.679315</td>\n",
       "      <td>3.169615</td>\n",
       "      <td>6.060915</td>\n",
       "      <td>1.786875</td>\n",
       "      <td>540.531893</td>\n",
       "      <td>56.047189</td>\n",
       "      <td>...</td>\n",
       "      <td>-601.496691</td>\n",
       "      <td>6.148599</td>\n",
       "      <td>10.142511</td>\n",
       "      <td>4.939416</td>\n",
       "      <td>42.774141</td>\n",
       "      <td>66.927016</td>\n",
       "      <td>10.360302</td>\n",
       "      <td>0.792826</td>\n",
       "      <td>16.525686</td>\n",
       "      <td>2.055292</td>\n",
       "    </tr>\n",
       "  </tbody>\n",
       "</table>\n",
       "<p>5 rows × 88 columns</p>\n",
       "</div>"
      ],
      "text/plain": [
       "                  date       date_datetime  \\\n",
       "0  2016-01-15 00:00:00 2016-01-15 00:00:00   \n",
       "1  2016-01-15 01:00:00 2016-01-15 01:00:00   \n",
       "2  2016-01-15 02:00:00 2016-01-15 02:00:00   \n",
       "3  2016-01-15 03:00:00 2016-01-15 03:00:00   \n",
       "4  2016-01-15 04:00:00 2016-01-15 04:00:00   \n",
       "\n",
       "   rougher.calculation.sulfate_to_au_concentrate  \\\n",
       "0                                   41885.707031   \n",
       "1                                   42050.861809   \n",
       "2                                   42018.101184   \n",
       "3                                   42029.447991   \n",
       "4                                   42125.354245   \n",
       "\n",
       "   rougher.calculation.floatbank10_sulfate_to_au_feed  \\\n",
       "0                                        3481.779053    \n",
       "1                                        3498.370979    \n",
       "2                                        3495.348910    \n",
       "3                                        3498.578313    \n",
       "4                                        3494.800771    \n",
       "\n",
       "   rougher.calculation.floatbank11_sulfate_to_au_feed  \\\n",
       "0                                        3520.337158    \n",
       "1                                        3489.981857    \n",
       "2                                        3502.359819    \n",
       "3                                        3499.162912    \n",
       "4                                        3506.679315    \n",
       "\n",
       "   rougher.calculation.au_pb_ratio  rougher.input.feed_ag  \\\n",
       "0                         2.838687               6.100378   \n",
       "1                         2.858998               6.161113   \n",
       "2                         2.945989               6.116455   \n",
       "3                         3.002340               6.043309   \n",
       "4                         3.169615               6.060915   \n",
       "\n",
       "   rougher.input.feed_pb  rougher.input.feed_rate  rougher.input.feed_size  \\\n",
       "0               2.284912               523.546326                55.486599   \n",
       "1               2.266033               525.290581                57.278666   \n",
       "2               2.159622               530.026610                57.510649   \n",
       "3               2.037807               542.590390                57.792734   \n",
       "4               1.786875               540.531893                56.047189   \n",
       "\n",
       "   ...  secondary_cleaner.state.floatbank6_a_level  \\\n",
       "0  ...                                 -605.841980   \n",
       "1  ...                                 -599.787184   \n",
       "2  ...                                 -601.427363   \n",
       "3  ...                                 -599.996129   \n",
       "4  ...                                 -601.496691   \n",
       "\n",
       "   final.output.concentrate_ag  final.output.concentrate_pb  \\\n",
       "0                     6.055403                     9.889648   \n",
       "1                     6.029369                     9.968944   \n",
       "2                     6.055926                    10.213995   \n",
       "3                     6.047977                     9.977019   \n",
       "4                     6.148599                    10.142511   \n",
       "\n",
       "   final.output.concentrate_sol  final.output.concentrate_au  \\\n",
       "0                      5.507324                    42.192020   \n",
       "1                      5.257781                    42.701629   \n",
       "2                      5.383759                    42.657501   \n",
       "3                      4.858634                    42.689819   \n",
       "4                      4.939416                    42.774141   \n",
       "\n",
       "   final.output.recovery  final.output.tail_ag  final.output.tail_pb  \\\n",
       "0              70.541216             10.411962              0.895447   \n",
       "1              69.266198             10.462676              0.927452   \n",
       "2              68.116445             10.507046              0.953716   \n",
       "3              68.347543             10.422762              0.883763   \n",
       "4              66.927016             10.360302              0.792826   \n",
       "\n",
       "   final.output.tail_sol  final.output.tail_au  \n",
       "0              16.904297              2.143149  \n",
       "1              16.634514              2.224930  \n",
       "2              16.208849              2.257889  \n",
       "3              16.532835              2.146849  \n",
       "4              16.525686              2.055292  \n",
       "\n",
       "[5 rows x 88 columns]"
      ]
     },
     "execution_count": 33,
     "metadata": {},
     "output_type": "execute_result"
    }
   ],
   "source": [
    "data_full_copy.head()"
   ]
  },
  {
   "cell_type": "code",
   "execution_count": 34,
   "metadata": {},
   "outputs": [
    {
     "data": {
      "text/html": [
       "<div>\n",
       "<style scoped>\n",
       "    .dataframe tbody tr th:only-of-type {\n",
       "        vertical-align: middle;\n",
       "    }\n",
       "\n",
       "    .dataframe tbody tr th {\n",
       "        vertical-align: top;\n",
       "    }\n",
       "\n",
       "    .dataframe thead th {\n",
       "        text-align: right;\n",
       "    }\n",
       "</style>\n",
       "<table border=\"1\" class=\"dataframe\">\n",
       "  <thead>\n",
       "    <tr style=\"text-align: right;\">\n",
       "      <th></th>\n",
       "      <th>date</th>\n",
       "      <th>final.output.concentrate_ag</th>\n",
       "      <th>final.output.concentrate_pb</th>\n",
       "      <th>final.output.concentrate_sol</th>\n",
       "      <th>final.output.concentrate_au</th>\n",
       "      <th>final.output.recovery</th>\n",
       "      <th>final.output.tail_ag</th>\n",
       "      <th>final.output.tail_pb</th>\n",
       "      <th>final.output.tail_sol</th>\n",
       "      <th>final.output.tail_au</th>\n",
       "      <th>...</th>\n",
       "      <th>secondary_cleaner.state.floatbank4_a_level</th>\n",
       "      <th>secondary_cleaner.state.floatbank4_b_air</th>\n",
       "      <th>secondary_cleaner.state.floatbank4_b_level</th>\n",
       "      <th>secondary_cleaner.state.floatbank5_a_air</th>\n",
       "      <th>secondary_cleaner.state.floatbank5_a_level</th>\n",
       "      <th>secondary_cleaner.state.floatbank5_b_air</th>\n",
       "      <th>secondary_cleaner.state.floatbank5_b_level</th>\n",
       "      <th>secondary_cleaner.state.floatbank6_a_air</th>\n",
       "      <th>secondary_cleaner.state.floatbank6_a_level</th>\n",
       "      <th>date_datetime</th>\n",
       "    </tr>\n",
       "  </thead>\n",
       "  <tbody>\n",
       "    <tr>\n",
       "      <th>0</th>\n",
       "      <td>2016-01-15 00:00:00</td>\n",
       "      <td>6.055403</td>\n",
       "      <td>9.889648</td>\n",
       "      <td>5.507324</td>\n",
       "      <td>42.192020</td>\n",
       "      <td>70.541216</td>\n",
       "      <td>10.411962</td>\n",
       "      <td>0.895447</td>\n",
       "      <td>16.904297</td>\n",
       "      <td>2.143149</td>\n",
       "      <td>...</td>\n",
       "      <td>-502.488007</td>\n",
       "      <td>12.099931</td>\n",
       "      <td>-504.715942</td>\n",
       "      <td>9.925633</td>\n",
       "      <td>-498.310211</td>\n",
       "      <td>8.079666</td>\n",
       "      <td>-500.470978</td>\n",
       "      <td>14.151341</td>\n",
       "      <td>-605.841980</td>\n",
       "      <td>2016-01-15 00:00:00</td>\n",
       "    </tr>\n",
       "    <tr>\n",
       "      <th>1</th>\n",
       "      <td>2016-01-15 01:00:00</td>\n",
       "      <td>6.029369</td>\n",
       "      <td>9.968944</td>\n",
       "      <td>5.257781</td>\n",
       "      <td>42.701629</td>\n",
       "      <td>69.266198</td>\n",
       "      <td>10.462676</td>\n",
       "      <td>0.927452</td>\n",
       "      <td>16.634514</td>\n",
       "      <td>2.224930</td>\n",
       "      <td>...</td>\n",
       "      <td>-505.503262</td>\n",
       "      <td>11.950531</td>\n",
       "      <td>-501.331529</td>\n",
       "      <td>10.039245</td>\n",
       "      <td>-500.169983</td>\n",
       "      <td>7.984757</td>\n",
       "      <td>-500.582168</td>\n",
       "      <td>13.998353</td>\n",
       "      <td>-599.787184</td>\n",
       "      <td>2016-01-15 01:00:00</td>\n",
       "    </tr>\n",
       "    <tr>\n",
       "      <th>2</th>\n",
       "      <td>2016-01-15 02:00:00</td>\n",
       "      <td>6.055926</td>\n",
       "      <td>10.213995</td>\n",
       "      <td>5.383759</td>\n",
       "      <td>42.657501</td>\n",
       "      <td>68.116445</td>\n",
       "      <td>10.507046</td>\n",
       "      <td>0.953716</td>\n",
       "      <td>16.208849</td>\n",
       "      <td>2.257889</td>\n",
       "      <td>...</td>\n",
       "      <td>-502.520901</td>\n",
       "      <td>11.912783</td>\n",
       "      <td>-501.133383</td>\n",
       "      <td>10.070913</td>\n",
       "      <td>-500.129135</td>\n",
       "      <td>8.013877</td>\n",
       "      <td>-500.517572</td>\n",
       "      <td>14.028663</td>\n",
       "      <td>-601.427363</td>\n",
       "      <td>2016-01-15 02:00:00</td>\n",
       "    </tr>\n",
       "    <tr>\n",
       "      <th>3</th>\n",
       "      <td>2016-01-15 03:00:00</td>\n",
       "      <td>6.047977</td>\n",
       "      <td>9.977019</td>\n",
       "      <td>4.858634</td>\n",
       "      <td>42.689819</td>\n",
       "      <td>68.347543</td>\n",
       "      <td>10.422762</td>\n",
       "      <td>0.883763</td>\n",
       "      <td>16.532835</td>\n",
       "      <td>2.146849</td>\n",
       "      <td>...</td>\n",
       "      <td>-500.857308</td>\n",
       "      <td>11.999550</td>\n",
       "      <td>-501.193686</td>\n",
       "      <td>9.970366</td>\n",
       "      <td>-499.201640</td>\n",
       "      <td>7.977324</td>\n",
       "      <td>-500.255908</td>\n",
       "      <td>14.005551</td>\n",
       "      <td>-599.996129</td>\n",
       "      <td>2016-01-15 03:00:00</td>\n",
       "    </tr>\n",
       "    <tr>\n",
       "      <th>4</th>\n",
       "      <td>2016-01-15 04:00:00</td>\n",
       "      <td>6.148599</td>\n",
       "      <td>10.142511</td>\n",
       "      <td>4.939416</td>\n",
       "      <td>42.774141</td>\n",
       "      <td>66.927016</td>\n",
       "      <td>10.360302</td>\n",
       "      <td>0.792826</td>\n",
       "      <td>16.525686</td>\n",
       "      <td>2.055292</td>\n",
       "      <td>...</td>\n",
       "      <td>-499.838632</td>\n",
       "      <td>11.953070</td>\n",
       "      <td>-501.053894</td>\n",
       "      <td>9.925709</td>\n",
       "      <td>-501.686727</td>\n",
       "      <td>7.894242</td>\n",
       "      <td>-500.356035</td>\n",
       "      <td>13.996647</td>\n",
       "      <td>-601.496691</td>\n",
       "      <td>2016-01-15 04:00:00</td>\n",
       "    </tr>\n",
       "  </tbody>\n",
       "</table>\n",
       "<p>5 rows × 88 columns</p>\n",
       "</div>"
      ],
      "text/plain": [
       "                  date  final.output.concentrate_ag  \\\n",
       "0  2016-01-15 00:00:00                     6.055403   \n",
       "1  2016-01-15 01:00:00                     6.029369   \n",
       "2  2016-01-15 02:00:00                     6.055926   \n",
       "3  2016-01-15 03:00:00                     6.047977   \n",
       "4  2016-01-15 04:00:00                     6.148599   \n",
       "\n",
       "   final.output.concentrate_pb  final.output.concentrate_sol  \\\n",
       "0                     9.889648                      5.507324   \n",
       "1                     9.968944                      5.257781   \n",
       "2                    10.213995                      5.383759   \n",
       "3                     9.977019                      4.858634   \n",
       "4                    10.142511                      4.939416   \n",
       "\n",
       "   final.output.concentrate_au  final.output.recovery  final.output.tail_ag  \\\n",
       "0                    42.192020              70.541216             10.411962   \n",
       "1                    42.701629              69.266198             10.462676   \n",
       "2                    42.657501              68.116445             10.507046   \n",
       "3                    42.689819              68.347543             10.422762   \n",
       "4                    42.774141              66.927016             10.360302   \n",
       "\n",
       "   final.output.tail_pb  final.output.tail_sol  final.output.tail_au  ...  \\\n",
       "0              0.895447              16.904297              2.143149  ...   \n",
       "1              0.927452              16.634514              2.224930  ...   \n",
       "2              0.953716              16.208849              2.257889  ...   \n",
       "3              0.883763              16.532835              2.146849  ...   \n",
       "4              0.792826              16.525686              2.055292  ...   \n",
       "\n",
       "   secondary_cleaner.state.floatbank4_a_level  \\\n",
       "0                                 -502.488007   \n",
       "1                                 -505.503262   \n",
       "2                                 -502.520901   \n",
       "3                                 -500.857308   \n",
       "4                                 -499.838632   \n",
       "\n",
       "   secondary_cleaner.state.floatbank4_b_air  \\\n",
       "0                                 12.099931   \n",
       "1                                 11.950531   \n",
       "2                                 11.912783   \n",
       "3                                 11.999550   \n",
       "4                                 11.953070   \n",
       "\n",
       "   secondary_cleaner.state.floatbank4_b_level  \\\n",
       "0                                 -504.715942   \n",
       "1                                 -501.331529   \n",
       "2                                 -501.133383   \n",
       "3                                 -501.193686   \n",
       "4                                 -501.053894   \n",
       "\n",
       "   secondary_cleaner.state.floatbank5_a_air  \\\n",
       "0                                  9.925633   \n",
       "1                                 10.039245   \n",
       "2                                 10.070913   \n",
       "3                                  9.970366   \n",
       "4                                  9.925709   \n",
       "\n",
       "   secondary_cleaner.state.floatbank5_a_level  \\\n",
       "0                                 -498.310211   \n",
       "1                                 -500.169983   \n",
       "2                                 -500.129135   \n",
       "3                                 -499.201640   \n",
       "4                                 -501.686727   \n",
       "\n",
       "   secondary_cleaner.state.floatbank5_b_air  \\\n",
       "0                                  8.079666   \n",
       "1                                  7.984757   \n",
       "2                                  8.013877   \n",
       "3                                  7.977324   \n",
       "4                                  7.894242   \n",
       "\n",
       "   secondary_cleaner.state.floatbank5_b_level  \\\n",
       "0                                 -500.470978   \n",
       "1                                 -500.582168   \n",
       "2                                 -500.517572   \n",
       "3                                 -500.255908   \n",
       "4                                 -500.356035   \n",
       "\n",
       "   secondary_cleaner.state.floatbank6_a_air  \\\n",
       "0                                 14.151341   \n",
       "1                                 13.998353   \n",
       "2                                 14.028663   \n",
       "3                                 14.005551   \n",
       "4                                 13.996647   \n",
       "\n",
       "   secondary_cleaner.state.floatbank6_a_level       date_datetime  \n",
       "0                                 -605.841980 2016-01-15 00:00:00  \n",
       "1                                 -599.787184 2016-01-15 01:00:00  \n",
       "2                                 -601.427363 2016-01-15 02:00:00  \n",
       "3                                 -599.996129 2016-01-15 03:00:00  \n",
       "4                                 -601.496691 2016-01-15 04:00:00  \n",
       "\n",
       "[5 rows x 88 columns]"
      ]
     },
     "execution_count": 34,
     "metadata": {},
     "output_type": "execute_result"
    }
   ],
   "source": [
    "data_full.head()"
   ]
  },
  {
   "cell_type": "markdown",
   "metadata": {},
   "source": [
    "### Проверка правильности формулы эффективности обогащения"
   ]
  },
  {
   "cell_type": "markdown",
   "metadata": {},
   "source": [
    "Теперь стоит проверить, что эффективность обогащения рассчитана правильно. "
   ]
  },
  {
   "cell_type": "code",
   "execution_count": 35,
   "metadata": {},
   "outputs": [],
   "source": [
    "C = data_train_copy['rougher.output.concentrate_au']\n",
    "F = data_train_copy['rougher.input.feed_au']\n",
    "T = data_train_copy['rougher.output.tail_au']"
   ]
  },
  {
   "cell_type": "code",
   "execution_count": 36,
   "metadata": {},
   "outputs": [
    {
     "data": {
      "text/html": [
       "<div>\n",
       "<style scoped>\n",
       "    .dataframe tbody tr th:only-of-type {\n",
       "        vertical-align: middle;\n",
       "    }\n",
       "\n",
       "    .dataframe tbody tr th {\n",
       "        vertical-align: top;\n",
       "    }\n",
       "\n",
       "    .dataframe thead th {\n",
       "        text-align: right;\n",
       "    }\n",
       "</style>\n",
       "<table border=\"1\" class=\"dataframe\">\n",
       "  <thead>\n",
       "    <tr style=\"text-align: right;\">\n",
       "      <th></th>\n",
       "      <th>rougher.output.recovery</th>\n",
       "      <th>new_rougher_recovery</th>\n",
       "    </tr>\n",
       "  </thead>\n",
       "  <tbody>\n",
       "    <tr>\n",
       "      <th>0</th>\n",
       "      <td>87.107763</td>\n",
       "      <td>87.107763</td>\n",
       "    </tr>\n",
       "    <tr>\n",
       "      <th>1</th>\n",
       "      <td>86.843261</td>\n",
       "      <td>86.843261</td>\n",
       "    </tr>\n",
       "    <tr>\n",
       "      <th>2</th>\n",
       "      <td>86.842308</td>\n",
       "      <td>86.842308</td>\n",
       "    </tr>\n",
       "    <tr>\n",
       "      <th>3</th>\n",
       "      <td>87.226430</td>\n",
       "      <td>87.226430</td>\n",
       "    </tr>\n",
       "    <tr>\n",
       "      <th>4</th>\n",
       "      <td>86.688794</td>\n",
       "      <td>86.688794</td>\n",
       "    </tr>\n",
       "    <tr>\n",
       "      <th>...</th>\n",
       "      <td>...</td>\n",
       "      <td>...</td>\n",
       "    </tr>\n",
       "    <tr>\n",
       "      <th>14144</th>\n",
       "      <td>89.574376</td>\n",
       "      <td>89.574376</td>\n",
       "    </tr>\n",
       "    <tr>\n",
       "      <th>14145</th>\n",
       "      <td>87.724007</td>\n",
       "      <td>87.724007</td>\n",
       "    </tr>\n",
       "    <tr>\n",
       "      <th>14146</th>\n",
       "      <td>88.890579</td>\n",
       "      <td>88.890579</td>\n",
       "    </tr>\n",
       "    <tr>\n",
       "      <th>14147</th>\n",
       "      <td>89.858126</td>\n",
       "      <td>89.858126</td>\n",
       "    </tr>\n",
       "    <tr>\n",
       "      <th>14148</th>\n",
       "      <td>89.514960</td>\n",
       "      <td>89.514960</td>\n",
       "    </tr>\n",
       "  </tbody>\n",
       "</table>\n",
       "<p>14149 rows × 2 columns</p>\n",
       "</div>"
      ],
      "text/plain": [
       "       rougher.output.recovery  new_rougher_recovery\n",
       "0                    87.107763             87.107763\n",
       "1                    86.843261             86.843261\n",
       "2                    86.842308             86.842308\n",
       "3                    87.226430             87.226430\n",
       "4                    86.688794             86.688794\n",
       "...                        ...                   ...\n",
       "14144                89.574376             89.574376\n",
       "14145                87.724007             87.724007\n",
       "14146                88.890579             88.890579\n",
       "14147                89.858126             89.858126\n",
       "14148                89.514960             89.514960\n",
       "\n",
       "[14149 rows x 2 columns]"
      ]
     },
     "execution_count": 36,
     "metadata": {},
     "output_type": "execute_result"
    }
   ],
   "source": [
    "data_train_copy['new_rougher_recovery'] = (C*(F-T))/(F*(C-T))*100\n",
    "data_train_copy[['rougher.output.recovery','new_rougher_recovery']]"
   ]
  },
  {
   "cell_type": "code",
   "execution_count": 37,
   "metadata": {},
   "outputs": [
    {
     "data": {
      "text/plain": [
       "9.649249696983847e-15"
      ]
     },
     "execution_count": 37,
     "metadata": {},
     "output_type": "execute_result"
    }
   ],
   "source": [
    "mae(data_train_copy['rougher.output.recovery'], data_train_copy['new_rougher_recovery'])"
   ]
  },
  {
   "cell_type": "markdown",
   "metadata": {},
   "source": [
    "**Вывод:** показатель MAE достаточно блиок к 0, чтобы заключить, что рассчет эффективности обогащения указан правильно."
   ]
  },
  {
   "cell_type": "markdown",
   "metadata": {},
   "source": [
    "### Поиск отсутствующих признаков в тестовой выборке"
   ]
  },
  {
   "cell_type": "markdown",
   "metadata": {},
   "source": [
    "Теперь я выясню, какие признаки отсутствуют в датасете с тестовой выборкой. "
   ]
  },
  {
   "cell_type": "code",
   "execution_count": 38,
   "metadata": {},
   "outputs": [
    {
     "name": "stdout",
     "output_type": "stream",
     "text": [
      "rougher.output.tail_pb\n",
      "new_rougher_recovery\n",
      "primary_cleaner.output.concentrate_au\n",
      "final.output.concentrate_sol\n",
      "primary_cleaner.output.tail_au\n",
      "primary_cleaner.output.tail_pb\n",
      "final.output.concentrate_au\n",
      "final.output.tail_sol\n",
      "secondary_cleaner.output.tail_au\n",
      "rougher.output.recovery\n",
      "rougher.output.tail_ag\n",
      "rougher.output.tail_au\n",
      "rougher.calculation.au_pb_ratio\n",
      "primary_cleaner.output.tail_sol\n",
      "rougher.calculation.sulfate_to_au_concentrate\n",
      "primary_cleaner.output.tail_ag\n",
      "secondary_cleaner.output.tail_sol\n",
      "rougher.calculation.floatbank10_sulfate_to_au_feed\n",
      "final.output.tail_au\n",
      "rougher.output.concentrate_au\n",
      "primary_cleaner.output.concentrate_pb\n",
      "final.output.recovery\n",
      "secondary_cleaner.output.tail_ag\n",
      "primary_cleaner.output.concentrate_sol\n",
      "rougher.calculation.floatbank11_sulfate_to_au_feed\n",
      "final.output.concentrate_ag\n",
      "rougher.output.tail_sol\n",
      "final.output.tail_ag\n",
      "final.output.concentrate_pb\n",
      "rougher.output.concentrate_sol\n",
      "final.output.tail_pb\n",
      "rougher.output.concentrate_ag\n",
      "secondary_cleaner.output.tail_pb\n",
      "primary_cleaner.output.concentrate_ag\n",
      "rougher.output.concentrate_pb\n"
     ]
    },
    {
     "data": {
      "text/plain": [
       "35"
      ]
     },
     "execution_count": 38,
     "metadata": {},
     "output_type": "execute_result"
    }
   ],
   "source": [
    "result=list(set(data_train_copy.columns) - set(data_test_copy.columns))\n",
    "print(*result, sep='\\n')\n",
    "len(result)"
   ]
  },
  {
   "cell_type": "code",
   "execution_count": 39,
   "metadata": {},
   "outputs": [
    {
     "data": {
      "text/plain": [
       "['rougher.output.tail_pb',\n",
       " 'new_rougher_recovery',\n",
       " 'rougher.output.recovery',\n",
       " 'rougher.output.tail_ag',\n",
       " 'rougher.output.tail_au',\n",
       " 'rougher.calculation.au_pb_ratio',\n",
       " 'rougher.calculation.sulfate_to_au_concentrate',\n",
       " 'rougher.calculation.floatbank10_sulfate_to_au_feed',\n",
       " 'rougher.output.concentrate_au',\n",
       " 'rougher.calculation.floatbank11_sulfate_to_au_feed',\n",
       " 'rougher.output.tail_sol',\n",
       " 'rougher.output.concentrate_sol',\n",
       " 'rougher.output.concentrate_ag',\n",
       " 'rougher.output.concentrate_pb',\n",
       " 'primary_cleaner.output.concentrate_au',\n",
       " 'primary_cleaner.output.tail_au',\n",
       " 'primary_cleaner.output.tail_pb',\n",
       " 'primary_cleaner.output.tail_sol',\n",
       " 'primary_cleaner.output.tail_ag',\n",
       " 'primary_cleaner.output.concentrate_pb',\n",
       " 'primary_cleaner.output.concentrate_sol',\n",
       " 'primary_cleaner.output.concentrate_ag',\n",
       " 'secondary_cleaner.output.tail_au',\n",
       " 'secondary_cleaner.output.tail_sol',\n",
       " 'secondary_cleaner.output.tail_ag',\n",
       " 'secondary_cleaner.output.tail_pb',\n",
       " 'final.output.concentrate_sol',\n",
       " 'final.output.concentrate_au',\n",
       " 'final.output.tail_sol',\n",
       " 'final.output.tail_au',\n",
       " 'final.output.recovery',\n",
       " 'final.output.concentrate_ag',\n",
       " 'final.output.tail_ag',\n",
       " 'final.output.concentrate_pb',\n",
       " 'final.output.tail_pb']"
      ]
     },
     "execution_count": 39,
     "metadata": {},
     "output_type": "execute_result"
    }
   ],
   "source": [
    "result_new = []\n",
    "for a in result:\n",
    "    if 'date' in a:\n",
    "        result_new.append(a)\n",
    "for a in result:\n",
    "    if 'rougher' in a:\n",
    "        result_new.append(a)\n",
    "for a in result:\n",
    "    if 'primary_cleaner' in a:\n",
    "        result_new.append(a)\n",
    "for a in result:\n",
    "    if 'secondary_cleaner' in a:\n",
    "        result_new.append(a)\n",
    "for a in result:\n",
    "    if 'final' in a:\n",
    "        result_new.append(a)\n",
    "\n",
    "result_new"
   ]
  },
  {
   "cell_type": "code",
   "execution_count": 40,
   "metadata": {},
   "outputs": [
    {
     "data": {
      "text/plain": [
       "[]"
      ]
     },
     "execution_count": 40,
     "metadata": {},
     "output_type": "execute_result"
    }
   ],
   "source": [
    "result_t=list(set(data_full_copy.columns) - set(data_train_copy.columns))\n",
    "result_t"
   ]
  },
  {
   "cell_type": "markdown",
   "metadata": {},
   "source": [
    "**Вывод:** в датасете тестовой выборки от заказчика нет данных по параметрам продукта после каждого из этапов обработки сырья, а также рассчетные характеристики так же на каждом из этапов обработки и полностью отсутсвуют данные по финальным характеристикам. Я могу это объяснить тем, что в данных по тестовой выборке только \"изначальные\" параметры. Т.е не те, которые можно посчитать промежуточно, что является некоторыми показателями результатов. Следовательно, модель, предсказывающая эффективность обогащения, обученная на признаках из тестовой выборки учится на исходных данных.\n",
    "\n",
    "Чтобы обучение проходило правильно, то следует выравнить количество признаков в обучающей выборке до количества признаков в тестовой выборке. \n",
    "\n",
    "В данные по тестовой выборке будут добавлены 2 целевых признака: 'rougher.output.recovery' и 'final.output.recovery'."
   ]
  },
  {
   "cell_type": "markdown",
   "metadata": {},
   "source": [
    "### Целевые и обычные признаки для двух моделей"
   ]
  },
  {
   "cell_type": "markdown",
   "metadata": {},
   "source": [
    "Так как 2 целевые переменные, то для предсказания признака 'rougher.output.recovery' следует выделить отдельный датасет, поскольку признаками будут данные только по данному этапу (rougher)"
   ]
  },
  {
   "cell_type": "markdown",
   "metadata": {},
   "source": [
    "Для начала следует собрать отдельный датасет для предсказания 'rougher.output.recovery'"
   ]
  },
  {
   "cell_type": "code",
   "execution_count": 41,
   "metadata": {},
   "outputs": [
    {
     "data": {
      "text/plain": [
       "['date',\n",
       " 'date_datetime',\n",
       " 'rougher.input.feed_ag',\n",
       " 'rougher.input.feed_pb',\n",
       " 'rougher.input.feed_rate',\n",
       " 'rougher.input.feed_size',\n",
       " 'rougher.input.feed_sol',\n",
       " 'rougher.input.feed_au',\n",
       " 'rougher.input.floatbank10_sulfate',\n",
       " 'rougher.input.floatbank10_xanthate',\n",
       " 'rougher.input.floatbank11_sulfate',\n",
       " 'rougher.input.floatbank11_xanthate',\n",
       " 'rougher.state.floatbank10_a_air',\n",
       " 'rougher.state.floatbank10_a_level',\n",
       " 'rougher.state.floatbank10_b_air',\n",
       " 'rougher.state.floatbank10_b_level',\n",
       " 'rougher.state.floatbank10_c_air',\n",
       " 'rougher.state.floatbank10_c_level',\n",
       " 'rougher.state.floatbank10_d_air',\n",
       " 'rougher.state.floatbank10_d_level',\n",
       " 'rougher.state.floatbank10_e_air',\n",
       " 'rougher.state.floatbank10_e_level',\n",
       " 'rougher.state.floatbank10_f_air',\n",
       " 'rougher.state.floatbank10_f_level']"
      ]
     },
     "execution_count": 41,
     "metadata": {},
     "output_type": "execute_result"
    }
   ],
   "source": [
    "#признаки для обучающей выборки \n",
    "data_for_rough_columns = data_test_copy.columns\n",
    "data_for_rough_col = []\n",
    "for a in data_for_rough_columns:\n",
    "    if 'date' in a:\n",
    "        data_for_rough_col.append(a)\n",
    "for a in data_for_rough_columns:\n",
    "    if 'rougher' in a:\n",
    "        data_for_rough_col.append(a)\n",
    "\n",
    "data_for_rough_col"
   ]
  },
  {
   "cell_type": "code",
   "execution_count": 42,
   "metadata": {},
   "outputs": [],
   "source": [
    "data_for_rougher_train = pd.DataFrame(columns = ['a', 'b'])\n",
    "for a in data_for_rough_col:\n",
    "    data_for_rougher_train[a] = data_train_copy[a]\n",
    "data_for_rougher_train = data_for_rougher_train.drop(columns = ['a', 'b'])"
   ]
  },
  {
   "cell_type": "code",
   "execution_count": 43,
   "metadata": {},
   "outputs": [
    {
     "data": {
      "text/plain": [
       "(14149, 24)"
      ]
     },
     "execution_count": 43,
     "metadata": {},
     "output_type": "execute_result"
    }
   ],
   "source": [
    "data_for_rougher_train.shape"
   ]
  },
  {
   "cell_type": "markdown",
   "metadata": {},
   "source": [
    "Теперь следует присоеденить целевую переменную 'rougher.output.recovery'"
   ]
  },
  {
   "cell_type": "code",
   "execution_count": 44,
   "metadata": {},
   "outputs": [],
   "source": [
    "data_for_rougher_train = pd.merge(data_for_rougher_train, data_full[['date', 'rougher.output.recovery']], left_on='date', right_on='date')"
   ]
  },
  {
   "cell_type": "code",
   "execution_count": 45,
   "metadata": {},
   "outputs": [],
   "source": [
    "data_for_rougher_train_features = data_for_rougher_train.drop(columns = ['rougher.output.recovery'])\n",
    "data_for_rougher_train_target = data_for_rougher_train['rougher.output.recovery']"
   ]
  },
  {
   "cell_type": "code",
   "execution_count": 46,
   "metadata": {},
   "outputs": [],
   "source": [
    "#признаки для тестовой выборки\n",
    "data_for_rougher_test = pd.DataFrame(columns = ['a', 'b'])\n",
    "for a in data_for_rough_col:\n",
    "    data_for_rougher_test[a] = data_test_copy[a]\n",
    "data_for_rougher_test = data_for_rougher_test.drop(columns = ['a', 'b'])"
   ]
  },
  {
   "cell_type": "code",
   "execution_count": 47,
   "metadata": {},
   "outputs": [
    {
     "data": {
      "text/plain": [
       "(5290, 24)"
      ]
     },
     "execution_count": 47,
     "metadata": {},
     "output_type": "execute_result"
    }
   ],
   "source": [
    "data_for_rougher_test.shape"
   ]
  },
  {
   "cell_type": "code",
   "execution_count": 48,
   "metadata": {},
   "outputs": [],
   "source": [
    "data_for_rougher_test = pd.merge(data_for_rougher_test, data_full[['date', 'rougher.output.recovery']], left_on='date', right_on='date')"
   ]
  },
  {
   "cell_type": "code",
   "execution_count": 49,
   "metadata": {},
   "outputs": [],
   "source": [
    "data_for_rougher_test_features = data_for_rougher_test.drop(columns = ['rougher.output.recovery'])\n",
    "data_for_rougher_test_target = data_for_rougher_test['rougher.output.recovery']"
   ]
  },
  {
   "cell_type": "markdown",
   "metadata": {},
   "source": [
    "После того, как были сформированы необходимые датасеты, можно удалить дату и время из числа признаков"
   ]
  },
  {
   "cell_type": "code",
   "execution_count": 50,
   "metadata": {},
   "outputs": [],
   "source": [
    "data_for_rougher_train_features = data_for_rougher_train_features.drop(columns = ['date', 'date_datetime'])"
   ]
  },
  {
   "cell_type": "code",
   "execution_count": 51,
   "metadata": {},
   "outputs": [],
   "source": [
    "data_for_rougher_test_features = data_for_rougher_test_features.drop(columns = ['date', 'date_datetime'])"
   ]
  },
  {
   "cell_type": "markdown",
   "metadata": {},
   "source": [
    "Теперь следует обработать пропуски."
   ]
  },
  {
   "cell_type": "code",
   "execution_count": 52,
   "metadata": {},
   "outputs": [
    {
     "data": {
      "text/plain": [
       "rougher.input.feed_ag                   0\n",
       "rougher.input.feed_pb                 100\n",
       "rougher.input.feed_rate                 8\n",
       "rougher.input.feed_size               144\n",
       "rougher.input.feed_sol                 78\n",
       "rougher.input.feed_au                   0\n",
       "rougher.input.floatbank10_sulfate      29\n",
       "rougher.input.floatbank10_xanthate      8\n",
       "rougher.input.floatbank11_sulfate      36\n",
       "rougher.input.floatbank11_xanthate    428\n",
       "rougher.state.floatbank10_a_air         1\n",
       "rougher.state.floatbank10_a_level       1\n",
       "rougher.state.floatbank10_b_air         1\n",
       "rougher.state.floatbank10_b_level       1\n",
       "rougher.state.floatbank10_c_air         1\n",
       "rougher.state.floatbank10_c_level       1\n",
       "rougher.state.floatbank10_d_air         0\n",
       "rougher.state.floatbank10_d_level       0\n",
       "rougher.state.floatbank10_e_air       436\n",
       "rougher.state.floatbank10_e_level       0\n",
       "rougher.state.floatbank10_f_air         0\n",
       "rougher.state.floatbank10_f_level       0\n",
       "dtype: int64"
      ]
     },
     "execution_count": 52,
     "metadata": {},
     "output_type": "execute_result"
    }
   ],
   "source": [
    "data_for_rougher_train_features.isnull().sum()"
   ]
  },
  {
   "cell_type": "code",
   "execution_count": 53,
   "metadata": {},
   "outputs": [
    {
     "data": {
      "text/plain": [
       "rougher.input.feed_ag                  0\n",
       "rougher.input.feed_pb                  0\n",
       "rougher.input.feed_rate                3\n",
       "rougher.input.feed_size                1\n",
       "rougher.input.feed_sol                21\n",
       "rougher.input.feed_au                  0\n",
       "rougher.input.floatbank10_sulfate      5\n",
       "rougher.input.floatbank10_xanthate     0\n",
       "rougher.input.floatbank11_sulfate      8\n",
       "rougher.input.floatbank11_xanthate    25\n",
       "rougher.state.floatbank10_a_air        0\n",
       "rougher.state.floatbank10_a_level      0\n",
       "rougher.state.floatbank10_b_air        0\n",
       "rougher.state.floatbank10_b_level      0\n",
       "rougher.state.floatbank10_c_air        0\n",
       "rougher.state.floatbank10_c_level      0\n",
       "rougher.state.floatbank10_d_air        0\n",
       "rougher.state.floatbank10_d_level      0\n",
       "rougher.state.floatbank10_e_air        0\n",
       "rougher.state.floatbank10_e_level      0\n",
       "rougher.state.floatbank10_f_air        0\n",
       "rougher.state.floatbank10_f_level      0\n",
       "dtype: int64"
      ]
     },
     "execution_count": 53,
     "metadata": {},
     "output_type": "execute_result"
    }
   ],
   "source": [
    "data_for_rougher_test_features.isnull().sum()"
   ]
  },
  {
   "cell_type": "markdown",
   "metadata": {},
   "source": [
    "В условиях задания сказано, что соседние по времни результаты похожи, поэтому пропуски следует заполнить методом ffill()"
   ]
  },
  {
   "cell_type": "code",
   "execution_count": 54,
   "metadata": {},
   "outputs": [],
   "source": [
    "data_for_rougher_train_features = data_for_rougher_train_features.ffill(axis = 0)"
   ]
  },
  {
   "cell_type": "code",
   "execution_count": 55,
   "metadata": {},
   "outputs": [
    {
     "data": {
      "text/plain": [
       "(14149, 22)"
      ]
     },
     "execution_count": 55,
     "metadata": {},
     "output_type": "execute_result"
    }
   ],
   "source": [
    "data_for_rougher_train_features.shape"
   ]
  },
  {
   "cell_type": "code",
   "execution_count": 56,
   "metadata": {},
   "outputs": [],
   "source": [
    "data_for_rougher_test_features = data_for_rougher_test_features.ffill(axis = 0)"
   ]
  },
  {
   "cell_type": "code",
   "execution_count": 57,
   "metadata": {},
   "outputs": [
    {
     "data": {
      "text/plain": [
       "(5290, 22)"
      ]
     },
     "execution_count": 57,
     "metadata": {},
     "output_type": "execute_result"
    }
   ],
   "source": [
    "data_for_rougher_test_features.shape"
   ]
  },
  {
   "cell_type": "markdown",
   "metadata": {},
   "source": [
    "Теперь следует добавить в общий датасет тестовой выборки целевой признак и выравнить признаки в обучающей выборке."
   ]
  },
  {
   "cell_type": "code",
   "execution_count": 58,
   "metadata": {},
   "outputs": [],
   "source": [
    "#для обучающей выборки\n",
    "col = list(data_test_copy)\n",
    "data_for_final_train = pd.DataFrame(columns = ['a', 'b'])\n",
    "for a in col:\n",
    "    data_for_final_train[a] = data_train_copy[a]\n",
    "data_for_final_train = data_for_final_train.drop(columns = ['a', 'b'])"
   ]
  },
  {
   "cell_type": "code",
   "execution_count": 59,
   "metadata": {},
   "outputs": [
    {
     "data": {
      "text/plain": [
       "(14149, 54)"
      ]
     },
     "execution_count": 59,
     "metadata": {},
     "output_type": "execute_result"
    }
   ],
   "source": [
    "data_for_final_train.shape"
   ]
  },
  {
   "cell_type": "code",
   "execution_count": 60,
   "metadata": {},
   "outputs": [],
   "source": [
    "data_for_final_train = pd.merge(data_for_final_train, data_full[['date', 'final.output.recovery']], left_on='date', right_on='date')"
   ]
  },
  {
   "cell_type": "code",
   "execution_count": 61,
   "metadata": {},
   "outputs": [],
   "source": [
    "data_for_final_train_features = data_for_final_train.drop(columns = ['final.output.recovery'])\n",
    "data_for_final_train_target = data_for_final_train['final.output.recovery']"
   ]
  },
  {
   "cell_type": "code",
   "execution_count": 62,
   "metadata": {},
   "outputs": [],
   "source": [
    "#для тестовой выборки\n",
    "col = list(data_test_copy)\n",
    "data_for_final_test = pd.DataFrame(columns = ['a', 'b'])\n",
    "for a in col:\n",
    "    data_for_final_test[a] = data_test_copy[a]\n",
    "data_for_final_test = data_for_final_test.drop(columns = ['a', 'b'])"
   ]
  },
  {
   "cell_type": "code",
   "execution_count": 63,
   "metadata": {},
   "outputs": [
    {
     "data": {
      "text/plain": [
       "(5290, 54)"
      ]
     },
     "execution_count": 63,
     "metadata": {},
     "output_type": "execute_result"
    }
   ],
   "source": [
    "data_for_final_test.shape"
   ]
  },
  {
   "cell_type": "code",
   "execution_count": 64,
   "metadata": {},
   "outputs": [],
   "source": [
    "data_for_final_test = pd.merge(data_for_final_test, data_full[['date', 'final.output.recovery']], left_on='date', right_on='date')"
   ]
  },
  {
   "cell_type": "code",
   "execution_count": 65,
   "metadata": {},
   "outputs": [],
   "source": [
    "data_for_final_test_features = data_for_final_test.drop(columns = ['final.output.recovery'])\n",
    "data_for_final_test_target = data_for_final_test['final.output.recovery']"
   ]
  },
  {
   "cell_type": "markdown",
   "metadata": {},
   "source": [
    "После того, как были сформированы необходимые датасеты, можно удалить дату и время из числа признаков"
   ]
  },
  {
   "cell_type": "code",
   "execution_count": 66,
   "metadata": {},
   "outputs": [],
   "source": [
    "data_for_final_train_features = data_for_final_train_features.drop(columns = ['date', 'date_datetime'])\n",
    "data_for_final_test_features = data_for_final_test_features.drop(columns = ['date', 'date_datetime'])"
   ]
  },
  {
   "cell_type": "code",
   "execution_count": 67,
   "metadata": {},
   "outputs": [
    {
     "data": {
      "text/plain": [
       "(14149, 52)"
      ]
     },
     "execution_count": 67,
     "metadata": {},
     "output_type": "execute_result"
    }
   ],
   "source": [
    "data_for_final_train_features.shape"
   ]
  },
  {
   "cell_type": "markdown",
   "metadata": {},
   "source": [
    "Теперь следует обработать пропуски"
   ]
  },
  {
   "cell_type": "code",
   "execution_count": 68,
   "metadata": {},
   "outputs": [
    {
     "data": {
      "text/plain": [
       "rougher.input.feed_ag                           0\n",
       "rougher.input.feed_pb                         100\n",
       "rougher.input.feed_rate                         8\n",
       "rougher.input.feed_size                       144\n",
       "rougher.input.feed_sol                         78\n",
       "rougher.input.feed_au                           0\n",
       "rougher.input.floatbank10_sulfate              29\n",
       "rougher.input.floatbank10_xanthate              8\n",
       "rougher.input.floatbank11_sulfate              36\n",
       "rougher.input.floatbank11_xanthate            428\n",
       "rougher.state.floatbank10_a_air                 1\n",
       "rougher.state.floatbank10_a_level               1\n",
       "rougher.state.floatbank10_b_air                 1\n",
       "rougher.state.floatbank10_b_level               1\n",
       "rougher.state.floatbank10_c_air                 1\n",
       "rougher.state.floatbank10_c_level               1\n",
       "rougher.state.floatbank10_d_air                 0\n",
       "rougher.state.floatbank10_d_level               0\n",
       "rougher.state.floatbank10_e_air               436\n",
       "rougher.state.floatbank10_e_level               0\n",
       "rougher.state.floatbank10_f_air                 0\n",
       "rougher.state.floatbank10_f_level               0\n",
       "primary_cleaner.input.sulfate                  20\n",
       "primary_cleaner.input.depressant               32\n",
       "primary_cleaner.input.feed_size                 0\n",
       "primary_cleaner.input.xanthate                100\n",
       "primary_cleaner.state.floatbank8_a_air          4\n",
       "primary_cleaner.state.floatbank8_a_level        1\n",
       "primary_cleaner.state.floatbank8_b_air          4\n",
       "primary_cleaner.state.floatbank8_b_level        1\n",
       "primary_cleaner.state.floatbank8_c_air          2\n",
       "primary_cleaner.state.floatbank8_c_level        1\n",
       "primary_cleaner.state.floatbank8_d_air          3\n",
       "primary_cleaner.state.floatbank8_d_level        1\n",
       "secondary_cleaner.state.floatbank2_a_air      217\n",
       "secondary_cleaner.state.floatbank2_a_level      1\n",
       "secondary_cleaner.state.floatbank2_b_air       21\n",
       "secondary_cleaner.state.floatbank2_b_level      1\n",
       "secondary_cleaner.state.floatbank3_a_air        4\n",
       "secondary_cleaner.state.floatbank3_a_level      1\n",
       "secondary_cleaner.state.floatbank3_b_air        1\n",
       "secondary_cleaner.state.floatbank3_b_level      1\n",
       "secondary_cleaner.state.floatbank4_a_air        6\n",
       "secondary_cleaner.state.floatbank4_a_level      1\n",
       "secondary_cleaner.state.floatbank4_b_air        1\n",
       "secondary_cleaner.state.floatbank4_b_level      1\n",
       "secondary_cleaner.state.floatbank5_a_air        1\n",
       "secondary_cleaner.state.floatbank5_a_level      1\n",
       "secondary_cleaner.state.floatbank5_b_air        1\n",
       "secondary_cleaner.state.floatbank5_b_level      1\n",
       "secondary_cleaner.state.floatbank6_a_air        2\n",
       "secondary_cleaner.state.floatbank6_a_level      1\n",
       "dtype: int64"
      ]
     },
     "execution_count": 68,
     "metadata": {},
     "output_type": "execute_result"
    }
   ],
   "source": [
    "data_for_final_train_features.isnull().sum()"
   ]
  },
  {
   "cell_type": "code",
   "execution_count": 69,
   "metadata": {},
   "outputs": [
    {
     "data": {
      "text/plain": [
       "rougher.input.feed_ag                          0\n",
       "rougher.input.feed_pb                          0\n",
       "rougher.input.feed_rate                        3\n",
       "rougher.input.feed_size                        1\n",
       "rougher.input.feed_sol                        21\n",
       "rougher.input.feed_au                          0\n",
       "rougher.input.floatbank10_sulfate              5\n",
       "rougher.input.floatbank10_xanthate             0\n",
       "rougher.input.floatbank11_sulfate              8\n",
       "rougher.input.floatbank11_xanthate            25\n",
       "rougher.state.floatbank10_a_air                0\n",
       "rougher.state.floatbank10_a_level              0\n",
       "rougher.state.floatbank10_b_air                0\n",
       "rougher.state.floatbank10_b_level              0\n",
       "rougher.state.floatbank10_c_air                0\n",
       "rougher.state.floatbank10_c_level              0\n",
       "rougher.state.floatbank10_d_air                0\n",
       "rougher.state.floatbank10_d_level              0\n",
       "rougher.state.floatbank10_e_air                0\n",
       "rougher.state.floatbank10_e_level              0\n",
       "rougher.state.floatbank10_f_air                0\n",
       "rougher.state.floatbank10_f_level              0\n",
       "primary_cleaner.input.sulfate                  4\n",
       "primary_cleaner.input.depressant               5\n",
       "primary_cleaner.input.feed_size                0\n",
       "primary_cleaner.input.xanthate                 4\n",
       "primary_cleaner.state.floatbank8_a_air         0\n",
       "primary_cleaner.state.floatbank8_a_level       0\n",
       "primary_cleaner.state.floatbank8_b_air         0\n",
       "primary_cleaner.state.floatbank8_b_level       0\n",
       "primary_cleaner.state.floatbank8_c_air         0\n",
       "primary_cleaner.state.floatbank8_c_level       0\n",
       "primary_cleaner.state.floatbank8_d_air         0\n",
       "primary_cleaner.state.floatbank8_d_level       0\n",
       "secondary_cleaner.state.floatbank2_a_air       3\n",
       "secondary_cleaner.state.floatbank2_a_level     0\n",
       "secondary_cleaner.state.floatbank2_b_air       2\n",
       "secondary_cleaner.state.floatbank2_b_level     0\n",
       "secondary_cleaner.state.floatbank3_a_air       9\n",
       "secondary_cleaner.state.floatbank3_a_level     0\n",
       "secondary_cleaner.state.floatbank3_b_air       0\n",
       "secondary_cleaner.state.floatbank3_b_level     0\n",
       "secondary_cleaner.state.floatbank4_a_air       0\n",
       "secondary_cleaner.state.floatbank4_a_level     0\n",
       "secondary_cleaner.state.floatbank4_b_air       0\n",
       "secondary_cleaner.state.floatbank4_b_level     0\n",
       "secondary_cleaner.state.floatbank5_a_air       0\n",
       "secondary_cleaner.state.floatbank5_a_level     0\n",
       "secondary_cleaner.state.floatbank5_b_air       0\n",
       "secondary_cleaner.state.floatbank5_b_level     0\n",
       "secondary_cleaner.state.floatbank6_a_air       0\n",
       "secondary_cleaner.state.floatbank6_a_level     0\n",
       "dtype: int64"
      ]
     },
     "execution_count": 69,
     "metadata": {},
     "output_type": "execute_result"
    }
   ],
   "source": [
    "data_for_final_test_features.isnull().sum()"
   ]
  },
  {
   "cell_type": "markdown",
   "metadata": {},
   "source": [
    "В условиях задания сказано, что соседние по времни результаты похожи, поэтому пропуски следует заполнить методом ffill()"
   ]
  },
  {
   "cell_type": "code",
   "execution_count": 70,
   "metadata": {},
   "outputs": [],
   "source": [
    "data_for_final_train_features = data_for_final_train_features.ffill(axis = 0)"
   ]
  },
  {
   "cell_type": "code",
   "execution_count": 71,
   "metadata": {},
   "outputs": [],
   "source": [
    "data_for_final_test_features = data_for_final_test_features.ffill(axis = 0)"
   ]
  },
  {
   "cell_type": "markdown",
   "metadata": {},
   "source": [
    "Теперь следует посмотреть на размах значений и на то, чтобы минимальное значение не было равно 0"
   ]
  },
  {
   "cell_type": "code",
   "execution_count": 72,
   "metadata": {},
   "outputs": [
    {
     "name": "stdout",
     "output_type": "stream",
     "text": [
      "rougher.input.feed_ag 0.0099999997764825\n",
      "rougher.input.feed_ag 14.586025957066234\n",
      "\n",
      "rougher.input.feed_pb 0.0099999997764825\n",
      "rougher.input.feed_pb 7.13259410350687\n",
      "\n",
      "rougher.input.feed_rate 0.0127856991420211\n",
      "rougher.input.feed_rate 717.4960514185008\n",
      "\n",
      "rougher.input.feed_size 9.659576314610517\n",
      "rougher.input.feed_size 475.30789017936297\n",
      "\n",
      "rougher.input.feed_sol 0.0099999997764825\n",
      "rougher.input.feed_sol 48.35317715349298\n",
      "\n",
      "rougher.input.feed_au 0.0099999997764825\n",
      "rougher.input.feed_au 13.116042673163461\n",
      "\n",
      "rougher.input.floatbank10_sulfate 0.0010831123366383\n",
      "rougher.input.floatbank10_sulfate 36.117191626939444\n",
      "\n",
      "rougher.input.floatbank10_xanthate 0.0014276846764186\n",
      "rougher.input.floatbank10_xanthate 9.702020356168614\n",
      "\n",
      "rougher.input.floatbank11_sulfate 9.787336238683812e-05\n",
      "rougher.input.floatbank11_sulfate 37.98055000766388\n",
      "\n",
      "rougher.input.floatbank11_xanthate 0.0002904125738132\n",
      "rougher.input.floatbank11_xanthate 9.698116455158631\n",
      "\n",
      "rougher.state.floatbank10_a_air -0.0410779188834095\n",
      "rougher.state.floatbank10_a_air 1522.0214501590965\n",
      "\n",
      "rougher.state.floatbank10_a_level -650.2028808194036\n",
      "rougher.state.floatbank10_a_level 369.1635822763507\n",
      "\n",
      "rougher.state.floatbank10_b_air -0.6533838308011395\n",
      "rougher.state.floatbank10_b_air 1809.8473918319796\n",
      "\n",
      "rougher.state.floatbank10_b_level -650.2600075387917\n",
      "rougher.state.floatbank10_b_level 353.876927575065\n",
      "\n",
      "rougher.state.floatbank10_c_air -0.0351123302814346\n",
      "rougher.state.floatbank10_c_air 2499.1642864308246\n",
      "\n",
      "rougher.state.floatbank10_c_level -640.9956273638282\n",
      "rougher.state.floatbank10_c_level 348.8401185957178\n",
      "\n",
      "rougher.state.floatbank10_d_air -0.5542986530066452\n",
      "rougher.state.floatbank10_d_air 1817.7535891291427\n",
      "\n",
      "rougher.state.floatbank10_d_level -640.5190028250543\n",
      "rougher.state.floatbank10_d_level 432.18832983466655\n",
      "\n",
      "rougher.state.floatbank10_e_air -1.9702753456295568\n",
      "rougher.state.floatbank10_e_air 1924.606912006386\n",
      "\n",
      "rougher.state.floatbank10_e_level -649.443910909439\n",
      "rougher.state.floatbank10_e_level 377.2443131449069\n",
      "\n",
      "rougher.state.floatbank10_f_air -2.4305872521028933\n",
      "rougher.state.floatbank10_f_air 1708.738089668294\n",
      "\n",
      "rougher.state.floatbank10_f_level -649.8809814453125\n",
      "rougher.state.floatbank10_f_level 458.1625016735241\n",
      "\n"
     ]
    }
   ],
   "source": [
    "df = list(data_for_rougher_train_features.columns)\n",
    "for a in df:\n",
    "    print(a, data_for_rougher_train_features[a].min())\n",
    "    print(a, data_for_rougher_train_features[a].max() - data_for_rougher_train_features[a].min())\n",
    "    print('')"
   ]
  },
  {
   "cell_type": "code",
   "execution_count": 73,
   "metadata": {},
   "outputs": [
    {
     "name": "stdout",
     "output_type": "stream",
     "text": [
      "rougher.input.feed_ag 0.5684411845052392\n",
      "rougher.input.feed_ag 13.837688986339652\n",
      "\n",
      "rougher.input.feed_pb 0.2736769164379714\n",
      "rougher.input.feed_pb 6.632007322764104\n",
      "\n",
      "rougher.input.feed_rate 0.0029858485129813\n",
      "rougher.input.feed_rate 707.3610339440353\n",
      "\n",
      "rougher.input.feed_size 0.0463687988171973\n",
      "rougher.input.feed_size 392.4476713899722\n",
      "\n",
      "rougher.input.feed_sol 1.393488135708289\n",
      "rougher.input.feed_sol 52.08425391531032\n",
      "\n",
      "rougher.input.feed_au 0.5686321560663158\n",
      "rougher.input.feed_au 13.162697783229078\n",
      "\n",
      "rougher.input.floatbank10_sulfate 0.001147460365062\n",
      "rougher.input.floatbank10_sulfate 24.27948807587617\n",
      "\n",
      "rougher.input.floatbank10_xanthate 0.0005682328020511\n",
      "rougher.input.floatbank10_xanthate 8.909899894012762\n",
      "\n",
      "rougher.input.floatbank11_sulfate 7.673763797536891e-05\n",
      "rougher.input.floatbank11_sulfate 24.280888783979023\n",
      "\n",
      "rougher.input.floatbank11_xanthate 0.0069852689289993\n",
      "rougher.input.floatbank11_xanthate 8.614352252236822\n",
      "\n",
      "rougher.state.floatbank10_a_air -0.0420692901306623\n",
      "rougher.state.floatbank10_a_air 1423.3167559029673\n",
      "\n",
      "rougher.state.floatbank10_a_level -657.9497594243531\n",
      "rougher.state.floatbank10_a_level 384.17365818610017\n",
      "\n",
      "rougher.state.floatbank10_b_air -0.721806395101524\n",
      "rougher.state.floatbank10_b_air 1707.3622258001167\n",
      "\n",
      "rougher.state.floatbank10_b_level -650.2452773289659\n",
      "rougher.state.floatbank10_b_level 352.04522672526497\n",
      "\n",
      "rougher.state.floatbank10_c_air -0.0566355064511299\n",
      "rougher.state.floatbank10_c_air 1731.0744232748382\n",
      "\n",
      "rougher.state.floatbank10_c_level -647.5444393129106\n",
      "rougher.state.floatbank10_c_level 349.5075870096237\n",
      "\n",
      "rougher.state.floatbank10_d_air -0.9922190308570862\n",
      "rougher.state.floatbank10_d_air 1776.2108035170954\n",
      "\n",
      "rougher.state.floatbank10_d_level -648.3906653215574\n",
      "rougher.state.floatbank10_d_level 571.9933387975223\n",
      "\n",
      "rougher.state.floatbank10_e_air -1.9822953939437864\n",
      "rougher.state.floatbank10_e_air 1469.1671381529593\n",
      "\n",
      "rougher.state.floatbank10_e_level -649.2675371220315\n",
      "rougher.state.floatbank10_e_level 509.5145122996867\n",
      "\n",
      "rougher.state.floatbank10_f_air -2.5933895111083984\n",
      "rougher.state.floatbank10_f_air 1479.1814964493765\n",
      "\n",
      "rougher.state.floatbank10_f_level -649.9492825412451\n",
      "rougher.state.floatbank10_f_level 400.1482399777458\n",
      "\n"
     ]
    }
   ],
   "source": [
    "df = list(data_for_rougher_test_features.columns)\n",
    "for a in df:\n",
    "    print(a, data_for_rougher_test_features[a].min())\n",
    "    print(a, data_for_rougher_test_features[a].max() - data_for_rougher_test_features[a].min())\n",
    "    print('')"
   ]
  },
  {
   "cell_type": "code",
   "execution_count": 74,
   "metadata": {},
   "outputs": [
    {
     "name": "stdout",
     "output_type": "stream",
     "text": [
      "rougher.input.feed_ag 0.0099999997764825\n",
      "rougher.input.feed_ag 14.586025957066234\n",
      "\n",
      "rougher.input.feed_pb 0.0099999997764825\n",
      "rougher.input.feed_pb 7.13259410350687\n",
      "\n",
      "rougher.input.feed_rate 0.0127856991420211\n",
      "rougher.input.feed_rate 717.4960514185008\n",
      "\n",
      "rougher.input.feed_size 9.659576314610517\n",
      "rougher.input.feed_size 475.30789017936297\n",
      "\n",
      "rougher.input.feed_sol 0.0099999997764825\n",
      "rougher.input.feed_sol 48.35317715349298\n",
      "\n",
      "rougher.input.feed_au 0.0099999997764825\n",
      "rougher.input.feed_au 13.116042673163461\n",
      "\n",
      "rougher.input.floatbank10_sulfate 0.0010831123366383\n",
      "rougher.input.floatbank10_sulfate 36.117191626939444\n",
      "\n",
      "rougher.input.floatbank10_xanthate 0.0014276846764186\n",
      "rougher.input.floatbank10_xanthate 9.702020356168614\n",
      "\n",
      "rougher.input.floatbank11_sulfate 9.787336238683812e-05\n",
      "rougher.input.floatbank11_sulfate 37.98055000766388\n",
      "\n",
      "rougher.input.floatbank11_xanthate 0.0002904125738132\n",
      "rougher.input.floatbank11_xanthate 9.698116455158631\n",
      "\n",
      "rougher.state.floatbank10_a_air -0.0410779188834095\n",
      "rougher.state.floatbank10_a_air 1522.0214501590965\n",
      "\n",
      "rougher.state.floatbank10_a_level -650.2028808194036\n",
      "rougher.state.floatbank10_a_level 369.1635822763507\n",
      "\n",
      "rougher.state.floatbank10_b_air -0.6533838308011395\n",
      "rougher.state.floatbank10_b_air 1809.8473918319796\n",
      "\n",
      "rougher.state.floatbank10_b_level -650.2600075387917\n",
      "rougher.state.floatbank10_b_level 353.876927575065\n",
      "\n",
      "rougher.state.floatbank10_c_air -0.0351123302814346\n",
      "rougher.state.floatbank10_c_air 2499.1642864308246\n",
      "\n",
      "rougher.state.floatbank10_c_level -640.9956273638282\n",
      "rougher.state.floatbank10_c_level 348.8401185957178\n",
      "\n",
      "rougher.state.floatbank10_d_air -0.5542986530066452\n",
      "rougher.state.floatbank10_d_air 1817.7535891291427\n",
      "\n",
      "rougher.state.floatbank10_d_level -640.5190028250543\n",
      "rougher.state.floatbank10_d_level 432.18832983466655\n",
      "\n",
      "rougher.state.floatbank10_e_air -1.9702753456295568\n",
      "rougher.state.floatbank10_e_air 1924.606912006386\n",
      "\n",
      "rougher.state.floatbank10_e_level -649.443910909439\n",
      "rougher.state.floatbank10_e_level 377.2443131449069\n",
      "\n",
      "rougher.state.floatbank10_f_air -2.4305872521028933\n",
      "rougher.state.floatbank10_f_air 1708.738089668294\n",
      "\n",
      "rougher.state.floatbank10_f_level -649.8809814453125\n",
      "rougher.state.floatbank10_f_level 458.1625016735241\n",
      "\n",
      "primary_cleaner.input.sulfate 0.0031118198740194\n",
      "primary_cleaner.input.sulfate 250.12472232420046\n",
      "\n",
      "primary_cleaner.input.depressant 0.0\n",
      "primary_cleaner.input.depressant 20.05225542905147\n",
      "\n",
      "primary_cleaner.input.feed_size 1.0800000429153442\n",
      "primary_cleaner.input.feed_size 9.390000224113464\n",
      "\n",
      "primary_cleaner.input.xanthate 4.632753108427441e-06\n",
      "primary_cleaner.input.xanthate 2.5129637353062813\n",
      "\n",
      "primary_cleaner.state.floatbank8_a_air 0.0063521546045497\n",
      "primary_cleaner.state.floatbank8_a_air 2079.524987813159\n",
      "\n",
      "primary_cleaner.state.floatbank8_a_level -798.641661561005\n",
      "primary_cleaner.state.floatbank8_a_level 468.5074588843663\n",
      "\n",
      "primary_cleaner.state.floatbank8_b_air 0.0087004158447526\n",
      "primary_cleaner.state.floatbank8_b_air 2114.898057589513\n",
      "\n",
      "primary_cleaner.state.floatbank8_b_level -740.1221290405414\n",
      "primary_cleaner.state.floatbank8_b_level 392.76774925566576\n",
      "\n",
      "primary_cleaner.state.floatbank8_c_air 0.0151588211591271\n",
      "primary_cleaner.state.floatbank8_c_air 2013.1412982501374\n",
      "\n",
      "primary_cleaner.state.floatbank8_c_level -799.8030728238956\n",
      "primary_cleaner.state.floatbank8_c_level 453.1496230198555\n",
      "\n",
      "primary_cleaner.state.floatbank8_d_air 0.0086546087844756\n",
      "primary_cleaner.state.floatbank8_d_air 2398.8949807515082\n",
      "\n",
      "primary_cleaner.state.floatbank8_d_level -799.7885975345242\n",
      "primary_cleaner.state.floatbank8_d_level 769.1867698857654\n",
      "\n",
      "secondary_cleaner.state.floatbank2_a_air 0.0775025574958832\n",
      "secondary_cleaner.state.floatbank2_a_air 52.5738962641253\n",
      "\n",
      "secondary_cleaner.state.floatbank2_a_level -799.6064406505061\n",
      "secondary_cleaner.state.floatbank2_a_level 671.73087535856\n",
      "\n",
      "secondary_cleaner.state.floatbank2_b_air 0.0\n",
      "secondary_cleaner.state.floatbank2_b_air 35.15212196778239\n",
      "\n",
      "secondary_cleaner.state.floatbank2_b_level -799.8738782248871\n",
      "secondary_cleaner.state.floatbank2_b_level 587.809213085763\n",
      "\n",
      "secondary_cleaner.state.floatbank3_a_air 0.0\n",
      "secondary_cleaner.state.floatbank3_a_air 44.26046364951683\n",
      "\n",
      "secondary_cleaner.state.floatbank3_a_level -799.6130133845363\n",
      "secondary_cleaner.state.floatbank3_a_level 607.9342032582792\n",
      "\n",
      "secondary_cleaner.state.floatbank3_b_air 0.0\n",
      "secondary_cleaner.state.floatbank3_b_air 35.072840627699605\n",
      "\n",
      "secondary_cleaner.state.floatbank3_b_level -759.1773808972199\n",
      "secondary_cleaner.state.floatbank3_b_level 599.43505005229\n",
      "\n",
      "secondary_cleaner.state.floatbank4_a_air 0.0\n",
      "secondary_cleaner.state.floatbank4_a_air 30.115735428726765\n",
      "\n",
      "secondary_cleaner.state.floatbank4_a_level -799.7090690926949\n",
      "secondary_cleaner.state.floatbank4_a_level 554.4698854130999\n",
      "\n",
      "secondary_cleaner.state.floatbank4_b_air 0.0\n",
      "secondary_cleaner.state.floatbank4_b_air 24.007912690937637\n",
      "\n",
      "secondary_cleaner.state.floatbank4_b_level -799.8891125454303\n",
      "secondary_cleaner.state.floatbank4_b_level 654.8180244357043\n",
      "\n",
      "secondary_cleaner.state.floatbank5_a_air -0.3720539853057329\n",
      "secondary_cleaner.state.floatbank5_a_air 44.081984964628205\n",
      "\n",
      "secondary_cleaner.state.floatbank5_a_level -797.1424746400412\n",
      "secondary_cleaner.state.floatbank5_a_level 522.0693491575837\n",
      "\n",
      "secondary_cleaner.state.floatbank5_b_air 0.646207673589221\n",
      "secondary_cleaner.state.floatbank5_b_air 27.279793718996224\n",
      "\n",
      "secondary_cleaner.state.floatbank5_b_level -800.0061797584956\n",
      "secondary_cleaner.state.floatbank5_b_level 642.6101088704459\n",
      "\n",
      "secondary_cleaner.state.floatbank6_a_air 0.195324329874147\n",
      "secondary_cleaner.state.floatbank6_a_air 31.99358133113305\n",
      "\n",
      "secondary_cleaner.state.floatbank6_a_level -809.3986675137694\n",
      "secondary_cleaner.state.floatbank6_a_level 704.9712083600335\n",
      "\n"
     ]
    }
   ],
   "source": [
    "df = list(data_for_final_train_features.columns)\n",
    "for a in df:\n",
    "    print(a, data_for_final_train_features[a].min())\n",
    "    print(a, data_for_final_train_features[a].max() - data_for_final_train_features[a].min())\n",
    "    print('')"
   ]
  },
  {
   "cell_type": "code",
   "execution_count": 75,
   "metadata": {},
   "outputs": [],
   "source": [
    "data_for_final_train_features['secondary_cleaner.state.floatbank3_a_air'] = data_for_final_train_features['secondary_cleaner.state.floatbank3_a_air']>0.0"
   ]
  },
  {
   "cell_type": "code",
   "execution_count": 76,
   "metadata": {},
   "outputs": [
    {
     "data": {
      "text/plain": [
       "(14149, 52)"
      ]
     },
     "execution_count": 76,
     "metadata": {},
     "output_type": "execute_result"
    }
   ],
   "source": [
    "data_for_final_train_features.shape"
   ]
  },
  {
   "cell_type": "code",
   "execution_count": 77,
   "metadata": {},
   "outputs": [
    {
     "name": "stdout",
     "output_type": "stream",
     "text": [
      "rougher.input.feed_ag 0.5684411845052392\n",
      "rougher.input.feed_ag 13.837688986339652\n",
      "\n",
      "rougher.input.feed_pb 0.2736769164379714\n",
      "rougher.input.feed_pb 6.632007322764104\n",
      "\n",
      "rougher.input.feed_rate 0.0029858485129813\n",
      "rougher.input.feed_rate 707.3610339440353\n",
      "\n",
      "rougher.input.feed_size 0.0463687988171973\n",
      "rougher.input.feed_size 392.4476713899722\n",
      "\n",
      "rougher.input.feed_sol 1.393488135708289\n",
      "rougher.input.feed_sol 52.08425391531032\n",
      "\n",
      "rougher.input.feed_au 0.5686321560663158\n",
      "rougher.input.feed_au 13.162697783229078\n",
      "\n",
      "rougher.input.floatbank10_sulfate 0.001147460365062\n",
      "rougher.input.floatbank10_sulfate 24.27948807587617\n",
      "\n",
      "rougher.input.floatbank10_xanthate 0.0005682328020511\n",
      "rougher.input.floatbank10_xanthate 8.909899894012762\n",
      "\n",
      "rougher.input.floatbank11_sulfate 7.673763797536891e-05\n",
      "rougher.input.floatbank11_sulfate 24.280888783979023\n",
      "\n",
      "rougher.input.floatbank11_xanthate 0.0069852689289993\n",
      "rougher.input.floatbank11_xanthate 8.614352252236822\n",
      "\n",
      "rougher.state.floatbank10_a_air -0.0420692901306623\n",
      "rougher.state.floatbank10_a_air 1423.3167559029673\n",
      "\n",
      "rougher.state.floatbank10_a_level -657.9497594243531\n",
      "rougher.state.floatbank10_a_level 384.17365818610017\n",
      "\n",
      "rougher.state.floatbank10_b_air -0.721806395101524\n",
      "rougher.state.floatbank10_b_air 1707.3622258001167\n",
      "\n",
      "rougher.state.floatbank10_b_level -650.2452773289659\n",
      "rougher.state.floatbank10_b_level 352.04522672526497\n",
      "\n",
      "rougher.state.floatbank10_c_air -0.0566355064511299\n",
      "rougher.state.floatbank10_c_air 1731.0744232748382\n",
      "\n",
      "rougher.state.floatbank10_c_level -647.5444393129106\n",
      "rougher.state.floatbank10_c_level 349.5075870096237\n",
      "\n",
      "rougher.state.floatbank10_d_air -0.9922190308570862\n",
      "rougher.state.floatbank10_d_air 1776.2108035170954\n",
      "\n",
      "rougher.state.floatbank10_d_level -648.3906653215574\n",
      "rougher.state.floatbank10_d_level 571.9933387975223\n",
      "\n",
      "rougher.state.floatbank10_e_air -1.9822953939437864\n",
      "rougher.state.floatbank10_e_air 1469.1671381529593\n",
      "\n",
      "rougher.state.floatbank10_e_level -649.2675371220315\n",
      "rougher.state.floatbank10_e_level 509.5145122996867\n",
      "\n",
      "rougher.state.floatbank10_f_air -2.5933895111083984\n",
      "rougher.state.floatbank10_f_air 1479.1814964493765\n",
      "\n",
      "rougher.state.floatbank10_f_level -649.9492825412451\n",
      "rougher.state.floatbank10_f_level 400.1482399777458\n",
      "\n",
      "primary_cleaner.input.sulfate 2.5661564570019064\n",
      "primary_cleaner.input.sulfate 263.4169666064486\n",
      "\n",
      "primary_cleaner.input.depressant 0.0038394820220788\n",
      "primary_cleaner.input.depressant 39.99616051797792\n",
      "\n",
      "primary_cleaner.input.feed_size 5.6500000953674325\n",
      "primary_cleaner.input.feed_size 9.849999904632568\n",
      "\n",
      "primary_cleaner.input.xanthate 0.0049836731519751\n",
      "primary_cleaner.input.xanthate 4.097470684151382\n",
      "\n",
      "primary_cleaner.state.floatbank8_a_air 5.445860420839301e-32\n",
      "primary_cleaner.state.floatbank8_a_air 2103.103580478902\n",
      "\n",
      "primary_cleaner.state.floatbank8_a_level -795.3163374472298\n",
      "primary_cleaner.state.floatbank8_a_level 738.1209338696513\n",
      "\n",
      "primary_cleaner.state.floatbank8_b_air 6.647490353497346e-32\n",
      "primary_cleaner.state.floatbank8_b_air 1813.0836709444416\n",
      "\n",
      "primary_cleaner.state.floatbank8_b_level -799.9970152980376\n",
      "primary_cleaner.state.floatbank8_b_level 657.4697861067282\n",
      "\n",
      "primary_cleaner.state.floatbank8_c_air 4.033735633025402e-32\n",
      "primary_cleaner.state.floatbank8_c_air 1715.0537728681416\n",
      "\n",
      "primary_cleaner.state.floatbank8_c_level -799.9605712890625\n",
      "primary_cleaner.state.floatbank8_c_level 649.0235363247502\n",
      "\n",
      "primary_cleaner.state.floatbank8_d_air 4.039219625523283e-32\n",
      "primary_cleaner.state.floatbank8_d_air 1913.256560875848\n",
      "\n",
      "primary_cleaner.state.floatbank8_d_level -799.7942504882812\n",
      "primary_cleaner.state.floatbank8_d_level 640.8436770385034\n",
      "\n",
      "secondary_cleaner.state.floatbank2_a_air 0.2053286324298937\n",
      "secondary_cleaner.state.floatbank2_a_air 31.933398715323765\n",
      "\n",
      "secondary_cleaner.state.floatbank2_a_level -784.0910910378705\n",
      "secondary_cleaner.state.floatbank2_a_level 483.7474208848639\n",
      "\n",
      "secondary_cleaner.state.floatbank2_b_air 0.0060639080786559\n",
      "secondary_cleaner.state.floatbank2_b_air 28.159800341045596\n",
      "\n",
      "secondary_cleaner.state.floatbank2_b_level -797.7839887783093\n",
      "secondary_cleaner.state.floatbank2_b_level 585.7847161694294\n",
      "\n",
      "secondary_cleaner.state.floatbank3_a_air 0.0\n",
      "secondary_cleaner.state.floatbank3_a_air 40.04199696527827\n",
      "\n",
      "secondary_cleaner.state.floatbank3_a_level -799.7557983398438\n",
      "secondary_cleaner.state.floatbank3_a_level 485.88937309519713\n",
      "\n",
      "secondary_cleaner.state.floatbank3_b_air 1.5215874871349634e-17\n",
      "secondary_cleaner.state.floatbank3_b_air 32.03936453935373\n",
      "\n",
      "secondary_cleaner.state.floatbank3_b_level -809.3330078125\n",
      "secondary_cleaner.state.floatbank3_b_level 607.0556416128359\n",
      "\n",
      "secondary_cleaner.state.floatbank4_a_air 1.0798715180193196e-16\n",
      "secondary_cleaner.state.floatbank4_a_air 30.05179742406865\n",
      "\n",
      "secondary_cleaner.state.floatbank4_a_level -799.7985229492188\n",
      "secondary_cleaner.state.floatbank4_a_level 398.2333114152576\n",
      "\n",
      "secondary_cleaner.state.floatbank4_b_air 2.4897175253974346e-17\n",
      "secondary_cleaner.state.floatbank4_b_air 31.26970588999798\n",
      "\n",
      "secondary_cleaner.state.floatbank4_b_level -800.8369140625\n",
      "secondary_cleaner.state.floatbank4_b_level 794.3299279293605\n",
      "\n",
      "secondary_cleaner.state.floatbank5_a_air 0.0692266225814819\n",
      "secondary_cleaner.state.floatbank5_a_air 25.18962173989947\n",
      "\n",
      "secondary_cleaner.state.floatbank5_a_level -797.3239856681095\n",
      "secondary_cleaner.state.floatbank5_a_level 552.8404192010444\n",
      "\n",
      "secondary_cleaner.state.floatbank5_b_air 0.5280828475952148\n",
      "secondary_cleaner.state.floatbank5_b_air 13.558783204410712\n",
      "\n",
      "secondary_cleaner.state.floatbank5_b_level -800.2203369140625\n",
      "secondary_cleaner.state.floatbank5_b_level 662.4803325312066\n",
      "\n",
      "secondary_cleaner.state.floatbank6_a_air -0.0794262290000915\n",
      "secondary_cleaner.state.floatbank6_a_air 26.785315415146123\n",
      "\n",
      "secondary_cleaner.state.floatbank6_a_level -809.7414635085819\n",
      "secondary_cleaner.state.floatbank6_a_level 686.4339766866899\n",
      "\n"
     ]
    }
   ],
   "source": [
    "df = list(data_for_final_test_features.columns)\n",
    "for a in df:\n",
    "    print(a, data_for_final_test_features[a].min())\n",
    "    print(a, data_for_final_test_features[a].max() - data_for_final_test_features[a].min())\n",
    "    print('')"
   ]
  },
  {
   "cell_type": "code",
   "execution_count": 78,
   "metadata": {},
   "outputs": [],
   "source": [
    "data_for_final_test_features['secondary_cleaner.state.floatbank3_a_air'] = data_for_final_test_features['secondary_cleaner.state.floatbank3_a_air']>0.0"
   ]
  },
  {
   "cell_type": "markdown",
   "metadata": {},
   "source": [
    "Некоторые признаки обладуют большим разбросом, чем другие, поэтому рационально применить масштабирование признаков"
   ]
  },
  {
   "cell_type": "code",
   "execution_count": 79,
   "metadata": {},
   "outputs": [
    {
     "name": "stdout",
     "output_type": "stream",
     "text": [
      "(14149, 52)\n",
      "(5290, 52)\n"
     ]
    }
   ],
   "source": [
    "scaler = StandardScaler()\n",
    "scaler.fit(data_for_final_train_features)\n",
    "data_for_final_train_features = scaler.transform(data_for_final_train_features)\n",
    "data_for_final_test_features = scaler.transform(data_for_final_test_features)\n",
    "\n",
    "print(data_for_final_train_features.shape)\n",
    "print(data_for_final_test_features.shape)"
   ]
  },
  {
   "cell_type": "code",
   "execution_count": 80,
   "metadata": {},
   "outputs": [
    {
     "name": "stdout",
     "output_type": "stream",
     "text": [
      "(14149, 22)\n",
      "(5290, 22)\n"
     ]
    }
   ],
   "source": [
    "scaler = StandardScaler()\n",
    "scaler.fit(data_for_rougher_train_features)\n",
    "data_for_rougher_train_features = scaler.transform(data_for_rougher_train_features)\n",
    "data_for_rougher_test_features = scaler.transform(data_for_rougher_test_features)\n",
    "\n",
    "print(data_for_rougher_train_features.shape)\n",
    "print(data_for_rougher_test_features.shape)"
   ]
  },
  {
   "cell_type": "markdown",
   "metadata": {},
   "source": [
    "## Анализ данных"
   ]
  },
  {
   "cell_type": "markdown",
   "metadata": {},
   "source": [
    "### Исследование изменения концентрации металлов"
   ]
  },
  {
   "cell_type": "markdown",
   "metadata": {},
   "source": [
    "Для начала я исследую как меняется концентрация металлов (Au, Ag, Pb) на разных этапах очистки"
   ]
  },
  {
   "cell_type": "code",
   "execution_count": 81,
   "metadata": {},
   "outputs": [
    {
     "data": {
      "text/plain": [
       "['rougher.output.concentrate_ag',\n",
       " 'rougher.output.concentrate_pb',\n",
       " 'rougher.output.concentrate_au',\n",
       " 'primary_cleaner.output.concentrate_ag',\n",
       " 'primary_cleaner.output.concentrate_pb',\n",
       " 'primary_cleaner.output.concentrate_au',\n",
       " 'final.output.concentrate_ag',\n",
       " 'final.output.concentrate_pb',\n",
       " 'final.output.concentrate_au']"
      ]
     },
     "execution_count": 81,
     "metadata": {},
     "output_type": "execute_result"
    }
   ],
   "source": [
    "col = data_full_copy.columns\n",
    "conc_met = []\n",
    "for a in col:\n",
    "    if 'concentrate_ag' in a:\n",
    "        conc_met.append(a)\n",
    "    if 'concentrate_pb' in a:\n",
    "        conc_met.append(a)\n",
    "    if 'concentrate_au' in a:\n",
    "        conc_met.append(a)\n",
    "\n",
    "conc_met"
   ]
  },
  {
   "cell_type": "code",
   "execution_count": 82,
   "metadata": {},
   "outputs": [],
   "source": [
    "col = list(conc_met)\n",
    "conc = pd.DataFrame(columns = ['a', 'b'])\n",
    "for a in col:\n",
    "    conc[a] = data_full_copy[a]\n",
    "conc = conc.drop(columns = ['a', 'b'])"
   ]
  },
  {
   "cell_type": "code",
   "execution_count": 83,
   "metadata": {},
   "outputs": [
    {
     "data": {
      "text/plain": [
       "array([[<Axes: title={'center': 'rougher.output.concentrate_ag'}>,\n",
       "        <Axes: title={'center': 'rougher.output.concentrate_pb'}>,\n",
       "        <Axes: title={'center': 'rougher.output.concentrate_au'}>],\n",
       "       [<Axes: title={'center': 'primary_cleaner.output.concentrate_ag'}>,\n",
       "        <Axes: title={'center': 'primary_cleaner.output.concentrate_pb'}>,\n",
       "        <Axes: title={'center': 'primary_cleaner.output.concentrate_au'}>],\n",
       "       [<Axes: title={'center': 'final.output.concentrate_ag'}>,\n",
       "        <Axes: title={'center': 'final.output.concentrate_pb'}>,\n",
       "        <Axes: title={'center': 'final.output.concentrate_au'}>]],\n",
       "      dtype=object)"
      ]
     },
     "execution_count": 83,
     "metadata": {},
     "output_type": "execute_result"
    },
    {
     "data": {
      "image/png": "[encoded data removed]",
      "text/plain": [
       "<Figure size 2000x1000 with 9 Axes>"
      ]
     },
     "metadata": {},
     "output_type": "display_data"
    }
   ],
   "source": [
    "conc.hist(bins = 100, figsize = (20, 10), density=True)"
   ]
  },
  {
   "cell_type": "code",
   "execution_count": 84,
   "metadata": {},
   "outputs": [
    {
     "data": {
      "text/plain": [
       "rougher.output.concentrate_ag            12.098115\n",
       "rougher.output.concentrate_pb             7.742580\n",
       "rougher.output.concentrate_au            20.280214\n",
       "primary_cleaner.output.concentrate_ag     8.507298\n",
       "primary_cleaner.output.concentrate_pb    10.152433\n",
       "primary_cleaner.output.concentrate_au    32.841295\n",
       "final.output.concentrate_ag               5.066094\n",
       "final.output.concentrate_pb              10.102433\n",
       "final.output.concentrate_au              45.011244\n",
       "dtype: float64"
      ]
     },
     "execution_count": 84,
     "metadata": {},
     "output_type": "execute_result"
    }
   ],
   "source": [
    "conc.median()"
   ]
  },
  {
   "cell_type": "markdown",
   "metadata": {},
   "source": [
    "**Вывод:**  \n",
    "- На данных гистограммах видно, что у серебра есть тенденция к снижению концентрации (средние диапзоны после флотации 10-15% (медиана 12%), после первой очистки 7-9% (медиана 8.5%) и финальная концентрация 4-6% (медиана 5%))  \n",
    "- На данных гистограммах видно, что у свинца есть тенденция к относительно слабому повышению концентрации (средние диапзоны после флотации 7-8% (медиана 8%), после первой очистки 9-11% (медиана 10%) и финальная концентрация 9-11% (медиана 10%))\n",
    "- На данных гистограммах видно, что у золота есть тенденция к повышению концентрации (средние диапзоны после флотации 20-23% (медиана 20%), после первой очистки 32-35% (медиана 33%) и финальная концентрация 43-46% (медиана 45%))"
   ]
  },
  {
   "cell_type": "markdown",
   "metadata": {},
   "source": [
    "### Исследование распределения размера гранул на обучающей и тестовой выборках"
   ]
  },
  {
   "cell_type": "markdown",
   "metadata": {},
   "source": [
    "Теперь я исследую то, как распределяются гранулы сырья в обучающей и тестовой выборке до флотации и после."
   ]
  },
  {
   "cell_type": "code",
   "execution_count": 85,
   "metadata": {},
   "outputs": [
    {
     "data": {
      "image/png": "[encoded data removed]",
      "text/plain": [
       "<Figure size 640x480 with 1 Axes>"
      ]
     },
     "metadata": {},
     "output_type": "display_data"
    },
    {
     "data": {
      "text/plain": [
       "<Figure size 600x900 with 0 Axes>"
      ]
     },
     "metadata": {},
     "output_type": "display_data"
    }
   ],
   "source": [
    "plt.hist(data_for_final_train['rougher.input.feed_size'], alpha = 0.5, bins = 100, color = 'royalblue', density=True, label='обучающая выборка')\n",
    "plt.hist(data_for_final_test['rougher.input.feed_size'], alpha = 0.5, bins = 100, color = 'tomato', density=True, label='тестовая выборка')\n",
    "\n",
    "plt.title = 'Распределение размера гранул сырья до флотации'\n",
    "plt.legend()\n",
    "plt.xlim(0, 200)\n",
    "plt.figure(figsize=(6, 9))\n",
    "plt.show()"
   ]
  },
  {
   "cell_type": "code",
   "execution_count": 86,
   "metadata": {},
   "outputs": [
    {
     "data": {
      "text/plain": [
       "<Figure size 600x900 with 0 Axes>"
      ]
     },
     "execution_count": 86,
     "metadata": {},
     "output_type": "execute_result"
    },
    {
     "data": {
      "image/png": "[encoded data removed]",
      "text/plain": [
       "<Figure size 640x480 with 1 Axes>"
      ]
     },
     "metadata": {},
     "output_type": "display_data"
    },
    {
     "data": {
      "text/plain": [
       "<Figure size 600x900 with 0 Axes>"
      ]
     },
     "metadata": {},
     "output_type": "display_data"
    }
   ],
   "source": [
    "plt.hist(data_for_final_train['primary_cleaner.input.feed_size'],alpha = 0.5, bins = 100, color = 'royalblue', density=True, label='обучающая выборка')\n",
    "plt.hist(data_for_final_test['primary_cleaner.input.feed_size'],alpha = 0.5, bins = 100, color = 'tomato', density=True, label='тестовая выборка')\n",
    "plt.title = 'Распределение размера гранул сырья после флотации'\n",
    "plt.legend()\n",
    "plt.xlim(0, 20)\n",
    "plt.figure(figsize=(6, 9))"
   ]
  },
  {
   "cell_type": "markdown",
   "metadata": {},
   "source": [
    "**Вывод:** Если попарно проанализировать распределение до и после флотации на тестовой и обучающей выборках, то можно сделать несколько выводов:  \n",
    "- на гистограммах хорошо видно, что на обучающей выборке до флотации с большей вероятностью гранулы сырья находятся в диапазоне от 50 до 60, а то время как в тестовой выборке - от 35 до 40 (приблизительно).  \n",
    "- после флотации распределения размера гранул сырья идентичны (гистограммы практически полностью накладываются друг на друга). \n",
    "- после флотации диапазон размера гранул сырья находится в диапазоне 5.5 и 8.5"
   ]
  },
  {
   "cell_type": "markdown",
   "metadata": {},
   "source": [
    "### Исследование суммарной концентрации металлов на разных стадиях обработки"
   ]
  },
  {
   "cell_type": "markdown",
   "metadata": {},
   "source": [
    "Наконец, я проанализирую суммарную концентрацию металлов на разных стадиях: в сырье, в черновом и финальном концентратах. "
   ]
  },
  {
   "cell_type": "code",
   "execution_count": 87,
   "metadata": {},
   "outputs": [
    {
     "data": {
      "image/png": "[encoded data removed]",
      "text/plain": [
       "<Figure size 640x480 with 1 Axes>"
      ]
     },
     "metadata": {},
     "output_type": "display_data"
    },
    {
     "data": {
      "text/plain": [
       "<Figure size 600x900 with 0 Axes>"
      ]
     },
     "metadata": {},
     "output_type": "display_data"
    }
   ],
   "source": [
    "# в сырье\n",
    "plt.hist(data_full_copy['rougher.input.feed_ag'], alpha = 0.5, bins = 100, color = 'royalblue', density=True, label = 'серебро')\n",
    "plt.hist(data_full_copy['rougher.input.feed_au'], alpha = 0.5, bins = 100, color = 'black', density=True, label = 'золото')\n",
    "plt.hist(data_full_copy['rougher.input.feed_pb'], alpha = 0.5, bins = 100, color = 'tomato', density=True, label = 'свинец')\n",
    "plt.hist(data_full_copy['rougher.input.feed_sol'], alpha = 0.5, bins = 100, color = 'darkorange', density=True, label = 'соли')\n",
    "\n",
    "plt.legend()\n",
    "plt.xlim(0, 50)\n",
    "plt.figure(figsize=(6, 9))\n",
    "plt.show()"
   ]
  },
  {
   "cell_type": "code",
   "execution_count": 88,
   "metadata": {},
   "outputs": [
    {
     "data": {
      "text/plain": [
       "0.0099999997764825"
      ]
     },
     "execution_count": 88,
     "metadata": {},
     "output_type": "execute_result"
    }
   ],
   "source": [
    "data_for_final_train['rougher.input.feed_pb'].min()"
   ]
  },
  {
   "cell_type": "code",
   "execution_count": 89,
   "metadata": {},
   "outputs": [
    {
     "data": {
      "text/plain": [
       "0.0099999997764825"
      ]
     },
     "execution_count": 89,
     "metadata": {},
     "output_type": "execute_result"
    }
   ],
   "source": [
    "data_for_final_train['rougher.input.feed_ag'].min()"
   ]
  },
  {
   "cell_type": "code",
   "execution_count": 90,
   "metadata": {},
   "outputs": [
    {
     "data": {
      "text/plain": [
       "0.0099999997764825"
      ]
     },
     "execution_count": 90,
     "metadata": {},
     "output_type": "execute_result"
    }
   ],
   "source": [
    "data_for_final_train['rougher.input.feed_au'].min()"
   ]
  },
  {
   "cell_type": "code",
   "execution_count": 91,
   "metadata": {},
   "outputs": [
    {
     "data": {
      "text/plain": [
       "0.0099999997764825"
      ]
     },
     "execution_count": 91,
     "metadata": {},
     "output_type": "execute_result"
    }
   ],
   "source": [
    "data_for_final_train['rougher.input.feed_sol'].min()"
   ]
  },
  {
   "cell_type": "markdown",
   "metadata": {},
   "source": [
    "Такая низкая концентрация металлов может быть ошибкой измерительного прибора. Принято решение удалить значения, которые ниже 1%"
   ]
  },
  {
   "cell_type": "code",
   "execution_count": 92,
   "metadata": {},
   "outputs": [
    {
     "data": {
      "text/plain": [
       "(14065, 55)"
      ]
     },
     "execution_count": 92,
     "metadata": {},
     "output_type": "execute_result"
    }
   ],
   "source": [
    "data_for_final_train = data_for_final_train[data_for_final_train['rougher.input.feed_sol']>=1]\n",
    "data_for_rougher_train = data_for_final_train[data_for_final_train['rougher.input.feed_sol']>=1]\n",
    "data_for_final_train.shape"
   ]
  },
  {
   "cell_type": "code",
   "execution_count": 93,
   "metadata": {},
   "outputs": [
    {
     "data": {
      "text/plain": [
       "1.0156763709019287"
      ]
     },
     "execution_count": 93,
     "metadata": {},
     "output_type": "execute_result"
    }
   ],
   "source": [
    "data_for_final_train['rougher.input.feed_ag'].min()"
   ]
  },
  {
   "cell_type": "code",
   "execution_count": 94,
   "metadata": {},
   "outputs": [
    {
     "data": {
      "text/plain": [
       "0.5881524872147755"
      ]
     },
     "execution_count": 94,
     "metadata": {},
     "output_type": "execute_result"
    }
   ],
   "source": [
    "data_for_final_train['rougher.input.feed_au'].min()"
   ]
  },
  {
   "cell_type": "code",
   "execution_count": 95,
   "metadata": {},
   "outputs": [
    {
     "data": {
      "text/plain": [
       "3.1359269361940263"
      ]
     },
     "execution_count": 95,
     "metadata": {},
     "output_type": "execute_result"
    }
   ],
   "source": [
    "data_for_final_train['rougher.input.feed_sol'].min()"
   ]
  },
  {
   "cell_type": "code",
   "execution_count": 96,
   "metadata": {},
   "outputs": [
    {
     "data": {
      "text/plain": [
       "0.088552105876491"
      ]
     },
     "execution_count": 96,
     "metadata": {},
     "output_type": "execute_result"
    }
   ],
   "source": [
    "data_for_final_train['rougher.input.feed_pb'].min()"
   ]
  },
  {
   "cell_type": "code",
   "execution_count": 97,
   "metadata": {},
   "outputs": [
    {
     "data": {
      "image/png": "[encoded data removed]",
      "text/plain": [
       "<Figure size 640x480 with 1 Axes>"
      ]
     },
     "metadata": {},
     "output_type": "display_data"
    },
    {
     "data": {
      "text/plain": [
       "<Figure size 600x900 with 0 Axes>"
      ]
     },
     "metadata": {},
     "output_type": "display_data"
    }
   ],
   "source": [
    "#в черновом концентрате\n",
    "plt.hist(data_full_copy['rougher.output.concentrate_ag'], alpha = 0.5, bins = 100, color = 'royalblue', density=True, label = 'серебро')\n",
    "plt.hist(data_full_copy['rougher.output.concentrate_au'], alpha = 0.5, bins = 100, color = 'black', density=True, label = 'золото')\n",
    "plt.hist(data_full_copy['rougher.output.concentrate_pb'], alpha = 0.5, bins = 100, color = 'tomato', density=True, label = 'свинец')\n",
    "plt.hist(data_full_copy['rougher.output.concentrate_sol'], alpha = 0.5, bins = 100, color = 'darkorange', density=True, label = 'соли')\n",
    "\n",
    "plt.legend()\n",
    "plt.xlim(0, 40)\n",
    "plt.figure(figsize=(6, 9))\n",
    "plt.show()"
   ]
  },
  {
   "cell_type": "code",
   "execution_count": 98,
   "metadata": {},
   "outputs": [
    {
     "data": {
      "image/png": "[encoded data removed]",
      "text/plain": [
       "<Figure size 640x480 with 1 Axes>"
      ]
     },
     "metadata": {},
     "output_type": "display_data"
    },
    {
     "data": {
      "text/plain": [
       "<Figure size 600x900 with 0 Axes>"
      ]
     },
     "metadata": {},
     "output_type": "display_data"
    }
   ],
   "source": [
    "# в финальном концентрате\n",
    "plt.hist(data_full_copy['final.output.concentrate_ag'], alpha = 0.5, bins = 100, color = 'royalblue', density=True, label = 'серебро')\n",
    "plt.hist(data_full_copy['final.output.concentrate_au'], alpha = 0.5, bins = 100, color = 'black', density=True, label = 'золото')\n",
    "plt.hist(data_full_copy['final.output.concentrate_pb'], alpha = 0.5, bins = 100, color = 'tomato', density=True, label = 'свинец')\n",
    "plt.hist(data_full_copy['final.output.concentrate_sol'], alpha = 0.5, bins = 100, color = 'darkorange', density=True, label = 'соли')\n",
    "\n",
    "plt.legend()\n",
    "plt.xlim(0, 60)\n",
    "plt.figure(figsize=(6, 9))\n",
    "plt.show()"
   ]
  },
  {
   "cell_type": "markdown",
   "metadata": {},
   "source": [
    "**Вывод:** если проанализировать распределение металлов на трех стадиях (в сырье, в черновом и финальном концентратах), то можно заметить, как менялись вероятности встречаемости концентраций:  \n",
    "- распределение концентрации золота и серебра в сырье практически идентично  \n",
    "- распределение концентрации свинца оставалось в диапазоне 5-10% в сырье и после первичной обработки, а затем выросло 7-12%  \n",
    "- концентрация соли снизилась с 30-45% до 6-18%\n",
    "- концентрация серебра сначала повысилась и находилась в диапазоне 10-15%, а затем понизилась до менее 10%\n",
    "- распределение концентрации золота сначала было идентичным с распределением серебра, но с каждой обработкой увеличивалась сначала до 15-25%, а затем до 40-50%"
   ]
  },
  {
   "cell_type": "markdown",
   "metadata": {},
   "source": [
    "## Модель"
   ]
  },
  {
   "cell_type": "markdown",
   "metadata": {},
   "source": [
    "### Функция расчета sMAPE"
   ]
  },
  {
   "cell_type": "markdown",
   "metadata": {},
   "source": [
    "Прежде, чем приступить к разработке моделей и отбору самой лучшей - я напишу функцию для вычисления sMAPE."
   ]
  },
  {
   "cell_type": "code",
   "execution_count": 99,
   "metadata": {},
   "outputs": [],
   "source": [
    "def calc_sMAPE(target, predicted)-> float:\n",
    "    return round(np.mean(np.abs(predicted - target) / ((np.abs(predicted) + np.abs(target))/2))*100, 2)"
   ]
  },
  {
   "cell_type": "markdown",
   "metadata": {},
   "source": [
    "Для заказчика требует найти 2 модели для прогноза коэффициента восстановления золота из золотосодержащей руды после флотации и после всего технологического процесса. Оценить качество модели следует посредством кросс-валидации."
   ]
  },
  {
   "cell_type": "markdown",
   "metadata": {},
   "source": [
    "Следует подобрать оптимальные гиперпараметры с помощью кросс валидации у моделей DecisionTreeRegressor, RandomForestRegressor и LinearRegressor"
   ]
  },
  {
   "cell_type": "markdown",
   "metadata": {},
   "source": [
    "### для предсказания 'rougher.output.recovery'"
   ]
  },
  {
   "cell_type": "markdown",
   "metadata": {},
   "source": [
    "#### DecisionTreeRegressor"
   ]
  },
  {
   "cell_type": "code",
   "execution_count": 100,
   "metadata": {},
   "outputs": [
    {
     "name": "stdout",
     "output_type": "stream",
     "text": [
      "Лучшая средняя оценка качества модели:: 11.379999999999999\n",
      "max_depth: 8\n",
      "splitter: random\n",
      "min_samples_split: 48\n",
      "min_samples_leaf: 1\n",
      "CPU times: user 13min 38s, sys: 3.35 s, total: 13min 42s\n",
      "Wall time: 13min 44s\n"
     ]
    }
   ],
   "source": [
    "%%time\n",
    "#criterion_type = ['friedman_mse', 'absolute_error', 'poisson']\n",
    "splitter_type = ['best', 'random']\n",
    "best_model = None\n",
    "best_depth = 0\n",
    "best_crit = 0\n",
    "best_splitter = 0\n",
    "best_split = 0\n",
    "best_leaf = 0\n",
    "best_score = 12.0\n",
    "\n",
    "#for crit in criterion_type:\n",
    "for splt in splitter_type:\n",
    "    for split in range(2, 50, 2):\n",
    "        for leaf in (1, 25):\n",
    "            for depth in range(1, 20):\n",
    "                model_des = DecisionTreeRegressor(random_state=12345, max_depth = depth, splitter = splt, min_samples_split = split, min_samples_leaf = leaf)\n",
    "                \n",
    "                \n",
    "                smape_score = make_scorer(calc_sMAPE, greater_is_better=True)\n",
    "                scores_des = cross_val_score(model_des, data_for_rougher_train_features, data_for_rougher_train_target, scoring=smape_score)\n",
    "                final_score_des = sum(scores_des) / len(scores_des)\n",
    "                \n",
    "                if  final_score_des < best_score:\n",
    "                    best_model = model_des\n",
    "                    best_depth = depth\n",
    "                    best_leaf = leaf\n",
    "                    best_split = split\n",
    "                    best_splitter = splt\n",
    "                    best_score = final_score_des\n",
    "\n",
    "print(f'Лучшая средняя оценка качества модели:: {best_score}')\n",
    "print(f'max_depth: {best_depth}')\n",
    "#print(f'criterion: {best_crit}')\n",
    "print(f'splitter: {best_splitter}')\n",
    "print(f'min_samples_split: {best_split}')\n",
    "print(f'min_samples_leaf: {best_leaf}')\n",
    "import warnings\n",
    "\n",
    "warnings.filterwarnings(\"ignore\")"
   ]
  },
  {
   "cell_type": "markdown",
   "metadata": {},
   "source": [
    "#### RandomForestRegressor"
   ]
  },
  {
   "cell_type": "code",
   "execution_count": 101,
   "metadata": {},
   "outputs": [
    {
     "name": "stdout",
     "output_type": "stream",
     "text": [
      "Лучшая средняя оценка качества модели:: 11.572\n",
      "\n",
      "n_estimators: 90\n",
      "max_depth: 3\n"
     ]
    }
   ],
   "source": [
    "best_score = 12.0\n",
    "best_model = None\n",
    "best_depth = 0\n",
    "best_est = 0\n",
    "\n",
    "\n",
    "for est in range(10, 100, 10):\n",
    "    for depth in range(1, 10):\n",
    "        model = RandomForestRegressor(random_state=12345, n_estimators=est, max_depth= depth)\n",
    "\n",
    "\n",
    "        smape_score = make_scorer(calc_sMAPE, greater_is_better=True)\n",
    "        scores_des = cross_val_score(model, data_for_rougher_train_features, data_for_rougher_train_target, scoring=smape_score)\n",
    "        final_score_des = sum(scores_des) / len(scores_des)\n",
    "\n",
    "        if  final_score_des < best_score:\n",
    "            best_model = model\n",
    "            best_depth = depth\n",
    "            best_est = est\n",
    "            best_score = final_score_des\n",
    "\n",
    "\n",
    "print(f'Лучшая средняя оценка качества модели:: {best_score}')\n",
    "print(f'')\n",
    "print(f'n_estimators: {best_est}')\n",
    "print(f'max_depth: {best_depth}')\n",
    "import warnings\n",
    "\n",
    "warnings.filterwarnings(\"ignore\")"
   ]
  },
  {
   "cell_type": "markdown",
   "metadata": {},
   "source": [
    "#### LinearRegression"
   ]
  },
  {
   "cell_type": "code",
   "execution_count": 102,
   "metadata": {},
   "outputs": [
    {
     "name": "stdout",
     "output_type": "stream",
     "text": [
      "12.472\n"
     ]
    }
   ],
   "source": [
    "model_0 = LinearRegression()\n",
    "\n",
    "smape_score = make_scorer(calc_sMAPE, greater_is_better=True)\n",
    "scores_des = cross_val_score(model_0, data_for_rougher_train_features, data_for_rougher_train_target, scoring=smape_score)\n",
    "final_score_des = sum(scores_des) / len(scores_des)\n",
    "print(final_score_des)"
   ]
  },
  {
   "cell_type": "markdown",
   "metadata": {},
   "source": [
    "**Вывод:** Для предсказания целевого признака data_for_rougher_train_target были разработано несколько моделей, которые показали следующие результаты по метрике sMAPE:  \n",
    "- DecisionTreeRegressor: 11.379999999999999  \n",
    "- RandomForestRegressor: 11.572  \n",
    "- LinearRegression: 12.472  \n",
    "\n",
    "Таким образом, для тестирования будет использоваться модель DecisionTreeRegressor"
   ]
  },
  {
   "cell_type": "markdown",
   "metadata": {},
   "source": [
    "### для предсказания 'rougher.final.recovery'"
   ]
  },
  {
   "cell_type": "markdown",
   "metadata": {},
   "source": [
    "#### DecisionTreeRegressor"
   ]
  },
  {
   "cell_type": "code",
   "execution_count": 103,
   "metadata": {},
   "outputs": [
    {
     "name": "stdout",
     "output_type": "stream",
     "text": [
      "Лучшая средняя оценка качества модели:: 10.806000000000001\n",
      "max_depth: 3\n",
      "splitter: best\n",
      "min_samples_split: 2\n",
      "min_samples_leaf: 1\n",
      "CPU times: user 31min 13s, sys: 12.2 s, total: 31min 26s\n",
      "Wall time: 31min 28s\n"
     ]
    }
   ],
   "source": [
    "%%time\n",
    "#criterion_type = ['friedman_mse', 'absolute_error', 'poisson']\n",
    "splitter_type = ['best', 'random']\n",
    "best_model = None\n",
    "best_depth = 0\n",
    "best_crit = 0\n",
    "best_splitter = 0\n",
    "best_split = 0\n",
    "best_leaf = 0\n",
    "best_score = 12.0\n",
    "\n",
    "#for crit in criterion_type:\n",
    "for splt in splitter_type:\n",
    "    for split in range(2, 50, 2):\n",
    "        for leaf in (1, 25):\n",
    "            for depth in range(1, 20):\n",
    "                model_des = DecisionTreeRegressor(random_state=12345, max_depth = depth, splitter = splt, min_samples_split = split, min_samples_leaf = leaf)\n",
    "                \n",
    "                smape_score = make_scorer(calc_sMAPE, greater_is_better=True)\n",
    "                scores_des = cross_val_score(model_des, data_for_final_train_features, data_for_final_train_target, scoring=smape_score)\n",
    "                final_score_des = sum(scores_des) / len(scores_des)\n",
    "\n",
    "                if  final_score_des < best_score:\n",
    "                    best_model = model_des\n",
    "                    best_depth = depth\n",
    "                    best_leaf = leaf\n",
    "                    best_split = split\n",
    "                    best_splitter = splt\n",
    "                    best_score = final_score_des\n",
    "\n",
    "print(f'Лучшая средняя оценка качества модели:: {best_score}')\n",
    "print(f'max_depth: {best_depth}')\n",
    "#print(f'criterion: {best_crit}')\n",
    "print(f'splitter: {best_splitter}')\n",
    "print(f'min_samples_split: {best_split}')\n",
    "print(f'min_samples_leaf: {best_leaf}')\n",
    "import warnings\n",
    "\n",
    "warnings.filterwarnings(\"ignore\")"
   ]
  },
  {
   "cell_type": "markdown",
   "metadata": {},
   "source": [
    "#### RandomForestRegressor"
   ]
  },
  {
   "cell_type": "code",
   "execution_count": 104,
   "metadata": {},
   "outputs": [
    {
     "name": "stdout",
     "output_type": "stream",
     "text": [
      "Лучшая средняя оценка качества модели:: 10.218\n",
      "\n",
      "n_estimators: 40\n",
      "max_depth: 5\n",
      "CPU times: user 50min 2s, sys: 11.2 s, total: 50min 13s\n",
      "Wall time: 50min 21s\n"
     ]
    }
   ],
   "source": [
    "%%time\n",
    "best_score = 12.0\n",
    "best_model = None\n",
    "best_depth = 0\n",
    "best_est = 0\n",
    "\n",
    "\n",
    "for est in range(10, 100, 10):\n",
    "    for depth in range(1, 10):\n",
    "        model = RandomForestRegressor(random_state=12345, n_estimators=est, max_depth= depth)\n",
    "\n",
    "\n",
    "        smape_score = make_scorer(calc_sMAPE, greater_is_better=True)\n",
    "        scores_des = cross_val_score(model, data_for_final_train_features, data_for_final_train_target, scoring=smape_score)\n",
    "        final_score_des = sum(scores_des) / len(scores_des)\n",
    "\n",
    "        if  final_score_des < best_score:\n",
    "            best_model = model\n",
    "            best_depth = depth\n",
    "            best_est = est\n",
    "            best_score = final_score_des\n",
    "\n",
    "\n",
    "print(f'Лучшая средняя оценка качества модели:: {best_score}')\n",
    "print(f'')\n",
    "print(f'n_estimators: {best_est}')\n",
    "print(f'max_depth: {best_depth}')\n",
    "import warnings\n",
    "\n",
    "warnings.filterwarnings(\"ignore\")"
   ]
  },
  {
   "cell_type": "markdown",
   "metadata": {},
   "source": [
    "#### LinearRegression"
   ]
  },
  {
   "cell_type": "code",
   "execution_count": 105,
   "metadata": {},
   "outputs": [
    {
     "name": "stdout",
     "output_type": "stream",
     "text": [
      "12.352\n"
     ]
    }
   ],
   "source": [
    "model_0 = LinearRegression()\n",
    "\n",
    "smape_score = make_scorer(calc_sMAPE, greater_is_better=True)\n",
    "scores_des = cross_val_score(model_0, data_for_final_train_features, data_for_final_train_target, scoring=smape_score)\n",
    "final_score_des = sum(scores_des) / len(scores_des)\n",
    "print(final_score_des)"
   ]
  },
  {
   "cell_type": "markdown",
   "metadata": {},
   "source": [
    "**Вывод:** Для предсказания целевого признака data_for_final_train_target были разработано несколько моделей, которые показали следующие результаты по метрике sMAPE:  \n",
    "- DecisionTreeRegressor: 10.806000000000001  \n",
    "- RandomForestRegressor: 10.395999999999999  \n",
    "- LinearRegression: 12.352  \n",
    "\n",
    "Таким образом, для тестирования будет использоваться модель DecisionTreeRegressor"
   ]
  },
  {
   "cell_type": "markdown",
   "metadata": {},
   "source": [
    "### Проверка на тестовой выборке"
   ]
  },
  {
   "cell_type": "markdown",
   "metadata": {},
   "source": [
    "Для финальной проверки метрики sMAPE для этапа флотации и финального концентрата будет использована модель DecisionTreeRegressor"
   ]
  },
  {
   "cell_type": "code",
   "execution_count": 106,
   "metadata": {},
   "outputs": [
    {
     "name": "stdout",
     "output_type": "stream",
     "text": [
      "Метрика sMAPE для флотации: 9.76\n"
     ]
    }
   ],
   "source": [
    "model_des = DecisionTreeRegressor(random_state=12345, max_depth = 8, splitter = 'random', min_samples_split = 48, min_samples_leaf = 1)\n",
    "model_des.fit(data_for_rougher_train_features, data_for_rougher_train_target)\n",
    "predict_valid = model_des.predict(data_for_rougher_test_features)\n",
    "\n",
    "fin_smape_score = calc_sMAPE(data_for_rougher_test_target, predict_valid)\n",
    "print('Метрика sMAPE для флотации:', fin_smape_score)"
   ]
  },
  {
   "cell_type": "code",
   "execution_count": 107,
   "metadata": {},
   "outputs": [
    {
     "name": "stdout",
     "output_type": "stream",
     "text": [
      "Метрика sMAPE DummyRegressor для флотации: 8.63\n"
     ]
    }
   ],
   "source": [
    "dummy_mean_0 = DummyRegressor(strategy = 'median').fit(data_for_rougher_train_features, data_for_rougher_train_target)\n",
    "predict_dum_0 = dummy_mean_0.predict(data_for_rougher_test_features)\n",
    "fin_smape = calc_sMAPE(data_for_rougher_test_target, predict_dum_0)\n",
    "print('Метрика sMAPE DummyRegressor для флотации:', fin_smape)"
   ]
  },
  {
   "cell_type": "code",
   "execution_count": 108,
   "metadata": {},
   "outputs": [
    {
     "name": "stdout",
     "output_type": "stream",
     "text": [
      "Метрика sMAPE для финального концентрата: 9.3\n"
     ]
    }
   ],
   "source": [
    "model = DecisionTreeRegressor(random_state=12345, max_depth = 2, splitter = 'best', min_samples_split = 2, min_samples_leaf = 1)\n",
    "model.fit(data_for_final_train_features, data_for_final_train_target)\n",
    "predict_valid = model.predict(data_for_final_test_features)\n",
    "                \n",
    "fin_smape_sc = calc_sMAPE(data_for_final_test_target, predict_valid)\n",
    "print('Метрика sMAPE для финального концентрата:', fin_smape_sc)"
   ]
  },
  {
   "cell_type": "code",
   "execution_count": 109,
   "metadata": {},
   "outputs": [
    {
     "name": "stdout",
     "output_type": "stream",
     "text": [
      "Метрика sMAPE DummyRegressor для финального концентрата: 9.76\n"
     ]
    }
   ],
   "source": [
    "dummy_mean_1 = DummyRegressor(strategy = 'median').fit(data_for_final_train_features, data_for_final_train_target)\n",
    "predict_dum_1 = dummy_mean_1.predict(data_for_final_test_features)\n",
    "fin_smape_1 = calc_sMAPE(data_for_final_test_target, predict_dum_1)\n",
    "print('Метрика sMAPE DummyRegressor для финального концентрата:', fin_smape_1)"
   ]
  },
  {
   "cell_type": "code",
   "execution_count": 110,
   "metadata": {
    "scrolled": true
   },
   "outputs": [
    {
     "name": "stdout",
     "output_type": "stream",
     "text": [
      "Итоговая метрика sMAPE: 9.415000000000001\n"
     ]
    }
   ],
   "source": [
    "print('Итоговая метрика sMAPE:', (0.25* fin_smape_score)+(0.75*fin_smape_sc))"
   ]
  },
  {
   "cell_type": "markdown",
   "metadata": {},
   "source": [
    "## Общий вывод"
   ]
  },
  {
   "cell_type": "markdown",
   "metadata": {},
   "source": [
    "В процессе выполнения проекта была выполнена предобработки данных, в ходе которой были выравнено количетсво признаков для обучающей выборки, были разделены признаки и целевой признак для обучения 2х моделей - для предсказания эффективности обогащения золота после флотации и для финального концентрата."
   ]
  },
  {
   "cell_type": "markdown",
   "metadata": {},
   "source": [
    "Проанализировав распределения концентрации металлов и соли на разных этапах, было обнаружено, что:"
   ]
  },
  {
   "attachments": {
    "image-2.png": {
     "image/png": "[encoded data removed]"
    },
    "image-3.png": {
     "image/png": "[encoded data removed]"
    },
    "image.png": {
     "image/png": "[encoded data removed]"
    }
   },
   "cell_type": "markdown",
   "metadata": {},
   "source": [
    "![image.png](attachment:image.png)\n",
    "![image-2.png](attachment:image-2.png)\n",
    "![image-3.png](attachment:image-3.png)"
   ]
  },
  {
   "cell_type": "markdown",
   "metadata": {},
   "source": [
    "- концентрация золота увеличилась в 4-5 раз после процесса очистки\n",
    "- концентрация соли уменьшилась в 3-5 раза\n",
    "- концентрация серебра снизилась в 2 раза\n",
    "- концентрация свинца осталась практически неизменной"
   ]
  },
  {
   "cell_type": "markdown",
   "metadata": {},
   "source": [
    "Для предсказания для предсказания эффективности обогащения золота после флотации и для финального концентрата были разработаны 2 модели DecisionTreeRegressor с оптимальными гиперпараметрами."
   ]
  },
  {
   "cell_type": "markdown",
   "metadata": {},
   "source": [
    "В ходе анализа на тестовой выборке с использованием значения метрики sMAPE DummyRegressor была найдена метрика sMAPE для флотационного концентрата, которая равна 9.76 и выше, чем значение от DummyRegressor."
   ]
  },
  {
   "cell_type": "markdown",
   "metadata": {},
   "source": [
    "В ходе анализа на тестовой выборке с использованием значения метрики sMAPE DummyRegressor была найдена метрика sMAPE для финального концентрата, которая равна 9.3 и меньше, чем значение от DummyRegressor."
   ]
  },
  {
   "cell_type": "code",
   "execution_count": 111,
   "metadata": {},
   "outputs": [
    {
     "name": "stdout",
     "output_type": "stream",
     "text": [
      "Итоговая метрика sMAPE: 9.415000000000001\n"
     ]
    }
   ],
   "source": [
    "print('Итоговая метрика sMAPE:', (0.25* fin_smape_score)+(0.75*fin_smape_sc))"
   ]
  },
  {
   "cell_type": "raw",
   "metadata": {},
   "source": []
  },
  {
   "cell_type": "raw",
   "metadata": {},
   "source": []
  },
  {
   "cell_type": "raw",
   "metadata": {},
   "source": []
  }
 ],
 "metadata": {
  "ExecuteTimeLog": [
   {
    "duration": 461,
    "start_time": "2023-04-30T18:29:41.741Z"
   },
   {
    "duration": 58,
    "start_time": "2023-04-30T18:30:52.437Z"
   },
   {
    "duration": 56,
    "start_time": "2023-04-30T18:31:19.240Z"
   },
   {
    "duration": 75,
    "start_time": "2023-04-30T18:31:23.933Z"
   },
   {
    "duration": 72,
    "start_time": "2023-04-30T18:31:48.786Z"
   },
   {
    "duration": 1565,
    "start_time": "2023-04-30T18:31:51.822Z"
   },
   {
    "duration": 345,
    "start_time": "2023-04-30T18:32:05.838Z"
   },
   {
    "duration": 51,
    "start_time": "2023-05-03T14:16:27.090Z"
   },
   {
    "duration": 412,
    "start_time": "2023-05-03T14:16:32.022Z"
   },
   {
    "duration": 1592,
    "start_time": "2023-05-03T14:16:34.497Z"
   },
   {
    "duration": 188,
    "start_time": "2023-05-03T14:16:39.821Z"
   },
   {
    "duration": 668,
    "start_time": "2023-05-03T14:19:49.416Z"
   },
   {
    "duration": 48,
    "start_time": "2023-05-03T17:45:50.184Z"
   },
   {
    "duration": 125,
    "start_time": "2023-05-03T17:47:31.928Z"
   },
   {
    "duration": 128,
    "start_time": "2023-05-03T17:47:39.544Z"
   },
   {
    "duration": 121,
    "start_time": "2023-05-03T17:47:51.494Z"
   },
   {
    "duration": 22,
    "start_time": "2023-05-03T17:48:06.466Z"
   },
   {
    "duration": 95,
    "start_time": "2023-05-03T17:48:28.458Z"
   },
   {
    "duration": 10,
    "start_time": "2023-05-03T17:54:15.356Z"
   },
   {
    "duration": 5,
    "start_time": "2023-05-03T17:55:32.807Z"
   },
   {
    "duration": 7,
    "start_time": "2023-05-03T17:55:39.983Z"
   },
   {
    "duration": 28,
    "start_time": "2023-05-03T17:56:11.188Z"
   },
   {
    "duration": 9,
    "start_time": "2023-05-03T17:56:20.462Z"
   },
   {
    "duration": 10,
    "start_time": "2023-05-03T18:02:12.911Z"
   },
   {
    "duration": 68,
    "start_time": "2023-05-03T18:05:05.529Z"
   },
   {
    "duration": 13,
    "start_time": "2023-05-03T18:05:12.037Z"
   },
   {
    "duration": 9,
    "start_time": "2023-05-03T18:05:19.417Z"
   },
   {
    "duration": 10,
    "start_time": "2023-05-03T18:07:03.809Z"
   },
   {
    "duration": 12,
    "start_time": "2023-05-03T18:07:08.929Z"
   },
   {
    "duration": 11,
    "start_time": "2023-05-03T18:07:46.636Z"
   },
   {
    "duration": 9,
    "start_time": "2023-05-03T18:07:53.007Z"
   },
   {
    "duration": 7,
    "start_time": "2023-05-03T18:19:53.525Z"
   },
   {
    "duration": 5,
    "start_time": "2023-05-03T18:20:22.471Z"
   },
   {
    "duration": 6,
    "start_time": "2023-05-03T18:20:28.053Z"
   },
   {
    "duration": 14,
    "start_time": "2023-05-03T18:21:12.625Z"
   },
   {
    "duration": 11,
    "start_time": "2023-05-03T18:21:18.823Z"
   },
   {
    "duration": 18,
    "start_time": "2023-05-03T18:22:17.405Z"
   },
   {
    "duration": 12,
    "start_time": "2023-05-03T18:22:23.476Z"
   },
   {
    "duration": 14,
    "start_time": "2023-05-03T18:22:32.322Z"
   },
   {
    "duration": 48,
    "start_time": "2023-05-03T18:25:19.748Z"
   },
   {
    "duration": 14,
    "start_time": "2023-05-03T18:26:03.133Z"
   },
   {
    "duration": 18,
    "start_time": "2023-05-03T18:26:44.682Z"
   },
   {
    "duration": 8,
    "start_time": "2023-05-03T18:50:39.461Z"
   },
   {
    "duration": 4,
    "start_time": "2023-05-03T18:51:36.880Z"
   },
   {
    "duration": 10,
    "start_time": "2023-05-03T18:57:16.345Z"
   },
   {
    "duration": 8,
    "start_time": "2023-05-03T18:57:27.002Z"
   },
   {
    "duration": 7,
    "start_time": "2023-05-03T19:03:02.536Z"
   },
   {
    "duration": 4,
    "start_time": "2023-05-03T19:03:59.836Z"
   },
   {
    "duration": 11,
    "start_time": "2023-05-03T19:04:44.841Z"
   },
   {
    "duration": 6,
    "start_time": "2023-05-03T19:05:23.171Z"
   },
   {
    "duration": 11,
    "start_time": "2023-05-03T20:15:21.310Z"
   },
   {
    "duration": 6,
    "start_time": "2023-05-03T20:15:47.175Z"
   },
   {
    "duration": 6,
    "start_time": "2023-05-03T20:16:11.683Z"
   },
   {
    "duration": 5,
    "start_time": "2023-05-03T20:16:28.422Z"
   },
   {
    "duration": 8,
    "start_time": "2023-05-03T20:17:08.399Z"
   },
   {
    "duration": 11,
    "start_time": "2023-05-03T20:17:11.724Z"
   },
   {
    "duration": 5,
    "start_time": "2023-05-03T20:17:13.501Z"
   },
   {
    "duration": 2,
    "start_time": "2023-05-03T20:17:40.075Z"
   },
   {
    "duration": 5,
    "start_time": "2023-05-03T20:17:50.198Z"
   },
   {
    "duration": 10,
    "start_time": "2023-05-03T20:24:47.769Z"
   },
   {
    "duration": 10,
    "start_time": "2023-05-03T20:26:17.889Z"
   },
   {
    "duration": 48,
    "start_time": "2023-05-03T20:28:15.177Z"
   },
   {
    "duration": 10,
    "start_time": "2023-05-03T20:28:49.807Z"
   },
   {
    "duration": 9,
    "start_time": "2023-05-03T20:28:54.612Z"
   },
   {
    "duration": 18,
    "start_time": "2023-05-03T20:29:20.631Z"
   },
   {
    "duration": 9,
    "start_time": "2023-05-03T20:31:36.909Z"
   },
   {
    "duration": 5,
    "start_time": "2023-05-03T20:32:10.628Z"
   },
   {
    "duration": 8,
    "start_time": "2023-05-03T20:33:18.771Z"
   },
   {
    "duration": 5,
    "start_time": "2023-05-03T20:33:25.793Z"
   },
   {
    "duration": 9,
    "start_time": "2023-05-03T20:34:24.535Z"
   },
   {
    "duration": 9,
    "start_time": "2023-05-03T20:34:42.192Z"
   },
   {
    "duration": 4,
    "start_time": "2023-05-03T20:36:47.635Z"
   },
   {
    "duration": 5,
    "start_time": "2023-05-03T20:40:49.763Z"
   },
   {
    "duration": 78,
    "start_time": "2023-05-04T13:55:55.962Z"
   },
   {
    "duration": 400,
    "start_time": "2023-05-04T13:56:58.100Z"
   },
   {
    "duration": 849,
    "start_time": "2023-05-04T13:56:58.502Z"
   },
   {
    "duration": 155,
    "start_time": "2023-05-04T13:56:59.353Z"
   },
   {
    "duration": 11,
    "start_time": "2023-05-04T13:56:59.512Z"
   },
   {
    "duration": 6,
    "start_time": "2023-05-04T13:56:59.534Z"
   },
   {
    "duration": 446,
    "start_time": "2023-05-04T13:56:59.542Z"
   },
   {
    "duration": 32,
    "start_time": "2023-05-04T13:56:59.990Z"
   },
   {
    "duration": 7,
    "start_time": "2023-05-04T13:57:00.024Z"
   },
   {
    "duration": 21,
    "start_time": "2023-05-04T13:57:00.034Z"
   },
   {
    "duration": 1808,
    "start_time": "2023-05-04T13:57:00.057Z"
   },
   {
    "duration": 91,
    "start_time": "2023-05-04T13:57:01.866Z"
   },
   {
    "duration": 10,
    "start_time": "2023-05-04T13:57:01.959Z"
   },
   {
    "duration": 69,
    "start_time": "2023-05-04T13:57:01.970Z"
   },
   {
    "duration": 57,
    "start_time": "2023-05-04T13:57:02.041Z"
   },
   {
    "duration": 61,
    "start_time": "2023-05-04T13:57:02.100Z"
   },
   {
    "duration": 6,
    "start_time": "2023-05-04T16:17:54.650Z"
   },
   {
    "duration": 5,
    "start_time": "2023-05-04T20:29:22.111Z"
   },
   {
    "duration": 831,
    "start_time": "2023-05-04T20:29:45.735Z"
   },
   {
    "duration": 633,
    "start_time": "2023-05-04T20:30:41.443Z"
   },
   {
    "duration": 4,
    "start_time": "2023-05-04T20:33:48.848Z"
   },
   {
    "duration": 14,
    "start_time": "2023-05-04T20:35:20.126Z"
   },
   {
    "duration": 4,
    "start_time": "2023-05-04T21:06:46.476Z"
   },
   {
    "duration": 2,
    "start_time": "2023-05-04T21:07:08.296Z"
   },
   {
    "duration": 4,
    "start_time": "2023-05-04T21:09:31.636Z"
   },
   {
    "duration": 5,
    "start_time": "2023-05-04T21:24:21.718Z"
   },
   {
    "duration": 4,
    "start_time": "2023-05-04T21:25:32.048Z"
   },
   {
    "duration": 5,
    "start_time": "2023-05-04T21:27:06.601Z"
   },
   {
    "duration": 4,
    "start_time": "2023-05-04T21:27:25.104Z"
   },
   {
    "duration": 4,
    "start_time": "2023-05-04T21:27:59.316Z"
   },
   {
    "duration": 384,
    "start_time": "2023-05-04T21:28:18.441Z"
   },
   {
    "duration": 287,
    "start_time": "2023-05-04T21:28:20.917Z"
   },
   {
    "duration": 9,
    "start_time": "2023-05-04T21:28:27.371Z"
   },
   {
    "duration": 10,
    "start_time": "2023-05-04T21:28:29.679Z"
   },
   {
    "duration": 118,
    "start_time": "2023-05-04T21:28:32.039Z"
   },
   {
    "duration": 2,
    "start_time": "2023-05-04T21:28:34.276Z"
   },
   {
    "duration": 4,
    "start_time": "2023-05-04T21:28:37.141Z"
   },
   {
    "duration": 5,
    "start_time": "2023-05-04T21:28:39.816Z"
   },
   {
    "duration": 5,
    "start_time": "2023-05-04T21:28:43.048Z"
   },
   {
    "duration": 4,
    "start_time": "2023-05-04T21:28:47.848Z"
   },
   {
    "duration": 388,
    "start_time": "2023-05-04T21:29:16.901Z"
   },
   {
    "duration": 4,
    "start_time": "2023-05-04T21:29:39.089Z"
   },
   {
    "duration": 6,
    "start_time": "2023-05-04T21:30:20.465Z"
   },
   {
    "duration": 3,
    "start_time": "2023-05-04T21:30:45.762Z"
   },
   {
    "duration": 4,
    "start_time": "2023-05-04T21:30:47.432Z"
   },
   {
    "duration": 23,
    "start_time": "2023-05-04T21:31:04.426Z"
   },
   {
    "duration": 357,
    "start_time": "2023-05-04T21:32:02.980Z"
   },
   {
    "duration": 276,
    "start_time": "2023-05-04T21:32:03.339Z"
   },
   {
    "duration": 8,
    "start_time": "2023-05-04T21:32:03.617Z"
   },
   {
    "duration": 51,
    "start_time": "2023-05-04T21:32:03.626Z"
   },
   {
    "duration": 168,
    "start_time": "2023-05-04T21:32:03.679Z"
   },
   {
    "duration": 3,
    "start_time": "2023-05-04T21:32:03.848Z"
   },
   {
    "duration": 41,
    "start_time": "2023-05-04T21:32:03.852Z"
   },
   {
    "duration": 50,
    "start_time": "2023-05-04T21:32:03.894Z"
   },
   {
    "duration": 25,
    "start_time": "2023-05-04T21:32:03.946Z"
   },
   {
    "duration": 52,
    "start_time": "2023-05-04T21:32:03.972Z"
   },
   {
    "duration": 56,
    "start_time": "2023-05-04T21:32:04.026Z"
   },
   {
    "duration": 49,
    "start_time": "2023-05-04T21:32:04.083Z"
   },
   {
    "duration": 57,
    "start_time": "2023-05-04T21:34:58.589Z"
   },
   {
    "duration": 39,
    "start_time": "2023-05-04T21:36:20.058Z"
   },
   {
    "duration": 33,
    "start_time": "2023-05-04T21:36:24.670Z"
   },
   {
    "duration": 34,
    "start_time": "2023-05-04T21:36:46.951Z"
   },
   {
    "duration": 22,
    "start_time": "2023-05-04T21:38:20.348Z"
   },
   {
    "duration": 5,
    "start_time": "2023-05-04T21:38:27.629Z"
   },
   {
    "duration": 23,
    "start_time": "2023-05-04T21:39:19.858Z"
   },
   {
    "duration": 22,
    "start_time": "2023-05-04T21:39:22.195Z"
   },
   {
    "duration": 10,
    "start_time": "2023-05-04T21:39:26.712Z"
   },
   {
    "duration": 5,
    "start_time": "2023-05-04T21:39:29.095Z"
   },
   {
    "duration": 90,
    "start_time": "2023-05-04T22:56:59.772Z"
   },
   {
    "duration": 5,
    "start_time": "2023-05-04T22:57:21.356Z"
   },
   {
    "duration": 8,
    "start_time": "2023-05-04T22:58:40.613Z"
   },
   {
    "duration": 2,
    "start_time": "2023-05-04T23:03:50.994Z"
   },
   {
    "duration": 393,
    "start_time": "2023-05-04T23:05:37.931Z"
   },
   {
    "duration": 279,
    "start_time": "2023-05-04T23:05:38.325Z"
   },
   {
    "duration": 9,
    "start_time": "2023-05-04T23:05:38.605Z"
   },
   {
    "duration": 23,
    "start_time": "2023-05-04T23:05:38.615Z"
   },
   {
    "duration": 136,
    "start_time": "2023-05-04T23:05:38.640Z"
   },
   {
    "duration": 2,
    "start_time": "2023-05-04T23:05:38.778Z"
   },
   {
    "duration": 13,
    "start_time": "2023-05-04T23:05:38.781Z"
   },
   {
    "duration": 3,
    "start_time": "2023-05-04T23:05:45.019Z"
   },
   {
    "duration": 34,
    "start_time": "2023-05-04T23:05:47.209Z"
   },
   {
    "duration": 20,
    "start_time": "2023-05-04T23:05:49.363Z"
   },
   {
    "duration": 24,
    "start_time": "2023-05-04T23:05:51.508Z"
   },
   {
    "duration": 21,
    "start_time": "2023-05-04T23:06:07.020Z"
   },
   {
    "duration": 9,
    "start_time": "2023-05-04T23:06:13.920Z"
   },
   {
    "duration": 6,
    "start_time": "2023-05-04T23:06:15.521Z"
   },
   {
    "duration": 106,
    "start_time": "2023-05-04T23:06:20.849Z"
   },
   {
    "duration": 5,
    "start_time": "2023-05-04T23:06:26.122Z"
   },
   {
    "duration": 8,
    "start_time": "2023-05-04T23:06:27.943Z"
   },
   {
    "duration": 25,
    "start_time": "2023-05-04T23:06:31.283Z"
   },
   {
    "duration": 3,
    "start_time": "2023-05-04T23:06:35.411Z"
   },
   {
    "duration": 6,
    "start_time": "2023-05-04T23:07:58.753Z"
   },
   {
    "duration": 22,
    "start_time": "2023-05-04T23:09:43.757Z"
   },
   {
    "duration": 21,
    "start_time": "2023-05-04T23:09:53.675Z"
   },
   {
    "duration": 27,
    "start_time": "2023-05-04T23:10:04.547Z"
   },
   {
    "duration": 6,
    "start_time": "2023-05-04T23:10:40.701Z"
   },
   {
    "duration": 4,
    "start_time": "2023-05-04T23:10:48.668Z"
   },
   {
    "duration": 370,
    "start_time": "2023-05-04T23:11:30.788Z"
   },
   {
    "duration": 4,
    "start_time": "2023-05-04T23:12:08.959Z"
   },
   {
    "duration": 9,
    "start_time": "2023-05-04T23:12:40.264Z"
   },
   {
    "duration": 109,
    "start_time": "2023-05-04T23:12:55.355Z"
   },
   {
    "duration": 5,
    "start_time": "2023-05-04T23:13:37.932Z"
   },
   {
    "duration": 6,
    "start_time": "2023-05-04T23:15:01.696Z"
   },
   {
    "duration": 45,
    "start_time": "2023-05-04T23:16:12.683Z"
   },
   {
    "duration": 19,
    "start_time": "2023-05-04T23:16:34.360Z"
   },
   {
    "duration": 19,
    "start_time": "2023-05-04T23:16:42.344Z"
   },
   {
    "duration": 11,
    "start_time": "2023-05-04T23:16:58.608Z"
   },
   {
    "duration": 5,
    "start_time": "2023-05-04T23:17:05.228Z"
   },
   {
    "duration": 5,
    "start_time": "2023-05-04T23:17:13.498Z"
   },
   {
    "duration": 4,
    "start_time": "2023-05-04T23:17:26.580Z"
   },
   {
    "duration": 82,
    "start_time": "2023-05-04T23:17:36.429Z"
   },
   {
    "duration": 94,
    "start_time": "2023-05-04T23:17:41.611Z"
   },
   {
    "duration": 5,
    "start_time": "2023-05-04T23:17:44.627Z"
   },
   {
    "duration": 8,
    "start_time": "2023-05-04T23:18:37.118Z"
   },
   {
    "duration": 63,
    "start_time": "2023-05-04T23:24:57.902Z"
   },
   {
    "duration": 4,
    "start_time": "2023-05-04T23:25:56.002Z"
   },
   {
    "duration": 1227,
    "start_time": "2023-05-04T23:29:35.932Z"
   },
   {
    "duration": 25,
    "start_time": "2023-05-04T23:30:50.786Z"
   },
   {
    "duration": 11,
    "start_time": "2023-05-04T23:31:06.323Z"
   },
   {
    "duration": 11,
    "start_time": "2023-05-04T23:31:12.372Z"
   },
   {
    "duration": 7,
    "start_time": "2023-05-04T23:33:46.451Z"
   },
   {
    "duration": 695,
    "start_time": "2023-05-04T23:34:11.173Z"
   },
   {
    "duration": 6,
    "start_time": "2023-05-04T23:34:18.937Z"
   },
   {
    "duration": 50,
    "start_time": "2023-05-05T14:55:27.476Z"
   },
   {
    "duration": 1055,
    "start_time": "2023-05-05T14:55:44.132Z"
   },
   {
    "duration": 1400,
    "start_time": "2023-05-05T14:55:45.189Z"
   },
   {
    "duration": 9,
    "start_time": "2023-05-05T14:55:46.590Z"
   },
   {
    "duration": 16,
    "start_time": "2023-05-05T14:55:46.601Z"
   },
   {
    "duration": 116,
    "start_time": "2023-05-05T14:55:46.619Z"
   },
   {
    "duration": 3,
    "start_time": "2023-05-05T14:55:46.737Z"
   },
   {
    "duration": 16,
    "start_time": "2023-05-05T14:55:46.741Z"
   },
   {
    "duration": 5,
    "start_time": "2023-05-05T14:55:46.758Z"
   },
   {
    "duration": 30,
    "start_time": "2023-05-05T14:55:46.764Z"
   },
   {
    "duration": 27,
    "start_time": "2023-05-05T14:55:46.796Z"
   },
   {
    "duration": 44,
    "start_time": "2023-05-05T14:55:46.825Z"
   },
   {
    "duration": 21,
    "start_time": "2023-05-05T14:55:46.871Z"
   },
   {
    "duration": 13,
    "start_time": "2023-05-05T14:55:46.893Z"
   },
   {
    "duration": 5,
    "start_time": "2023-05-05T14:55:46.909Z"
   },
   {
    "duration": 161,
    "start_time": "2023-05-05T14:55:46.915Z"
   },
   {
    "duration": 4,
    "start_time": "2023-05-05T14:55:47.078Z"
   },
   {
    "duration": 17,
    "start_time": "2023-05-05T14:55:47.084Z"
   },
   {
    "duration": 30,
    "start_time": "2023-05-05T14:55:47.103Z"
   },
   {
    "duration": 6,
    "start_time": "2023-05-05T14:55:47.134Z"
   },
   {
    "duration": 33,
    "start_time": "2023-05-05T14:55:47.141Z"
   },
   {
    "duration": 20,
    "start_time": "2023-05-05T14:55:47.176Z"
   },
   {
    "duration": 35,
    "start_time": "2023-05-05T14:55:47.198Z"
   },
   {
    "duration": 7,
    "start_time": "2023-05-05T14:55:47.235Z"
   },
   {
    "duration": 14,
    "start_time": "2023-05-05T14:55:47.243Z"
   },
   {
    "duration": 500,
    "start_time": "2023-05-05T14:55:47.258Z"
   },
   {
    "duration": 5,
    "start_time": "2023-05-05T14:55:47.760Z"
   },
   {
    "duration": 16,
    "start_time": "2023-05-05T14:55:47.767Z"
   },
   {
    "duration": 93,
    "start_time": "2023-05-05T14:55:47.785Z"
   },
   {
    "duration": 6,
    "start_time": "2023-05-05T14:55:47.879Z"
   },
   {
    "duration": 71,
    "start_time": "2023-05-05T14:55:47.887Z"
   },
   {
    "duration": 21,
    "start_time": "2023-05-05T14:55:47.959Z"
   },
   {
    "duration": 29,
    "start_time": "2023-05-05T14:55:47.982Z"
   },
   {
    "duration": 12,
    "start_time": "2023-05-05T14:55:48.022Z"
   },
   {
    "duration": 5,
    "start_time": "2023-05-05T14:55:48.036Z"
   },
   {
    "duration": 16,
    "start_time": "2023-05-05T14:55:48.043Z"
   },
   {
    "duration": 9,
    "start_time": "2023-05-05T14:55:48.061Z"
   },
   {
    "duration": 5,
    "start_time": "2023-05-05T14:55:48.072Z"
   },
   {
    "duration": 71,
    "start_time": "2023-05-05T19:49:02.452Z"
   },
   {
    "duration": 1381,
    "start_time": "2023-05-05T19:49:15.214Z"
   },
   {
    "duration": 1623,
    "start_time": "2023-05-05T19:49:16.601Z"
   },
   {
    "duration": 12,
    "start_time": "2023-05-05T19:49:18.226Z"
   },
   {
    "duration": 13,
    "start_time": "2023-05-05T19:49:18.240Z"
   },
   {
    "duration": 160,
    "start_time": "2023-05-05T19:49:18.255Z"
   },
   {
    "duration": 3,
    "start_time": "2023-05-05T19:49:18.416Z"
   },
   {
    "duration": 21,
    "start_time": "2023-05-05T19:49:18.421Z"
   },
   {
    "duration": 29,
    "start_time": "2023-05-05T19:49:18.443Z"
   },
   {
    "duration": 54,
    "start_time": "2023-05-05T19:49:18.477Z"
   },
   {
    "duration": 38,
    "start_time": "2023-05-05T19:49:18.534Z"
   },
   {
    "duration": 32,
    "start_time": "2023-05-05T19:49:18.578Z"
   },
   {
    "duration": 25,
    "start_time": "2023-05-05T19:49:18.613Z"
   },
   {
    "duration": 26,
    "start_time": "2023-05-05T19:49:18.640Z"
   },
   {
    "duration": 19,
    "start_time": "2023-05-05T19:49:18.676Z"
   },
   {
    "duration": 225,
    "start_time": "2023-05-05T19:49:18.698Z"
   },
   {
    "duration": 6,
    "start_time": "2023-05-05T19:49:18.925Z"
   },
   {
    "duration": 57,
    "start_time": "2023-05-05T19:49:18.933Z"
   },
   {
    "duration": 28,
    "start_time": "2023-05-05T19:49:18.991Z"
   },
   {
    "duration": 15,
    "start_time": "2023-05-05T19:49:19.021Z"
   },
   {
    "duration": 59,
    "start_time": "2023-05-05T19:49:19.038Z"
   },
   {
    "duration": 26,
    "start_time": "2023-05-05T19:49:19.099Z"
   },
   {
    "duration": 45,
    "start_time": "2023-05-05T19:49:19.127Z"
   },
   {
    "duration": 10,
    "start_time": "2023-05-05T19:49:19.179Z"
   },
   {
    "duration": 13,
    "start_time": "2023-05-05T19:49:19.191Z"
   },
   {
    "duration": 797,
    "start_time": "2023-05-05T19:49:19.205Z"
   },
   {
    "duration": 6,
    "start_time": "2023-05-05T19:49:20.004Z"
   },
   {
    "duration": 35,
    "start_time": "2023-05-05T19:49:20.012Z"
   },
   {
    "duration": 160,
    "start_time": "2023-05-05T19:49:20.052Z"
   },
   {
    "duration": 10,
    "start_time": "2023-05-05T19:49:20.214Z"
   },
   {
    "duration": 87,
    "start_time": "2023-05-05T19:49:20.226Z"
   },
   {
    "duration": 45,
    "start_time": "2023-05-05T19:49:20.316Z"
   },
   {
    "duration": 32,
    "start_time": "2023-05-05T19:49:20.369Z"
   },
   {
    "duration": 16,
    "start_time": "2023-05-05T19:49:20.403Z"
   },
   {
    "duration": 30,
    "start_time": "2023-05-05T19:49:20.421Z"
   },
   {
    "duration": 13,
    "start_time": "2023-05-05T19:49:20.453Z"
   },
   {
    "duration": 41,
    "start_time": "2023-05-05T19:49:20.470Z"
   },
   {
    "duration": 9,
    "start_time": "2023-05-05T19:49:20.513Z"
   },
   {
    "duration": 43,
    "start_time": "2023-05-05T19:49:20.524Z"
   },
   {
    "duration": 49,
    "start_time": "2023-05-05T19:49:20.569Z"
   },
   {
    "duration": 19,
    "start_time": "2023-05-05T19:49:20.620Z"
   },
   {
    "duration": 73,
    "start_time": "2023-05-05T20:08:44.556Z"
   },
   {
    "duration": 7,
    "start_time": "2023-05-05T20:39:46.780Z"
   },
   {
    "duration": 22,
    "start_time": "2023-05-05T20:43:38.853Z"
   },
   {
    "duration": 25,
    "start_time": "2023-05-05T20:43:49.117Z"
   },
   {
    "duration": 3,
    "start_time": "2023-05-05T20:45:43.630Z"
   },
   {
    "duration": 20,
    "start_time": "2023-05-05T20:46:56.090Z"
   },
   {
    "duration": 26,
    "start_time": "2023-05-05T20:47:04.992Z"
   },
   {
    "duration": 4,
    "start_time": "2023-05-05T20:49:10.000Z"
   },
   {
    "duration": 4,
    "start_time": "2023-05-05T20:49:49.287Z"
   },
   {
    "duration": 9,
    "start_time": "2023-05-05T20:50:51.592Z"
   },
   {
    "duration": 24,
    "start_time": "2023-05-05T20:52:31.948Z"
   },
   {
    "duration": 45,
    "start_time": "2023-05-05T20:52:47.740Z"
   },
   {
    "duration": 4,
    "start_time": "2023-05-05T20:53:59.048Z"
   },
   {
    "duration": 984,
    "start_time": "2023-05-05T20:57:15.536Z"
   },
   {
    "duration": 6,
    "start_time": "2023-05-05T20:58:00.251Z"
   },
   {
    "duration": 19,
    "start_time": "2023-05-05T21:25:13.287Z"
   },
   {
    "duration": 29,
    "start_time": "2023-05-05T21:25:18.745Z"
   },
   {
    "duration": 4,
    "start_time": "2023-05-05T21:25:44.348Z"
   },
   {
    "duration": 18,
    "start_time": "2023-05-05T21:28:47.405Z"
   },
   {
    "duration": 14,
    "start_time": "2023-05-05T21:29:59.622Z"
   },
   {
    "duration": 14,
    "start_time": "2023-05-05T21:30:34.191Z"
   },
   {
    "duration": 20,
    "start_time": "2023-05-05T21:31:56.146Z"
   },
   {
    "duration": 15,
    "start_time": "2023-05-05T21:32:22.199Z"
   },
   {
    "duration": 9,
    "start_time": "2023-05-05T21:33:36.079Z"
   },
   {
    "duration": 6,
    "start_time": "2023-05-05T21:34:02.788Z"
   },
   {
    "duration": 6,
    "start_time": "2023-05-05T21:34:11.135Z"
   },
   {
    "duration": 5,
    "start_time": "2023-05-05T21:34:35.987Z"
   },
   {
    "duration": 13,
    "start_time": "2023-05-05T21:39:07.683Z"
   },
   {
    "duration": 12,
    "start_time": "2023-05-05T21:46:50.938Z"
   },
   {
    "duration": 964,
    "start_time": "2023-05-05T21:47:38.222Z"
   },
   {
    "duration": 869,
    "start_time": "2023-05-05T21:47:57.585Z"
   },
   {
    "duration": 12,
    "start_time": "2023-05-05T21:48:09.785Z"
   },
   {
    "duration": 12,
    "start_time": "2023-05-05T21:52:46.742Z"
   },
   {
    "duration": 9,
    "start_time": "2023-05-05T21:52:59.338Z"
   },
   {
    "duration": 5,
    "start_time": "2023-05-05T21:55:34.879Z"
   },
   {
    "duration": 4,
    "start_time": "2023-05-05T21:55:53.401Z"
   },
   {
    "duration": 753,
    "start_time": "2023-05-05T21:56:21.027Z"
   },
   {
    "duration": 5,
    "start_time": "2023-05-05T21:56:39.631Z"
   },
   {
    "duration": 5,
    "start_time": "2023-05-05T21:56:59.203Z"
   },
   {
    "duration": 5,
    "start_time": "2023-05-05T21:57:01.786Z"
   },
   {
    "duration": 27,
    "start_time": "2023-05-05T22:21:55.201Z"
   },
   {
    "duration": 4,
    "start_time": "2023-05-05T22:22:05.629Z"
   },
   {
    "duration": 671,
    "start_time": "2023-05-05T22:22:58.023Z"
   },
   {
    "duration": 21,
    "start_time": "2023-05-05T22:25:01.418Z"
   },
   {
    "duration": 4,
    "start_time": "2023-05-05T22:25:04.226Z"
   },
   {
    "duration": 15,
    "start_time": "2023-05-05T22:25:27.303Z"
   },
   {
    "duration": 4,
    "start_time": "2023-05-05T22:25:29.297Z"
   },
   {
    "duration": 9,
    "start_time": "2023-05-05T23:02:04.162Z"
   },
   {
    "duration": 17,
    "start_time": "2023-05-05T23:02:50.434Z"
   },
   {
    "duration": 3,
    "start_time": "2023-05-05T23:02:56.929Z"
   },
   {
    "duration": 13,
    "start_time": "2023-05-05T23:10:32.158Z"
   },
   {
    "duration": 4,
    "start_time": "2023-05-05T23:10:54.087Z"
   },
   {
    "duration": 6,
    "start_time": "2023-05-05T23:11:58.617Z"
   },
   {
    "duration": 6,
    "start_time": "2023-05-05T23:12:28.842Z"
   },
   {
    "duration": 4,
    "start_time": "2023-05-05T23:19:41.294Z"
   },
   {
    "duration": 6,
    "start_time": "2023-05-05T23:27:58.472Z"
   },
   {
    "duration": 45,
    "start_time": "2023-05-05T23:28:17.332Z"
   },
   {
    "duration": 6,
    "start_time": "2023-05-05T23:28:21.962Z"
   },
   {
    "duration": 8,
    "start_time": "2023-05-05T23:28:35.249Z"
   },
   {
    "duration": 12,
    "start_time": "2023-05-05T23:32:15.767Z"
   },
   {
    "duration": 688,
    "start_time": "2023-05-05T23:48:55.577Z"
   },
   {
    "duration": 1010,
    "start_time": "2023-05-06T00:01:08.606Z"
   },
   {
    "duration": 19,
    "start_time": "2023-05-06T00:01:56.171Z"
   },
   {
    "duration": 10,
    "start_time": "2023-05-06T00:03:39.043Z"
   },
   {
    "duration": 19,
    "start_time": "2023-05-06T00:03:45.531Z"
   },
   {
    "duration": 4,
    "start_time": "2023-05-06T00:04:42.618Z"
   },
   {
    "duration": 5,
    "start_time": "2023-05-06T00:07:19.533Z"
   },
   {
    "duration": 52,
    "start_time": "2023-05-06T00:14:14.028Z"
   },
   {
    "duration": 18,
    "start_time": "2023-05-06T00:14:26.043Z"
   },
   {
    "duration": 15,
    "start_time": "2023-05-06T00:15:01.700Z"
   },
   {
    "duration": 5,
    "start_time": "2023-05-06T00:15:40.226Z"
   },
   {
    "duration": 4,
    "start_time": "2023-05-06T00:17:34.400Z"
   },
   {
    "duration": 5,
    "start_time": "2023-05-06T00:18:15.560Z"
   },
   {
    "duration": 4,
    "start_time": "2023-05-06T00:22:52.432Z"
   },
   {
    "duration": 3,
    "start_time": "2023-05-06T00:23:06.280Z"
   },
   {
    "duration": 14,
    "start_time": "2023-05-06T00:24:33.631Z"
   },
   {
    "duration": 30,
    "start_time": "2023-05-06T00:25:08.001Z"
   },
   {
    "duration": 16,
    "start_time": "2023-05-06T00:25:44.851Z"
   },
   {
    "duration": 54,
    "start_time": "2023-05-06T00:27:14.196Z"
   },
   {
    "duration": 4,
    "start_time": "2023-05-06T00:28:04.348Z"
   },
   {
    "duration": 4,
    "start_time": "2023-05-06T00:28:30.529Z"
   },
   {
    "duration": 6,
    "start_time": "2023-05-06T00:28:33.009Z"
   },
   {
    "duration": 21,
    "start_time": "2023-05-06T00:28:48.360Z"
   },
   {
    "duration": 16,
    "start_time": "2023-05-06T00:29:54.470Z"
   },
   {
    "duration": 4,
    "start_time": "2023-05-06T00:41:39.262Z"
   },
   {
    "duration": 27,
    "start_time": "2023-05-06T00:45:17.116Z"
   },
   {
    "duration": 20,
    "start_time": "2023-05-06T00:45:28.803Z"
   },
   {
    "duration": 13,
    "start_time": "2023-05-06T00:46:42.349Z"
   },
   {
    "duration": 8,
    "start_time": "2023-05-06T00:47:42.516Z"
   },
   {
    "duration": 22,
    "start_time": "2023-05-06T00:53:08.104Z"
   },
   {
    "duration": 21,
    "start_time": "2023-05-06T00:53:19.412Z"
   },
   {
    "duration": 8,
    "start_time": "2023-05-06T00:55:39.676Z"
   },
   {
    "duration": 22,
    "start_time": "2023-05-06T00:56:02.543Z"
   },
   {
    "duration": 4,
    "start_time": "2023-05-06T00:56:15.668Z"
   },
   {
    "duration": 3,
    "start_time": "2023-05-06T00:56:58.791Z"
   },
   {
    "duration": 4,
    "start_time": "2023-05-06T00:57:07.069Z"
   },
   {
    "duration": 35,
    "start_time": "2023-05-06T00:57:33.945Z"
   },
   {
    "duration": 4,
    "start_time": "2023-05-06T00:57:35.827Z"
   },
   {
    "duration": 11,
    "start_time": "2023-05-06T00:59:04.381Z"
   },
   {
    "duration": 5,
    "start_time": "2023-05-06T00:59:56.376Z"
   },
   {
    "duration": 7,
    "start_time": "2023-05-06T01:01:50.188Z"
   },
   {
    "duration": 7,
    "start_time": "2023-05-06T01:03:26.375Z"
   },
   {
    "duration": 31,
    "start_time": "2023-05-06T01:04:32.471Z"
   },
   {
    "duration": 6,
    "start_time": "2023-05-06T01:04:53.844Z"
   },
   {
    "duration": 32,
    "start_time": "2023-05-06T01:05:24.453Z"
   },
   {
    "duration": 110,
    "start_time": "2023-05-06T01:06:50.122Z"
   },
   {
    "duration": 17,
    "start_time": "2023-05-06T01:08:42.181Z"
   },
   {
    "duration": 729,
    "start_time": "2023-05-06T01:09:53.397Z"
   },
   {
    "duration": 19,
    "start_time": "2023-05-06T01:10:19.813Z"
   },
   {
    "duration": 65,
    "start_time": "2023-05-06T01:10:37.266Z"
   },
   {
    "duration": 19,
    "start_time": "2023-05-06T01:10:48.439Z"
   },
   {
    "duration": 47,
    "start_time": "2023-05-06T01:12:05.852Z"
   },
   {
    "duration": 11,
    "start_time": "2023-05-06T01:13:50.551Z"
   },
   {
    "duration": 11,
    "start_time": "2023-05-06T01:14:30.194Z"
   },
   {
    "duration": 22,
    "start_time": "2023-05-06T01:14:44.305Z"
   },
   {
    "duration": 23,
    "start_time": "2023-05-06T01:14:50.833Z"
   },
   {
    "duration": 22,
    "start_time": "2023-05-06T01:15:52.406Z"
   },
   {
    "duration": 40,
    "start_time": "2023-05-06T01:16:49.783Z"
   },
   {
    "duration": 4,
    "start_time": "2023-05-06T01:18:08.947Z"
   },
   {
    "duration": 46,
    "start_time": "2023-05-06T01:19:50.141Z"
   },
   {
    "duration": 4,
    "start_time": "2023-05-06T01:20:58.944Z"
   },
   {
    "duration": 3,
    "start_time": "2023-05-06T01:25:05.436Z"
   },
   {
    "duration": 89,
    "start_time": "2023-05-06T01:29:22.863Z"
   },
   {
    "duration": 4,
    "start_time": "2023-05-06T01:31:31.326Z"
   },
   {
    "duration": 1006,
    "start_time": "2023-05-06T01:32:49.663Z"
   },
   {
    "duration": 1112,
    "start_time": "2023-05-06T01:32:50.671Z"
   },
   {
    "duration": 10,
    "start_time": "2023-05-06T01:32:51.784Z"
   },
   {
    "duration": 20,
    "start_time": "2023-05-06T01:32:51.795Z"
   },
   {
    "duration": 141,
    "start_time": "2023-05-06T01:32:51.817Z"
   },
   {
    "duration": 3,
    "start_time": "2023-05-06T01:32:51.960Z"
   },
   {
    "duration": 20,
    "start_time": "2023-05-06T01:32:51.964Z"
   },
   {
    "duration": 27,
    "start_time": "2023-05-06T01:32:51.985Z"
   },
   {
    "duration": 34,
    "start_time": "2023-05-06T01:32:52.014Z"
   },
   {
    "duration": 20,
    "start_time": "2023-05-06T01:32:52.050Z"
   },
   {
    "duration": 28,
    "start_time": "2023-05-06T01:32:52.071Z"
   },
   {
    "duration": 20,
    "start_time": "2023-05-06T01:32:52.101Z"
   },
   {
    "duration": 149,
    "start_time": "2023-05-06T01:32:52.123Z"
   },
   {
    "duration": 4,
    "start_time": "2023-05-06T01:32:52.275Z"
   },
   {
    "duration": 14,
    "start_time": "2023-05-06T01:32:52.281Z"
   },
   {
    "duration": 30,
    "start_time": "2023-05-06T01:32:52.297Z"
   },
   {
    "duration": 7,
    "start_time": "2023-05-06T01:32:52.329Z"
   },
   {
    "duration": 31,
    "start_time": "2023-05-06T01:32:52.337Z"
   },
   {
    "duration": 21,
    "start_time": "2023-05-06T01:32:52.370Z"
   },
   {
    "duration": 42,
    "start_time": "2023-05-06T01:32:52.393Z"
   },
   {
    "duration": 480,
    "start_time": "2023-05-06T01:32:52.436Z"
   },
   {
    "duration": 4,
    "start_time": "2023-05-06T01:32:52.918Z"
   },
   {
    "duration": 9,
    "start_time": "2023-05-06T01:32:52.924Z"
   },
   {
    "duration": 96,
    "start_time": "2023-05-06T01:32:52.934Z"
   },
   {
    "duration": 6,
    "start_time": "2023-05-06T01:32:53.032Z"
   },
   {
    "duration": 64,
    "start_time": "2023-05-06T01:32:53.039Z"
   },
   {
    "duration": 19,
    "start_time": "2023-05-06T01:32:53.105Z"
   },
   {
    "duration": 22,
    "start_time": "2023-05-06T01:32:53.126Z"
   },
   {
    "duration": 16,
    "start_time": "2023-05-06T01:32:53.156Z"
   },
   {
    "duration": 27,
    "start_time": "2023-05-06T01:32:53.173Z"
   },
   {
    "duration": 5,
    "start_time": "2023-05-06T01:32:53.202Z"
   },
   {
    "duration": 97,
    "start_time": "2023-05-06T01:32:53.208Z"
   },
   {
    "duration": 0,
    "start_time": "2023-05-06T01:32:53.307Z"
   },
   {
    "duration": 0,
    "start_time": "2023-05-06T01:32:53.308Z"
   },
   {
    "duration": 0,
    "start_time": "2023-05-06T01:32:53.309Z"
   },
   {
    "duration": 0,
    "start_time": "2023-05-06T01:32:53.310Z"
   },
   {
    "duration": 0,
    "start_time": "2023-05-06T01:32:53.311Z"
   },
   {
    "duration": 0,
    "start_time": "2023-05-06T01:32:53.312Z"
   },
   {
    "duration": 0,
    "start_time": "2023-05-06T01:32:53.313Z"
   },
   {
    "duration": 0,
    "start_time": "2023-05-06T01:32:53.314Z"
   },
   {
    "duration": 0,
    "start_time": "2023-05-06T01:32:53.315Z"
   },
   {
    "duration": 0,
    "start_time": "2023-05-06T01:32:53.316Z"
   },
   {
    "duration": 0,
    "start_time": "2023-05-06T01:32:53.317Z"
   },
   {
    "duration": 0,
    "start_time": "2023-05-06T01:32:53.318Z"
   },
   {
    "duration": 0,
    "start_time": "2023-05-06T01:32:53.319Z"
   },
   {
    "duration": 0,
    "start_time": "2023-05-06T01:32:53.320Z"
   },
   {
    "duration": 0,
    "start_time": "2023-05-06T01:32:53.321Z"
   },
   {
    "duration": 0,
    "start_time": "2023-05-06T01:32:53.322Z"
   },
   {
    "duration": 0,
    "start_time": "2023-05-06T01:32:53.323Z"
   },
   {
    "duration": 0,
    "start_time": "2023-05-06T01:32:53.324Z"
   },
   {
    "duration": 0,
    "start_time": "2023-05-06T01:32:53.325Z"
   },
   {
    "duration": 0,
    "start_time": "2023-05-06T01:32:53.326Z"
   },
   {
    "duration": 0,
    "start_time": "2023-05-06T01:32:53.327Z"
   },
   {
    "duration": 0,
    "start_time": "2023-05-06T01:32:53.356Z"
   },
   {
    "duration": 0,
    "start_time": "2023-05-06T01:32:53.357Z"
   },
   {
    "duration": 0,
    "start_time": "2023-05-06T01:32:53.358Z"
   },
   {
    "duration": 0,
    "start_time": "2023-05-06T01:32:53.359Z"
   },
   {
    "duration": 0,
    "start_time": "2023-05-06T01:32:53.360Z"
   },
   {
    "duration": 0,
    "start_time": "2023-05-06T01:32:53.362Z"
   },
   {
    "duration": 0,
    "start_time": "2023-05-06T01:32:53.363Z"
   },
   {
    "duration": 0,
    "start_time": "2023-05-06T01:32:53.364Z"
   },
   {
    "duration": 0,
    "start_time": "2023-05-06T01:32:53.365Z"
   },
   {
    "duration": 0,
    "start_time": "2023-05-06T01:32:53.366Z"
   },
   {
    "duration": 0,
    "start_time": "2023-05-06T01:32:53.367Z"
   },
   {
    "duration": 0,
    "start_time": "2023-05-06T01:32:53.368Z"
   },
   {
    "duration": 0,
    "start_time": "2023-05-06T01:32:53.369Z"
   },
   {
    "duration": 0,
    "start_time": "2023-05-06T01:32:53.370Z"
   },
   {
    "duration": 0,
    "start_time": "2023-05-06T01:32:53.371Z"
   },
   {
    "duration": 0,
    "start_time": "2023-05-06T01:32:53.372Z"
   },
   {
    "duration": 0,
    "start_time": "2023-05-06T01:32:53.373Z"
   },
   {
    "duration": 0,
    "start_time": "2023-05-06T01:32:53.374Z"
   },
   {
    "duration": 0,
    "start_time": "2023-05-06T01:32:53.375Z"
   },
   {
    "duration": 9,
    "start_time": "2023-05-06T01:34:25.567Z"
   },
   {
    "duration": 7,
    "start_time": "2023-05-06T01:34:32.059Z"
   },
   {
    "duration": 4,
    "start_time": "2023-05-06T01:34:50.652Z"
   },
   {
    "duration": 5,
    "start_time": "2023-05-06T01:35:09.923Z"
   },
   {
    "duration": 32,
    "start_time": "2023-05-06T01:35:09.930Z"
   },
   {
    "duration": 5,
    "start_time": "2023-05-06T01:35:09.964Z"
   },
   {
    "duration": 16,
    "start_time": "2023-05-06T01:35:09.970Z"
   },
   {
    "duration": 13,
    "start_time": "2023-05-06T01:35:09.988Z"
   },
   {
    "duration": 16,
    "start_time": "2023-05-06T01:35:10.003Z"
   },
   {
    "duration": 13,
    "start_time": "2023-05-06T01:35:10.021Z"
   },
   {
    "duration": 19,
    "start_time": "2023-05-06T01:35:10.036Z"
   },
   {
    "duration": 4,
    "start_time": "2023-05-06T01:35:10.057Z"
   },
   {
    "duration": 10,
    "start_time": "2023-05-06T01:35:10.063Z"
   },
   {
    "duration": 6,
    "start_time": "2023-05-06T01:35:10.075Z"
   },
   {
    "duration": 10,
    "start_time": "2023-05-06T01:35:10.083Z"
   },
   {
    "duration": 22,
    "start_time": "2023-05-06T01:35:10.094Z"
   },
   {
    "duration": 4,
    "start_time": "2023-05-06T01:35:10.119Z"
   },
   {
    "duration": 36,
    "start_time": "2023-05-06T01:35:10.125Z"
   },
   {
    "duration": 31,
    "start_time": "2023-05-06T01:35:10.163Z"
   },
   {
    "duration": 4,
    "start_time": "2023-05-06T01:35:10.195Z"
   },
   {
    "duration": 16,
    "start_time": "2023-05-06T01:35:10.201Z"
   },
   {
    "duration": 10,
    "start_time": "2023-05-06T01:35:10.219Z"
   },
   {
    "duration": 24,
    "start_time": "2023-05-06T01:35:10.255Z"
   },
   {
    "duration": 4,
    "start_time": "2023-05-06T01:35:10.281Z"
   },
   {
    "duration": 15,
    "start_time": "2023-05-06T01:35:10.286Z"
   },
   {
    "duration": 5,
    "start_time": "2023-05-06T01:35:10.303Z"
   },
   {
    "duration": 7,
    "start_time": "2023-05-06T01:35:10.310Z"
   },
   {
    "duration": 6,
    "start_time": "2023-05-06T01:35:10.318Z"
   },
   {
    "duration": 36,
    "start_time": "2023-05-06T01:35:10.325Z"
   },
   {
    "duration": 39,
    "start_time": "2023-05-06T01:35:10.362Z"
   },
   {
    "duration": 6,
    "start_time": "2023-05-06T01:35:10.402Z"
   },
   {
    "duration": 47,
    "start_time": "2023-05-06T01:35:10.409Z"
   },
   {
    "duration": 23,
    "start_time": "2023-05-06T01:35:10.457Z"
   },
   {
    "duration": 23,
    "start_time": "2023-05-06T01:35:10.482Z"
   },
   {
    "duration": 97,
    "start_time": "2023-05-06T01:35:10.507Z"
   },
   {
    "duration": 4,
    "start_time": "2023-05-06T01:35:10.606Z"
   },
   {
    "duration": 6,
    "start_time": "2023-05-06T01:35:10.612Z"
   },
   {
    "duration": 74,
    "start_time": "2023-05-06T01:35:10.619Z"
   },
   {
    "duration": 5,
    "start_time": "2023-05-06T01:35:10.694Z"
   },
   {
    "duration": 224,
    "start_time": "2023-05-06T01:35:10.700Z"
   },
   {
    "duration": 8,
    "start_time": "2023-05-06T01:35:10.925Z"
   },
   {
    "duration": 12,
    "start_time": "2023-05-06T01:36:21.297Z"
   },
   {
    "duration": 46,
    "start_time": "2023-05-06T01:46:35.251Z"
   },
   {
    "duration": 8,
    "start_time": "2023-05-06T01:50:59.832Z"
   },
   {
    "duration": 4,
    "start_time": "2023-05-06T01:51:05.028Z"
   },
   {
    "duration": 4,
    "start_time": "2023-05-06T01:53:56.091Z"
   },
   {
    "duration": 4,
    "start_time": "2023-05-06T01:55:30.755Z"
   },
   {
    "duration": 4,
    "start_time": "2023-05-06T01:55:39.155Z"
   },
   {
    "duration": 3,
    "start_time": "2023-05-06T01:55:43.365Z"
   },
   {
    "duration": 4,
    "start_time": "2023-05-06T01:55:52.621Z"
   },
   {
    "duration": 4,
    "start_time": "2023-05-06T01:55:55.954Z"
   },
   {
    "duration": 4,
    "start_time": "2023-05-06T01:56:07.671Z"
   },
   {
    "duration": 4,
    "start_time": "2023-05-06T01:57:54.031Z"
   },
   {
    "duration": 12,
    "start_time": "2023-05-06T01:59:33.009Z"
   },
   {
    "duration": 13,
    "start_time": "2023-05-06T01:59:50.656Z"
   },
   {
    "duration": 1163,
    "start_time": "2023-05-06T02:00:13.336Z"
   },
   {
    "duration": 776,
    "start_time": "2023-05-06T02:00:30.198Z"
   },
   {
    "duration": 720,
    "start_time": "2023-05-06T02:40:09.041Z"
   },
   {
    "duration": 976,
    "start_time": "2023-05-06T02:40:25.571Z"
   },
   {
    "duration": 17,
    "start_time": "2023-05-06T02:46:37.595Z"
   },
   {
    "duration": 151,
    "start_time": "2023-05-06T02:48:09.047Z"
   },
   {
    "duration": 972,
    "start_time": "2023-05-06T02:48:17.010Z"
   },
   {
    "duration": 422,
    "start_time": "2023-05-06T02:48:50.188Z"
   },
   {
    "duration": 356,
    "start_time": "2023-05-06T02:50:50.665Z"
   },
   {
    "duration": 642,
    "start_time": "2023-05-06T02:50:55.422Z"
   },
   {
    "duration": 607,
    "start_time": "2023-05-06T02:51:05.735Z"
   },
   {
    "duration": 690,
    "start_time": "2023-05-06T02:52:26.683Z"
   },
   {
    "duration": 685,
    "start_time": "2023-05-06T02:54:03.319Z"
   },
   {
    "duration": 597,
    "start_time": "2023-05-06T02:54:31.157Z"
   },
   {
    "duration": 279,
    "start_time": "2023-05-06T02:54:36.905Z"
   },
   {
    "duration": 536,
    "start_time": "2023-05-06T02:54:46.562Z"
   },
   {
    "duration": 17,
    "start_time": "2023-05-06T02:58:03.191Z"
   },
   {
    "duration": 13,
    "start_time": "2023-05-06T02:58:22.938Z"
   },
   {
    "duration": 14,
    "start_time": "2023-05-06T02:58:31.494Z"
   },
   {
    "duration": 12,
    "start_time": "2023-05-06T02:59:35.129Z"
   },
   {
    "duration": 472,
    "start_time": "2023-05-06T03:00:16.378Z"
   },
   {
    "duration": 11,
    "start_time": "2023-05-06T03:00:42.621Z"
   },
   {
    "duration": 142,
    "start_time": "2023-05-06T03:00:56.158Z"
   },
   {
    "duration": 149,
    "start_time": "2023-05-06T03:01:04.760Z"
   },
   {
    "duration": 110,
    "start_time": "2023-05-06T03:02:53.212Z"
   },
   {
    "duration": 122,
    "start_time": "2023-05-06T03:02:59.219Z"
   },
   {
    "duration": 250,
    "start_time": "2023-05-06T03:05:20.147Z"
   },
   {
    "duration": 760,
    "start_time": "2023-05-06T03:06:02.237Z"
   },
   {
    "duration": 155,
    "start_time": "2023-05-06T03:06:30.088Z"
   },
   {
    "duration": 123,
    "start_time": "2023-05-06T03:06:37.693Z"
   },
   {
    "duration": 116,
    "start_time": "2023-05-06T03:07:26.883Z"
   },
   {
    "duration": 135,
    "start_time": "2023-05-06T03:07:34.139Z"
   },
   {
    "duration": 1838,
    "start_time": "2023-05-08T16:07:30.916Z"
   },
   {
    "duration": 1069,
    "start_time": "2023-05-08T16:07:32.756Z"
   },
   {
    "duration": 8,
    "start_time": "2023-05-08T16:07:33.826Z"
   },
   {
    "duration": 33,
    "start_time": "2023-05-08T16:07:33.836Z"
   },
   {
    "duration": 147,
    "start_time": "2023-05-08T16:07:33.871Z"
   },
   {
    "duration": 3,
    "start_time": "2023-05-08T16:07:34.019Z"
   },
   {
    "duration": 28,
    "start_time": "2023-05-08T16:07:34.023Z"
   },
   {
    "duration": 28,
    "start_time": "2023-05-08T16:07:34.053Z"
   },
   {
    "duration": 63,
    "start_time": "2023-05-08T16:07:34.084Z"
   },
   {
    "duration": 26,
    "start_time": "2023-05-08T16:07:34.151Z"
   },
   {
    "duration": 40,
    "start_time": "2023-05-08T16:07:34.178Z"
   },
   {
    "duration": 25,
    "start_time": "2023-05-08T16:07:34.220Z"
   },
   {
    "duration": 496,
    "start_time": "2023-05-08T16:07:34.247Z"
   },
   {
    "duration": 6,
    "start_time": "2023-05-08T16:07:34.745Z"
   },
   {
    "duration": 33,
    "start_time": "2023-05-08T16:07:34.752Z"
   },
   {
    "duration": 30,
    "start_time": "2023-05-08T16:07:34.787Z"
   },
   {
    "duration": 7,
    "start_time": "2023-05-08T16:07:34.819Z"
   },
   {
    "duration": 60,
    "start_time": "2023-05-08T16:07:34.829Z"
   },
   {
    "duration": 27,
    "start_time": "2023-05-08T16:07:34.892Z"
   },
   {
    "duration": 40,
    "start_time": "2023-05-08T16:07:34.920Z"
   },
   {
    "duration": 2007,
    "start_time": "2023-05-08T16:07:34.962Z"
   },
   {
    "duration": 6,
    "start_time": "2023-05-08T16:07:36.970Z"
   },
   {
    "duration": 24,
    "start_time": "2023-05-08T16:07:36.977Z"
   },
   {
    "duration": 106,
    "start_time": "2023-05-08T16:07:37.003Z"
   },
   {
    "duration": 10,
    "start_time": "2023-05-08T16:07:37.110Z"
   },
   {
    "duration": 76,
    "start_time": "2023-05-08T16:07:37.122Z"
   },
   {
    "duration": 25,
    "start_time": "2023-05-08T16:07:37.201Z"
   },
   {
    "duration": 30,
    "start_time": "2023-05-08T16:07:37.232Z"
   },
   {
    "duration": 11,
    "start_time": "2023-05-08T16:07:37.264Z"
   },
   {
    "duration": 43,
    "start_time": "2023-05-08T16:07:37.277Z"
   },
   {
    "duration": 6,
    "start_time": "2023-05-08T16:07:37.322Z"
   },
   {
    "duration": 18,
    "start_time": "2023-05-08T16:07:37.330Z"
   },
   {
    "duration": 12,
    "start_time": "2023-05-08T16:07:37.350Z"
   },
   {
    "duration": 26,
    "start_time": "2023-05-08T16:07:37.363Z"
   },
   {
    "duration": 28,
    "start_time": "2023-05-08T16:07:37.391Z"
   },
   {
    "duration": 47,
    "start_time": "2023-05-08T16:07:37.420Z"
   },
   {
    "duration": 7,
    "start_time": "2023-05-08T16:07:37.469Z"
   },
   {
    "duration": 30,
    "start_time": "2023-05-08T16:07:37.478Z"
   },
   {
    "duration": 10,
    "start_time": "2023-05-08T16:07:37.511Z"
   },
   {
    "duration": 36,
    "start_time": "2023-05-08T16:07:37.523Z"
   },
   {
    "duration": 27,
    "start_time": "2023-05-08T16:07:37.561Z"
   },
   {
    "duration": 30,
    "start_time": "2023-05-08T16:07:37.589Z"
   },
   {
    "duration": 10,
    "start_time": "2023-05-08T16:07:37.621Z"
   },
   {
    "duration": 12,
    "start_time": "2023-05-08T16:07:37.633Z"
   },
   {
    "duration": 11,
    "start_time": "2023-05-08T16:07:37.647Z"
   },
   {
    "duration": 17,
    "start_time": "2023-05-08T16:07:37.660Z"
   },
   {
    "duration": 30,
    "start_time": "2023-05-08T16:07:37.679Z"
   },
   {
    "duration": 6,
    "start_time": "2023-05-08T16:07:37.711Z"
   },
   {
    "duration": 23,
    "start_time": "2023-05-08T16:07:37.719Z"
   },
   {
    "duration": 34,
    "start_time": "2023-05-08T16:07:37.744Z"
   },
   {
    "duration": 4,
    "start_time": "2023-05-08T16:07:37.780Z"
   },
   {
    "duration": 40,
    "start_time": "2023-05-08T16:07:37.786Z"
   },
   {
    "duration": 11,
    "start_time": "2023-05-08T16:07:37.828Z"
   },
   {
    "duration": 40,
    "start_time": "2023-05-08T16:07:37.841Z"
   },
   {
    "duration": 5,
    "start_time": "2023-05-08T16:07:37.883Z"
   },
   {
    "duration": 26,
    "start_time": "2023-05-08T16:07:37.890Z"
   },
   {
    "duration": 14,
    "start_time": "2023-05-08T16:07:37.918Z"
   },
   {
    "duration": 21,
    "start_time": "2023-05-08T16:07:37.934Z"
   },
   {
    "duration": 49,
    "start_time": "2023-05-08T16:07:37.957Z"
   },
   {
    "duration": 50,
    "start_time": "2023-05-08T16:07:38.008Z"
   },
   {
    "duration": 97,
    "start_time": "2023-05-08T16:07:38.060Z"
   },
   {
    "duration": 9,
    "start_time": "2023-05-08T16:07:38.159Z"
   },
   {
    "duration": 32,
    "start_time": "2023-05-08T16:07:38.170Z"
   },
   {
    "duration": 48,
    "start_time": "2023-05-08T16:07:38.204Z"
   },
   {
    "duration": 29,
    "start_time": "2023-05-08T16:07:38.254Z"
   },
   {
    "duration": 96,
    "start_time": "2023-05-08T16:07:38.285Z"
   },
   {
    "duration": 37,
    "start_time": "2023-05-08T16:07:38.383Z"
   },
   {
    "duration": 25,
    "start_time": "2023-05-08T16:07:38.422Z"
   },
   {
    "duration": 74,
    "start_time": "2023-05-08T16:07:38.449Z"
   },
   {
    "duration": 4,
    "start_time": "2023-05-08T16:07:38.525Z"
   },
   {
    "duration": 263,
    "start_time": "2023-05-08T16:07:38.531Z"
   },
   {
    "duration": 23,
    "start_time": "2023-05-08T16:07:38.795Z"
   },
   {
    "duration": 15,
    "start_time": "2023-05-08T16:07:38.820Z"
   },
   {
    "duration": 22,
    "start_time": "2023-05-08T16:07:38.837Z"
   },
   {
    "duration": 1172,
    "start_time": "2023-05-08T16:07:38.860Z"
   },
   {
    "duration": 10,
    "start_time": "2023-05-08T16:07:40.035Z"
   },
   {
    "duration": 76,
    "start_time": "2023-05-08T16:16:01.296Z"
   },
   {
    "duration": 5,
    "start_time": "2023-05-08T16:46:01.910Z"
   },
   {
    "duration": 5,
    "start_time": "2023-05-08T16:46:29.133Z"
   },
   {
    "duration": 157,
    "start_time": "2023-05-08T16:48:22.356Z"
   },
   {
    "duration": 136,
    "start_time": "2023-05-08T16:48:27.069Z"
   },
   {
    "duration": 140,
    "start_time": "2023-05-08T16:48:33.628Z"
   },
   {
    "duration": 140,
    "start_time": "2023-05-08T16:48:38.012Z"
   },
   {
    "duration": 166,
    "start_time": "2023-05-08T16:49:02.908Z"
   },
   {
    "duration": 160,
    "start_time": "2023-05-08T16:49:14.774Z"
   },
   {
    "duration": 148,
    "start_time": "2023-05-08T16:49:23.854Z"
   },
   {
    "duration": 163,
    "start_time": "2023-05-08T16:49:46.907Z"
   },
   {
    "duration": 926,
    "start_time": "2023-05-08T16:53:32.701Z"
   },
   {
    "duration": 1083,
    "start_time": "2023-05-08T16:53:43.866Z"
   },
   {
    "duration": 198,
    "start_time": "2023-05-08T16:54:21.108Z"
   },
   {
    "duration": 175,
    "start_time": "2023-05-08T16:54:50.153Z"
   },
   {
    "duration": 184,
    "start_time": "2023-05-08T16:56:41.315Z"
   },
   {
    "duration": 174,
    "start_time": "2023-05-08T16:59:48.927Z"
   },
   {
    "duration": 192,
    "start_time": "2023-05-08T17:00:27.538Z"
   },
   {
    "duration": 432,
    "start_time": "2023-05-08T17:00:51.721Z"
   },
   {
    "duration": 191,
    "start_time": "2023-05-08T17:01:20.947Z"
   },
   {
    "duration": 211,
    "start_time": "2023-05-08T17:02:00.111Z"
   },
   {
    "duration": 197,
    "start_time": "2023-05-08T17:02:08.580Z"
   },
   {
    "duration": 180,
    "start_time": "2023-05-08T17:02:14.817Z"
   },
   {
    "duration": 161,
    "start_time": "2023-05-08T23:08:38.551Z"
   },
   {
    "duration": 158,
    "start_time": "2023-05-08T23:08:48.018Z"
   },
   {
    "duration": 152,
    "start_time": "2023-05-08T23:09:24.185Z"
   },
   {
    "duration": 190,
    "start_time": "2023-05-08T23:09:31.714Z"
   },
   {
    "duration": 5,
    "start_time": "2023-05-08T23:50:07.974Z"
   },
   {
    "duration": 6,
    "start_time": "2023-05-08T23:51:23.564Z"
   },
   {
    "duration": 6,
    "start_time": "2023-05-08T23:52:34.888Z"
   },
   {
    "duration": 5,
    "start_time": "2023-05-08T23:53:08.541Z"
   },
   {
    "duration": 104,
    "start_time": "2023-05-08T23:58:51.495Z"
   },
   {
    "duration": 5,
    "start_time": "2023-05-09T00:00:02.264Z"
   },
   {
    "duration": 6,
    "start_time": "2023-05-09T00:00:15.729Z"
   },
   {
    "duration": 6,
    "start_time": "2023-05-09T00:00:31.937Z"
   },
   {
    "duration": 5,
    "start_time": "2023-05-09T00:00:35.476Z"
   },
   {
    "duration": 5,
    "start_time": "2023-05-09T00:00:41.081Z"
   },
   {
    "duration": 5,
    "start_time": "2023-05-09T00:00:46.376Z"
   },
   {
    "duration": 10,
    "start_time": "2023-05-09T00:00:54.312Z"
   },
   {
    "duration": 1421,
    "start_time": "2023-05-09T00:01:13.015Z"
   },
   {
    "duration": 333,
    "start_time": "2023-05-09T00:01:14.439Z"
   },
   {
    "duration": 7,
    "start_time": "2023-05-09T00:01:14.776Z"
   },
   {
    "duration": 24,
    "start_time": "2023-05-09T00:01:14.784Z"
   },
   {
    "duration": 143,
    "start_time": "2023-05-09T00:01:14.809Z"
   },
   {
    "duration": 3,
    "start_time": "2023-05-09T00:01:14.954Z"
   },
   {
    "duration": 28,
    "start_time": "2023-05-09T00:01:14.959Z"
   },
   {
    "duration": 46,
    "start_time": "2023-05-09T00:01:14.989Z"
   },
   {
    "duration": 56,
    "start_time": "2023-05-09T00:01:15.039Z"
   },
   {
    "duration": 33,
    "start_time": "2023-05-09T00:01:15.097Z"
   },
   {
    "duration": 24,
    "start_time": "2023-05-09T00:01:15.132Z"
   },
   {
    "duration": 44,
    "start_time": "2023-05-09T00:01:15.157Z"
   },
   {
    "duration": 140,
    "start_time": "2023-05-09T00:01:15.203Z"
   },
   {
    "duration": 5,
    "start_time": "2023-05-09T00:01:15.344Z"
   },
   {
    "duration": 23,
    "start_time": "2023-05-09T00:01:15.351Z"
   },
   {
    "duration": 51,
    "start_time": "2023-05-09T00:01:15.375Z"
   },
   {
    "duration": 6,
    "start_time": "2023-05-09T00:01:15.428Z"
   },
   {
    "duration": 32,
    "start_time": "2023-05-09T00:01:15.435Z"
   },
   {
    "duration": 34,
    "start_time": "2023-05-09T00:01:15.469Z"
   },
   {
    "duration": 56,
    "start_time": "2023-05-09T00:01:15.505Z"
   },
   {
    "duration": 455,
    "start_time": "2023-05-09T00:01:15.563Z"
   },
   {
    "duration": 9,
    "start_time": "2023-05-09T00:01:16.019Z"
   },
   {
    "duration": 23,
    "start_time": "2023-05-09T00:01:16.029Z"
   },
   {
    "duration": 101,
    "start_time": "2023-05-09T00:01:16.053Z"
   },
   {
    "duration": 6,
    "start_time": "2023-05-09T00:01:16.156Z"
   },
   {
    "duration": 86,
    "start_time": "2023-05-09T00:01:16.164Z"
   },
   {
    "duration": 21,
    "start_time": "2023-05-09T00:01:16.255Z"
   },
   {
    "duration": 21,
    "start_time": "2023-05-09T00:01:16.277Z"
   },
   {
    "duration": 43,
    "start_time": "2023-05-09T00:01:16.300Z"
   },
   {
    "duration": 30,
    "start_time": "2023-05-09T00:01:16.345Z"
   },
   {
    "duration": 5,
    "start_time": "2023-05-09T00:01:16.376Z"
   },
   {
    "duration": 18,
    "start_time": "2023-05-09T00:01:16.383Z"
   },
   {
    "duration": 28,
    "start_time": "2023-05-09T00:01:16.402Z"
   },
   {
    "duration": 32,
    "start_time": "2023-05-09T00:01:16.431Z"
   },
   {
    "duration": 49,
    "start_time": "2023-05-09T00:01:16.464Z"
   },
   {
    "duration": 50,
    "start_time": "2023-05-09T00:01:16.515Z"
   },
   {
    "duration": 14,
    "start_time": "2023-05-09T00:01:16.567Z"
   },
   {
    "duration": 30,
    "start_time": "2023-05-09T00:01:16.582Z"
   },
   {
    "duration": 21,
    "start_time": "2023-05-09T00:01:16.614Z"
   },
   {
    "duration": 33,
    "start_time": "2023-05-09T00:01:16.637Z"
   },
   {
    "duration": 21,
    "start_time": "2023-05-09T00:01:16.672Z"
   },
   {
    "duration": 36,
    "start_time": "2023-05-09T00:01:16.694Z"
   },
   {
    "duration": 16,
    "start_time": "2023-05-09T00:01:16.733Z"
   },
   {
    "duration": 14,
    "start_time": "2023-05-09T00:01:16.751Z"
   },
   {
    "duration": 15,
    "start_time": "2023-05-09T00:01:16.767Z"
   },
   {
    "duration": 26,
    "start_time": "2023-05-09T00:01:16.783Z"
   },
   {
    "duration": 40,
    "start_time": "2023-05-09T00:01:16.811Z"
   },
   {
    "duration": 7,
    "start_time": "2023-05-09T00:01:16.853Z"
   },
   {
    "duration": 22,
    "start_time": "2023-05-09T00:01:16.862Z"
   },
   {
    "duration": 47,
    "start_time": "2023-05-09T00:01:16.886Z"
   },
   {
    "duration": 5,
    "start_time": "2023-05-09T00:01:16.934Z"
   },
   {
    "duration": 20,
    "start_time": "2023-05-09T00:01:16.941Z"
   },
   {
    "duration": 12,
    "start_time": "2023-05-09T00:01:16.963Z"
   },
   {
    "duration": 57,
    "start_time": "2023-05-09T00:01:16.977Z"
   },
   {
    "duration": 4,
    "start_time": "2023-05-09T00:01:17.036Z"
   },
   {
    "duration": 20,
    "start_time": "2023-05-09T00:01:17.042Z"
   },
   {
    "duration": 6,
    "start_time": "2023-05-09T00:01:17.064Z"
   },
   {
    "duration": 15,
    "start_time": "2023-05-09T00:01:17.072Z"
   },
   {
    "duration": 13,
    "start_time": "2023-05-09T00:01:17.090Z"
   },
   {
    "duration": 18,
    "start_time": "2023-05-09T00:01:17.105Z"
   },
   {
    "duration": 41,
    "start_time": "2023-05-09T00:01:17.126Z"
   },
   {
    "duration": 7,
    "start_time": "2023-05-09T00:01:17.170Z"
   },
   {
    "duration": 52,
    "start_time": "2023-05-09T00:01:17.179Z"
   },
   {
    "duration": 38,
    "start_time": "2023-05-09T00:01:17.232Z"
   },
   {
    "duration": 63,
    "start_time": "2023-05-09T00:01:17.272Z"
   },
   {
    "duration": 96,
    "start_time": "2023-05-09T00:01:17.337Z"
   },
   {
    "duration": 5,
    "start_time": "2023-05-09T00:01:17.436Z"
   },
   {
    "duration": 8,
    "start_time": "2023-05-09T00:01:17.443Z"
   },
   {
    "duration": 83,
    "start_time": "2023-05-09T00:01:17.453Z"
   },
   {
    "duration": 4,
    "start_time": "2023-05-09T00:01:17.538Z"
   },
   {
    "duration": 259,
    "start_time": "2023-05-09T00:01:17.544Z"
   },
   {
    "duration": 21,
    "start_time": "2023-05-09T00:01:17.805Z"
   },
   {
    "duration": 9,
    "start_time": "2023-05-09T00:01:17.827Z"
   },
   {
    "duration": 17,
    "start_time": "2023-05-09T00:01:17.837Z"
   },
   {
    "duration": 1199,
    "start_time": "2023-05-09T00:01:17.855Z"
   },
   {
    "duration": 11,
    "start_time": "2023-05-09T00:01:19.056Z"
   },
   {
    "duration": 203,
    "start_time": "2023-05-09T00:01:19.069Z"
   },
   {
    "duration": 205,
    "start_time": "2023-05-09T00:01:19.274Z"
   },
   {
    "duration": 189,
    "start_time": "2023-05-09T00:01:19.481Z"
   },
   {
    "duration": 198,
    "start_time": "2023-05-09T00:01:19.672Z"
   },
   {
    "duration": 136,
    "start_time": "2023-05-09T00:01:19.876Z"
   },
   {
    "duration": 0,
    "start_time": "2023-05-09T00:01:20.014Z"
   },
   {
    "duration": 0,
    "start_time": "2023-05-09T00:01:20.018Z"
   },
   {
    "duration": 5,
    "start_time": "2023-05-09T00:01:26.644Z"
   },
   {
    "duration": 13,
    "start_time": "2023-05-09T00:01:31.114Z"
   },
   {
    "duration": 6,
    "start_time": "2023-05-09T00:01:34.634Z"
   },
   {
    "duration": 5,
    "start_time": "2023-05-09T00:01:53.556Z"
   },
   {
    "duration": 4,
    "start_time": "2023-05-09T00:02:06.052Z"
   },
   {
    "duration": 4,
    "start_time": "2023-05-09T00:02:22.084Z"
   },
   {
    "duration": 125,
    "start_time": "2023-05-09T00:24:57.149Z"
   },
   {
    "duration": 159,
    "start_time": "2023-05-09T00:25:03.160Z"
   },
   {
    "duration": 142,
    "start_time": "2023-05-09T00:25:18.494Z"
   },
   {
    "duration": 4,
    "start_time": "2023-05-09T00:25:22.390Z"
   },
   {
    "duration": 10,
    "start_time": "2023-05-09T00:26:03.301Z"
   },
   {
    "duration": 13,
    "start_time": "2023-05-09T00:26:18.319Z"
   },
   {
    "duration": 3,
    "start_time": "2023-05-09T00:26:32.739Z"
   },
   {
    "duration": 13,
    "start_time": "2023-05-09T00:26:35.469Z"
   },
   {
    "duration": 4,
    "start_time": "2023-05-09T00:27:12.525Z"
   },
   {
    "duration": 3,
    "start_time": "2023-05-09T00:27:36.110Z"
   },
   {
    "duration": 9,
    "start_time": "2023-05-09T00:28:07.797Z"
   },
   {
    "duration": 13,
    "start_time": "2023-05-09T00:28:19.379Z"
   },
   {
    "duration": 5,
    "start_time": "2023-05-09T00:28:44.638Z"
   },
   {
    "duration": 5,
    "start_time": "2023-05-09T00:29:04.648Z"
   },
   {
    "duration": 4,
    "start_time": "2023-05-09T00:29:44.757Z"
   },
   {
    "duration": 4,
    "start_time": "2023-05-09T00:29:47.262Z"
   },
   {
    "duration": 4,
    "start_time": "2023-05-09T00:30:38.845Z"
   },
   {
    "duration": 4,
    "start_time": "2023-05-09T00:30:41.436Z"
   },
   {
    "duration": 1455,
    "start_time": "2023-05-09T18:03:00.354Z"
   },
   {
    "duration": 816,
    "start_time": "2023-05-09T18:03:01.811Z"
   },
   {
    "duration": 6,
    "start_time": "2023-05-09T18:03:02.629Z"
   },
   {
    "duration": 55,
    "start_time": "2023-05-09T18:03:02.637Z"
   },
   {
    "duration": 149,
    "start_time": "2023-05-09T18:03:02.693Z"
   },
   {
    "duration": 3,
    "start_time": "2023-05-09T18:03:02.843Z"
   },
   {
    "duration": 47,
    "start_time": "2023-05-09T18:03:02.847Z"
   },
   {
    "duration": 63,
    "start_time": "2023-05-09T18:03:02.897Z"
   },
   {
    "duration": 65,
    "start_time": "2023-05-09T18:03:02.962Z"
   },
   {
    "duration": 15,
    "start_time": "2023-05-09T18:03:03.030Z"
   },
   {
    "duration": 31,
    "start_time": "2023-05-09T18:03:03.046Z"
   },
   {
    "duration": 67,
    "start_time": "2023-05-09T18:03:03.078Z"
   },
   {
    "duration": 458,
    "start_time": "2023-05-09T18:03:03.147Z"
   },
   {
    "duration": 5,
    "start_time": "2023-05-09T18:03:03.606Z"
   },
   {
    "duration": 26,
    "start_time": "2023-05-09T18:03:03.612Z"
   },
   {
    "duration": 59,
    "start_time": "2023-05-09T18:03:03.639Z"
   },
   {
    "duration": 23,
    "start_time": "2023-05-09T18:03:03.700Z"
   },
   {
    "duration": 39,
    "start_time": "2023-05-09T18:03:03.724Z"
   },
   {
    "duration": 29,
    "start_time": "2023-05-09T18:03:03.764Z"
   },
   {
    "duration": 45,
    "start_time": "2023-05-09T18:03:03.794Z"
   },
   {
    "duration": 1759,
    "start_time": "2023-05-09T18:03:03.840Z"
   },
   {
    "duration": 6,
    "start_time": "2023-05-09T18:03:05.601Z"
   },
   {
    "duration": 34,
    "start_time": "2023-05-09T18:03:05.608Z"
   },
   {
    "duration": 105,
    "start_time": "2023-05-09T18:03:05.644Z"
   },
   {
    "duration": 8,
    "start_time": "2023-05-09T18:03:05.751Z"
   },
   {
    "duration": 73,
    "start_time": "2023-05-09T18:03:05.760Z"
   },
   {
    "duration": 16,
    "start_time": "2023-05-09T18:03:05.834Z"
   },
   {
    "duration": 34,
    "start_time": "2023-05-09T18:03:05.854Z"
   },
   {
    "duration": 30,
    "start_time": "2023-05-09T18:03:05.889Z"
   },
   {
    "duration": 43,
    "start_time": "2023-05-09T18:03:05.921Z"
   },
   {
    "duration": 43,
    "start_time": "2023-05-09T18:03:05.965Z"
   },
   {
    "duration": 32,
    "start_time": "2023-05-09T18:03:06.009Z"
   },
   {
    "duration": 14,
    "start_time": "2023-05-09T18:03:06.042Z"
   },
   {
    "duration": 31,
    "start_time": "2023-05-09T18:03:06.058Z"
   },
   {
    "duration": 24,
    "start_time": "2023-05-09T18:03:06.091Z"
   },
   {
    "duration": 41,
    "start_time": "2023-05-09T18:03:06.117Z"
   },
   {
    "duration": 9,
    "start_time": "2023-05-09T18:03:06.160Z"
   },
   {
    "duration": 29,
    "start_time": "2023-05-09T18:03:06.171Z"
   },
   {
    "duration": 12,
    "start_time": "2023-05-09T18:03:06.202Z"
   },
   {
    "duration": 17,
    "start_time": "2023-05-09T18:03:06.215Z"
   },
   {
    "duration": 7,
    "start_time": "2023-05-09T18:03:06.233Z"
   },
   {
    "duration": 32,
    "start_time": "2023-05-09T18:03:06.241Z"
   },
   {
    "duration": 16,
    "start_time": "2023-05-09T18:03:06.274Z"
   },
   {
    "duration": 14,
    "start_time": "2023-05-09T18:03:06.291Z"
   },
   {
    "duration": 12,
    "start_time": "2023-05-09T18:03:06.306Z"
   },
   {
    "duration": 17,
    "start_time": "2023-05-09T18:03:06.319Z"
   },
   {
    "duration": 25,
    "start_time": "2023-05-09T18:03:06.338Z"
   },
   {
    "duration": 6,
    "start_time": "2023-05-09T18:03:06.364Z"
   },
   {
    "duration": 14,
    "start_time": "2023-05-09T18:03:06.371Z"
   },
   {
    "duration": 25,
    "start_time": "2023-05-09T18:03:06.387Z"
   },
   {
    "duration": 4,
    "start_time": "2023-05-09T18:03:06.413Z"
   },
   {
    "duration": 31,
    "start_time": "2023-05-09T18:03:06.419Z"
   },
   {
    "duration": 7,
    "start_time": "2023-05-09T18:03:06.451Z"
   },
   {
    "duration": 33,
    "start_time": "2023-05-09T18:03:06.459Z"
   },
   {
    "duration": 3,
    "start_time": "2023-05-09T18:03:06.494Z"
   },
   {
    "duration": 19,
    "start_time": "2023-05-09T18:03:06.498Z"
   },
   {
    "duration": 7,
    "start_time": "2023-05-09T18:03:06.518Z"
   },
   {
    "duration": 15,
    "start_time": "2023-05-09T18:03:06.526Z"
   },
   {
    "duration": 10,
    "start_time": "2023-05-09T18:03:06.542Z"
   },
   {
    "duration": 11,
    "start_time": "2023-05-09T18:03:06.553Z"
   },
   {
    "duration": 32,
    "start_time": "2023-05-09T18:03:06.565Z"
   },
   {
    "duration": 6,
    "start_time": "2023-05-09T18:03:06.599Z"
   },
   {
    "duration": 24,
    "start_time": "2023-05-09T18:03:06.606Z"
   },
   {
    "duration": 23,
    "start_time": "2023-05-09T18:03:06.632Z"
   },
   {
    "duration": 32,
    "start_time": "2023-05-09T18:03:06.656Z"
   },
   {
    "duration": 42,
    "start_time": "2023-05-09T18:03:06.690Z"
   },
   {
    "duration": 4,
    "start_time": "2023-05-09T18:03:06.771Z"
   },
   {
    "duration": 15,
    "start_time": "2023-05-09T18:03:06.776Z"
   },
   {
    "duration": 55,
    "start_time": "2023-05-09T18:03:06.793Z"
   },
   {
    "duration": 3,
    "start_time": "2023-05-09T18:03:06.850Z"
   },
   {
    "duration": 180,
    "start_time": "2023-05-09T18:03:06.855Z"
   },
   {
    "duration": 11,
    "start_time": "2023-05-09T18:03:07.036Z"
   },
   {
    "duration": 22,
    "start_time": "2023-05-09T18:03:07.049Z"
   },
   {
    "duration": 19,
    "start_time": "2023-05-09T18:03:07.072Z"
   },
   {
    "duration": 922,
    "start_time": "2023-05-09T18:03:07.093Z"
   },
   {
    "duration": 7,
    "start_time": "2023-05-09T18:03:08.016Z"
   },
   {
    "duration": 157,
    "start_time": "2023-05-09T18:03:08.025Z"
   },
   {
    "duration": 150,
    "start_time": "2023-05-09T18:03:08.184Z"
   },
   {
    "duration": 139,
    "start_time": "2023-05-09T18:03:08.336Z"
   },
   {
    "duration": 146,
    "start_time": "2023-05-09T18:03:08.477Z"
   },
   {
    "duration": 4,
    "start_time": "2023-05-09T18:03:08.625Z"
   },
   {
    "duration": 11,
    "start_time": "2023-05-09T18:03:08.633Z"
   },
   {
    "duration": 29,
    "start_time": "2023-05-09T18:03:08.645Z"
   },
   {
    "duration": 13,
    "start_time": "2023-05-09T18:03:08.676Z"
   },
   {
    "duration": 12,
    "start_time": "2023-05-09T18:03:08.690Z"
   },
   {
    "duration": 9,
    "start_time": "2023-05-09T18:03:08.704Z"
   },
   {
    "duration": 9,
    "start_time": "2023-05-09T18:03:08.714Z"
   },
   {
    "duration": 113,
    "start_time": "2023-05-09T18:03:08.724Z"
   },
   {
    "duration": 4,
    "start_time": "2023-05-09T18:03:21.158Z"
   },
   {
    "duration": 42,
    "start_time": "2023-05-09T18:53:20.085Z"
   },
   {
    "duration": 15,
    "start_time": "2023-05-09T18:57:48.101Z"
   },
   {
    "duration": 15,
    "start_time": "2023-05-09T18:58:02.116Z"
   },
   {
    "duration": 1057697,
    "start_time": "2023-05-09T18:59:22.799Z"
   },
   {
    "duration": 278790,
    "start_time": "2023-05-09T19:17:30.950Z"
   },
   {
    "duration": 12,
    "start_time": "2023-05-09T19:22:23.371Z"
   },
   {
    "duration": 3,
    "start_time": "2023-05-09T19:22:28.141Z"
   },
   {
    "duration": 2,
    "start_time": "2023-05-09T19:25:35.011Z"
   },
   {
    "duration": 2,
    "start_time": "2023-05-09T19:37:54.401Z"
   },
   {
    "duration": 82,
    "start_time": "2023-05-09T19:39:19.436Z"
   },
   {
    "duration": 74,
    "start_time": "2023-05-09T19:39:35.229Z"
   },
   {
    "duration": 3,
    "start_time": "2023-05-09T19:41:41.247Z"
   },
   {
    "duration": 268,
    "start_time": "2023-05-09T19:41:43.317Z"
   },
   {
    "duration": 3,
    "start_time": "2023-05-09T19:41:57.615Z"
   },
   {
    "duration": 289,
    "start_time": "2023-05-09T19:41:59.465Z"
   },
   {
    "duration": 8,
    "start_time": "2023-05-09T19:45:34.101Z"
   },
   {
    "duration": 10,
    "start_time": "2023-05-09T19:53:34.694Z"
   },
   {
    "duration": 71,
    "start_time": "2023-05-09T19:55:49.546Z"
   },
   {
    "duration": 3,
    "start_time": "2023-05-09T19:55:56.627Z"
   },
   {
    "duration": 3,
    "start_time": "2023-05-09T19:56:44.038Z"
   },
   {
    "duration": 217139,
    "start_time": "2023-05-09T19:56:53.523Z"
   },
   {
    "duration": 0,
    "start_time": "2023-05-09T20:00:30.664Z"
   },
   {
    "duration": 3,
    "start_time": "2023-05-09T20:00:32.705Z"
   },
   {
    "duration": 379551,
    "start_time": "2023-05-09T20:00:35.081Z"
   },
   {
    "duration": 650739,
    "start_time": "2023-05-09T20:07:10.650Z"
   },
   {
    "duration": 23965,
    "start_time": "2023-05-09T20:18:29.401Z"
   },
   {
    "duration": 104392,
    "start_time": "2023-05-09T20:19:10.810Z"
   },
   {
    "duration": 290469,
    "start_time": "2023-05-09T20:21:05.426Z"
   },
   {
    "duration": 7455,
    "start_time": "2023-05-09T20:27:01.484Z"
   },
   {
    "duration": 9,
    "start_time": "2023-05-09T20:37:41.479Z"
   },
   {
    "duration": 6,
    "start_time": "2023-05-09T20:38:00.268Z"
   },
   {
    "duration": 7922,
    "start_time": "2023-05-09T20:38:11.393Z"
   },
   {
    "duration": 126,
    "start_time": "2023-05-09T20:45:52.488Z"
   },
   {
    "duration": 87,
    "start_time": "2023-05-09T20:46:43.759Z"
   },
   {
    "duration": 4,
    "start_time": "2023-05-09T20:46:48.584Z"
   },
   {
    "duration": 13885,
    "start_time": "2023-05-09T20:46:54.779Z"
   },
   {
    "duration": 1187923,
    "start_time": "2023-05-09T20:47:20.581Z"
   },
   {
    "duration": 11,
    "start_time": "2023-05-09T21:17:50.088Z"
   },
   {
    "duration": 3,
    "start_time": "2023-05-09T21:20:39.712Z"
   },
   {
    "duration": 9739,
    "start_time": "2023-05-09T21:20:44.230Z"
   },
   {
    "duration": 11,
    "start_time": "2023-05-09T21:20:57.399Z"
   },
   {
    "duration": 136300,
    "start_time": "2023-05-09T21:21:33.822Z"
   },
   {
    "duration": 0,
    "start_time": "2023-05-09T21:46:15.129Z"
   },
   {
    "duration": 1871656,
    "start_time": "2023-05-09T21:46:32.815Z"
   },
   {
    "duration": 1919509,
    "start_time": "2023-05-09T22:26:32.044Z"
   },
   {
    "duration": 3941,
    "start_time": "2023-05-09T23:03:26.194Z"
   },
   {
    "duration": 9093,
    "start_time": "2023-05-09T23:03:49.606Z"
   },
   {
    "duration": 1222969,
    "start_time": "2023-05-09T23:04:04.666Z"
   },
   {
    "duration": 10,
    "start_time": "2023-05-09T23:25:11.143Z"
   },
   {
    "duration": 4,
    "start_time": "2023-05-09T23:26:25.362Z"
   },
   {
    "duration": 10112,
    "start_time": "2023-05-09T23:26:33.235Z"
   },
   {
    "duration": 6759,
    "start_time": "2023-05-09T23:26:55.713Z"
   },
   {
    "duration": 1153,
    "start_time": "2023-05-09T23:27:10.622Z"
   },
   {
    "duration": 2854919,
    "start_time": "2023-05-09T23:34:39.576Z"
   },
   {
    "duration": 11065,
    "start_time": "2023-05-10T00:30:13.997Z"
   },
   {
    "duration": 480458,
    "start_time": "2023-05-10T00:30:32.014Z"
   },
   {
    "duration": 1279,
    "start_time": "2023-05-10T00:39:31.094Z"
   },
   {
    "duration": 75,
    "start_time": "2023-05-10T00:54:51.162Z"
   },
   {
    "duration": 39,
    "start_time": "2023-05-10T00:56:03.955Z"
   },
   {
    "duration": 279,
    "start_time": "2023-05-10T00:57:41.825Z"
   },
   {
    "duration": 282,
    "start_time": "2023-05-10T01:01:10.560Z"
   },
   {
    "duration": 4,
    "start_time": "2023-05-10T01:02:12.975Z"
   },
   {
    "duration": 70,
    "start_time": "2023-05-10T01:02:27.372Z"
   },
   {
    "duration": 4,
    "start_time": "2023-05-10T01:02:33.640Z"
   },
   {
    "duration": 4,
    "start_time": "2023-05-10T01:02:41.059Z"
   },
   {
    "duration": 40,
    "start_time": "2023-05-10T01:02:46.520Z"
   },
   {
    "duration": 291,
    "start_time": "2023-05-10T01:02:48.551Z"
   },
   {
    "duration": 3,
    "start_time": "2023-05-10T01:02:51.855Z"
   },
   {
    "duration": 3,
    "start_time": "2023-05-10T01:02:55.837Z"
   },
   {
    "duration": 4652,
    "start_time": "2023-05-10T06:18:48.309Z"
   },
   {
    "duration": 257,
    "start_time": "2023-05-10T06:18:52.963Z"
   },
   {
    "duration": 13,
    "start_time": "2023-05-10T06:18:53.222Z"
   },
   {
    "duration": 43,
    "start_time": "2023-05-10T06:18:53.237Z"
   },
   {
    "duration": 111,
    "start_time": "2023-05-10T06:18:53.282Z"
   },
   {
    "duration": 2,
    "start_time": "2023-05-10T06:18:53.395Z"
   },
   {
    "duration": 7,
    "start_time": "2023-05-10T06:18:53.398Z"
   },
   {
    "duration": 5,
    "start_time": "2023-05-10T06:18:53.407Z"
   },
   {
    "duration": 41,
    "start_time": "2023-05-10T06:18:53.413Z"
   },
   {
    "duration": 17,
    "start_time": "2023-05-10T06:18:53.457Z"
   },
   {
    "duration": 20,
    "start_time": "2023-05-10T06:18:53.476Z"
   },
   {
    "duration": 43,
    "start_time": "2023-05-10T06:18:53.497Z"
   },
   {
    "duration": 80,
    "start_time": "2023-05-10T06:18:53.541Z"
   },
   {
    "duration": 4,
    "start_time": "2023-05-10T06:18:53.623Z"
   },
   {
    "duration": 14,
    "start_time": "2023-05-10T06:18:53.629Z"
   },
   {
    "duration": 28,
    "start_time": "2023-05-10T06:18:53.645Z"
   },
   {
    "duration": 6,
    "start_time": "2023-05-10T06:18:53.675Z"
   },
   {
    "duration": 26,
    "start_time": "2023-05-10T06:18:53.682Z"
   },
   {
    "duration": 27,
    "start_time": "2023-05-10T06:18:53.709Z"
   },
   {
    "duration": 20,
    "start_time": "2023-05-10T06:18:53.737Z"
   },
   {
    "duration": 335,
    "start_time": "2023-05-10T06:18:53.758Z"
   },
   {
    "duration": 5,
    "start_time": "2023-05-10T06:18:54.095Z"
   },
   {
    "duration": 15,
    "start_time": "2023-05-10T06:18:54.102Z"
   },
   {
    "duration": 95,
    "start_time": "2023-05-10T06:18:54.119Z"
   },
   {
    "duration": 6,
    "start_time": "2023-05-10T06:18:54.216Z"
   },
   {
    "duration": 49,
    "start_time": "2023-05-10T06:18:54.235Z"
   },
   {
    "duration": 19,
    "start_time": "2023-05-10T06:18:54.285Z"
   },
   {
    "duration": 36,
    "start_time": "2023-05-10T06:18:54.307Z"
   },
   {
    "duration": 3,
    "start_time": "2023-05-10T06:18:54.345Z"
   },
   {
    "duration": 26,
    "start_time": "2023-05-10T06:18:54.349Z"
   },
   {
    "duration": 5,
    "start_time": "2023-05-10T06:18:54.376Z"
   },
   {
    "duration": 11,
    "start_time": "2023-05-10T06:18:54.382Z"
   },
   {
    "duration": 5,
    "start_time": "2023-05-10T06:18:54.394Z"
   },
   {
    "duration": 7,
    "start_time": "2023-05-10T06:18:54.400Z"
   },
   {
    "duration": 28,
    "start_time": "2023-05-10T06:18:54.408Z"
   },
   {
    "duration": 20,
    "start_time": "2023-05-10T06:18:54.438Z"
   },
   {
    "duration": 4,
    "start_time": "2023-05-10T06:18:54.460Z"
   },
   {
    "duration": 18,
    "start_time": "2023-05-10T06:18:54.465Z"
   },
   {
    "duration": 4,
    "start_time": "2023-05-10T06:18:54.484Z"
   },
   {
    "duration": 23,
    "start_time": "2023-05-10T06:18:54.489Z"
   },
   {
    "duration": 4,
    "start_time": "2023-05-10T06:18:54.513Z"
   },
   {
    "duration": 20,
    "start_time": "2023-05-10T06:18:54.518Z"
   },
   {
    "duration": 7,
    "start_time": "2023-05-10T06:18:54.540Z"
   },
   {
    "duration": 12,
    "start_time": "2023-05-10T06:18:54.548Z"
   },
   {
    "duration": 5,
    "start_time": "2023-05-10T06:18:54.561Z"
   },
   {
    "duration": 10,
    "start_time": "2023-05-10T06:18:54.568Z"
   },
   {
    "duration": 20,
    "start_time": "2023-05-10T06:18:54.580Z"
   },
   {
    "duration": 4,
    "start_time": "2023-05-10T06:18:54.602Z"
   },
   {
    "duration": 39,
    "start_time": "2023-05-10T06:18:54.607Z"
   },
   {
    "duration": 36,
    "start_time": "2023-05-10T06:18:54.649Z"
   },
   {
    "duration": 5,
    "start_time": "2023-05-10T06:18:54.687Z"
   },
   {
    "duration": 24,
    "start_time": "2023-05-10T06:18:54.694Z"
   },
   {
    "duration": 24,
    "start_time": "2023-05-10T06:18:54.720Z"
   },
   {
    "duration": 30,
    "start_time": "2023-05-10T06:18:54.746Z"
   },
   {
    "duration": 5,
    "start_time": "2023-05-10T06:18:54.778Z"
   },
   {
    "duration": 22,
    "start_time": "2023-05-10T06:18:54.785Z"
   },
   {
    "duration": 27,
    "start_time": "2023-05-10T06:18:54.808Z"
   },
   {
    "duration": 11,
    "start_time": "2023-05-10T06:18:54.836Z"
   },
   {
    "duration": 7,
    "start_time": "2023-05-10T06:18:54.849Z"
   },
   {
    "duration": 9,
    "start_time": "2023-05-10T06:18:54.857Z"
   },
   {
    "duration": 40,
    "start_time": "2023-05-10T06:18:54.867Z"
   },
   {
    "duration": 6,
    "start_time": "2023-05-10T06:18:54.908Z"
   },
   {
    "duration": 43,
    "start_time": "2023-05-10T06:18:54.915Z"
   },
   {
    "duration": 23,
    "start_time": "2023-05-10T06:18:54.959Z"
   },
   {
    "duration": 24,
    "start_time": "2023-05-10T06:18:54.983Z"
   },
   {
    "duration": 76,
    "start_time": "2023-05-10T06:18:55.008Z"
   },
   {
    "duration": 4,
    "start_time": "2023-05-10T06:18:55.085Z"
   },
   {
    "duration": 10,
    "start_time": "2023-05-10T06:18:55.091Z"
   },
   {
    "duration": 72,
    "start_time": "2023-05-10T06:18:55.103Z"
   },
   {
    "duration": 3,
    "start_time": "2023-05-10T06:18:55.176Z"
   },
   {
    "duration": 223,
    "start_time": "2023-05-10T06:18:55.181Z"
   },
   {
    "duration": 12,
    "start_time": "2023-05-10T06:18:55.406Z"
   },
   {
    "duration": 17,
    "start_time": "2023-05-10T06:18:55.420Z"
   },
   {
    "duration": 31,
    "start_time": "2023-05-10T06:18:55.439Z"
   },
   {
    "duration": 966,
    "start_time": "2023-05-10T06:18:55.472Z"
   },
   {
    "duration": 8,
    "start_time": "2023-05-10T06:18:56.439Z"
   },
   {
    "duration": 164,
    "start_time": "2023-05-10T06:18:56.449Z"
   },
   {
    "duration": 155,
    "start_time": "2023-05-10T06:18:56.615Z"
   },
   {
    "duration": 146,
    "start_time": "2023-05-10T06:18:56.771Z"
   },
   {
    "duration": 151,
    "start_time": "2023-05-10T06:18:56.918Z"
   },
   {
    "duration": 149,
    "start_time": "2023-05-10T06:19:22.003Z"
   },
   {
    "duration": 4,
    "start_time": "2023-05-10T16:26:11.371Z"
   },
   {
    "duration": 1270,
    "start_time": "2023-05-10T16:26:20.022Z"
   },
   {
    "duration": 252,
    "start_time": "2023-05-10T16:30:53.150Z"
   },
   {
    "duration": 6,
    "start_time": "2023-05-10T16:31:05.802Z"
   },
   {
    "duration": 8,
    "start_time": "2023-05-10T16:31:08.656Z"
   },
   {
    "duration": 109,
    "start_time": "2023-05-10T16:31:11.096Z"
   },
   {
    "duration": 3,
    "start_time": "2023-05-10T16:31:19.889Z"
   },
   {
    "duration": 6,
    "start_time": "2023-05-10T16:31:21.578Z"
   },
   {
    "duration": 3,
    "start_time": "2023-05-10T16:31:25.606Z"
   },
   {
    "duration": 26,
    "start_time": "2023-05-10T16:31:28.246Z"
   },
   {
    "duration": 16,
    "start_time": "2023-05-10T16:31:30.931Z"
   },
   {
    "duration": 18,
    "start_time": "2023-05-10T16:31:33.136Z"
   },
   {
    "duration": 28,
    "start_time": "2023-05-10T16:31:35.885Z"
   },
   {
    "duration": 89,
    "start_time": "2023-05-10T16:31:47.181Z"
   },
   {
    "duration": 4,
    "start_time": "2023-05-10T16:31:50.319Z"
   },
   {
    "duration": 8,
    "start_time": "2023-05-10T16:31:52.699Z"
   },
   {
    "duration": 19,
    "start_time": "2023-05-10T16:31:54.635Z"
   },
   {
    "duration": 5,
    "start_time": "2023-05-10T16:31:56.771Z"
   },
   {
    "duration": 29,
    "start_time": "2023-05-10T16:32:00.313Z"
   },
   {
    "duration": 17,
    "start_time": "2023-05-10T16:32:02.535Z"
   },
   {
    "duration": 17,
    "start_time": "2023-05-10T16:32:05.123Z"
   },
   {
    "duration": 340,
    "start_time": "2023-05-10T16:32:08.111Z"
   },
   {
    "duration": 6,
    "start_time": "2023-05-10T16:32:11.525Z"
   },
   {
    "duration": 132,
    "start_time": "2023-05-10T16:32:16.151Z"
   },
   {
    "duration": 8,
    "start_time": "2023-05-10T16:32:22.441Z"
   },
   {
    "duration": 100,
    "start_time": "2023-05-10T16:32:24.834Z"
   },
   {
    "duration": 5,
    "start_time": "2023-05-10T16:36:07.383Z"
   },
   {
    "duration": 47,
    "start_time": "2023-05-10T16:36:11.420Z"
   },
   {
    "duration": 16,
    "start_time": "2023-05-10T16:36:20.554Z"
   },
   {
    "duration": 16,
    "start_time": "2023-05-10T16:36:23.256Z"
   },
   {
    "duration": 3,
    "start_time": "2023-05-10T16:36:26.264Z"
   },
   {
    "duration": 16,
    "start_time": "2023-05-10T16:36:28.062Z"
   },
   {
    "duration": 8,
    "start_time": "2023-05-10T16:38:54.742Z"
   },
   {
    "duration": 10,
    "start_time": "2023-05-10T16:39:14.783Z"
   },
   {
    "duration": 3,
    "start_time": "2023-05-10T16:39:22.101Z"
   },
   {
    "duration": 6,
    "start_time": "2023-05-10T16:39:27.287Z"
   },
   {
    "duration": 6,
    "start_time": "2023-05-10T16:41:15.465Z"
   },
   {
    "duration": 5,
    "start_time": "2023-05-10T16:41:17.869Z"
   },
   {
    "duration": 4,
    "start_time": "2023-05-10T16:41:24.111Z"
   },
   {
    "duration": 5,
    "start_time": "2023-05-10T16:42:20.626Z"
   },
   {
    "duration": 16,
    "start_time": "2023-05-10T16:42:23.374Z"
   },
   {
    "duration": 4,
    "start_time": "2023-05-10T16:42:25.220Z"
   },
   {
    "duration": 12,
    "start_time": "2023-05-10T16:42:34.799Z"
   },
   {
    "duration": 5,
    "start_time": "2023-05-10T16:42:42.024Z"
   },
   {
    "duration": 13,
    "start_time": "2023-05-10T16:42:44.254Z"
   },
   {
    "duration": 3,
    "start_time": "2023-05-10T16:42:46.425Z"
   },
   {
    "duration": 11,
    "start_time": "2023-05-10T16:42:49.046Z"
   },
   {
    "duration": 4,
    "start_time": "2023-05-10T16:42:51.475Z"
   },
   {
    "duration": 4,
    "start_time": "2023-05-10T16:42:56.784Z"
   },
   {
    "duration": 4,
    "start_time": "2023-05-10T16:42:58.728Z"
   },
   {
    "duration": 6,
    "start_time": "2023-05-10T16:43:00.813Z"
   },
   {
    "duration": 24,
    "start_time": "2023-05-10T16:51:20.447Z"
   },
   {
    "duration": 7,
    "start_time": "2023-05-10T16:51:42.176Z"
   },
   {
    "duration": 3,
    "start_time": "2023-05-10T16:51:53.551Z"
   },
   {
    "duration": 8,
    "start_time": "2023-05-10T16:51:56.431Z"
   },
   {
    "duration": 5,
    "start_time": "2023-05-10T16:52:10.476Z"
   },
   {
    "duration": 6,
    "start_time": "2023-05-10T16:53:29.095Z"
   },
   {
    "duration": 4,
    "start_time": "2023-05-10T16:53:35.602Z"
   },
   {
    "duration": 10,
    "start_time": "2023-05-10T16:53:44.936Z"
   },
   {
    "duration": 53,
    "start_time": "2023-05-10T16:53:58.213Z"
   },
   {
    "duration": 3,
    "start_time": "2023-05-10T16:54:00.464Z"
   },
   {
    "duration": 16,
    "start_time": "2023-05-10T16:54:07.249Z"
   },
   {
    "duration": 11,
    "start_time": "2023-05-10T16:54:09.116Z"
   },
   {
    "duration": 27,
    "start_time": "2023-05-10T16:54:11.397Z"
   },
   {
    "duration": 4,
    "start_time": "2023-05-10T16:54:13.235Z"
   },
   {
    "duration": 12,
    "start_time": "2023-05-10T16:54:16.278Z"
   },
   {
    "duration": 8,
    "start_time": "2023-05-10T16:54:18.294Z"
   },
   {
    "duration": 10,
    "start_time": "2023-05-10T16:54:25.441Z"
   },
   {
    "duration": 4,
    "start_time": "2023-05-10T16:54:27.208Z"
   },
   {
    "duration": 8,
    "start_time": "2023-05-10T16:54:32.646Z"
   },
   {
    "duration": 6,
    "start_time": "2023-05-10T16:57:30.795Z"
   },
   {
    "duration": 5,
    "start_time": "2023-05-10T16:58:10.588Z"
   },
   {
    "duration": 4,
    "start_time": "2023-05-10T16:58:33.163Z"
   },
   {
    "duration": 27,
    "start_time": "2023-05-10T16:59:30.997Z"
   },
   {
    "duration": 18,
    "start_time": "2023-05-10T16:59:40.334Z"
   },
   {
    "duration": 54,
    "start_time": "2023-05-10T16:59:43.940Z"
   },
   {
    "duration": 5,
    "start_time": "2023-05-10T16:59:47.401Z"
   },
   {
    "duration": 4,
    "start_time": "2023-05-10T16:59:49.306Z"
   },
   {
    "duration": 38,
    "start_time": "2023-05-10T16:59:51.336Z"
   },
   {
    "duration": 4,
    "start_time": "2023-05-10T16:59:54.418Z"
   },
   {
    "duration": 193,
    "start_time": "2023-05-10T17:12:10.152Z"
   },
   {
    "duration": 10,
    "start_time": "2023-05-10T17:12:11.926Z"
   },
   {
    "duration": 5,
    "start_time": "2023-05-10T17:12:18.163Z"
   },
   {
    "duration": 13,
    "start_time": "2023-05-10T17:12:21.149Z"
   },
   {
    "duration": 11,
    "start_time": "2023-05-10T17:13:09.023Z"
   },
   {
    "duration": 1330,
    "start_time": "2023-05-10T17:13:23.751Z"
   },
   {
    "duration": 1756,
    "start_time": "2023-05-10T17:13:35.135Z"
   },
   {
    "duration": 7,
    "start_time": "2023-05-10T17:14:09.741Z"
   },
   {
    "duration": 1779,
    "start_time": "2023-05-10T17:14:56.551Z"
   },
   {
    "duration": 358,
    "start_time": "2023-05-10T17:15:13.589Z"
   },
   {
    "duration": 142,
    "start_time": "2023-05-10T17:15:26.388Z"
   },
   {
    "duration": 161,
    "start_time": "2023-05-10T17:15:32.737Z"
   },
   {
    "duration": 162,
    "start_time": "2023-05-10T17:15:46.702Z"
   },
   {
    "duration": 4,
    "start_time": "2023-05-10T17:24:09.295Z"
   },
   {
    "duration": 10,
    "start_time": "2023-05-10T17:25:41.886Z"
   },
   {
    "duration": 14,
    "start_time": "2023-05-10T17:26:12.554Z"
   },
   {
    "duration": 10,
    "start_time": "2023-05-10T17:26:19.703Z"
   },
   {
    "duration": 8,
    "start_time": "2023-05-10T17:26:24.350Z"
   },
   {
    "duration": 464,
    "start_time": "2023-05-10T17:26:46.770Z"
   },
   {
    "duration": 9,
    "start_time": "2023-05-10T17:28:06.132Z"
   },
   {
    "duration": 496,
    "start_time": "2023-05-10T17:28:18.376Z"
   },
   {
    "duration": 466,
    "start_time": "2023-05-10T18:16:28.906Z"
   },
   {
    "duration": 375,
    "start_time": "2023-05-10T18:16:56.558Z"
   },
   {
    "duration": 236,
    "start_time": "2023-05-10T18:17:40.067Z"
   },
   {
    "duration": 495,
    "start_time": "2023-05-10T18:18:32.038Z"
   },
   {
    "duration": 1032,
    "start_time": "2023-05-10T18:18:51.665Z"
   },
   {
    "duration": 407,
    "start_time": "2023-05-10T18:19:02.060Z"
   },
   {
    "duration": 625,
    "start_time": "2023-05-10T18:19:45.191Z"
   },
   {
    "duration": 507,
    "start_time": "2023-05-10T18:20:44.784Z"
   },
   {
    "duration": 262,
    "start_time": "2023-05-10T18:21:07.502Z"
   },
   {
    "duration": 691,
    "start_time": "2023-05-10T18:21:13.028Z"
   },
   {
    "duration": 508,
    "start_time": "2023-05-10T18:21:31.182Z"
   },
   {
    "duration": 567,
    "start_time": "2023-05-10T18:22:13.825Z"
   },
   {
    "duration": 835,
    "start_time": "2023-05-10T18:22:28.732Z"
   },
   {
    "duration": 628,
    "start_time": "2023-05-10T18:22:36.175Z"
   },
   {
    "duration": 299,
    "start_time": "2023-05-10T18:27:32.948Z"
   },
   {
    "duration": 298,
    "start_time": "2023-05-10T18:27:50.379Z"
   },
   {
    "duration": 573,
    "start_time": "2023-05-10T18:27:57.193Z"
   },
   {
    "duration": 294,
    "start_time": "2023-05-10T18:28:07.291Z"
   },
   {
    "duration": 530,
    "start_time": "2023-05-10T18:28:46.888Z"
   },
   {
    "duration": 496,
    "start_time": "2023-05-10T18:29:16.336Z"
   },
   {
    "duration": 689,
    "start_time": "2023-05-10T18:30:19.824Z"
   },
   {
    "duration": 504,
    "start_time": "2023-05-10T18:30:50.416Z"
   },
   {
    "duration": 487,
    "start_time": "2023-05-10T18:31:05.382Z"
   },
   {
    "duration": 747,
    "start_time": "2023-05-10T18:32:14.764Z"
   },
   {
    "duration": 525,
    "start_time": "2023-05-10T18:33:47.894Z"
   },
   {
    "duration": 562,
    "start_time": "2023-05-10T18:34:42.188Z"
   },
   {
    "duration": 849,
    "start_time": "2023-05-10T18:34:56.624Z"
   },
   {
    "duration": 497,
    "start_time": "2023-05-10T18:35:08.243Z"
   },
   {
    "duration": 3,
    "start_time": "2023-05-10T18:36:11.639Z"
   },
   {
    "duration": 501,
    "start_time": "2023-05-10T18:36:25.061Z"
   },
   {
    "duration": 795,
    "start_time": "2023-05-10T18:37:34.339Z"
   },
   {
    "duration": 576,
    "start_time": "2023-05-10T18:38:03.424Z"
   },
   {
    "duration": 518,
    "start_time": "2023-05-10T18:41:19.189Z"
   },
   {
    "duration": 740,
    "start_time": "2023-05-10T18:41:41.252Z"
   },
   {
    "duration": 452,
    "start_time": "2023-05-10T18:41:57.287Z"
   },
   {
    "duration": 460,
    "start_time": "2023-05-10T18:42:47.039Z"
   },
   {
    "duration": 707,
    "start_time": "2023-05-10T18:42:57.249Z"
   },
   {
    "duration": 365,
    "start_time": "2023-05-10T18:44:12.966Z"
   },
   {
    "duration": 155,
    "start_time": "2023-05-10T18:44:35.367Z"
   },
   {
    "duration": 155,
    "start_time": "2023-05-10T18:45:07.532Z"
   },
   {
    "duration": 238,
    "start_time": "2023-05-10T18:45:20.246Z"
   },
   {
    "duration": 494,
    "start_time": "2023-05-10T18:45:37.527Z"
   },
   {
    "duration": 638,
    "start_time": "2023-05-10T18:45:56.896Z"
   },
   {
    "duration": 479,
    "start_time": "2023-05-10T18:48:38.852Z"
   },
   {
    "duration": 29560,
    "start_time": "2023-05-10T18:55:13.213Z"
   },
   {
    "duration": 484,
    "start_time": "2023-05-10T18:56:11.940Z"
   },
   {
    "duration": 308,
    "start_time": "2023-05-10T18:59:47.716Z"
   },
   {
    "duration": 296,
    "start_time": "2023-05-10T19:00:17.022Z"
   },
   {
    "duration": 323,
    "start_time": "2023-05-10T19:00:29.433Z"
   },
   {
    "duration": 301,
    "start_time": "2023-05-10T19:00:44.104Z"
   },
   {
    "duration": 400,
    "start_time": "2023-05-10T19:00:52.916Z"
   },
   {
    "duration": 321,
    "start_time": "2023-05-10T19:01:14.047Z"
   },
   {
    "duration": 271,
    "start_time": "2023-05-10T19:01:20.760Z"
   },
   {
    "duration": 202,
    "start_time": "2023-05-10T19:35:02.966Z"
   },
   {
    "duration": 337,
    "start_time": "2023-05-10T19:36:36.935Z"
   },
   {
    "duration": 304,
    "start_time": "2023-05-10T19:37:00.835Z"
   },
   {
    "duration": 338,
    "start_time": "2023-05-10T19:37:22.730Z"
   },
   {
    "duration": 323,
    "start_time": "2023-05-10T19:37:58.199Z"
   },
   {
    "duration": 315,
    "start_time": "2023-05-10T19:38:06.928Z"
   },
   {
    "duration": 314,
    "start_time": "2023-05-10T19:49:53.066Z"
   },
   {
    "duration": 346,
    "start_time": "2023-05-10T19:50:03.108Z"
   },
   {
    "duration": 294,
    "start_time": "2023-05-10T19:51:21.909Z"
   },
   {
    "duration": 348,
    "start_time": "2023-05-10T19:51:44.306Z"
   },
   {
    "duration": 380,
    "start_time": "2023-05-10T19:51:59.535Z"
   },
   {
    "duration": 384,
    "start_time": "2023-05-10T19:53:17.872Z"
   },
   {
    "duration": 450,
    "start_time": "2023-05-10T19:53:30.157Z"
   },
   {
    "duration": 327,
    "start_time": "2023-05-10T19:55:35.825Z"
   },
   {
    "duration": 409,
    "start_time": "2023-05-10T19:55:54.328Z"
   },
   {
    "duration": 779,
    "start_time": "2023-05-10T19:56:38.518Z"
   },
   {
    "duration": 633,
    "start_time": "2023-05-10T19:56:53.455Z"
   },
   {
    "duration": 684,
    "start_time": "2023-05-10T19:57:41.765Z"
   },
   {
    "duration": 693,
    "start_time": "2023-05-10T19:57:51.951Z"
   },
   {
    "duration": 5749,
    "start_time": "2023-05-10T19:58:31.154Z"
   },
   {
    "duration": 663,
    "start_time": "2023-05-10T19:58:47.699Z"
   },
   {
    "duration": 680,
    "start_time": "2023-05-10T19:59:28.899Z"
   },
   {
    "duration": 995,
    "start_time": "2023-05-10T19:59:43.527Z"
   },
   {
    "duration": 659,
    "start_time": "2023-05-10T19:59:51.098Z"
   },
   {
    "duration": 673,
    "start_time": "2023-05-10T20:05:50.563Z"
   },
   {
    "duration": 913,
    "start_time": "2023-05-10T20:06:16.112Z"
   },
   {
    "duration": 709,
    "start_time": "2023-05-10T20:06:34.956Z"
   },
   {
    "duration": 3,
    "start_time": "2023-05-10T20:26:20.647Z"
   },
   {
    "duration": 6522,
    "start_time": "2023-05-10T20:26:58.238Z"
   },
   {
    "duration": 13844,
    "start_time": "2023-05-10T20:27:30.789Z"
   },
   {
    "duration": 1033763,
    "start_time": "2023-05-10T20:27:49.433Z"
   },
   {
    "duration": 7679,
    "start_time": "2023-05-10T20:48:48.561Z"
   },
   {
    "duration": 1535384,
    "start_time": "2023-05-10T20:49:06.363Z"
   },
   {
    "duration": 73,
    "start_time": "2023-05-10T21:14:41.748Z"
   },
   {
    "duration": 964,
    "start_time": "2023-05-10T21:15:34.321Z"
   },
   {
    "duration": 22,
    "start_time": "2023-05-10T21:16:26.369Z"
   },
   {
    "duration": 17,
    "start_time": "2023-05-10T21:16:41.095Z"
   },
   {
    "duration": 8,
    "start_time": "2023-05-10T21:16:47.336Z"
   },
   {
    "duration": 3,
    "start_time": "2023-05-10T21:17:17.880Z"
   },
   {
    "duration": 6,
    "start_time": "2023-05-10T21:17:22.329Z"
   },
   {
    "duration": 100,
    "start_time": "2023-05-10T21:17:53.856Z"
   },
   {
    "duration": 22,
    "start_time": "2023-05-10T21:17:58.749Z"
   },
   {
    "duration": 21,
    "start_time": "2023-05-10T21:18:03.080Z"
   },
   {
    "duration": 2223865,
    "start_time": "2023-05-10T21:18:15.073Z"
   },
   {
    "duration": 2772443,
    "start_time": "2023-05-10T21:56:51.330Z"
   },
   {
    "duration": 1364,
    "start_time": "2023-05-10T22:43:19.023Z"
   },
   {
    "duration": 167,
    "start_time": "2023-05-10T22:45:28.291Z"
   },
   {
    "duration": 6,
    "start_time": "2023-05-10T22:45:32.937Z"
   },
   {
    "duration": 3,
    "start_time": "2023-05-10T22:45:58.142Z"
   },
   {
    "duration": 3,
    "start_time": "2023-05-10T22:46:13.480Z"
   },
   {
    "duration": 7,
    "start_time": "2023-05-10T22:46:17.616Z"
   },
   {
    "duration": 5,
    "start_time": "2023-05-10T22:46:55.902Z"
   },
   {
    "duration": 20,
    "start_time": "2023-05-10T22:48:13.646Z"
   },
   {
    "duration": 8,
    "start_time": "2023-05-10T22:48:17.699Z"
   },
   {
    "duration": 164,
    "start_time": "2023-05-10T22:48:23.424Z"
   },
   {
    "duration": 6,
    "start_time": "2023-05-10T22:48:34.352Z"
   },
   {
    "duration": 3,
    "start_time": "2023-05-10T22:48:40.781Z"
   },
   {
    "duration": 18,
    "start_time": "2023-05-10T22:49:48.481Z"
   },
   {
    "duration": 6,
    "start_time": "2023-05-10T22:49:50.398Z"
   },
   {
    "duration": 181,
    "start_time": "2023-05-10T22:49:52.647Z"
   },
   {
    "duration": 7,
    "start_time": "2023-05-10T22:49:55.789Z"
   },
   {
    "duration": 163,
    "start_time": "2023-05-10T22:50:05.498Z"
   },
   {
    "duration": 177,
    "start_time": "2023-05-10T22:50:16.230Z"
   },
   {
    "duration": 7,
    "start_time": "2023-05-10T22:50:27.064Z"
   },
   {
    "duration": 3,
    "start_time": "2023-05-10T22:51:00.482Z"
   },
   {
    "duration": 3,
    "start_time": "2023-05-10T22:52:53.526Z"
   },
   {
    "duration": 54,
    "start_time": "2023-05-11T13:44:15.206Z"
   },
   {
    "duration": 2355,
    "start_time": "2023-05-11T13:44:24.296Z"
   },
   {
    "duration": 1260,
    "start_time": "2023-05-11T13:44:26.654Z"
   },
   {
    "duration": 21,
    "start_time": "2023-05-11T13:44:27.917Z"
   },
   {
    "duration": 47,
    "start_time": "2023-05-11T13:44:27.943Z"
   },
   {
    "duration": 166,
    "start_time": "2023-05-11T13:44:27.995Z"
   },
   {
    "duration": 17,
    "start_time": "2023-05-11T13:44:28.163Z"
   },
   {
    "duration": 13,
    "start_time": "2023-05-11T13:44:28.190Z"
   },
   {
    "duration": 17,
    "start_time": "2023-05-11T13:44:28.205Z"
   },
   {
    "duration": 43,
    "start_time": "2023-05-11T13:44:28.224Z"
   },
   {
    "duration": 37,
    "start_time": "2023-05-11T13:44:28.270Z"
   },
   {
    "duration": 27,
    "start_time": "2023-05-11T13:44:28.309Z"
   },
   {
    "duration": 55,
    "start_time": "2023-05-11T13:44:28.339Z"
   },
   {
    "duration": 520,
    "start_time": "2023-05-11T13:44:28.397Z"
   },
   {
    "duration": 6,
    "start_time": "2023-05-11T13:44:28.919Z"
   },
   {
    "duration": 19,
    "start_time": "2023-05-11T13:44:28.928Z"
   },
   {
    "duration": 40,
    "start_time": "2023-05-11T13:44:28.949Z"
   },
   {
    "duration": 9,
    "start_time": "2023-05-11T13:44:28.992Z"
   },
   {
    "duration": 43,
    "start_time": "2023-05-11T13:44:29.004Z"
   },
   {
    "duration": 42,
    "start_time": "2023-05-11T13:44:29.050Z"
   },
   {
    "duration": 39,
    "start_time": "2023-05-11T13:44:29.094Z"
   },
   {
    "duration": 2108,
    "start_time": "2023-05-11T13:44:29.136Z"
   },
   {
    "duration": 7,
    "start_time": "2023-05-11T13:44:31.246Z"
   },
   {
    "duration": 81,
    "start_time": "2023-05-11T13:44:31.254Z"
   },
   {
    "duration": 195,
    "start_time": "2023-05-11T13:44:31.337Z"
   },
   {
    "duration": 19,
    "start_time": "2023-05-11T13:44:31.534Z"
   },
   {
    "duration": 146,
    "start_time": "2023-05-11T13:44:31.555Z"
   },
   {
    "duration": 64,
    "start_time": "2023-05-11T13:44:31.703Z"
   },
   {
    "duration": 124,
    "start_time": "2023-05-11T13:44:31.774Z"
   },
   {
    "duration": 16,
    "start_time": "2023-05-11T13:44:31.901Z"
   },
   {
    "duration": 81,
    "start_time": "2023-05-11T13:44:31.920Z"
   },
   {
    "duration": 45,
    "start_time": "2023-05-11T13:44:32.005Z"
   },
   {
    "duration": 90,
    "start_time": "2023-05-11T13:44:32.052Z"
   },
   {
    "duration": 33,
    "start_time": "2023-05-11T13:44:32.144Z"
   },
   {
    "duration": 99,
    "start_time": "2023-05-11T13:44:32.180Z"
   },
   {
    "duration": 70,
    "start_time": "2023-05-11T13:44:32.284Z"
   },
   {
    "duration": 50,
    "start_time": "2023-05-11T13:44:32.357Z"
   },
   {
    "duration": 23,
    "start_time": "2023-05-11T13:44:32.410Z"
   },
   {
    "duration": 109,
    "start_time": "2023-05-11T13:44:32.436Z"
   },
   {
    "duration": 65,
    "start_time": "2023-05-11T13:44:32.548Z"
   },
   {
    "duration": 30,
    "start_time": "2023-05-11T13:44:32.615Z"
   },
   {
    "duration": 6,
    "start_time": "2023-05-11T13:44:32.648Z"
   },
   {
    "duration": 60,
    "start_time": "2023-05-11T13:44:32.657Z"
   },
   {
    "duration": 8,
    "start_time": "2023-05-11T13:44:32.719Z"
   },
   {
    "duration": 15,
    "start_time": "2023-05-11T13:44:32.730Z"
   },
   {
    "duration": 9,
    "start_time": "2023-05-11T13:44:32.748Z"
   },
   {
    "duration": 51,
    "start_time": "2023-05-11T13:44:32.760Z"
   },
   {
    "duration": 36,
    "start_time": "2023-05-11T13:44:32.813Z"
   },
   {
    "duration": 27,
    "start_time": "2023-05-11T13:44:32.850Z"
   },
   {
    "duration": 17,
    "start_time": "2023-05-11T13:44:32.889Z"
   },
   {
    "duration": 10,
    "start_time": "2023-05-11T13:44:32.908Z"
   },
   {
    "duration": 13,
    "start_time": "2023-05-11T13:44:32.921Z"
   },
   {
    "duration": 46,
    "start_time": "2023-05-11T13:44:32.937Z"
   },
   {
    "duration": 6,
    "start_time": "2023-05-11T13:44:32.986Z"
   },
   {
    "duration": 32,
    "start_time": "2023-05-11T13:44:32.995Z"
   },
   {
    "duration": 15,
    "start_time": "2023-05-11T13:44:33.030Z"
   },
   {
    "duration": 44,
    "start_time": "2023-05-11T13:44:33.047Z"
   },
   {
    "duration": 13,
    "start_time": "2023-05-11T13:44:33.093Z"
   },
   {
    "duration": 32,
    "start_time": "2023-05-11T13:44:33.108Z"
   },
   {
    "duration": 9,
    "start_time": "2023-05-11T13:44:33.142Z"
   },
   {
    "duration": 28,
    "start_time": "2023-05-11T13:44:33.153Z"
   },
   {
    "duration": 20,
    "start_time": "2023-05-11T13:44:33.189Z"
   },
   {
    "duration": 36,
    "start_time": "2023-05-11T13:44:33.211Z"
   },
   {
    "duration": 17,
    "start_time": "2023-05-11T13:44:33.249Z"
   },
   {
    "duration": 12,
    "start_time": "2023-05-11T13:44:33.269Z"
   },
   {
    "duration": 13,
    "start_time": "2023-05-11T13:44:33.289Z"
   },
   {
    "duration": 50,
    "start_time": "2023-05-11T13:44:33.305Z"
   },
   {
    "duration": 33,
    "start_time": "2023-05-11T13:44:33.358Z"
   },
   {
    "duration": 98,
    "start_time": "2023-05-11T13:44:33.393Z"
   },
   {
    "duration": 7,
    "start_time": "2023-05-11T13:44:33.494Z"
   },
   {
    "duration": 32,
    "start_time": "2023-05-11T13:44:33.504Z"
   },
   {
    "duration": 104,
    "start_time": "2023-05-11T13:44:33.539Z"
   },
   {
    "duration": 39,
    "start_time": "2023-05-11T13:44:33.646Z"
   },
   {
    "duration": 284,
    "start_time": "2023-05-11T13:44:33.689Z"
   },
   {
    "duration": 20,
    "start_time": "2023-05-11T13:44:33.983Z"
   },
   {
    "duration": 10,
    "start_time": "2023-05-11T13:44:34.005Z"
   },
   {
    "duration": 30,
    "start_time": "2023-05-11T13:44:34.017Z"
   },
   {
    "duration": 2906,
    "start_time": "2023-05-11T13:44:34.050Z"
   },
   {
    "duration": 28,
    "start_time": "2023-05-11T13:44:36.958Z"
   },
   {
    "duration": 829,
    "start_time": "2023-05-11T13:44:36.988Z"
   },
   {
    "duration": 640,
    "start_time": "2023-05-11T13:44:37.821Z"
   },
   {
    "duration": 957,
    "start_time": "2023-05-11T13:44:38.464Z"
   },
   {
    "duration": 7,
    "start_time": "2023-05-11T13:44:42.837Z"
   },
   {
    "duration": 7,
    "start_time": "2023-05-11T13:45:11.547Z"
   },
   {
    "duration": 9,
    "start_time": "2023-05-11T13:45:26.233Z"
   },
   {
    "duration": 1302,
    "start_time": "2023-05-11T13:45:45.318Z"
   },
   {
    "duration": 6,
    "start_time": "2023-05-11T13:46:22.687Z"
   },
   {
    "duration": 3714,
    "start_time": "2023-05-11T13:46:36.608Z"
   },
   {
    "duration": 3264,
    "start_time": "2023-05-11T13:46:59.498Z"
   },
   {
    "duration": 5,
    "start_time": "2023-05-11T13:48:50.128Z"
   },
   {
    "duration": 6,
    "start_time": "2023-05-11T13:49:00.821Z"
   },
   {
    "duration": 7,
    "start_time": "2023-05-11T13:49:09.901Z"
   },
   {
    "duration": 5759,
    "start_time": "2023-05-11T13:49:21.858Z"
   },
   {
    "duration": 7,
    "start_time": "2023-05-11T13:49:31.635Z"
   },
   {
    "duration": 4,
    "start_time": "2023-05-11T13:58:47.528Z"
   },
   {
    "duration": 6,
    "start_time": "2023-05-11T13:58:55.129Z"
   },
   {
    "duration": 5,
    "start_time": "2023-05-11T13:58:59.750Z"
   },
   {
    "duration": 7,
    "start_time": "2023-05-11T13:59:03.766Z"
   },
   {
    "duration": 4,
    "start_time": "2023-05-11T14:01:02.786Z"
   },
   {
    "duration": 3110,
    "start_time": "2023-05-11T14:01:14.357Z"
   },
   {
    "duration": 3069,
    "start_time": "2023-05-11T14:01:44.587Z"
   },
   {
    "duration": 1894,
    "start_time": "2023-05-11T14:02:02.889Z"
   },
   {
    "duration": 320,
    "start_time": "2023-05-11T14:02:04.787Z"
   },
   {
    "duration": 8,
    "start_time": "2023-05-11T14:02:05.109Z"
   },
   {
    "duration": 48,
    "start_time": "2023-05-11T14:02:05.119Z"
   },
   {
    "duration": 164,
    "start_time": "2023-05-11T14:02:05.168Z"
   },
   {
    "duration": 3,
    "start_time": "2023-05-11T14:02:05.334Z"
   },
   {
    "duration": 13,
    "start_time": "2023-05-11T14:02:05.339Z"
   },
   {
    "duration": 42,
    "start_time": "2023-05-11T14:02:05.355Z"
   },
   {
    "duration": 58,
    "start_time": "2023-05-11T14:02:05.399Z"
   },
   {
    "duration": 26,
    "start_time": "2023-05-11T14:02:05.460Z"
   },
   {
    "duration": 27,
    "start_time": "2023-05-11T14:02:05.488Z"
   },
   {
    "duration": 24,
    "start_time": "2023-05-11T14:02:05.517Z"
   },
   {
    "duration": 107,
    "start_time": "2023-05-11T14:02:05.543Z"
   },
   {
    "duration": 6,
    "start_time": "2023-05-11T14:02:05.652Z"
   },
   {
    "duration": 22,
    "start_time": "2023-05-11T14:02:05.659Z"
   },
   {
    "duration": 58,
    "start_time": "2023-05-11T14:02:05.683Z"
   },
   {
    "duration": 8,
    "start_time": "2023-05-11T14:02:05.743Z"
   },
   {
    "duration": 61,
    "start_time": "2023-05-11T14:02:05.753Z"
   },
   {
    "duration": 30,
    "start_time": "2023-05-11T14:02:05.816Z"
   },
   {
    "duration": 64,
    "start_time": "2023-05-11T14:02:05.849Z"
   },
   {
    "duration": 510,
    "start_time": "2023-05-11T14:02:05.915Z"
   },
   {
    "duration": 6,
    "start_time": "2023-05-11T14:02:06.427Z"
   },
   {
    "duration": 31,
    "start_time": "2023-05-11T14:02:06.434Z"
   },
   {
    "duration": 122,
    "start_time": "2023-05-11T14:02:06.467Z"
   },
   {
    "duration": 8,
    "start_time": "2023-05-11T14:02:06.595Z"
   },
   {
    "duration": 78,
    "start_time": "2023-05-11T14:02:06.605Z"
   },
   {
    "duration": 25,
    "start_time": "2023-05-11T14:02:06.686Z"
   },
   {
    "duration": 69,
    "start_time": "2023-05-11T14:02:06.716Z"
   },
   {
    "duration": 37,
    "start_time": "2023-05-11T14:02:06.788Z"
   },
   {
    "duration": 98,
    "start_time": "2023-05-11T14:02:06.827Z"
   },
   {
    "duration": 7,
    "start_time": "2023-05-11T14:02:06.927Z"
   },
   {
    "duration": 22,
    "start_time": "2023-05-11T14:02:06.936Z"
   },
   {
    "duration": 8,
    "start_time": "2023-05-11T14:02:06.960Z"
   },
   {
    "duration": 35,
    "start_time": "2023-05-11T14:02:06.970Z"
   },
   {
    "duration": 37,
    "start_time": "2023-05-11T14:02:07.007Z"
   },
   {
    "duration": 39,
    "start_time": "2023-05-11T14:02:07.046Z"
   },
   {
    "duration": 9,
    "start_time": "2023-05-11T14:02:07.087Z"
   },
   {
    "duration": 42,
    "start_time": "2023-05-11T14:02:07.097Z"
   },
   {
    "duration": 28,
    "start_time": "2023-05-11T14:02:07.142Z"
   },
   {
    "duration": 41,
    "start_time": "2023-05-11T14:02:07.175Z"
   },
   {
    "duration": 10,
    "start_time": "2023-05-11T14:02:07.219Z"
   },
   {
    "duration": 31,
    "start_time": "2023-05-11T14:02:07.231Z"
   },
   {
    "duration": 6,
    "start_time": "2023-05-11T14:02:07.264Z"
   },
   {
    "duration": 20,
    "start_time": "2023-05-11T14:02:07.281Z"
   },
   {
    "duration": 11,
    "start_time": "2023-05-11T14:02:07.303Z"
   },
   {
    "duration": 18,
    "start_time": "2023-05-11T14:02:07.316Z"
   },
   {
    "duration": 19,
    "start_time": "2023-05-11T14:02:07.336Z"
   },
   {
    "duration": 27,
    "start_time": "2023-05-11T14:02:07.357Z"
   },
   {
    "duration": 14,
    "start_time": "2023-05-11T14:02:07.387Z"
   },
   {
    "duration": 31,
    "start_time": "2023-05-11T14:02:07.403Z"
   },
   {
    "duration": 25,
    "start_time": "2023-05-11T14:02:07.436Z"
   },
   {
    "duration": 57,
    "start_time": "2023-05-11T14:02:07.462Z"
   },
   {
    "duration": 4,
    "start_time": "2023-05-11T14:02:07.521Z"
   },
   {
    "duration": 29,
    "start_time": "2023-05-11T14:02:07.527Z"
   },
   {
    "duration": 38,
    "start_time": "2023-05-11T14:02:07.558Z"
   },
   {
    "duration": 43,
    "start_time": "2023-05-11T14:02:07.599Z"
   },
   {
    "duration": 5,
    "start_time": "2023-05-11T14:02:07.644Z"
   },
   {
    "duration": 34,
    "start_time": "2023-05-11T14:02:07.651Z"
   },
   {
    "duration": 23,
    "start_time": "2023-05-11T14:02:07.687Z"
   },
   {
    "duration": 12,
    "start_time": "2023-05-11T14:02:07.712Z"
   },
   {
    "duration": 21,
    "start_time": "2023-05-11T14:02:07.726Z"
   },
   {
    "duration": 36,
    "start_time": "2023-05-11T14:02:07.749Z"
   },
   {
    "duration": 9,
    "start_time": "2023-05-11T14:02:07.788Z"
   },
   {
    "duration": 33,
    "start_time": "2023-05-11T14:02:07.799Z"
   },
   {
    "duration": 38,
    "start_time": "2023-05-11T14:02:07.834Z"
   },
   {
    "duration": 68,
    "start_time": "2023-05-11T14:02:07.874Z"
   },
   {
    "duration": 69,
    "start_time": "2023-05-11T14:02:07.945Z"
   },
   {
    "duration": 75,
    "start_time": "2023-05-11T14:02:08.017Z"
   },
   {
    "duration": 6,
    "start_time": "2023-05-11T14:02:08.093Z"
   },
   {
    "duration": 25,
    "start_time": "2023-05-11T14:02:08.101Z"
   },
   {
    "duration": 74,
    "start_time": "2023-05-11T14:02:08.127Z"
   },
   {
    "duration": 4,
    "start_time": "2023-05-11T14:02:08.203Z"
   },
   {
    "duration": 277,
    "start_time": "2023-05-11T14:02:08.209Z"
   },
   {
    "duration": 17,
    "start_time": "2023-05-11T14:02:08.495Z"
   },
   {
    "duration": 18,
    "start_time": "2023-05-11T14:02:08.514Z"
   },
   {
    "duration": 33,
    "start_time": "2023-05-11T14:02:08.534Z"
   },
   {
    "duration": 2347,
    "start_time": "2023-05-11T14:02:08.569Z"
   },
   {
    "duration": 11,
    "start_time": "2023-05-11T14:02:10.918Z"
   },
   {
    "duration": 663,
    "start_time": "2023-05-11T14:02:10.932Z"
   },
   {
    "duration": 526,
    "start_time": "2023-05-11T14:02:11.597Z"
   },
   {
    "duration": 1099,
    "start_time": "2023-05-11T14:02:12.125Z"
   },
   {
    "duration": 5,
    "start_time": "2023-05-11T14:02:13.231Z"
   },
   {
    "duration": 24,
    "start_time": "2023-05-11T14:02:13.238Z"
   },
   {
    "duration": 40,
    "start_time": "2023-05-11T14:02:13.264Z"
   },
   {
    "duration": 19,
    "start_time": "2023-05-11T14:02:13.306Z"
   },
   {
    "duration": 23,
    "start_time": "2023-05-11T14:02:13.326Z"
   },
   {
    "duration": 5,
    "start_time": "2023-05-11T14:03:00.806Z"
   },
   {
    "duration": 6,
    "start_time": "2023-05-11T14:03:17.223Z"
   },
   {
    "duration": 6,
    "start_time": "2023-05-11T14:03:28.088Z"
   },
   {
    "duration": 886,
    "start_time": "2023-05-11T14:03:44.003Z"
   },
   {
    "duration": 1843,
    "start_time": "2023-05-11T14:05:02.787Z"
   },
   {
    "duration": 318,
    "start_time": "2023-05-11T14:05:04.632Z"
   },
   {
    "duration": 18,
    "start_time": "2023-05-11T14:05:04.952Z"
   },
   {
    "duration": 36,
    "start_time": "2023-05-11T14:05:04.975Z"
   },
   {
    "duration": 162,
    "start_time": "2023-05-11T14:05:05.013Z"
   },
   {
    "duration": 5,
    "start_time": "2023-05-11T14:05:05.177Z"
   },
   {
    "duration": 16,
    "start_time": "2023-05-11T14:05:05.184Z"
   },
   {
    "duration": 11,
    "start_time": "2023-05-11T14:05:05.202Z"
   },
   {
    "duration": 46,
    "start_time": "2023-05-11T14:05:05.215Z"
   },
   {
    "duration": 24,
    "start_time": "2023-05-11T14:05:05.264Z"
   },
   {
    "duration": 198,
    "start_time": "2023-05-11T14:05:05.290Z"
   },
   {
    "duration": 57,
    "start_time": "2023-05-11T14:05:05.490Z"
   },
   {
    "duration": 119,
    "start_time": "2023-05-11T14:05:05.549Z"
   },
   {
    "duration": 13,
    "start_time": "2023-05-11T14:05:05.670Z"
   },
   {
    "duration": 29,
    "start_time": "2023-05-11T14:05:05.685Z"
   },
   {
    "duration": 33,
    "start_time": "2023-05-11T14:05:05.716Z"
   },
   {
    "duration": 7,
    "start_time": "2023-05-11T14:05:05.751Z"
   },
   {
    "duration": 56,
    "start_time": "2023-05-11T14:05:05.760Z"
   },
   {
    "duration": 30,
    "start_time": "2023-05-11T14:05:05.818Z"
   },
   {
    "duration": 73,
    "start_time": "2023-05-11T14:05:05.850Z"
   },
   {
    "duration": 504,
    "start_time": "2023-05-11T14:05:05.925Z"
   },
   {
    "duration": 6,
    "start_time": "2023-05-11T14:05:06.431Z"
   },
   {
    "duration": 55,
    "start_time": "2023-05-11T14:05:06.438Z"
   },
   {
    "duration": 135,
    "start_time": "2023-05-11T14:05:06.495Z"
   },
   {
    "duration": 7,
    "start_time": "2023-05-11T14:05:06.632Z"
   },
   {
    "duration": 78,
    "start_time": "2023-05-11T14:05:06.641Z"
   },
   {
    "duration": 26,
    "start_time": "2023-05-11T14:05:06.721Z"
   },
   {
    "duration": 39,
    "start_time": "2023-05-11T14:05:06.751Z"
   },
   {
    "duration": 15,
    "start_time": "2023-05-11T14:05:06.792Z"
   },
   {
    "duration": 30,
    "start_time": "2023-05-11T14:05:06.809Z"
   },
   {
    "duration": 24,
    "start_time": "2023-05-11T14:05:06.840Z"
   },
   {
    "duration": 29,
    "start_time": "2023-05-11T14:05:06.866Z"
   },
   {
    "duration": 10,
    "start_time": "2023-05-11T14:05:06.897Z"
   },
   {
    "duration": 9,
    "start_time": "2023-05-11T14:05:06.908Z"
   },
   {
    "duration": 8,
    "start_time": "2023-05-11T14:05:06.919Z"
   },
   {
    "duration": 24,
    "start_time": "2023-05-11T14:05:06.929Z"
   },
   {
    "duration": 9,
    "start_time": "2023-05-11T14:05:06.955Z"
   },
   {
    "duration": 41,
    "start_time": "2023-05-11T14:05:06.966Z"
   },
   {
    "duration": 20,
    "start_time": "2023-05-11T14:05:07.009Z"
   },
   {
    "duration": 21,
    "start_time": "2023-05-11T14:05:07.031Z"
   },
   {
    "duration": 4,
    "start_time": "2023-05-11T14:05:07.054Z"
   },
   {
    "duration": 34,
    "start_time": "2023-05-11T14:05:07.061Z"
   },
   {
    "duration": 6,
    "start_time": "2023-05-11T14:05:07.098Z"
   },
   {
    "duration": 25,
    "start_time": "2023-05-11T14:05:07.106Z"
   },
   {
    "duration": 19,
    "start_time": "2023-05-11T14:05:07.133Z"
   },
   {
    "duration": 24,
    "start_time": "2023-05-11T14:05:07.154Z"
   },
   {
    "duration": 15,
    "start_time": "2023-05-11T14:05:07.180Z"
   },
   {
    "duration": 8,
    "start_time": "2023-05-11T14:05:07.197Z"
   },
   {
    "duration": 12,
    "start_time": "2023-05-11T14:05:07.207Z"
   },
   {
    "duration": 14,
    "start_time": "2023-05-11T14:05:07.222Z"
   },
   {
    "duration": 20,
    "start_time": "2023-05-11T14:05:07.238Z"
   },
   {
    "duration": 77,
    "start_time": "2023-05-11T14:05:07.260Z"
   },
   {
    "duration": 5,
    "start_time": "2023-05-11T14:05:07.339Z"
   },
   {
    "duration": 39,
    "start_time": "2023-05-11T14:05:07.346Z"
   },
   {
    "duration": 11,
    "start_time": "2023-05-11T14:05:07.387Z"
   },
   {
    "duration": 47,
    "start_time": "2023-05-11T14:05:07.400Z"
   },
   {
    "duration": 5,
    "start_time": "2023-05-11T14:05:07.449Z"
   },
   {
    "duration": 40,
    "start_time": "2023-05-11T14:05:07.455Z"
   },
   {
    "duration": 33,
    "start_time": "2023-05-11T14:05:07.497Z"
   },
   {
    "duration": 27,
    "start_time": "2023-05-11T14:05:07.532Z"
   },
   {
    "duration": 50,
    "start_time": "2023-05-11T14:05:07.561Z"
   },
   {
    "duration": 25,
    "start_time": "2023-05-11T14:05:07.613Z"
   },
   {
    "duration": 26,
    "start_time": "2023-05-11T14:05:07.639Z"
   },
   {
    "duration": 8,
    "start_time": "2023-05-11T14:05:07.667Z"
   },
   {
    "duration": 22,
    "start_time": "2023-05-11T14:05:07.677Z"
   },
   {
    "duration": 48,
    "start_time": "2023-05-11T14:05:07.701Z"
   },
   {
    "duration": 32,
    "start_time": "2023-05-11T14:05:07.751Z"
   },
   {
    "duration": 93,
    "start_time": "2023-05-11T14:05:07.786Z"
   },
   {
    "duration": 6,
    "start_time": "2023-05-11T14:05:07.881Z"
   },
   {
    "duration": 65,
    "start_time": "2023-05-11T14:05:07.889Z"
   },
   {
    "duration": 75,
    "start_time": "2023-05-11T14:05:07.955Z"
   },
   {
    "duration": 5,
    "start_time": "2023-05-11T14:05:08.032Z"
   },
   {
    "duration": 273,
    "start_time": "2023-05-11T14:05:08.039Z"
   },
   {
    "duration": 17,
    "start_time": "2023-05-11T14:05:08.313Z"
   },
   {
    "duration": 6,
    "start_time": "2023-05-11T14:05:08.332Z"
   },
   {
    "duration": 45,
    "start_time": "2023-05-11T14:05:08.340Z"
   },
   {
    "duration": 2350,
    "start_time": "2023-05-11T14:05:08.388Z"
   },
   {
    "duration": 12,
    "start_time": "2023-05-11T14:05:10.740Z"
   },
   {
    "duration": 681,
    "start_time": "2023-05-11T14:05:10.753Z"
   },
   {
    "duration": 496,
    "start_time": "2023-05-11T14:05:11.436Z"
   },
   {
    "duration": 869,
    "start_time": "2023-05-11T14:05:11.934Z"
   },
   {
    "duration": 6,
    "start_time": "2023-05-11T14:05:12.809Z"
   },
   {
    "duration": 30,
    "start_time": "2023-05-11T14:05:12.817Z"
   },
   {
    "duration": 56,
    "start_time": "2023-05-11T14:05:12.849Z"
   },
   {
    "duration": 12,
    "start_time": "2023-05-11T14:05:12.907Z"
   },
   {
    "duration": 34,
    "start_time": "2023-05-11T14:05:12.921Z"
   },
   {
    "duration": 11,
    "start_time": "2023-05-11T14:05:12.958Z"
   },
   {
    "duration": 20,
    "start_time": "2023-05-11T14:05:12.971Z"
   },
   {
    "duration": 9,
    "start_time": "2023-05-11T14:05:12.993Z"
   },
   {
    "duration": 13,
    "start_time": "2023-05-11T14:05:13.003Z"
   },
   {
    "duration": 1192,
    "start_time": "2023-05-11T14:05:24.911Z"
   },
   {
    "duration": 1913,
    "start_time": "2023-05-11T14:07:25.885Z"
   },
   {
    "duration": 332,
    "start_time": "2023-05-11T14:07:27.801Z"
   },
   {
    "duration": 8,
    "start_time": "2023-05-11T14:07:28.135Z"
   },
   {
    "duration": 38,
    "start_time": "2023-05-11T14:07:28.145Z"
   },
   {
    "duration": 177,
    "start_time": "2023-05-11T14:07:28.187Z"
   },
   {
    "duration": 11,
    "start_time": "2023-05-11T14:07:28.366Z"
   },
   {
    "duration": 29,
    "start_time": "2023-05-11T14:07:28.384Z"
   },
   {
    "duration": 40,
    "start_time": "2023-05-11T14:07:28.415Z"
   },
   {
    "duration": 64,
    "start_time": "2023-05-11T14:07:28.457Z"
   },
   {
    "duration": 29,
    "start_time": "2023-05-11T14:07:28.524Z"
   },
   {
    "duration": 58,
    "start_time": "2023-05-11T14:07:28.555Z"
   },
   {
    "duration": 42,
    "start_time": "2023-05-11T14:07:28.615Z"
   },
   {
    "duration": 123,
    "start_time": "2023-05-11T14:07:28.660Z"
   },
   {
    "duration": 6,
    "start_time": "2023-05-11T14:07:28.789Z"
   },
   {
    "duration": 54,
    "start_time": "2023-05-11T14:07:28.797Z"
   },
   {
    "duration": 68,
    "start_time": "2023-05-11T14:07:28.854Z"
   },
   {
    "duration": 8,
    "start_time": "2023-05-11T14:07:28.924Z"
   },
   {
    "duration": 99,
    "start_time": "2023-05-11T14:07:28.933Z"
   },
   {
    "duration": 52,
    "start_time": "2023-05-11T14:07:29.034Z"
   },
   {
    "duration": 115,
    "start_time": "2023-05-11T14:07:29.089Z"
   },
   {
    "duration": 469,
    "start_time": "2023-05-11T14:07:29.206Z"
   },
   {
    "duration": 8,
    "start_time": "2023-05-11T14:07:29.678Z"
   },
   {
    "duration": 40,
    "start_time": "2023-05-11T14:07:29.688Z"
   },
   {
    "duration": 119,
    "start_time": "2023-05-11T14:07:29.729Z"
   },
   {
    "duration": 7,
    "start_time": "2023-05-11T14:07:29.850Z"
   },
   {
    "duration": 99,
    "start_time": "2023-05-11T14:07:29.860Z"
   },
   {
    "duration": 28,
    "start_time": "2023-05-11T14:07:29.961Z"
   },
   {
    "duration": 67,
    "start_time": "2023-05-11T14:07:29.991Z"
   },
   {
    "duration": 46,
    "start_time": "2023-05-11T14:07:30.060Z"
   },
   {
    "duration": 83,
    "start_time": "2023-05-11T14:07:30.108Z"
   },
   {
    "duration": 39,
    "start_time": "2023-05-11T14:07:30.193Z"
   },
   {
    "duration": 70,
    "start_time": "2023-05-11T14:07:30.234Z"
   },
   {
    "duration": 59,
    "start_time": "2023-05-11T14:07:30.306Z"
   },
   {
    "duration": 81,
    "start_time": "2023-05-11T14:07:30.367Z"
   },
   {
    "duration": 60,
    "start_time": "2023-05-11T14:07:30.450Z"
   },
   {
    "duration": 144,
    "start_time": "2023-05-11T14:07:30.512Z"
   },
   {
    "duration": 78,
    "start_time": "2023-05-11T14:07:30.658Z"
   },
   {
    "duration": 77,
    "start_time": "2023-05-11T14:07:30.738Z"
   },
   {
    "duration": 98,
    "start_time": "2023-05-11T14:07:30.817Z"
   },
   {
    "duration": 86,
    "start_time": "2023-05-11T14:07:30.917Z"
   },
   {
    "duration": 76,
    "start_time": "2023-05-11T14:07:31.008Z"
   },
   {
    "duration": 60,
    "start_time": "2023-05-11T14:07:31.086Z"
   },
   {
    "duration": 88,
    "start_time": "2023-05-11T14:07:31.148Z"
   },
   {
    "duration": 87,
    "start_time": "2023-05-11T14:07:31.238Z"
   },
   {
    "duration": 118,
    "start_time": "2023-05-11T14:07:31.327Z"
   },
   {
    "duration": 67,
    "start_time": "2023-05-11T14:07:31.448Z"
   },
   {
    "duration": 52,
    "start_time": "2023-05-11T14:07:31.517Z"
   },
   {
    "duration": 85,
    "start_time": "2023-05-11T14:07:31.571Z"
   },
   {
    "duration": 60,
    "start_time": "2023-05-11T14:07:31.658Z"
   },
   {
    "duration": 97,
    "start_time": "2023-05-11T14:07:31.720Z"
   },
   {
    "duration": 95,
    "start_time": "2023-05-11T14:07:31.818Z"
   },
   {
    "duration": 100,
    "start_time": "2023-05-11T14:07:31.915Z"
   },
   {
    "duration": 33,
    "start_time": "2023-05-11T14:07:32.017Z"
   },
   {
    "duration": 82,
    "start_time": "2023-05-11T14:07:32.052Z"
   },
   {
    "duration": 60,
    "start_time": "2023-05-11T14:07:32.136Z"
   },
   {
    "duration": 86,
    "start_time": "2023-05-11T14:07:32.198Z"
   },
   {
    "duration": 35,
    "start_time": "2023-05-11T14:07:32.287Z"
   },
   {
    "duration": 78,
    "start_time": "2023-05-11T14:07:32.325Z"
   },
   {
    "duration": 47,
    "start_time": "2023-05-11T14:07:32.405Z"
   },
   {
    "duration": 40,
    "start_time": "2023-05-11T14:07:32.455Z"
   },
   {
    "duration": 39,
    "start_time": "2023-05-11T14:07:32.497Z"
   },
   {
    "duration": 49,
    "start_time": "2023-05-11T14:07:32.538Z"
   },
   {
    "duration": 58,
    "start_time": "2023-05-11T14:07:32.589Z"
   },
   {
    "duration": 49,
    "start_time": "2023-05-11T14:07:32.648Z"
   },
   {
    "duration": 39,
    "start_time": "2023-05-11T14:07:32.699Z"
   },
   {
    "duration": 71,
    "start_time": "2023-05-11T14:07:32.740Z"
   },
   {
    "duration": 108,
    "start_time": "2023-05-11T14:07:32.813Z"
   },
   {
    "duration": 79,
    "start_time": "2023-05-11T14:07:32.924Z"
   },
   {
    "duration": 6,
    "start_time": "2023-05-11T14:07:33.005Z"
   },
   {
    "duration": 35,
    "start_time": "2023-05-11T14:07:33.012Z"
   },
   {
    "duration": 113,
    "start_time": "2023-05-11T14:07:33.049Z"
   },
   {
    "duration": 4,
    "start_time": "2023-05-11T14:07:33.164Z"
   },
   {
    "duration": 263,
    "start_time": "2023-05-11T14:07:33.170Z"
   },
   {
    "duration": 16,
    "start_time": "2023-05-11T14:07:33.435Z"
   },
   {
    "duration": 30,
    "start_time": "2023-05-11T14:07:33.453Z"
   },
   {
    "duration": 73,
    "start_time": "2023-05-11T14:07:33.487Z"
   },
   {
    "duration": 2425,
    "start_time": "2023-05-11T14:07:33.562Z"
   },
   {
    "duration": 12,
    "start_time": "2023-05-11T14:07:35.990Z"
   },
   {
    "duration": 718,
    "start_time": "2023-05-11T14:07:36.004Z"
   },
   {
    "duration": 505,
    "start_time": "2023-05-11T14:07:36.724Z"
   },
   {
    "duration": 920,
    "start_time": "2023-05-11T14:07:37.231Z"
   },
   {
    "duration": 5,
    "start_time": "2023-05-11T14:07:38.153Z"
   },
   {
    "duration": 38,
    "start_time": "2023-05-11T14:07:38.177Z"
   },
   {
    "duration": 29,
    "start_time": "2023-05-11T14:07:38.217Z"
   },
   {
    "duration": 43,
    "start_time": "2023-05-11T14:07:38.248Z"
   },
   {
    "duration": 34,
    "start_time": "2023-05-11T14:07:38.292Z"
   },
   {
    "duration": 15,
    "start_time": "2023-05-11T14:07:38.328Z"
   },
   {
    "duration": 25,
    "start_time": "2023-05-11T14:07:38.344Z"
   },
   {
    "duration": 33,
    "start_time": "2023-05-11T14:07:38.371Z"
   },
   {
    "duration": 28,
    "start_time": "2023-05-11T14:07:38.406Z"
   },
   {
    "duration": 1068,
    "start_time": "2023-05-11T14:07:38.436Z"
   },
   {
    "duration": 5374,
    "start_time": "2023-05-11T14:07:39.505Z"
   },
   {
    "duration": 16,
    "start_time": "2023-05-11T14:09:44.842Z"
   },
   {
    "duration": 1018,
    "start_time": "2023-05-11T14:24:18.733Z"
   },
   {
    "duration": 4,
    "start_time": "2023-05-11T14:27:50.106Z"
   },
   {
    "duration": 1529441,
    "start_time": "2023-05-11T14:44:21.848Z"
   },
   {
    "duration": 892,
    "start_time": "2023-05-11T15:09:51.291Z"
   },
   {
    "duration": 1010726,
    "start_time": "2023-05-11T15:09:52.192Z"
   }
  ],
  "kernelspec": {
   "display_name": "Python 3 (ipykernel)",
   "language": "python",
   "name": "python3"
  },
  "language_info": {
   "codemirror_mode": {
    "name": "ipython",
    "version": 3
   },
   "file_extension": ".py",
   "mimetype": "text/x-python",
   "name": "python",
   "nbconvert_exporter": "python",
   "pygments_lexer": "ipython3",
   "version": "3.12.7"
  },
  "toc": {
   "base_numbering": 1,
   "nav_menu": {},
   "number_sections": true,
   "sideBar": true,
   "skip_h1_title": true,
   "title_cell": "Содержание",
   "title_sidebar": "Contents",
   "toc_cell": true,
   "toc_position": {
    "height": "calc(100% - 180px)",
    "left": "10px",
    "top": "150px",
    "width": "228px"
   },
   "toc_section_display": true,
   "toc_window_display": true
  }
 },
 "nbformat": 4,
 "nbformat_minor": 4
}
