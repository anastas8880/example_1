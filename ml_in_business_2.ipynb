{
 "cells": [
  {
   "cell_type": "markdown",
   "metadata": {},
   "source": [
    "# Выбор локации для скважины"
   ]
  },
  {
   "cell_type": "markdown",
   "metadata": {},
   "source": [
    "Вам предоставлены пробы нефти в трёх регионах: в каждом 10 000 месторождений, где измерили качество нефти и объём её запасов. Необходимо построить модель машинного обучения, которая поможет определить регион, где добыча принесёт наибольшую прибыль. Также необходимо проанализировать возможную прибыль и риски техникой *Bootstrap.*\n",
    "\n",
    "Шаги для выбора локации:\n",
    "\n",
    "- В избранном регионе ищут месторождения, для каждого определяют значения признаков;\n",
    "- Строят модель и оценивают объём запасов;\n",
    "- Выбирают месторождения с самым высокими оценками значений. Количество месторождений зависит от бюджета компании и стоимости разработки одной скважины;\n",
    "- Прибыль равна суммарной прибыли отобранных месторождений."
   ]
  },
  {
   "cell_type": "markdown",
   "metadata": {},
   "source": [
    "# Гипотезы исследования и исследовательские вопросы"
   ]
  },
  {
   "cell_type": "markdown",
   "metadata": {},
   "source": [
    "Главной **задачей** данного проекта стало построение модели машинного обучения для добывающей компании «ГлавРосГосНефть» для прогноза объема добычи нефти, на основе некоторых данных. Модель поможет определить, каков самый прибыльный регион, где следует пробурить новую скважину."
   ]
  },
  {
   "cell_type": "markdown",
   "metadata": {},
   "source": [
    "# Предоставленные заказчиком данные"
   ]
  },
  {
   "cell_type": "markdown",
   "metadata": {},
   "source": [
    "Для анализа предоставлены 3 набора данных по 3 разным регионам.\n",
    "Каждый объект в наборе данных — это информация о некоторых признаках скважины. Известно:  \n",
    "- *id* — уникальный идентификатор скважины;\n",
    "- *f0, f1, f2* — три признака точек (неважно, что они означают, но сами признаки значимы);\n",
    "- *product* — объём запасов в скважине (тыс. баррелей)."
   ]
  },
  {
   "cell_type": "markdown",
   "metadata": {},
   "source": [
    "## Загрузка и подготовка данных"
   ]
  },
  {
   "cell_type": "markdown",
   "metadata": {},
   "source": [
    "Для начала следует импортировать необходимые библиотеки."
   ]
  },
  {
   "cell_type": "code",
   "execution_count": 1,
   "metadata": {},
   "outputs": [],
   "source": [
    "import pandas as pd\n",
    "import numpy as np\n",
    "import matplotlib.pyplot as plt\n",
    "from sklearn.preprocessing import StandardScaler\n",
    "from sklearn.model_selection import train_test_split\n",
    "from sklearn.linear_model import LinearRegression\n",
    "from sklearn.metrics import mean_squared_error\n",
    "from sklearn.dummy import DummyRegressor"
   ]
  },
  {
   "cell_type": "markdown",
   "metadata": {},
   "source": [
    "Далее можно приступить к обработке каждого необходимого датасета георазведки."
   ]
  },
  {
   "cell_type": "code",
   "execution_count": 2,
   "metadata": {},
   "outputs": [
    {
     "data": {
      "text/html": [
       "<div>\n",
       "<style scoped>\n",
       "    .dataframe tbody tr th:only-of-type {\n",
       "        vertical-align: middle;\n",
       "    }\n",
       "\n",
       "    .dataframe tbody tr th {\n",
       "        vertical-align: top;\n",
       "    }\n",
       "\n",
       "    .dataframe thead th {\n",
       "        text-align: right;\n",
       "    }\n",
       "</style>\n",
       "<table border=\"1\" class=\"dataframe\">\n",
       "  <thead>\n",
       "    <tr style=\"text-align: right;\">\n",
       "      <th></th>\n",
       "      <th>id</th>\n",
       "      <th>f0</th>\n",
       "      <th>f1</th>\n",
       "      <th>f2</th>\n",
       "      <th>product</th>\n",
       "    </tr>\n",
       "  </thead>\n",
       "  <tbody>\n",
       "    <tr>\n",
       "      <th>0</th>\n",
       "      <td>txEyH</td>\n",
       "      <td>0.705745</td>\n",
       "      <td>-0.497823</td>\n",
       "      <td>1.221170</td>\n",
       "      <td>105.280062</td>\n",
       "    </tr>\n",
       "    <tr>\n",
       "      <th>1</th>\n",
       "      <td>2acmU</td>\n",
       "      <td>1.334711</td>\n",
       "      <td>-0.340164</td>\n",
       "      <td>4.365080</td>\n",
       "      <td>73.037750</td>\n",
       "    </tr>\n",
       "    <tr>\n",
       "      <th>2</th>\n",
       "      <td>409Wp</td>\n",
       "      <td>1.022732</td>\n",
       "      <td>0.151990</td>\n",
       "      <td>1.419926</td>\n",
       "      <td>85.265647</td>\n",
       "    </tr>\n",
       "    <tr>\n",
       "      <th>3</th>\n",
       "      <td>iJLyR</td>\n",
       "      <td>-0.032172</td>\n",
       "      <td>0.139033</td>\n",
       "      <td>2.978566</td>\n",
       "      <td>168.620776</td>\n",
       "    </tr>\n",
       "    <tr>\n",
       "      <th>4</th>\n",
       "      <td>Xdl7t</td>\n",
       "      <td>1.988431</td>\n",
       "      <td>0.155413</td>\n",
       "      <td>4.751769</td>\n",
       "      <td>154.036647</td>\n",
       "    </tr>\n",
       "  </tbody>\n",
       "</table>\n",
       "</div>"
      ],
      "text/plain": [
       "      id        f0        f1        f2     product\n",
       "0  txEyH  0.705745 -0.497823  1.221170  105.280062\n",
       "1  2acmU  1.334711 -0.340164  4.365080   73.037750\n",
       "2  409Wp  1.022732  0.151990  1.419926   85.265647\n",
       "3  iJLyR -0.032172  0.139033  2.978566  168.620776\n",
       "4  Xdl7t  1.988431  0.155413  4.751769  154.036647"
      ]
     },
     "execution_count": 2,
     "metadata": {},
     "output_type": "execute_result"
    }
   ],
   "source": [
    "geo_data_0 = pd.read_csv('/datasets/geo_data_0.csv')\n",
    "geo_data_0.head()"
   ]
  },
  {
   "cell_type": "code",
   "execution_count": 3,
   "metadata": {},
   "outputs": [
    {
     "data": {
      "text/html": [
       "<div>\n",
       "<style scoped>\n",
       "    .dataframe tbody tr th:only-of-type {\n",
       "        vertical-align: middle;\n",
       "    }\n",
       "\n",
       "    .dataframe tbody tr th {\n",
       "        vertical-align: top;\n",
       "    }\n",
       "\n",
       "    .dataframe thead th {\n",
       "        text-align: right;\n",
       "    }\n",
       "</style>\n",
       "<table border=\"1\" class=\"dataframe\">\n",
       "  <thead>\n",
       "    <tr style=\"text-align: right;\">\n",
       "      <th></th>\n",
       "      <th>id</th>\n",
       "      <th>f0</th>\n",
       "      <th>f1</th>\n",
       "      <th>f2</th>\n",
       "      <th>product</th>\n",
       "    </tr>\n",
       "  </thead>\n",
       "  <tbody>\n",
       "    <tr>\n",
       "      <th>0</th>\n",
       "      <td>kBEdx</td>\n",
       "      <td>-15.001348</td>\n",
       "      <td>-8.276000</td>\n",
       "      <td>-0.005876</td>\n",
       "      <td>3.179103</td>\n",
       "    </tr>\n",
       "    <tr>\n",
       "      <th>1</th>\n",
       "      <td>62mP7</td>\n",
       "      <td>14.272088</td>\n",
       "      <td>-3.475083</td>\n",
       "      <td>0.999183</td>\n",
       "      <td>26.953261</td>\n",
       "    </tr>\n",
       "    <tr>\n",
       "      <th>2</th>\n",
       "      <td>vyE1P</td>\n",
       "      <td>6.263187</td>\n",
       "      <td>-5.948386</td>\n",
       "      <td>5.001160</td>\n",
       "      <td>134.766305</td>\n",
       "    </tr>\n",
       "    <tr>\n",
       "      <th>3</th>\n",
       "      <td>KcrkZ</td>\n",
       "      <td>-13.081196</td>\n",
       "      <td>-11.506057</td>\n",
       "      <td>4.999415</td>\n",
       "      <td>137.945408</td>\n",
       "    </tr>\n",
       "    <tr>\n",
       "      <th>4</th>\n",
       "      <td>AHL4O</td>\n",
       "      <td>12.702195</td>\n",
       "      <td>-8.147433</td>\n",
       "      <td>5.004363</td>\n",
       "      <td>134.766305</td>\n",
       "    </tr>\n",
       "  </tbody>\n",
       "</table>\n",
       "</div>"
      ],
      "text/plain": [
       "      id         f0         f1        f2     product\n",
       "0  kBEdx -15.001348  -8.276000 -0.005876    3.179103\n",
       "1  62mP7  14.272088  -3.475083  0.999183   26.953261\n",
       "2  vyE1P   6.263187  -5.948386  5.001160  134.766305\n",
       "3  KcrkZ -13.081196 -11.506057  4.999415  137.945408\n",
       "4  AHL4O  12.702195  -8.147433  5.004363  134.766305"
      ]
     },
     "execution_count": 3,
     "metadata": {},
     "output_type": "execute_result"
    }
   ],
   "source": [
    "geo_data_1 = pd.read_csv('/datasets/geo_data_1.csv')\n",
    "geo_data_1.head()"
   ]
  },
  {
   "cell_type": "code",
   "execution_count": 4,
   "metadata": {},
   "outputs": [
    {
     "data": {
      "text/html": [
       "<div>\n",
       "<style scoped>\n",
       "    .dataframe tbody tr th:only-of-type {\n",
       "        vertical-align: middle;\n",
       "    }\n",
       "\n",
       "    .dataframe tbody tr th {\n",
       "        vertical-align: top;\n",
       "    }\n",
       "\n",
       "    .dataframe thead th {\n",
       "        text-align: right;\n",
       "    }\n",
       "</style>\n",
       "<table border=\"1\" class=\"dataframe\">\n",
       "  <thead>\n",
       "    <tr style=\"text-align: right;\">\n",
       "      <th></th>\n",
       "      <th>id</th>\n",
       "      <th>f0</th>\n",
       "      <th>f1</th>\n",
       "      <th>f2</th>\n",
       "      <th>product</th>\n",
       "    </tr>\n",
       "  </thead>\n",
       "  <tbody>\n",
       "    <tr>\n",
       "      <th>0</th>\n",
       "      <td>fwXo0</td>\n",
       "      <td>-1.146987</td>\n",
       "      <td>0.963328</td>\n",
       "      <td>-0.828965</td>\n",
       "      <td>27.758673</td>\n",
       "    </tr>\n",
       "    <tr>\n",
       "      <th>1</th>\n",
       "      <td>WJtFt</td>\n",
       "      <td>0.262778</td>\n",
       "      <td>0.269839</td>\n",
       "      <td>-2.530187</td>\n",
       "      <td>56.069697</td>\n",
       "    </tr>\n",
       "    <tr>\n",
       "      <th>2</th>\n",
       "      <td>ovLUW</td>\n",
       "      <td>0.194587</td>\n",
       "      <td>0.289035</td>\n",
       "      <td>-5.586433</td>\n",
       "      <td>62.871910</td>\n",
       "    </tr>\n",
       "    <tr>\n",
       "      <th>3</th>\n",
       "      <td>q6cA6</td>\n",
       "      <td>2.236060</td>\n",
       "      <td>-0.553760</td>\n",
       "      <td>0.930038</td>\n",
       "      <td>114.572842</td>\n",
       "    </tr>\n",
       "    <tr>\n",
       "      <th>4</th>\n",
       "      <td>WPMUX</td>\n",
       "      <td>-0.515993</td>\n",
       "      <td>1.716266</td>\n",
       "      <td>5.899011</td>\n",
       "      <td>149.600746</td>\n",
       "    </tr>\n",
       "  </tbody>\n",
       "</table>\n",
       "</div>"
      ],
      "text/plain": [
       "      id        f0        f1        f2     product\n",
       "0  fwXo0 -1.146987  0.963328 -0.828965   27.758673\n",
       "1  WJtFt  0.262778  0.269839 -2.530187   56.069697\n",
       "2  ovLUW  0.194587  0.289035 -5.586433   62.871910\n",
       "3  q6cA6  2.236060 -0.553760  0.930038  114.572842\n",
       "4  WPMUX -0.515993  1.716266  5.899011  149.600746"
      ]
     },
     "execution_count": 4,
     "metadata": {},
     "output_type": "execute_result"
    }
   ],
   "source": [
    "geo_data_2 = pd.read_csv('/datasets/geo_data_2.csv')\n",
    "geo_data_2.head()"
   ]
  },
  {
   "cell_type": "markdown",
   "metadata": {},
   "source": [
    "Далее следует более детально рассмотреть имеющиеся наборы данных"
   ]
  },
  {
   "cell_type": "code",
   "execution_count": 5,
   "metadata": {},
   "outputs": [
    {
     "name": "stdout",
     "output_type": "stream",
     "text": [
      "<class 'pandas.core.frame.DataFrame'>\n",
      "RangeIndex: 100000 entries, 0 to 99999\n",
      "Data columns (total 5 columns):\n",
      " #   Column   Non-Null Count   Dtype  \n",
      "---  ------   --------------   -----  \n",
      " 0   id       100000 non-null  object \n",
      " 1   f0       100000 non-null  float64\n",
      " 2   f1       100000 non-null  float64\n",
      " 3   f2       100000 non-null  float64\n",
      " 4   product  100000 non-null  float64\n",
      "dtypes: float64(4), object(1)\n",
      "memory usage: 3.8+ MB\n",
      "None\n",
      "<class 'pandas.core.frame.DataFrame'>\n",
      "RangeIndex: 100000 entries, 0 to 99999\n",
      "Data columns (total 5 columns):\n",
      " #   Column   Non-Null Count   Dtype  \n",
      "---  ------   --------------   -----  \n",
      " 0   id       100000 non-null  object \n",
      " 1   f0       100000 non-null  float64\n",
      " 2   f1       100000 non-null  float64\n",
      " 3   f2       100000 non-null  float64\n",
      " 4   product  100000 non-null  float64\n",
      "dtypes: float64(4), object(1)\n",
      "memory usage: 3.8+ MB\n",
      "None\n",
      "<class 'pandas.core.frame.DataFrame'>\n",
      "RangeIndex: 100000 entries, 0 to 99999\n",
      "Data columns (total 5 columns):\n",
      " #   Column   Non-Null Count   Dtype  \n",
      "---  ------   --------------   -----  \n",
      " 0   id       100000 non-null  object \n",
      " 1   f0       100000 non-null  float64\n",
      " 2   f1       100000 non-null  float64\n",
      " 3   f2       100000 non-null  float64\n",
      " 4   product  100000 non-null  float64\n",
      "dtypes: float64(4), object(1)\n",
      "memory usage: 3.8+ MB\n",
      "None\n"
     ]
    }
   ],
   "source": [
    "print(geo_data_0.info())\n",
    "print(geo_data_1.info())\n",
    "print(geo_data_2.info())"
   ]
  },
  {
   "cell_type": "markdown",
   "metadata": {},
   "source": [
    "Теперь проверим датасеты на дубликаты"
   ]
  },
  {
   "cell_type": "code",
   "execution_count": 6,
   "metadata": {},
   "outputs": [
    {
     "data": {
      "text/plain": [
       "0"
      ]
     },
     "execution_count": 6,
     "metadata": {},
     "output_type": "execute_result"
    }
   ],
   "source": [
    "geo_data_0.duplicated().sum()"
   ]
  },
  {
   "cell_type": "code",
   "execution_count": 7,
   "metadata": {},
   "outputs": [
    {
     "data": {
      "text/plain": [
       "0"
      ]
     },
     "execution_count": 7,
     "metadata": {},
     "output_type": "execute_result"
    }
   ],
   "source": [
    "geo_data_1.duplicated().sum()"
   ]
  },
  {
   "cell_type": "code",
   "execution_count": 8,
   "metadata": {},
   "outputs": [
    {
     "data": {
      "text/plain": [
       "0"
      ]
     },
     "execution_count": 8,
     "metadata": {},
     "output_type": "execute_result"
    }
   ],
   "source": [
    "geo_data_2.duplicated().sum()"
   ]
  },
  {
   "cell_type": "markdown",
   "metadata": {},
   "source": [
    "**Вывод:** дубликаты не обнаружены ни в одном из наборов данных"
   ]
  },
  {
   "cell_type": "markdown",
   "metadata": {},
   "source": [
    "Однако, стоит проверить на скрытые дубликаты по id скважины"
   ]
  },
  {
   "cell_type": "code",
   "execution_count": 9,
   "metadata": {},
   "outputs": [
    {
     "data": {
      "text/plain": [
       "74z30    2\n",
       "QcMuo    2\n",
       "HZww2    2\n",
       "fiKDv    2\n",
       "A5aEY    2\n",
       "        ..\n",
       "kPTPo    1\n",
       "6eprc    1\n",
       "FnUMW    1\n",
       "GLIXL    1\n",
       "ehvt7    1\n",
       "Name: id, Length: 99990, dtype: int64"
      ]
     },
     "execution_count": 9,
     "metadata": {},
     "output_type": "execute_result"
    }
   ],
   "source": [
    "geo_data_0['id'].value_counts()"
   ]
  },
  {
   "cell_type": "code",
   "execution_count": 10,
   "metadata": {},
   "outputs": [
    {
     "data": {
      "text/plain": [
       "99990"
      ]
     },
     "execution_count": 10,
     "metadata": {},
     "output_type": "execute_result"
    }
   ],
   "source": [
    "geo_data_0 = geo_data_0.drop_duplicates (subset=['id'])\n",
    "geo_data_0.shape[0]"
   ]
  },
  {
   "cell_type": "code",
   "execution_count": 11,
   "metadata": {},
   "outputs": [
    {
     "data": {
      "text/plain": [
       "bfPNe    2\n",
       "5ltQ6    2\n",
       "LHZR0    2\n",
       "wt4Uk    2\n",
       "9qp5o    1\n",
       "        ..\n",
       "DM7PQ    1\n",
       "9gDCU    1\n",
       "rje8l    1\n",
       "D75Aj    1\n",
       "ruEPu    1\n",
       "Name: id, Length: 99996, dtype: int64"
      ]
     },
     "execution_count": 11,
     "metadata": {},
     "output_type": "execute_result"
    }
   ],
   "source": [
    "geo_data_1['id'].value_counts()"
   ]
  },
  {
   "cell_type": "code",
   "execution_count": 12,
   "metadata": {},
   "outputs": [
    {
     "data": {
      "text/plain": [
       "99996"
      ]
     },
     "execution_count": 12,
     "metadata": {},
     "output_type": "execute_result"
    }
   ],
   "source": [
    "geo_data_1 = geo_data_1.drop_duplicates (subset=['id'])\n",
    "geo_data_1.shape[0]"
   ]
  },
  {
   "cell_type": "code",
   "execution_count": 13,
   "metadata": {},
   "outputs": [
    {
     "data": {
      "text/plain": [
       "KUPhW    2\n",
       "Vcm5J    2\n",
       "VF7Jo    2\n",
       "xCHr8    2\n",
       "6lu5S    1\n",
       "        ..\n",
       "6pFVi    1\n",
       "1TiJb    1\n",
       "SQajn    1\n",
       "Jn94O    1\n",
       "A9MeJ    1\n",
       "Name: id, Length: 99996, dtype: int64"
      ]
     },
     "execution_count": 13,
     "metadata": {},
     "output_type": "execute_result"
    }
   ],
   "source": [
    "geo_data_2['id'].value_counts()"
   ]
  },
  {
   "cell_type": "code",
   "execution_count": 14,
   "metadata": {},
   "outputs": [
    {
     "data": {
      "text/plain": [
       "99996"
      ]
     },
     "execution_count": 14,
     "metadata": {},
     "output_type": "execute_result"
    }
   ],
   "source": [
    "geo_data_2 = geo_data_2.drop_duplicates (subset=['id'])\n",
    "geo_data_2.shape[0]"
   ]
  },
  {
   "cell_type": "markdown",
   "metadata": {},
   "source": [
    "В актуальных задачах наименования скважин не являются нужными, поэтому от них можно избавиться."
   ]
  },
  {
   "cell_type": "code",
   "execution_count": 15,
   "metadata": {},
   "outputs": [],
   "source": [
    "geo_data_0 = geo_data_0.drop(columns = ['id'])\n",
    "geo_data_1 = geo_data_1.drop(columns = ['id'])\n",
    "geo_data_2 = geo_data_2.drop(columns = ['id'])"
   ]
  },
  {
   "cell_type": "markdown",
   "metadata": {},
   "source": [
    "В исходнях данных стало слишком мало признаков, что может повлиять на качество предсказаний будущей модели. Поэтому решено ввести полиноминальные функции."
   ]
  },
  {
   "cell_type": "code",
   "execution_count": 16,
   "metadata": {},
   "outputs": [],
   "source": [
    "data_0 = geo_data_0\n",
    "data_1 = geo_data_1\n",
    "data_2 = geo_data_2"
   ]
  },
  {
   "cell_type": "code",
   "execution_count": 17,
   "metadata": {},
   "outputs": [
    {
     "data": {
      "text/html": [
       "<div>\n",
       "<style scoped>\n",
       "    .dataframe tbody tr th:only-of-type {\n",
       "        vertical-align: middle;\n",
       "    }\n",
       "\n",
       "    .dataframe tbody tr th {\n",
       "        vertical-align: top;\n",
       "    }\n",
       "\n",
       "    .dataframe thead th {\n",
       "        text-align: right;\n",
       "    }\n",
       "</style>\n",
       "<table border=\"1\" class=\"dataframe\">\n",
       "  <thead>\n",
       "    <tr style=\"text-align: right;\">\n",
       "      <th></th>\n",
       "      <th>f0</th>\n",
       "      <th>f1</th>\n",
       "      <th>f2</th>\n",
       "      <th>product</th>\n",
       "      <th>f0^2</th>\n",
       "      <th>f1^2</th>\n",
       "      <th>f2^2</th>\n",
       "      <th>f0*f1</th>\n",
       "      <th>f1*f2</th>\n",
       "      <th>f0*f2</th>\n",
       "    </tr>\n",
       "  </thead>\n",
       "  <tbody>\n",
       "    <tr>\n",
       "      <th>0</th>\n",
       "      <td>0.705745</td>\n",
       "      <td>-0.497823</td>\n",
       "      <td>1.221170</td>\n",
       "      <td>105.280062</td>\n",
       "      <td>0.498076</td>\n",
       "      <td>0.247827</td>\n",
       "      <td>1.491256</td>\n",
       "      <td>-0.351336</td>\n",
       "      <td>-0.607926</td>\n",
       "      <td>0.861835</td>\n",
       "    </tr>\n",
       "    <tr>\n",
       "      <th>1</th>\n",
       "      <td>1.334711</td>\n",
       "      <td>-0.340164</td>\n",
       "      <td>4.365080</td>\n",
       "      <td>73.037750</td>\n",
       "      <td>1.781454</td>\n",
       "      <td>0.115712</td>\n",
       "      <td>19.053926</td>\n",
       "      <td>-0.454021</td>\n",
       "      <td>-1.484844</td>\n",
       "      <td>5.826122</td>\n",
       "    </tr>\n",
       "    <tr>\n",
       "      <th>2</th>\n",
       "      <td>1.022732</td>\n",
       "      <td>0.151990</td>\n",
       "      <td>1.419926</td>\n",
       "      <td>85.265647</td>\n",
       "      <td>1.045981</td>\n",
       "      <td>0.023101</td>\n",
       "      <td>2.016191</td>\n",
       "      <td>0.155446</td>\n",
       "      <td>0.215815</td>\n",
       "      <td>1.452204</td>\n",
       "    </tr>\n",
       "    <tr>\n",
       "      <th>3</th>\n",
       "      <td>-0.032172</td>\n",
       "      <td>0.139033</td>\n",
       "      <td>2.978566</td>\n",
       "      <td>168.620776</td>\n",
       "      <td>0.001035</td>\n",
       "      <td>0.019330</td>\n",
       "      <td>8.871855</td>\n",
       "      <td>-0.004473</td>\n",
       "      <td>0.414118</td>\n",
       "      <td>-0.095825</td>\n",
       "    </tr>\n",
       "    <tr>\n",
       "      <th>4</th>\n",
       "      <td>1.988431</td>\n",
       "      <td>0.155413</td>\n",
       "      <td>4.751769</td>\n",
       "      <td>154.036647</td>\n",
       "      <td>3.953858</td>\n",
       "      <td>0.024153</td>\n",
       "      <td>22.579310</td>\n",
       "      <td>0.309027</td>\n",
       "      <td>0.738485</td>\n",
       "      <td>9.448565</td>\n",
       "    </tr>\n",
       "  </tbody>\n",
       "</table>\n",
       "</div>"
      ],
      "text/plain": [
       "         f0        f1        f2     product      f0^2      f1^2       f2^2  \\\n",
       "0  0.705745 -0.497823  1.221170  105.280062  0.498076  0.247827   1.491256   \n",
       "1  1.334711 -0.340164  4.365080   73.037750  1.781454  0.115712  19.053926   \n",
       "2  1.022732  0.151990  1.419926   85.265647  1.045981  0.023101   2.016191   \n",
       "3 -0.032172  0.139033  2.978566  168.620776  0.001035  0.019330   8.871855   \n",
       "4  1.988431  0.155413  4.751769  154.036647  3.953858  0.024153  22.579310   \n",
       "\n",
       "      f0*f1     f1*f2     f0*f2  \n",
       "0 -0.351336 -0.607926  0.861835  \n",
       "1 -0.454021 -1.484844  5.826122  \n",
       "2  0.155446  0.215815  1.452204  \n",
       "3 -0.004473  0.414118 -0.095825  \n",
       "4  0.309027  0.738485  9.448565  "
      ]
     },
     "execution_count": 17,
     "metadata": {},
     "output_type": "execute_result"
    }
   ],
   "source": [
    "data_0['f0^2'] = data_0['f0']**2\n",
    "data_0['f1^2'] = data_0['f1']**2\n",
    "data_0['f2^2'] = data_0['f2']**2\n",
    "data_0['f0*f1'] = data_0['f0']*data_0['f1']\n",
    "data_0['f1*f2'] = data_0['f1']*data_0['f2']\n",
    "data_0['f0*f2'] = data_0['f0']*data_0['f2']\n",
    "data_0.head()"
   ]
  },
  {
   "cell_type": "code",
   "execution_count": 18,
   "metadata": {},
   "outputs": [
    {
     "data": {
      "text/html": [
       "<div>\n",
       "<style scoped>\n",
       "    .dataframe tbody tr th:only-of-type {\n",
       "        vertical-align: middle;\n",
       "    }\n",
       "\n",
       "    .dataframe tbody tr th {\n",
       "        vertical-align: top;\n",
       "    }\n",
       "\n",
       "    .dataframe thead th {\n",
       "        text-align: right;\n",
       "    }\n",
       "</style>\n",
       "<table border=\"1\" class=\"dataframe\">\n",
       "  <thead>\n",
       "    <tr style=\"text-align: right;\">\n",
       "      <th></th>\n",
       "      <th>f0</th>\n",
       "      <th>f1</th>\n",
       "      <th>f2</th>\n",
       "      <th>product</th>\n",
       "      <th>f0^2</th>\n",
       "      <th>f1^2</th>\n",
       "      <th>f2^2</th>\n",
       "      <th>f0*f1</th>\n",
       "      <th>f1*f2</th>\n",
       "      <th>f0*f2</th>\n",
       "    </tr>\n",
       "  </thead>\n",
       "  <tbody>\n",
       "    <tr>\n",
       "      <th>0</th>\n",
       "      <td>-15.001348</td>\n",
       "      <td>-8.276000</td>\n",
       "      <td>-0.005876</td>\n",
       "      <td>3.179103</td>\n",
       "      <td>225.040447</td>\n",
       "      <td>68.492175</td>\n",
       "      <td>0.000035</td>\n",
       "      <td>124.151157</td>\n",
       "      <td>0.048630</td>\n",
       "      <td>0.088148</td>\n",
       "    </tr>\n",
       "    <tr>\n",
       "      <th>1</th>\n",
       "      <td>14.272088</td>\n",
       "      <td>-3.475083</td>\n",
       "      <td>0.999183</td>\n",
       "      <td>26.953261</td>\n",
       "      <td>203.692490</td>\n",
       "      <td>12.076203</td>\n",
       "      <td>0.998366</td>\n",
       "      <td>-49.596693</td>\n",
       "      <td>-3.472243</td>\n",
       "      <td>14.260424</td>\n",
       "    </tr>\n",
       "    <tr>\n",
       "      <th>2</th>\n",
       "      <td>6.263187</td>\n",
       "      <td>-5.948386</td>\n",
       "      <td>5.001160</td>\n",
       "      <td>134.766305</td>\n",
       "      <td>39.227516</td>\n",
       "      <td>35.383293</td>\n",
       "      <td>25.011603</td>\n",
       "      <td>-37.255855</td>\n",
       "      <td>-29.748830</td>\n",
       "      <td>31.323203</td>\n",
       "    </tr>\n",
       "    <tr>\n",
       "      <th>3</th>\n",
       "      <td>-13.081196</td>\n",
       "      <td>-11.506057</td>\n",
       "      <td>4.999415</td>\n",
       "      <td>137.945408</td>\n",
       "      <td>171.117696</td>\n",
       "      <td>132.389345</td>\n",
       "      <td>24.994149</td>\n",
       "      <td>150.512988</td>\n",
       "      <td>-57.523552</td>\n",
       "      <td>-65.398328</td>\n",
       "    </tr>\n",
       "    <tr>\n",
       "      <th>4</th>\n",
       "      <td>12.702195</td>\n",
       "      <td>-8.147433</td>\n",
       "      <td>5.004363</td>\n",
       "      <td>134.766305</td>\n",
       "      <td>161.345755</td>\n",
       "      <td>66.380671</td>\n",
       "      <td>25.043645</td>\n",
       "      <td>-103.490287</td>\n",
       "      <td>-40.772710</td>\n",
       "      <td>63.566388</td>\n",
       "    </tr>\n",
       "  </tbody>\n",
       "</table>\n",
       "</div>"
      ],
      "text/plain": [
       "          f0         f1        f2     product        f0^2        f1^2  \\\n",
       "0 -15.001348  -8.276000 -0.005876    3.179103  225.040447   68.492175   \n",
       "1  14.272088  -3.475083  0.999183   26.953261  203.692490   12.076203   \n",
       "2   6.263187  -5.948386  5.001160  134.766305   39.227516   35.383293   \n",
       "3 -13.081196 -11.506057  4.999415  137.945408  171.117696  132.389345   \n",
       "4  12.702195  -8.147433  5.004363  134.766305  161.345755   66.380671   \n",
       "\n",
       "        f2^2       f0*f1      f1*f2      f0*f2  \n",
       "0   0.000035  124.151157   0.048630   0.088148  \n",
       "1   0.998366  -49.596693  -3.472243  14.260424  \n",
       "2  25.011603  -37.255855 -29.748830  31.323203  \n",
       "3  24.994149  150.512988 -57.523552 -65.398328  \n",
       "4  25.043645 -103.490287 -40.772710  63.566388  "
      ]
     },
     "execution_count": 18,
     "metadata": {},
     "output_type": "execute_result"
    }
   ],
   "source": [
    "data_1['f0^2'] = data_1['f0']**2\n",
    "data_1['f1^2'] = data_1['f1']**2\n",
    "data_1['f2^2'] = data_1['f2']**2\n",
    "data_1['f0*f1'] = data_1['f0']*data_1['f1']\n",
    "data_1['f1*f2'] = data_1['f1']*data_1['f2']\n",
    "data_1['f0*f2'] = data_1['f0']*data_1['f2']\n",
    "data_1.head()"
   ]
  },
  {
   "cell_type": "code",
   "execution_count": 19,
   "metadata": {},
   "outputs": [
    {
     "data": {
      "text/html": [
       "<div>\n",
       "<style scoped>\n",
       "    .dataframe tbody tr th:only-of-type {\n",
       "        vertical-align: middle;\n",
       "    }\n",
       "\n",
       "    .dataframe tbody tr th {\n",
       "        vertical-align: top;\n",
       "    }\n",
       "\n",
       "    .dataframe thead th {\n",
       "        text-align: right;\n",
       "    }\n",
       "</style>\n",
       "<table border=\"1\" class=\"dataframe\">\n",
       "  <thead>\n",
       "    <tr style=\"text-align: right;\">\n",
       "      <th></th>\n",
       "      <th>f0</th>\n",
       "      <th>f1</th>\n",
       "      <th>f2</th>\n",
       "      <th>product</th>\n",
       "      <th>f0^2</th>\n",
       "      <th>f1^2</th>\n",
       "      <th>f2^2</th>\n",
       "      <th>f0*f1</th>\n",
       "      <th>f1*f2</th>\n",
       "      <th>f0*f2</th>\n",
       "    </tr>\n",
       "  </thead>\n",
       "  <tbody>\n",
       "    <tr>\n",
       "      <th>0</th>\n",
       "      <td>-1.146987</td>\n",
       "      <td>0.963328</td>\n",
       "      <td>-0.828965</td>\n",
       "      <td>27.758673</td>\n",
       "      <td>1.315579</td>\n",
       "      <td>0.928001</td>\n",
       "      <td>0.687183</td>\n",
       "      <td>-1.104925</td>\n",
       "      <td>-0.798565</td>\n",
       "      <td>0.950812</td>\n",
       "    </tr>\n",
       "    <tr>\n",
       "      <th>1</th>\n",
       "      <td>0.262778</td>\n",
       "      <td>0.269839</td>\n",
       "      <td>-2.530187</td>\n",
       "      <td>56.069697</td>\n",
       "      <td>0.069052</td>\n",
       "      <td>0.072813</td>\n",
       "      <td>6.401844</td>\n",
       "      <td>0.070908</td>\n",
       "      <td>-0.682743</td>\n",
       "      <td>-0.664877</td>\n",
       "    </tr>\n",
       "    <tr>\n",
       "      <th>2</th>\n",
       "      <td>0.194587</td>\n",
       "      <td>0.289035</td>\n",
       "      <td>-5.586433</td>\n",
       "      <td>62.871910</td>\n",
       "      <td>0.037864</td>\n",
       "      <td>0.083541</td>\n",
       "      <td>31.208231</td>\n",
       "      <td>0.056243</td>\n",
       "      <td>-1.614675</td>\n",
       "      <td>-1.087049</td>\n",
       "    </tr>\n",
       "    <tr>\n",
       "      <th>3</th>\n",
       "      <td>2.236060</td>\n",
       "      <td>-0.553760</td>\n",
       "      <td>0.930038</td>\n",
       "      <td>114.572842</td>\n",
       "      <td>4.999963</td>\n",
       "      <td>0.306650</td>\n",
       "      <td>0.864970</td>\n",
       "      <td>-1.238240</td>\n",
       "      <td>-0.515018</td>\n",
       "      <td>2.079620</td>\n",
       "    </tr>\n",
       "    <tr>\n",
       "      <th>4</th>\n",
       "      <td>-0.515993</td>\n",
       "      <td>1.716266</td>\n",
       "      <td>5.899011</td>\n",
       "      <td>149.600746</td>\n",
       "      <td>0.266249</td>\n",
       "      <td>2.945567</td>\n",
       "      <td>34.798336</td>\n",
       "      <td>-0.885581</td>\n",
       "      <td>10.124270</td>\n",
       "      <td>-3.043848</td>\n",
       "    </tr>\n",
       "  </tbody>\n",
       "</table>\n",
       "</div>"
      ],
      "text/plain": [
       "         f0        f1        f2     product      f0^2      f1^2       f2^2  \\\n",
       "0 -1.146987  0.963328 -0.828965   27.758673  1.315579  0.928001   0.687183   \n",
       "1  0.262778  0.269839 -2.530187   56.069697  0.069052  0.072813   6.401844   \n",
       "2  0.194587  0.289035 -5.586433   62.871910  0.037864  0.083541  31.208231   \n",
       "3  2.236060 -0.553760  0.930038  114.572842  4.999963  0.306650   0.864970   \n",
       "4 -0.515993  1.716266  5.899011  149.600746  0.266249  2.945567  34.798336   \n",
       "\n",
       "      f0*f1      f1*f2     f0*f2  \n",
       "0 -1.104925  -0.798565  0.950812  \n",
       "1  0.070908  -0.682743 -0.664877  \n",
       "2  0.056243  -1.614675 -1.087049  \n",
       "3 -1.238240  -0.515018  2.079620  \n",
       "4 -0.885581  10.124270 -3.043848  "
      ]
     },
     "execution_count": 19,
     "metadata": {},
     "output_type": "execute_result"
    }
   ],
   "source": [
    "data_2['f0^2'] = data_2['f0']**2\n",
    "data_2['f1^2'] = data_2['f1']**2\n",
    "data_2['f2^2'] = data_2['f2']**2\n",
    "data_2['f0*f1'] = data_2['f0']*data_2['f1']\n",
    "data_2['f1*f2'] = data_2['f1']*data_2['f2']\n",
    "data_2['f0*f2'] = data_2['f0']*data_2['f2']\n",
    "data_2.head()"
   ]
  },
  {
   "cell_type": "markdown",
   "metadata": {},
   "source": [
    "На данном этапе следует визуализировать информацию для более наглядной демонстрации особенностей признаков и целевого признака."
   ]
  },
  {
   "cell_type": "code",
   "execution_count": 20,
   "metadata": {},
   "outputs": [
    {
     "data": {
      "text/plain": [
       "array([[<AxesSubplot:title={'center':'f0'}>,\n",
       "        <AxesSubplot:title={'center':'f1'}>,\n",
       "        <AxesSubplot:title={'center':'f2'}>],\n",
       "       [<AxesSubplot:title={'center':'product'}>,\n",
       "        <AxesSubplot:title={'center':'f0^2'}>,\n",
       "        <AxesSubplot:title={'center':'f1^2'}>],\n",
       "       [<AxesSubplot:title={'center':'f2^2'}>,\n",
       "        <AxesSubplot:title={'center':'f0*f1'}>,\n",
       "        <AxesSubplot:title={'center':'f1*f2'}>],\n",
       "       [<AxesSubplot:title={'center':'f0*f2'}>, <AxesSubplot:>,\n",
       "        <AxesSubplot:>]], dtype=object)"
      ]
     },
     "execution_count": 20,
     "metadata": {},
     "output_type": "execute_result"
    },
    {
     "data": {
      "image/png": "[encoded data removed]",
      "text/plain": [
       "<Figure size 432x288 with 12 Axes>"
      ]
     },
     "metadata": {
      "needs_background": "light"
     },
     "output_type": "display_data"
    }
   ],
   "source": [
    "data_0.hist()"
   ]
  },
  {
   "cell_type": "code",
   "execution_count": 21,
   "metadata": {},
   "outputs": [
    {
     "data": {
      "text/plain": [
       "array([[<AxesSubplot:title={'center':'f0'}>,\n",
       "        <AxesSubplot:title={'center':'f1'}>,\n",
       "        <AxesSubplot:title={'center':'f2'}>],\n",
       "       [<AxesSubplot:title={'center':'product'}>,\n",
       "        <AxesSubplot:title={'center':'f0^2'}>,\n",
       "        <AxesSubplot:title={'center':'f1^2'}>],\n",
       "       [<AxesSubplot:title={'center':'f2^2'}>,\n",
       "        <AxesSubplot:title={'center':'f0*f1'}>,\n",
       "        <AxesSubplot:title={'center':'f1*f2'}>],\n",
       "       [<AxesSubplot:title={'center':'f0*f2'}>, <AxesSubplot:>,\n",
       "        <AxesSubplot:>]], dtype=object)"
      ]
     },
     "execution_count": 21,
     "metadata": {},
     "output_type": "execute_result"
    },
    {
     "data": {
      "image/png": "[encoded data removed]",
      "text/plain": [
       "<Figure size 432x288 with 12 Axes>"
      ]
     },
     "metadata": {
      "needs_background": "light"
     },
     "output_type": "display_data"
    }
   ],
   "source": [
    "data_1.hist()"
   ]
  },
  {
   "cell_type": "code",
   "execution_count": 22,
   "metadata": {},
   "outputs": [
    {
     "data": {
      "text/plain": [
       "array([[<AxesSubplot:title={'center':'f0'}>,\n",
       "        <AxesSubplot:title={'center':'f1'}>,\n",
       "        <AxesSubplot:title={'center':'f2'}>],\n",
       "       [<AxesSubplot:title={'center':'product'}>,\n",
       "        <AxesSubplot:title={'center':'f0^2'}>,\n",
       "        <AxesSubplot:title={'center':'f1^2'}>],\n",
       "       [<AxesSubplot:title={'center':'f2^2'}>,\n",
       "        <AxesSubplot:title={'center':'f0*f1'}>,\n",
       "        <AxesSubplot:title={'center':'f1*f2'}>],\n",
       "       [<AxesSubplot:title={'center':'f0*f2'}>, <AxesSubplot:>,\n",
       "        <AxesSubplot:>]], dtype=object)"
      ]
     },
     "execution_count": 22,
     "metadata": {},
     "output_type": "execute_result"
    },
    {
     "data": {
      "image/png": "[encoded data removed]",
      "text/plain": [
       "<Figure size 432x288 with 12 Axes>"
      ]
     },
     "metadata": {
      "needs_background": "light"
     },
     "output_type": "display_data"
    }
   ],
   "source": [
    "data_2.hist()"
   ]
  },
  {
   "cell_type": "markdown",
   "metadata": {},
   "source": [
    "В 3х наборах данных по регионах остались только колличественные признаки. Следует проверить диапазон их значений."
   ]
  },
  {
   "cell_type": "code",
   "execution_count": 23,
   "metadata": {},
   "outputs": [
    {
     "data": {
      "text/plain": [
       "3.77093611688122"
      ]
     },
     "execution_count": 23,
     "metadata": {},
     "output_type": "execute_result"
    }
   ],
   "source": [
    "razn_f0_0 = data_0['f0'].max() - data_0['f0'].min()\n",
    "razn_f0_0"
   ]
  },
  {
   "cell_type": "code",
   "execution_count": 24,
   "metadata": {},
   "outputs": [
    {
     "data": {
      "text/plain": [
       "2.1919878308127134"
      ]
     },
     "execution_count": 24,
     "metadata": {},
     "output_type": "execute_result"
    }
   ],
   "source": [
    "razn_f1_0 = data_0['f1'].max() - data_0['f1'].min()\n",
    "razn_f1_0"
   ]
  },
  {
   "cell_type": "code",
   "execution_count": 25,
   "metadata": {},
   "outputs": [
    {
     "data": {
      "text/plain": [
       "28.092118125758724"
      ]
     },
     "execution_count": 25,
     "metadata": {},
     "output_type": "execute_result"
    }
   ],
   "source": [
    "razn_f2_0 = data_0['f2'].max() - data_0['f2'].min()\n",
    "razn_f2_0"
   ]
  },
  {
   "cell_type": "code",
   "execution_count": 26,
   "metadata": {},
   "outputs": [
    {
     "data": {
      "text/plain": [
       "61.031330633071406"
      ]
     },
     "execution_count": 26,
     "metadata": {},
     "output_type": "execute_result"
    }
   ],
   "source": [
    "razn_f0_1 = data_1['f0'].max() - data_1['f0'].min()\n",
    "razn_f0_1"
   ]
  },
  {
   "cell_type": "code",
   "execution_count": 27,
   "metadata": {},
   "outputs": [
    {
     "data": {
      "text/plain": [
       "45.09266064207663"
      ]
     },
     "execution_count": 27,
     "metadata": {},
     "output_type": "execute_result"
    }
   ],
   "source": [
    "razn_f1_1 = data_1['f1'].max() - data_1['f1'].min()\n",
    "razn_f1_1"
   ]
  },
  {
   "cell_type": "code",
   "execution_count": 28,
   "metadata": {},
   "outputs": [
    {
     "data": {
      "text/plain": [
       "5.037864641936482"
      ]
     },
     "execution_count": 28,
     "metadata": {},
     "output_type": "execute_result"
    }
   ],
   "source": [
    "razn_f2_1 = data_1['f2'].max() - data_1['f2'].min()\n",
    "razn_f2_1"
   ]
  },
  {
   "cell_type": "code",
   "execution_count": 29,
   "metadata": {},
   "outputs": [
    {
     "data": {
      "text/plain": [
       "15.998266104007811"
      ]
     },
     "execution_count": 29,
     "metadata": {},
     "output_type": "execute_result"
    }
   ],
   "source": [
    "razn_f0_2 = data_2['f0'].max() - data_2['f0'].min()\n",
    "razn_f0_2"
   ]
  },
  {
   "cell_type": "code",
   "execution_count": 30,
   "metadata": {},
   "outputs": [
    {
     "data": {
      "text/plain": [
       "14.928821030951504"
      ]
     },
     "execution_count": 30,
     "metadata": {},
     "output_type": "execute_result"
    }
   ],
   "source": [
    "razn_f1_2 = data_2['f1'].max() - data_2['f1'].min()\n",
    "razn_f1_2"
   ]
  },
  {
   "cell_type": "code",
   "execution_count": 31,
   "metadata": {},
   "outputs": [
    {
     "data": {
      "text/plain": [
       "28.70973660017651"
      ]
     },
     "execution_count": 31,
     "metadata": {},
     "output_type": "execute_result"
    }
   ],
   "source": [
    "razn_f2_2 = data_2['f2'].max() - data_2['f2'].min()\n",
    "razn_f2_2"
   ]
  },
  {
   "cell_type": "markdown",
   "metadata": {},
   "source": [
    "Чтобы какой-то признак не воспринимался моделью как более значимый из-за более широкого диапазона и в принципе более высоких значений, следует их масштабировать методом стандартизации данных наборы данных по 3м регионам. "
   ]
  },
  {
   "cell_type": "code",
   "execution_count": 32,
   "metadata": {},
   "outputs": [],
   "source": [
    "data_train_0, data_val_0 = train_test_split(data_0, test_size=0.25, random_state=12345)\n",
    "data_train_1, data_val_1 = train_test_split(data_1, test_size=0.25, random_state=12345)\n",
    "data_train_2, data_val_2 = train_test_split(data_2, test_size=0.25, random_state=12345)"
   ]
  },
  {
   "cell_type": "code",
   "execution_count": 33,
   "metadata": {},
   "outputs": [],
   "source": [
    "features_train_0 = data_train_0.drop(columns = ['product'])\n",
    "target_train_0 = data_train_0['product']\n",
    "\n",
    "features_val_0 = data_val_0.drop(columns = ['product'])\n",
    "target_val_0 = data_val_0['product']"
   ]
  },
  {
   "cell_type": "code",
   "execution_count": 34,
   "metadata": {},
   "outputs": [],
   "source": [
    "features_train_1 = data_train_1.drop(columns = ['product'])\n",
    "target_train_1 = data_train_1['product']\n",
    "\n",
    "features_val_1 = data_val_1.drop(columns = ['product'])\n",
    "target_val_1 = data_val_1['product']"
   ]
  },
  {
   "cell_type": "code",
   "execution_count": 35,
   "metadata": {},
   "outputs": [],
   "source": [
    "features_train_2 = data_train_2.drop(columns = ['product'])\n",
    "target_train_2 = data_train_2['product']\n",
    "\n",
    "features_val_2 = data_val_2.drop(columns = ['product'])\n",
    "target_val_2 = data_val_2['product']"
   ]
  },
  {
   "cell_type": "code",
   "execution_count": 36,
   "metadata": {},
   "outputs": [
    {
     "name": "stdout",
     "output_type": "stream",
     "text": [
      "(74992, 9)\n",
      "(24998, 9)\n"
     ]
    }
   ],
   "source": [
    "scaler = StandardScaler()\n",
    "scaler.fit(features_train_0)\n",
    "features_train_0 = scaler.transform(features_train_0)\n",
    "features_val_0 = scaler.transform(features_val_0)\n",
    "\n",
    "print(features_train_0.shape)\n",
    "print(features_val_0.shape)"
   ]
  },
  {
   "cell_type": "code",
   "execution_count": 37,
   "metadata": {},
   "outputs": [
    {
     "name": "stdout",
     "output_type": "stream",
     "text": [
      "(74997, 9)\n",
      "(24999, 9)\n"
     ]
    }
   ],
   "source": [
    "scaler = StandardScaler()\n",
    "scaler.fit(features_train_1)\n",
    "features_train_1 = scaler.transform(features_train_1)\n",
    "features_val_1 = scaler.transform(features_val_1)\n",
    "\n",
    "print(features_train_1.shape)\n",
    "print(features_val_1.shape)"
   ]
  },
  {
   "cell_type": "code",
   "execution_count": 38,
   "metadata": {},
   "outputs": [
    {
     "name": "stdout",
     "output_type": "stream",
     "text": [
      "(74997, 9)\n",
      "(24999, 9)\n"
     ]
    }
   ],
   "source": [
    "scaler = StandardScaler()\n",
    "scaler.fit(features_train_2)\n",
    "features_train_2 = scaler.transform(features_train_2)\n",
    "features_val_2 = scaler.transform(features_val_2)\n",
    "\n",
    "print(features_train_2.shape)\n",
    "print(features_val_2.shape)"
   ]
  },
  {
   "cell_type": "markdown",
   "metadata": {},
   "source": [
    "**Вывод:** в ходе этапа загрузки и первичного анализа исходных данных по 3м регионам было обнаружено:  \n",
    "- отсутствие пропусков  \n",
    "- отсутсвие явных дубликатов \n",
    "- присутствие неявных дубликатов  \n",
    "- нормальное распределение данных в 1 и 3 регионе  \n",
    "- во 2 регионе присутсвуют несколько пиков в данных по признаку f2 и объему добычи нефти (в последнем чаще встречаются значения близкие к 0 и больше 100 тыс.)\n",
    "\n",
    "Так же было произведено удаление неявных признаков, столбца с наименованиями скважин в 3х регионах, масштабирование признаков для модели линейной регрессии, а также введение новых признаков для улучшения качества будущей модели."
   ]
  },
  {
   "cell_type": "markdown",
   "metadata": {},
   "source": [
    "## Обучение и проверка модели"
   ]
  },
  {
   "cell_type": "markdown",
   "metadata": {},
   "source": [
    "На данном этапе следует обучить предсказывать объем добычи нефти и проверить модель по каждому региону. Для актуальных задач и типа признаков подходит модель линейной регрессии."
   ]
  },
  {
   "cell_type": "code",
   "execution_count": 39,
   "metadata": {},
   "outputs": [
    {
     "name": "stdout",
     "output_type": "stream",
     "text": [
      "Средний запас сырья в этом регионе: 92.15820490940044\n",
      "RMSE модели на валидационной выборке: 37.852894865659074\n"
     ]
    }
   ],
   "source": [
    "model_0 = LinearRegression()\n",
    "model_0.fit(features_train_0, target_train_0)\n",
    "predict_0 = model_0.predict(features_val_0)\n",
    "print('Средний запас сырья в этом регионе:', target_val_0.mean())\n",
    "print('RMSE модели на валидационной выборке:', (mean_squared_error(target_val_0, predict_0)**0.5))"
   ]
  },
  {
   "cell_type": "code",
   "execution_count": 40,
   "metadata": {},
   "outputs": [
    {
     "name": "stdout",
     "output_type": "stream",
     "text": [
      "Средний запас сырья в этом регионе: 69.18604400957675\n",
      "RMSE модели на валидационной выборке: 0.8921493353000904\n"
     ]
    }
   ],
   "source": [
    "model_1 = LinearRegression()\n",
    "model_1.fit(features_train_1, target_train_1)\n",
    "predict_1 = model_1.predict(features_val_1)\n",
    "print('Средний запас сырья в этом регионе:', target_val_1.mean())\n",
    "print('RMSE модели на валидационной выборке:', (mean_squared_error(target_val_1, predict_1)**0.5))"
   ]
  },
  {
   "cell_type": "code",
   "execution_count": 41,
   "metadata": {},
   "outputs": [
    {
     "name": "stdout",
     "output_type": "stream",
     "text": [
      "Средний запас сырья в этом регионе: 94.7851093536914\n",
      "RMSE модели на валидационной выборке: 38.81679016867149\n"
     ]
    }
   ],
   "source": [
    "model_2 = LinearRegression()\n",
    "model_2.fit(features_train_2, target_train_2)\n",
    "predict_2 = model_2.predict(features_val_2)\n",
    "print('Средний запас сырья в этом регионе:', target_val_2.mean())\n",
    "print('RMSE модели на валидационной выборке:', (mean_squared_error(target_val_2, predict_2)**0.5))"
   ]
  },
  {
   "cell_type": "markdown",
   "metadata": {},
   "source": [
    "Сложно оценить, насколько данный показатель RMSE приемлем для данных выборок, поэтому я введу бейзлайн"
   ]
  },
  {
   "cell_type": "code",
   "execution_count": 42,
   "metadata": {},
   "outputs": [
    {
     "name": "stdout",
     "output_type": "stream",
     "text": [
      "RMSE модели на валидационной выборке: 37.852894865659074\n"
     ]
    }
   ],
   "source": [
    "dummy_mean_0 = DummyRegressor(strategy = 'mean').fit(features_train_0, target_train_0)\n",
    "predict_dum_0 = dummy_mean_0.predict(features_val_0)\n",
    "print('RMSE модели на валидационной выборке:', (mean_squared_error(target_val_0, predict_0)**0.5))"
   ]
  },
  {
   "cell_type": "code",
   "execution_count": 43,
   "metadata": {},
   "outputs": [
    {
     "name": "stdout",
     "output_type": "stream",
     "text": [
      "RMSE модели на валидационной выборке: 0.8921493353000904\n"
     ]
    }
   ],
   "source": [
    "dummy_mean_1 = DummyRegressor(strategy = 'mean').fit(features_train_1, target_train_1)\n",
    "predict_dum_1 = dummy_mean_1.predict(features_val_1)\n",
    "print('RMSE модели на валидационной выборке:', (mean_squared_error(target_val_1, predict_1)**0.5))"
   ]
  },
  {
   "cell_type": "code",
   "execution_count": 44,
   "metadata": {},
   "outputs": [
    {
     "name": "stdout",
     "output_type": "stream",
     "text": [
      "RMSE модели на валидационной выборке: 38.81679016867149\n"
     ]
    }
   ],
   "source": [
    "dummy_mean_2 = DummyRegressor(strategy = 'mean').fit(features_train_2, target_train_2)\n",
    "predict_dum_2 = dummy_mean_2.predict(features_val_2)\n",
    "print('RMSE модели на валидационной выборке:', (mean_squared_error(target_val_2, predict_2)**0.5))"
   ]
  },
  {
   "cell_type": "markdown",
   "metadata": {},
   "source": [
    "**Вывод:** На данном этапе было обучено 3 модели линейной регрессии (по каждому региону добычи) для того, чтобы предсказать объем добытой нефти. Корень из среднеквадратической ошибки вычислений модели оказался различным для каждого региона - в 1м она составила приблизительно 38 тысяч баррелей, во 2м и 3м  0.9 и 39 тысяч соответственно. Поскольку RMSE у модели линейной регрессии и дамми регрессии разные, а точнее RMSE у модели линейной регрессии меньше, поэтому можно можно считать, что RMSE у модели линейной регрессии можно считать приемлемым. Однако, на основании фактов можно сделать вывод, что во 2м регионе модель справилась лучше всего. "
   ]
  },
  {
   "cell_type": "markdown",
   "metadata": {},
   "source": [
    "## Подготовка к расчёту прибыли"
   ]
  },
  {
   "cell_type": "markdown",
   "metadata": {},
   "source": [
    "На данном этапе я планирую ввести константные значения показателей, которые будут нужны для рассчета прибыли и рисков:  \n",
    "- бюджет на разработку скважин в регионе  \n",
    "- доход с одной единицы продукта  \n",
    "- заданное количество скважин в регионе  \n",
    "- количество лучших скважин. \n",
    "- количество выборок для Bootstrap\n",
    "- критическая вероятность убытков"
   ]
  },
  {
   "cell_type": "code",
   "execution_count": 45,
   "metadata": {},
   "outputs": [],
   "source": [
    "BUDGET = 10_000_000_000\n",
    "TH_BUR = 450_000\n",
    "ITOG_SKVAG = 200\n",
    "NUMBER = 500\n",
    "ITERATIONS = 1000\n",
    "CRIT = 0.025"
   ]
  },
  {
   "cell_type": "code",
   "execution_count": 46,
   "metadata": {},
   "outputs": [
    {
     "data": {
      "text/plain": [
       "111.11111111111111"
      ]
     },
     "execution_count": 46,
     "metadata": {},
     "output_type": "execute_result"
    }
   ],
   "source": [
    "#достаточный объём сырья для безубыточной разработки новой скважины\n",
    "POROG = BUDGET/ITOG_SKVAG/TH_BUR\n",
    "POROG"
   ]
  },
  {
   "cell_type": "markdown",
   "metadata": {},
   "source": [
    "**Вывод:** чтобы новая скважина была безубыточна - нужно, чтобы она производила 111 тыс баррелей нефти."
   ]
  },
  {
   "cell_type": "markdown",
   "metadata": {},
   "source": [
    "Теперь стоит сравнить средний запас каждого региона и оценить, насколько скважина безубыточна в том или ином регионе. "
   ]
  },
  {
   "cell_type": "code",
   "execution_count": 47,
   "metadata": {},
   "outputs": [
    {
     "data": {
      "text/plain": [
       "92.79073462772622"
      ]
     },
     "execution_count": 47,
     "metadata": {},
     "output_type": "execute_result"
    }
   ],
   "source": [
    "predict_0.mean()"
   ]
  },
  {
   "cell_type": "code",
   "execution_count": 48,
   "metadata": {},
   "outputs": [
    {
     "data": {
      "text/plain": [
       "69.17825040751332"
      ]
     },
     "execution_count": 48,
     "metadata": {},
     "output_type": "execute_result"
    }
   ],
   "source": [
    "predict_1.mean()"
   ]
  },
  {
   "cell_type": "code",
   "execution_count": 49,
   "metadata": {},
   "outputs": [
    {
     "data": {
      "text/plain": [
       "94.78182766102707"
      ]
     },
     "execution_count": 49,
     "metadata": {},
     "output_type": "execute_result"
    }
   ],
   "source": [
    "predict_2.mean()"
   ]
  },
  {
   "cell_type": "markdown",
   "metadata": {},
   "source": [
    "**Вывод:** ни один из регионов не удовлетворяет условию безубыточности - средний запас нефти меньше, чем 111 баррелей. Однако, следует дальше поссмотреть на то, какой доход они принесут и рассчитать прибыль и риски на следуеющем этапе."
   ]
  },
  {
   "cell_type": "markdown",
   "metadata": {},
   "source": [
    "## Расчёт прибыли и рисков "
   ]
  },
  {
   "cell_type": "markdown",
   "metadata": {},
   "source": [
    "Далее я создам функцию рассчета прибыли, которая принимает на вход таргетные значения объема нефти, предсказанные значения и нужное количество скважин"
   ]
  },
  {
   "cell_type": "code",
   "execution_count": 50,
   "metadata": {},
   "outputs": [],
   "source": [
    "state = np.random.RandomState(12345)\n",
    "def razn(target, predict):\n",
    "    predict = pd.Series(predict, index=target.index)\n",
    "    predict = predict.sample(NUMBER,replace = True, random_state=state)\n",
    "    sort_predict = predict.sort_values(ascending = False)\n",
    "    product_sum = target[sort_predict.index][:ITOG_SKVAG].sum()\n",
    "    fin_prod = product_sum*TH_BUR\n",
    "    is_win = fin_prod - BUDGET\n",
    "    return product_sum, is_win"
   ]
  },
  {
   "cell_type": "markdown",
   "metadata": {},
   "source": [
    "Далее я рассчитаю примерную прибыль в каждом регионе."
   ]
  },
  {
   "cell_type": "code",
   "execution_count": 51,
   "metadata": {},
   "outputs": [
    {
     "name": "stdout",
     "output_type": "stream",
     "text": [
      "Объем производимого сырья в 1 регионе 23749.157138100203\n",
      "Прибыль в 1 регионе 276226098.6587887\n"
     ]
    }
   ],
   "source": [
    "print('Объем производимого сырья в 1 регионе', razn(target_val_0, predict_0)[0])\n",
    "print('Прибыль в 1 регионе', razn(target_val_0, predict_0)[1])"
   ]
  },
  {
   "cell_type": "code",
   "execution_count": 52,
   "metadata": {},
   "outputs": [
    {
     "name": "stdout",
     "output_type": "stream",
     "text": [
      "Объем производимого сырья в 2 регионе 23234.678562147317\n",
      "Прибыль в 2 регионе 426371431.3859291\n"
     ]
    }
   ],
   "source": [
    "print('Объем производимого сырья в 2 регионе', razn(target_val_1, predict_1)[0])\n",
    "print('Прибыль в 2 регионе', razn(target_val_1, predict_1)[1])"
   ]
  },
  {
   "cell_type": "code",
   "execution_count": 53,
   "metadata": {},
   "outputs": [
    {
     "name": "stdout",
     "output_type": "stream",
     "text": [
      "Объем производимого сырья в 3 регионе 22693.74735758098\n",
      "Прибыль в 3 регионе 602103859.458952\n"
     ]
    }
   ],
   "source": [
    "print('Объем производимого сырья в 3 регионе', razn(target_val_2, predict_2)[0])\n",
    "print('Прибыль в 3 регионе', razn(target_val_2, predict_2)[1])"
   ]
  },
  {
   "cell_type": "code",
   "execution_count": 54,
   "metadata": {},
   "outputs": [],
   "source": [
    "def bootstrap(target, predict, iterations, number):\n",
    "    for_boostrap = []\n",
    "    for i in range(iterations):\n",
    "        for_boostrap.append(razn(target, predict)[1])\n",
    "    for_boostrap = pd.Series(for_boostrap)\n",
    "    mean_income = for_boostrap.mean()\n",
    "    lower = for_boostrap.quantile(0.025)\n",
    "    ceil_q = for_boostrap.quantile(0.975)\n",
    "    risk = (for_boostrap[for_boostrap < 0].count() / for_boostrap.count()) * 100\n",
    "    print('Средняя прибыль:', round(mean_income, 1))\n",
    "    print('Нижняя граница:', round(lower, 1))\n",
    "    print('Верхняя граница:', round(ceil_q, 1))\n",
    "    print('Риск убытков:', risk, '%')\n",
    "    return for_boostrap"
   ]
  },
  {
   "cell_type": "code",
   "execution_count": 55,
   "metadata": {},
   "outputs": [
    {
     "name": "stdout",
     "output_type": "stream",
     "text": [
      "Средняя прибыль: 378836717.9\n",
      "Нижняя граница: -142318212.3\n",
      "Верхняя граница: 893205230.4\n",
      "Риск убытков: 7.6 %\n"
     ]
    },
    {
     "data": {
      "text/plain": [
       "0      4.622369e+08\n",
       "1      7.321594e+08\n",
       "2      7.870180e+08\n",
       "3      2.141406e+08\n",
       "4      4.106207e+08\n",
       "           ...     \n",
       "995    4.835627e+08\n",
       "996    6.291683e+08\n",
       "997    1.629624e+08\n",
       "998   -9.331378e+07\n",
       "999   -9.959520e+07\n",
       "Length: 1000, dtype: float64"
      ]
     },
     "execution_count": 55,
     "metadata": {},
     "output_type": "execute_result"
    }
   ],
   "source": [
    "bootstrap(target_val_0, predict_0, ITERATIONS, ITOG_SKVAG)"
   ]
  },
  {
   "cell_type": "code",
   "execution_count": 56,
   "metadata": {},
   "outputs": [
    {
     "name": "stdout",
     "output_type": "stream",
     "text": [
      "Средняя прибыль: 479464524.8\n",
      "Нижняя граница: 75279808.2\n",
      "Верхняя граница: 917953817.7\n",
      "Риск убытков: 0.6 %\n"
     ]
    },
    {
     "data": {
      "text/plain": [
       "0      5.576131e+08\n",
       "1      2.900916e+08\n",
       "2      6.468076e+08\n",
       "3      6.816259e+07\n",
       "4      6.945771e+08\n",
       "           ...     \n",
       "995    4.527442e+08\n",
       "996    4.912459e+08\n",
       "997    6.125355e+08\n",
       "998    4.626961e+08\n",
       "999    4.727103e+08\n",
       "Length: 1000, dtype: float64"
      ]
     },
     "execution_count": 56,
     "metadata": {},
     "output_type": "execute_result"
    }
   ],
   "source": [
    "bootstrap(target_val_1, predict_1, ITERATIONS, ITOG_SKVAG)"
   ]
  },
  {
   "cell_type": "code",
   "execution_count": 57,
   "metadata": {},
   "outputs": [
    {
     "name": "stdout",
     "output_type": "stream",
     "text": [
      "Средняя прибыль: 531599512.1\n",
      "Нижняя граница: -4566533.4\n",
      "Верхняя граница: 997263380.2\n",
      "Риск убытков: 2.7 %\n"
     ]
    },
    {
     "data": {
      "text/plain": [
       "0      4.272217e+08\n",
       "1      7.479210e+08\n",
       "2      6.381898e+08\n",
       "3      3.471525e+08\n",
       "4      4.229478e+08\n",
       "           ...     \n",
       "995    4.711911e+08\n",
       "996    5.699326e+08\n",
       "997    4.184758e+08\n",
       "998    8.872748e+08\n",
       "999    8.559566e+07\n",
       "Length: 1000, dtype: float64"
      ]
     },
     "execution_count": 57,
     "metadata": {},
     "output_type": "execute_result"
    }
   ],
   "source": [
    "bootstrap(target_val_2, predict_2, ITERATIONS, ITOG_SKVAG)"
   ]
  },
  {
   "cell_type": "markdown",
   "metadata": {},
   "source": [
    "**Вывод:** \n",
    "- На основании подготовленной модели линейной регрессии с введенными полиноминальными признаками было совершено предсказание объема производства баррелей нефти. По метрике качества модели предсказания RMSE победила 2 модель - её результаты предсказаний отличаются от рельных меньше.  \n",
    "- По средней прибыли за добычу нефти регионы распределились следующим образом: 3 регион имеет самую высокую прибыль, 2 регион имеет среднюю прибыльность, а 1 самую худшую.\n",
    "- После проведенного бутстрапинга были посчитаны риски: 1 регион будет иметь отрицательную прибыль с вероятностью 7,6%, 2 регион с вероятностью 0,6%, а 3 регион с вероятностью 2,7%\n",
    "\n",
    "Заказчик указал желательный процент рисков отрицательной прибыли 2,5% и поэтому в качестве самого выгодного региона для добычи нефти стоит предложить 2 регион - на основании более точной модели было предсказана средняя прибыль 479464524,8 с риском отрицательной прибыли в 0,6%"
   ]
  }
 ],
 "metadata": {
  "ExecuteTimeLog": [
   {
    "duration": 407,
    "start_time": "2023-04-25T08:50:24.503Z"
   },
   {
    "duration": 808,
    "start_time": "2023-04-25T08:51:43.899Z"
   },
   {
    "duration": 171,
    "start_time": "2023-04-25T08:51:57.046Z"
   },
   {
    "duration": 581,
    "start_time": "2023-04-25T08:52:26.800Z"
   },
   {
    "duration": 597,
    "start_time": "2023-04-25T08:52:48.302Z"
   },
   {
    "duration": 36,
    "start_time": "2023-04-25T08:54:08.624Z"
   },
   {
    "duration": 46,
    "start_time": "2023-04-25T08:56:47.827Z"
   },
   {
    "duration": 59,
    "start_time": "2023-04-25T08:57:02.721Z"
   },
   {
    "duration": 46,
    "start_time": "2023-04-25T08:57:09.593Z"
   },
   {
    "duration": 46,
    "start_time": "2023-04-25T08:57:16.180Z"
   },
   {
    "duration": 3,
    "start_time": "2023-04-25T08:59:23.649Z"
   },
   {
    "duration": 939,
    "start_time": "2023-04-25T08:59:54.422Z"
   },
   {
    "duration": 83,
    "start_time": "2023-04-25T09:00:03.605Z"
   },
   {
    "duration": 19,
    "start_time": "2023-04-25T09:00:52.304Z"
   },
   {
    "duration": 70,
    "start_time": "2023-04-25T09:00:57.800Z"
   },
   {
    "duration": 86,
    "start_time": "2023-04-25T09:01:45.657Z"
   },
   {
    "duration": 54,
    "start_time": "2023-04-25T09:01:54.696Z"
   },
   {
    "duration": 63,
    "start_time": "2023-04-25T09:02:00.054Z"
   },
   {
    "duration": 60,
    "start_time": "2023-04-25T09:02:03.880Z"
   },
   {
    "duration": 91,
    "start_time": "2023-04-25T09:04:26.128Z"
   },
   {
    "duration": 82,
    "start_time": "2023-04-25T09:04:47.618Z"
   },
   {
    "duration": 841,
    "start_time": "2023-04-25T09:16:27.857Z"
   },
   {
    "duration": 366,
    "start_time": "2023-04-25T09:17:32.515Z"
   },
   {
    "duration": 394,
    "start_time": "2023-04-25T09:17:42.608Z"
   },
   {
    "duration": 18,
    "start_time": "2023-04-25T09:46:05.969Z"
   },
   {
    "duration": 386,
    "start_time": "2023-04-25T09:46:15.546Z"
   },
   {
    "duration": 448,
    "start_time": "2023-04-25T09:49:38.041Z"
   },
   {
    "duration": 420,
    "start_time": "2023-04-25T09:50:04.820Z"
   },
   {
    "duration": 77,
    "start_time": "2023-04-25T16:29:06.142Z"
   },
   {
    "duration": 42,
    "start_time": "2023-04-25T16:35:47.093Z"
   },
   {
    "duration": 376,
    "start_time": "2023-04-25T16:35:55.299Z"
   },
   {
    "duration": 231,
    "start_time": "2023-04-25T16:35:55.677Z"
   },
   {
    "duration": 208,
    "start_time": "2023-04-25T16:35:55.910Z"
   },
   {
    "duration": 209,
    "start_time": "2023-04-25T16:35:56.120Z"
   },
   {
    "duration": 35,
    "start_time": "2023-04-25T16:35:56.331Z"
   },
   {
    "duration": 47,
    "start_time": "2023-04-25T16:35:56.368Z"
   },
   {
    "duration": 57,
    "start_time": "2023-04-25T16:35:56.417Z"
   },
   {
    "duration": 60,
    "start_time": "2023-04-25T16:35:56.475Z"
   },
   {
    "duration": 54,
    "start_time": "2023-04-25T16:35:56.536Z"
   },
   {
    "duration": 71,
    "start_time": "2023-04-25T16:35:56.592Z"
   },
   {
    "duration": 70,
    "start_time": "2023-04-25T16:35:56.665Z"
   },
   {
    "duration": 733,
    "start_time": "2023-04-25T16:35:56.737Z"
   },
   {
    "duration": 1759,
    "start_time": "2023-04-25T16:36:04.054Z"
   },
   {
    "duration": 493,
    "start_time": "2023-04-25T16:36:29.149Z"
   },
   {
    "duration": 405,
    "start_time": "2023-04-25T16:37:05.037Z"
   },
   {
    "duration": 308,
    "start_time": "2023-04-25T16:37:09.020Z"
   },
   {
    "duration": 14,
    "start_time": "2023-04-25T17:13:55.015Z"
   },
   {
    "duration": 29,
    "start_time": "2023-04-25T17:17:33.524Z"
   },
   {
    "duration": 45,
    "start_time": "2023-04-25T17:18:54.820Z"
   },
   {
    "duration": 34,
    "start_time": "2023-04-25T17:19:05.719Z"
   },
   {
    "duration": 308,
    "start_time": "2023-04-25T17:19:32.498Z"
   },
   {
    "duration": 312,
    "start_time": "2023-04-25T17:19:38.447Z"
   },
   {
    "duration": 299,
    "start_time": "2023-04-25T17:19:42.676Z"
   },
   {
    "duration": 10,
    "start_time": "2023-04-25T17:42:54.151Z"
   },
   {
    "duration": 6,
    "start_time": "2023-04-25T17:49:56.791Z"
   },
   {
    "duration": 6,
    "start_time": "2023-04-25T17:50:18.783Z"
   },
   {
    "duration": 5,
    "start_time": "2023-04-25T17:50:43.094Z"
   },
   {
    "duration": 5,
    "start_time": "2023-04-25T17:51:18.226Z"
   },
   {
    "duration": 5,
    "start_time": "2023-04-25T17:51:52.050Z"
   },
   {
    "duration": 6,
    "start_time": "2023-04-25T17:52:07.190Z"
   },
   {
    "duration": 6,
    "start_time": "2023-04-25T17:52:48.910Z"
   },
   {
    "duration": 5,
    "start_time": "2023-04-25T17:53:03.833Z"
   },
   {
    "duration": 4,
    "start_time": "2023-04-25T17:53:42.523Z"
   },
   {
    "duration": 5,
    "start_time": "2023-04-25T17:54:00.804Z"
   },
   {
    "duration": 3,
    "start_time": "2023-04-25T17:58:37.516Z"
   },
   {
    "duration": 699,
    "start_time": "2023-04-25T18:01:03.415Z"
   },
   {
    "duration": 3,
    "start_time": "2023-04-25T18:05:04.428Z"
   },
   {
    "duration": 62,
    "start_time": "2023-04-25T18:05:33.186Z"
   },
   {
    "duration": 17,
    "start_time": "2023-04-25T18:05:57.458Z"
   },
   {
    "duration": 11,
    "start_time": "2023-04-25T18:06:02.834Z"
   },
   {
    "duration": 12,
    "start_time": "2023-04-25T18:06:14.538Z"
   },
   {
    "duration": 23,
    "start_time": "2023-04-25T18:06:28.983Z"
   },
   {
    "duration": 26,
    "start_time": "2023-04-25T18:06:51.087Z"
   },
   {
    "duration": 6,
    "start_time": "2023-04-25T18:08:50.995Z"
   },
   {
    "duration": 7,
    "start_time": "2023-04-25T18:09:14.301Z"
   },
   {
    "duration": 6,
    "start_time": "2023-04-25T18:09:37.309Z"
   },
   {
    "duration": 25,
    "start_time": "2023-04-25T18:10:51.255Z"
   },
   {
    "duration": 15,
    "start_time": "2023-04-25T18:11:07.292Z"
   },
   {
    "duration": 12,
    "start_time": "2023-04-25T18:13:23.693Z"
   },
   {
    "duration": 1091,
    "start_time": "2023-04-25T18:14:14.844Z"
   },
   {
    "duration": 152,
    "start_time": "2023-04-25T18:14:15.937Z"
   },
   {
    "duration": 134,
    "start_time": "2023-04-25T18:14:16.091Z"
   },
   {
    "duration": 140,
    "start_time": "2023-04-25T18:14:16.227Z"
   },
   {
    "duration": 38,
    "start_time": "2023-04-25T18:14:16.369Z"
   },
   {
    "duration": 61,
    "start_time": "2023-04-25T18:14:16.408Z"
   },
   {
    "duration": 43,
    "start_time": "2023-04-25T18:14:16.471Z"
   },
   {
    "duration": 56,
    "start_time": "2023-04-25T18:14:16.516Z"
   },
   {
    "duration": 82,
    "start_time": "2023-04-25T18:14:16.574Z"
   },
   {
    "duration": 27,
    "start_time": "2023-04-25T18:14:16.658Z"
   },
   {
    "duration": 57,
    "start_time": "2023-04-25T18:14:25.662Z"
   },
   {
    "duration": 29,
    "start_time": "2023-04-25T18:14:48.780Z"
   },
   {
    "duration": 51,
    "start_time": "2023-04-25T18:15:07.293Z"
   },
   {
    "duration": 2523,
    "start_time": "2023-04-25T18:15:25.702Z"
   },
   {
    "duration": 2872,
    "start_time": "2023-04-25T18:15:50.308Z"
   },
   {
    "duration": 25,
    "start_time": "2023-04-25T18:16:03.060Z"
   },
   {
    "duration": 1613,
    "start_time": "2023-04-25T18:16:06.117Z"
   },
   {
    "duration": 2774,
    "start_time": "2023-04-25T18:16:13.775Z"
   },
   {
    "duration": 1362,
    "start_time": "2023-04-25T18:16:55.212Z"
   },
   {
    "duration": 158,
    "start_time": "2023-04-25T18:16:56.576Z"
   },
   {
    "duration": 129,
    "start_time": "2023-04-25T18:16:56.736Z"
   },
   {
    "duration": 121,
    "start_time": "2023-04-25T18:16:56.867Z"
   },
   {
    "duration": 32,
    "start_time": "2023-04-25T18:16:56.991Z"
   },
   {
    "duration": 48,
    "start_time": "2023-04-25T18:16:57.025Z"
   },
   {
    "duration": 39,
    "start_time": "2023-04-25T18:16:57.075Z"
   },
   {
    "duration": 51,
    "start_time": "2023-04-25T18:16:57.115Z"
   },
   {
    "duration": 68,
    "start_time": "2023-04-25T18:16:57.167Z"
   },
   {
    "duration": 26,
    "start_time": "2023-04-25T18:16:57.237Z"
   },
   {
    "duration": 81,
    "start_time": "2023-04-25T18:16:57.264Z"
   },
   {
    "duration": 24,
    "start_time": "2023-04-25T18:16:57.347Z"
   },
   {
    "duration": 72,
    "start_time": "2023-04-25T18:16:57.372Z"
   },
   {
    "duration": 22,
    "start_time": "2023-04-25T18:16:57.446Z"
   },
   {
    "duration": 553,
    "start_time": "2023-04-25T18:17:03.227Z"
   },
   {
    "duration": 307,
    "start_time": "2023-04-25T18:17:07.332Z"
   },
   {
    "duration": 300,
    "start_time": "2023-04-25T18:17:10.416Z"
   },
   {
    "duration": 13,
    "start_time": "2023-04-25T18:17:13.784Z"
   },
   {
    "duration": 5,
    "start_time": "2023-04-25T18:17:27.963Z"
   },
   {
    "duration": 5,
    "start_time": "2023-04-25T18:17:30.444Z"
   },
   {
    "duration": 6,
    "start_time": "2023-04-25T18:18:11.279Z"
   },
   {
    "duration": 5,
    "start_time": "2023-04-25T18:18:11.286Z"
   },
   {
    "duration": 5,
    "start_time": "2023-04-25T18:18:11.293Z"
   },
   {
    "duration": 8,
    "start_time": "2023-04-25T18:18:11.300Z"
   },
   {
    "duration": 6,
    "start_time": "2023-04-25T18:18:11.310Z"
   },
   {
    "duration": 6,
    "start_time": "2023-04-25T18:18:11.317Z"
   },
   {
    "duration": 6,
    "start_time": "2023-04-25T18:18:11.324Z"
   },
   {
    "duration": 7,
    "start_time": "2023-04-25T18:18:11.331Z"
   },
   {
    "duration": 4,
    "start_time": "2023-04-25T18:18:11.340Z"
   },
   {
    "duration": 6,
    "start_time": "2023-04-25T18:18:11.345Z"
   },
   {
    "duration": 26,
    "start_time": "2023-04-25T18:18:11.353Z"
   },
   {
    "duration": 6,
    "start_time": "2023-04-25T18:18:11.381Z"
   },
   {
    "duration": 9,
    "start_time": "2023-04-25T18:18:11.389Z"
   },
   {
    "duration": 9,
    "start_time": "2023-04-25T18:18:11.400Z"
   },
   {
    "duration": 35,
    "start_time": "2023-04-25T18:18:11.410Z"
   },
   {
    "duration": 15,
    "start_time": "2023-04-25T18:18:11.447Z"
   },
   {
    "duration": 14,
    "start_time": "2023-04-25T18:18:11.464Z"
   },
   {
    "duration": 107,
    "start_time": "2023-04-25T19:05:59.660Z"
   },
   {
    "duration": 33,
    "start_time": "2023-04-25T19:10:20.292Z"
   },
   {
    "duration": 3,
    "start_time": "2023-04-25T19:10:28.667Z"
   },
   {
    "duration": 16,
    "start_time": "2023-04-25T19:16:02.510Z"
   },
   {
    "duration": 18,
    "start_time": "2023-04-25T19:19:42.055Z"
   },
   {
    "duration": 113,
    "start_time": "2023-04-25T19:19:49.925Z"
   },
   {
    "duration": 3,
    "start_time": "2023-04-25T19:20:45.744Z"
   },
   {
    "duration": 18,
    "start_time": "2023-04-25T19:20:50.888Z"
   },
   {
    "duration": 71,
    "start_time": "2023-04-25T19:21:05.171Z"
   },
   {
    "duration": 22,
    "start_time": "2023-04-25T19:21:09.276Z"
   },
   {
    "duration": 31,
    "start_time": "2023-04-25T19:23:40.807Z"
   },
   {
    "duration": 13,
    "start_time": "2023-04-25T19:25:23.992Z"
   },
   {
    "duration": 76,
    "start_time": "2023-04-26T11:18:58.214Z"
   },
   {
    "duration": 1042,
    "start_time": "2023-04-26T11:19:12.129Z"
   },
   {
    "duration": 632,
    "start_time": "2023-04-26T11:19:13.173Z"
   },
   {
    "duration": 586,
    "start_time": "2023-04-26T11:19:13.808Z"
   },
   {
    "duration": 575,
    "start_time": "2023-04-26T11:19:14.396Z"
   },
   {
    "duration": 34,
    "start_time": "2023-04-26T11:19:14.973Z"
   },
   {
    "duration": 62,
    "start_time": "2023-04-26T11:19:15.009Z"
   },
   {
    "duration": 48,
    "start_time": "2023-04-26T11:19:15.073Z"
   },
   {
    "duration": 48,
    "start_time": "2023-04-26T11:19:15.123Z"
   },
   {
    "duration": 100,
    "start_time": "2023-04-26T11:19:15.173Z"
   },
   {
    "duration": 40,
    "start_time": "2023-04-26T11:19:15.276Z"
   },
   {
    "duration": 86,
    "start_time": "2023-04-26T11:19:15.318Z"
   },
   {
    "duration": 29,
    "start_time": "2023-04-26T11:19:15.405Z"
   },
   {
    "duration": 93,
    "start_time": "2023-04-26T11:19:15.436Z"
   },
   {
    "duration": 29,
    "start_time": "2023-04-26T11:19:15.531Z"
   },
   {
    "duration": 809,
    "start_time": "2023-04-26T11:19:15.563Z"
   },
   {
    "duration": 375,
    "start_time": "2023-04-26T11:19:16.374Z"
   },
   {
    "duration": 477,
    "start_time": "2023-04-26T11:19:16.751Z"
   },
   {
    "duration": 18,
    "start_time": "2023-04-26T11:19:17.230Z"
   },
   {
    "duration": 26,
    "start_time": "2023-04-26T11:19:17.249Z"
   },
   {
    "duration": 18,
    "start_time": "2023-04-26T11:19:17.277Z"
   },
   {
    "duration": 25,
    "start_time": "2023-04-26T11:19:17.297Z"
   },
   {
    "duration": 28,
    "start_time": "2023-04-26T11:19:17.323Z"
   },
   {
    "duration": 32,
    "start_time": "2023-04-26T11:19:17.353Z"
   },
   {
    "duration": 20,
    "start_time": "2023-04-26T11:19:17.387Z"
   },
   {
    "duration": 20,
    "start_time": "2023-04-26T11:19:17.409Z"
   },
   {
    "duration": 5,
    "start_time": "2023-04-26T11:19:17.431Z"
   },
   {
    "duration": 33,
    "start_time": "2023-04-26T11:19:17.438Z"
   },
   {
    "duration": 34,
    "start_time": "2023-04-26T11:19:17.474Z"
   },
   {
    "duration": 8,
    "start_time": "2023-04-26T11:19:17.510Z"
   },
   {
    "duration": 59,
    "start_time": "2023-04-26T11:19:17.520Z"
   },
   {
    "duration": 7,
    "start_time": "2023-04-26T11:19:17.581Z"
   },
   {
    "duration": 19,
    "start_time": "2023-04-26T11:19:17.589Z"
   },
   {
    "duration": 21,
    "start_time": "2023-04-26T11:19:17.610Z"
   },
   {
    "duration": 33,
    "start_time": "2023-04-26T11:19:17.633Z"
   },
   {
    "duration": 31,
    "start_time": "2023-04-26T11:19:17.668Z"
   },
   {
    "duration": 18,
    "start_time": "2023-04-26T11:19:17.701Z"
   },
   {
    "duration": 174,
    "start_time": "2023-04-26T11:19:17.721Z"
   },
   {
    "duration": 15,
    "start_time": "2023-04-26T11:19:17.897Z"
   },
   {
    "duration": 96,
    "start_time": "2023-04-26T11:19:17.914Z"
   },
   {
    "duration": 18,
    "start_time": "2023-04-26T11:19:53.187Z"
   },
   {
    "duration": 198,
    "start_time": "2023-04-26T12:15:20.698Z"
   },
   {
    "duration": 70,
    "start_time": "2023-04-26T12:15:42.538Z"
   },
   {
    "duration": 30,
    "start_time": "2023-04-26T12:15:53.198Z"
   },
   {
    "duration": 1064,
    "start_time": "2023-04-28T14:31:44.628Z"
   },
   {
    "duration": 557,
    "start_time": "2023-04-28T15:12:40.447Z"
   },
   {
    "duration": 233,
    "start_time": "2023-04-28T15:12:45.910Z"
   },
   {
    "duration": 184,
    "start_time": "2023-04-28T15:12:48.384Z"
   },
   {
    "duration": 30,
    "start_time": "2023-04-28T15:12:51.487Z"
   },
   {
    "duration": 38,
    "start_time": "2023-04-28T15:12:57.326Z"
   },
   {
    "duration": 37,
    "start_time": "2023-04-28T15:13:00.111Z"
   },
   {
    "duration": 38,
    "start_time": "2023-04-28T15:13:02.090Z"
   },
   {
    "duration": 52,
    "start_time": "2023-04-28T15:13:05.752Z"
   },
   {
    "duration": 22,
    "start_time": "2023-04-28T15:13:07.748Z"
   },
   {
    "duration": 58,
    "start_time": "2023-04-28T15:13:52.387Z"
   },
   {
    "duration": 27,
    "start_time": "2023-04-28T15:13:55.219Z"
   },
   {
    "duration": 52,
    "start_time": "2023-04-28T15:13:57.963Z"
   },
   {
    "duration": 23,
    "start_time": "2023-04-28T15:14:00.621Z"
   },
   {
    "duration": 13,
    "start_time": "2023-04-28T15:14:03.502Z"
   },
   {
    "duration": 3,
    "start_time": "2023-04-28T15:14:06.332Z"
   },
   {
    "duration": 24,
    "start_time": "2023-04-28T15:14:08.365Z"
   },
   {
    "duration": 6,
    "start_time": "2023-04-28T15:14:10.731Z"
   },
   {
    "duration": 6,
    "start_time": "2023-04-28T15:14:12.928Z"
   },
   {
    "duration": 5,
    "start_time": "2023-04-28T15:14:14.339Z"
   },
   {
    "duration": 16,
    "start_time": "2023-04-28T15:14:17.346Z"
   },
   {
    "duration": 15,
    "start_time": "2023-04-28T15:14:23.207Z"
   },
   {
    "duration": 15,
    "start_time": "2023-04-28T15:14:27.401Z"
   },
   {
    "duration": 16,
    "start_time": "2023-04-28T15:19:31.825Z"
   },
   {
    "duration": 17,
    "start_time": "2023-04-28T15:19:50.334Z"
   },
   {
    "duration": 100,
    "start_time": "2023-04-28T15:20:42.543Z"
   },
   {
    "duration": 57,
    "start_time": "2023-04-28T15:20:54.515Z"
   },
   {
    "duration": 2867,
    "start_time": "2023-04-28T15:21:22.903Z"
   },
   {
    "duration": 1059,
    "start_time": "2023-04-28T15:28:03.943Z"
   },
   {
    "duration": 173,
    "start_time": "2023-04-28T15:28:05.004Z"
   },
   {
    "duration": 108,
    "start_time": "2023-04-28T15:28:05.178Z"
   },
   {
    "duration": 106,
    "start_time": "2023-04-28T15:28:05.288Z"
   },
   {
    "duration": 29,
    "start_time": "2023-04-28T15:28:05.396Z"
   },
   {
    "duration": 53,
    "start_time": "2023-04-28T15:28:05.426Z"
   },
   {
    "duration": 36,
    "start_time": "2023-04-28T15:28:05.481Z"
   },
   {
    "duration": 39,
    "start_time": "2023-04-28T15:28:05.518Z"
   },
   {
    "duration": 48,
    "start_time": "2023-04-28T15:28:05.572Z"
   },
   {
    "duration": 23,
    "start_time": "2023-04-28T15:28:05.622Z"
   },
   {
    "duration": 68,
    "start_time": "2023-04-28T15:28:05.646Z"
   },
   {
    "duration": 30,
    "start_time": "2023-04-28T15:28:05.716Z"
   },
   {
    "duration": 59,
    "start_time": "2023-04-28T15:28:05.748Z"
   },
   {
    "duration": 22,
    "start_time": "2023-04-28T15:28:05.810Z"
   },
   {
    "duration": 13,
    "start_time": "2023-04-28T15:28:05.834Z"
   },
   {
    "duration": 6,
    "start_time": "2023-04-28T15:28:05.848Z"
   },
   {
    "duration": 30,
    "start_time": "2023-04-28T15:28:08.712Z"
   },
   {
    "duration": 6,
    "start_time": "2023-04-28T15:28:10.790Z"
   },
   {
    "duration": 5,
    "start_time": "2023-04-28T15:28:12.602Z"
   },
   {
    "duration": 6,
    "start_time": "2023-04-28T15:28:14.291Z"
   },
   {
    "duration": 13,
    "start_time": "2023-04-28T15:28:24.580Z"
   },
   {
    "duration": 7,
    "start_time": "2023-04-28T15:29:09.730Z"
   },
   {
    "duration": 9,
    "start_time": "2023-04-28T15:29:22.345Z"
   },
   {
    "duration": 17,
    "start_time": "2023-04-28T15:31:51.503Z"
   },
   {
    "duration": 17,
    "start_time": "2023-04-28T15:33:44.817Z"
   },
   {
    "duration": 17,
    "start_time": "2023-04-28T15:34:43.291Z"
   },
   {
    "duration": 17,
    "start_time": "2023-04-28T15:37:40.548Z"
   },
   {
    "duration": 17,
    "start_time": "2023-04-28T15:39:03.525Z"
   },
   {
    "duration": 18,
    "start_time": "2023-04-28T15:39:39.451Z"
   },
   {
    "duration": 1048,
    "start_time": "2023-04-28T15:43:52.558Z"
   },
   {
    "duration": 717,
    "start_time": "2023-04-28T15:44:02.883Z"
   },
   {
    "duration": 616,
    "start_time": "2023-04-28T15:44:10.640Z"
   },
   {
    "duration": 6,
    "start_time": "2023-04-28T15:44:28.315Z"
   },
   {
    "duration": 5,
    "start_time": "2023-04-28T15:44:37.135Z"
   },
   {
    "duration": 5,
    "start_time": "2023-04-28T15:44:47.226Z"
   },
   {
    "duration": 4,
    "start_time": "2023-04-28T15:45:51.301Z"
   },
   {
    "duration": 4,
    "start_time": "2023-04-28T15:45:58.901Z"
   },
   {
    "duration": 4,
    "start_time": "2023-04-28T15:46:08.320Z"
   },
   {
    "duration": 5,
    "start_time": "2023-04-28T15:46:22.465Z"
   },
   {
    "duration": 5,
    "start_time": "2023-04-28T15:46:29.660Z"
   },
   {
    "duration": 5,
    "start_time": "2023-04-28T15:46:38.915Z"
   },
   {
    "duration": 6,
    "start_time": "2023-04-28T15:46:49.322Z"
   },
   {
    "duration": 30,
    "start_time": "2023-04-28T15:46:54.968Z"
   },
   {
    "duration": 8,
    "start_time": "2023-04-28T15:46:58.141Z"
   },
   {
    "duration": 8,
    "start_time": "2023-04-28T15:47:00.415Z"
   },
   {
    "duration": 7,
    "start_time": "2023-04-28T15:47:02.219Z"
   },
   {
    "duration": 3,
    "start_time": "2023-04-28T15:47:04.369Z"
   },
   {
    "duration": 19,
    "start_time": "2023-04-28T15:47:06.132Z"
   },
   {
    "duration": 16,
    "start_time": "2023-04-28T15:47:08.788Z"
   },
   {
    "duration": 13,
    "start_time": "2023-04-28T15:47:14.020Z"
   },
   {
    "duration": 18,
    "start_time": "2023-04-28T15:48:16.213Z"
   },
   {
    "duration": 16,
    "start_time": "2023-04-28T15:48:19.165Z"
   },
   {
    "duration": 18,
    "start_time": "2023-04-28T15:48:21.315Z"
   },
   {
    "duration": 69,
    "start_time": "2023-04-28T15:50:12.616Z"
   },
   {
    "duration": 25,
    "start_time": "2023-04-28T15:50:17.387Z"
   },
   {
    "duration": 68,
    "start_time": "2023-04-28T15:50:21.413Z"
   },
   {
    "duration": 98,
    "start_time": "2023-04-28T15:51:06.470Z"
   },
   {
    "duration": 20,
    "start_time": "2023-04-28T15:51:44.219Z"
   },
   {
    "duration": 5,
    "start_time": "2023-04-28T15:52:19.263Z"
   },
   {
    "duration": 1116,
    "start_time": "2023-04-28T15:53:44.962Z"
   },
   {
    "duration": 174,
    "start_time": "2023-04-28T15:53:46.081Z"
   },
   {
    "duration": 113,
    "start_time": "2023-04-28T15:53:46.256Z"
   },
   {
    "duration": 107,
    "start_time": "2023-04-28T15:53:46.372Z"
   },
   {
    "duration": 29,
    "start_time": "2023-04-28T15:53:46.481Z"
   },
   {
    "duration": 69,
    "start_time": "2023-04-28T15:53:46.511Z"
   },
   {
    "duration": 54,
    "start_time": "2023-04-28T15:53:46.582Z"
   },
   {
    "duration": 52,
    "start_time": "2023-04-28T15:53:46.638Z"
   },
   {
    "duration": 53,
    "start_time": "2023-04-28T15:53:46.692Z"
   },
   {
    "duration": 40,
    "start_time": "2023-04-28T15:53:46.746Z"
   },
   {
    "duration": 49,
    "start_time": "2023-04-28T15:53:46.787Z"
   },
   {
    "duration": 37,
    "start_time": "2023-04-28T15:53:46.837Z"
   },
   {
    "duration": 54,
    "start_time": "2023-04-28T15:53:46.875Z"
   },
   {
    "duration": 21,
    "start_time": "2023-04-28T15:53:46.932Z"
   },
   {
    "duration": 15,
    "start_time": "2023-04-28T15:53:46.972Z"
   },
   {
    "duration": 13,
    "start_time": "2023-04-28T15:53:46.988Z"
   },
   {
    "duration": 19,
    "start_time": "2023-04-28T15:53:47.002Z"
   },
   {
    "duration": 17,
    "start_time": "2023-04-28T15:53:47.023Z"
   },
   {
    "duration": 37,
    "start_time": "2023-04-28T15:53:47.041Z"
   },
   {
    "duration": 843,
    "start_time": "2023-04-28T15:53:47.080Z"
   },
   {
    "duration": 676,
    "start_time": "2023-04-28T15:53:47.924Z"
   },
   {
    "duration": 626,
    "start_time": "2023-04-28T15:53:48.602Z"
   },
   {
    "duration": 5,
    "start_time": "2023-04-28T15:54:19.276Z"
   },
   {
    "duration": 6,
    "start_time": "2023-04-28T15:54:23.019Z"
   },
   {
    "duration": 5,
    "start_time": "2023-04-28T15:54:24.612Z"
   },
   {
    "duration": 5,
    "start_time": "2023-04-28T15:54:27.220Z"
   },
   {
    "duration": 5,
    "start_time": "2023-04-28T15:54:28.964Z"
   },
   {
    "duration": 5,
    "start_time": "2023-04-28T15:54:30.787Z"
   },
   {
    "duration": 5,
    "start_time": "2023-04-28T15:54:32.814Z"
   },
   {
    "duration": 6,
    "start_time": "2023-04-28T15:54:35.414Z"
   },
   {
    "duration": 6,
    "start_time": "2023-04-28T15:54:37.278Z"
   },
   {
    "duration": 29,
    "start_time": "2023-04-28T15:54:40.529Z"
   },
   {
    "duration": 14,
    "start_time": "2023-04-28T15:54:42.812Z"
   },
   {
    "duration": 8,
    "start_time": "2023-04-28T15:55:00.527Z"
   },
   {
    "duration": 14,
    "start_time": "2023-04-28T15:55:13.265Z"
   },
   {
    "duration": 8,
    "start_time": "2023-04-28T15:55:20.552Z"
   },
   {
    "duration": 8,
    "start_time": "2023-04-28T15:55:22.450Z"
   },
   {
    "duration": 17,
    "start_time": "2023-04-28T15:55:26.574Z"
   },
   {
    "duration": 96,
    "start_time": "2023-04-28T15:55:31.502Z"
   },
   {
    "duration": 5,
    "start_time": "2023-04-28T15:55:47.210Z"
   },
   {
    "duration": 12,
    "start_time": "2023-04-28T15:55:55.856Z"
   },
   {
    "duration": 18,
    "start_time": "2023-04-28T15:56:19.774Z"
   },
   {
    "duration": 16,
    "start_time": "2023-04-28T15:56:50.313Z"
   },
   {
    "duration": 24,
    "start_time": "2023-04-28T15:56:54.857Z"
   },
   {
    "duration": 22,
    "start_time": "2023-04-28T15:56:58.397Z"
   },
   {
    "duration": 16,
    "start_time": "2023-04-28T15:57:01.314Z"
   },
   {
    "duration": 4,
    "start_time": "2023-04-28T16:05:31.502Z"
   },
   {
    "duration": 3,
    "start_time": "2023-04-28T16:09:07.736Z"
   },
   {
    "duration": 5,
    "start_time": "2023-04-28T16:09:23.611Z"
   },
   {
    "duration": 4,
    "start_time": "2023-04-28T16:09:38.858Z"
   },
   {
    "duration": 8,
    "start_time": "2023-04-28T16:09:50.354Z"
   },
   {
    "duration": 7,
    "start_time": "2023-04-28T16:10:44.740Z"
   },
   {
    "duration": 7,
    "start_time": "2023-04-28T16:10:50.635Z"
   },
   {
    "duration": 3,
    "start_time": "2023-04-28T16:14:10.541Z"
   },
   {
    "duration": 4,
    "start_time": "2023-04-28T16:20:20.433Z"
   },
   {
    "duration": 6,
    "start_time": "2023-04-28T16:21:17.724Z"
   },
   {
    "duration": 5,
    "start_time": "2023-04-28T16:23:03.214Z"
   },
   {
    "duration": 5,
    "start_time": "2023-04-28T16:23:08.463Z"
   },
   {
    "duration": 10,
    "start_time": "2023-04-28T16:24:01.470Z"
   },
   {
    "duration": 4,
    "start_time": "2023-04-28T16:25:16.446Z"
   },
   {
    "duration": 5,
    "start_time": "2023-04-28T16:25:23.565Z"
   },
   {
    "duration": 4,
    "start_time": "2023-04-28T16:25:30.956Z"
   },
   {
    "duration": 8,
    "start_time": "2023-04-28T16:44:29.911Z"
   },
   {
    "duration": 8,
    "start_time": "2023-04-28T16:44:41.653Z"
   },
   {
    "duration": 3,
    "start_time": "2023-04-28T16:45:44.087Z"
   },
   {
    "duration": 8,
    "start_time": "2023-04-28T16:45:57.024Z"
   },
   {
    "duration": 3,
    "start_time": "2023-04-28T16:47:16.839Z"
   },
   {
    "duration": 114,
    "start_time": "2023-04-28T16:47:22.186Z"
   },
   {
    "duration": 263,
    "start_time": "2023-04-28T16:50:42.815Z"
   },
   {
    "duration": 369,
    "start_time": "2023-04-28T16:54:14.807Z"
   },
   {
    "duration": 3,
    "start_time": "2023-04-28T19:28:27.153Z"
   },
   {
    "duration": 5,
    "start_time": "2023-04-28T19:28:33.644Z"
   },
   {
    "duration": 3,
    "start_time": "2023-04-28T19:28:51.626Z"
   },
   {
    "duration": 3,
    "start_time": "2023-04-28T19:29:28.779Z"
   },
   {
    "duration": 2,
    "start_time": "2023-04-28T19:29:38.736Z"
   },
   {
    "duration": 9,
    "start_time": "2023-04-28T19:30:59.430Z"
   },
   {
    "duration": 3,
    "start_time": "2023-04-28T19:31:04.618Z"
   },
   {
    "duration": 4,
    "start_time": "2023-04-28T19:31:06.742Z"
   },
   {
    "duration": 1738,
    "start_time": "2023-04-29T10:29:00.536Z"
   },
   {
    "duration": 393,
    "start_time": "2023-04-29T10:29:02.276Z"
   },
   {
    "duration": 205,
    "start_time": "2023-04-29T10:29:02.670Z"
   },
   {
    "duration": 234,
    "start_time": "2023-04-29T10:29:02.878Z"
   },
   {
    "duration": 57,
    "start_time": "2023-04-29T10:29:03.115Z"
   },
   {
    "duration": 88,
    "start_time": "2023-04-29T10:29:03.175Z"
   },
   {
    "duration": 71,
    "start_time": "2023-04-29T10:29:03.265Z"
   },
   {
    "duration": 48,
    "start_time": "2023-04-29T10:29:03.337Z"
   },
   {
    "duration": 109,
    "start_time": "2023-04-29T10:29:03.387Z"
   },
   {
    "duration": 47,
    "start_time": "2023-04-29T10:29:03.500Z"
   },
   {
    "duration": 71,
    "start_time": "2023-04-29T10:29:03.548Z"
   },
   {
    "duration": 39,
    "start_time": "2023-04-29T10:29:03.621Z"
   },
   {
    "duration": 92,
    "start_time": "2023-04-29T10:29:03.662Z"
   },
   {
    "duration": 26,
    "start_time": "2023-04-29T10:29:03.756Z"
   },
   {
    "duration": 15,
    "start_time": "2023-04-29T10:29:03.784Z"
   },
   {
    "duration": 15,
    "start_time": "2023-04-29T10:29:03.800Z"
   },
   {
    "duration": 44,
    "start_time": "2023-04-29T10:29:03.817Z"
   },
   {
    "duration": 28,
    "start_time": "2023-04-29T10:29:03.862Z"
   },
   {
    "duration": 21,
    "start_time": "2023-04-29T10:29:03.892Z"
   },
   {
    "duration": 804,
    "start_time": "2023-04-29T10:29:03.934Z"
   },
   {
    "duration": 965,
    "start_time": "2023-04-29T10:29:04.742Z"
   },
   {
    "duration": 759,
    "start_time": "2023-04-29T10:29:05.709Z"
   },
   {
    "duration": 6,
    "start_time": "2023-04-29T10:29:06.470Z"
   },
   {
    "duration": 10,
    "start_time": "2023-04-29T10:29:06.477Z"
   },
   {
    "duration": 25,
    "start_time": "2023-04-29T10:29:06.489Z"
   },
   {
    "duration": 16,
    "start_time": "2023-04-29T10:29:06.515Z"
   },
   {
    "duration": 26,
    "start_time": "2023-04-29T10:29:06.535Z"
   },
   {
    "duration": 17,
    "start_time": "2023-04-29T10:29:06.565Z"
   },
   {
    "duration": 9,
    "start_time": "2023-04-29T10:29:06.584Z"
   },
   {
    "duration": 11,
    "start_time": "2023-04-29T10:29:06.595Z"
   },
   {
    "duration": 13,
    "start_time": "2023-04-29T10:29:06.607Z"
   },
   {
    "duration": 42,
    "start_time": "2023-04-29T10:29:06.622Z"
   },
   {
    "duration": 10,
    "start_time": "2023-04-29T10:29:06.665Z"
   },
   {
    "duration": 17,
    "start_time": "2023-04-29T10:29:06.677Z"
   },
   {
    "duration": 21,
    "start_time": "2023-04-29T10:29:06.695Z"
   },
   {
    "duration": 34,
    "start_time": "2023-04-29T10:29:06.718Z"
   },
   {
    "duration": 24,
    "start_time": "2023-04-29T10:29:06.755Z"
   },
   {
    "duration": 21,
    "start_time": "2023-04-29T10:29:06.781Z"
   },
   {
    "duration": 56,
    "start_time": "2023-04-29T10:29:06.804Z"
   },
   {
    "duration": 177,
    "start_time": "2023-04-29T10:29:06.861Z"
   },
   {
    "duration": 123,
    "start_time": "2023-04-29T10:29:07.041Z"
   },
   {
    "duration": 6,
    "start_time": "2023-04-29T10:29:07.167Z"
   },
   {
    "duration": 110,
    "start_time": "2023-04-29T10:29:07.236Z"
   },
   {
    "duration": 13,
    "start_time": "2023-04-29T10:29:07.347Z"
   },
   {
    "duration": 11,
    "start_time": "2023-04-29T10:29:07.362Z"
   },
   {
    "duration": 8,
    "start_time": "2023-04-29T10:29:07.375Z"
   },
   {
    "duration": 10,
    "start_time": "2023-04-29T10:29:07.385Z"
   },
   {
    "duration": 45,
    "start_time": "2023-04-29T14:48:30.768Z"
   },
   {
    "duration": 1422,
    "start_time": "2023-04-29T14:48:47.778Z"
   },
   {
    "duration": 837,
    "start_time": "2023-04-29T14:48:49.203Z"
   },
   {
    "duration": 532,
    "start_time": "2023-04-29T14:48:50.041Z"
   },
   {
    "duration": 508,
    "start_time": "2023-04-29T14:48:50.575Z"
   },
   {
    "duration": 31,
    "start_time": "2023-04-29T14:48:51.085Z"
   },
   {
    "duration": 42,
    "start_time": "2023-04-29T14:48:51.118Z"
   },
   {
    "duration": 60,
    "start_time": "2023-04-29T14:48:51.161Z"
   },
   {
    "duration": 42,
    "start_time": "2023-04-29T14:48:51.223Z"
   },
   {
    "duration": 83,
    "start_time": "2023-04-29T14:48:51.267Z"
   },
   {
    "duration": 23,
    "start_time": "2023-04-29T14:48:51.352Z"
   },
   {
    "duration": 96,
    "start_time": "2023-04-29T14:48:51.377Z"
   },
   {
    "duration": 45,
    "start_time": "2023-04-29T14:48:51.474Z"
   },
   {
    "duration": 86,
    "start_time": "2023-04-29T14:48:51.521Z"
   },
   {
    "duration": 26,
    "start_time": "2023-04-29T14:48:51.609Z"
   },
   {
    "duration": 14,
    "start_time": "2023-04-29T14:48:51.637Z"
   },
   {
    "duration": 5,
    "start_time": "2023-04-29T14:48:51.652Z"
   },
   {
    "duration": 47,
    "start_time": "2023-04-29T14:48:51.658Z"
   },
   {
    "duration": 22,
    "start_time": "2023-04-29T14:48:51.708Z"
   },
   {
    "duration": 22,
    "start_time": "2023-04-29T14:48:51.731Z"
   },
   {
    "duration": 756,
    "start_time": "2023-04-29T14:48:51.755Z"
   },
   {
    "duration": 807,
    "start_time": "2023-04-29T14:48:52.513Z"
   },
   {
    "duration": 738,
    "start_time": "2023-04-29T14:48:53.322Z"
   },
   {
    "duration": 6,
    "start_time": "2023-04-29T14:48:54.062Z"
   },
   {
    "duration": 29,
    "start_time": "2023-04-29T14:48:54.070Z"
   },
   {
    "duration": 7,
    "start_time": "2023-04-29T14:48:54.101Z"
   },
   {
    "duration": 5,
    "start_time": "2023-04-29T14:48:54.110Z"
   },
   {
    "duration": 6,
    "start_time": "2023-04-29T14:48:54.117Z"
   },
   {
    "duration": 5,
    "start_time": "2023-04-29T14:48:54.128Z"
   },
   {
    "duration": 5,
    "start_time": "2023-04-29T14:48:54.135Z"
   },
   {
    "duration": 6,
    "start_time": "2023-04-29T14:48:54.142Z"
   },
   {
    "duration": 5,
    "start_time": "2023-04-29T14:48:54.150Z"
   },
   {
    "duration": 56,
    "start_time": "2023-04-29T14:48:54.207Z"
   },
   {
    "duration": 9,
    "start_time": "2023-04-29T14:48:54.265Z"
   },
   {
    "duration": 11,
    "start_time": "2023-04-29T14:48:54.276Z"
   },
   {
    "duration": 10,
    "start_time": "2023-04-29T14:48:54.289Z"
   },
   {
    "duration": 24,
    "start_time": "2023-04-29T14:48:54.301Z"
   },
   {
    "duration": 20,
    "start_time": "2023-04-29T14:48:54.327Z"
   },
   {
    "duration": 45,
    "start_time": "2023-04-29T14:48:54.349Z"
   },
   {
    "duration": 26,
    "start_time": "2023-04-29T14:48:54.397Z"
   },
   {
    "duration": 170,
    "start_time": "2023-04-29T14:48:54.427Z"
   },
   {
    "duration": 101,
    "start_time": "2023-04-29T14:48:54.601Z"
   },
   {
    "duration": 7,
    "start_time": "2023-04-29T14:48:54.703Z"
   },
   {
    "duration": 5,
    "start_time": "2023-04-29T14:48:54.712Z"
   },
   {
    "duration": 80,
    "start_time": "2023-04-29T14:48:54.718Z"
   },
   {
    "duration": 4,
    "start_time": "2023-04-29T14:48:54.803Z"
   },
   {
    "duration": 4,
    "start_time": "2023-04-29T14:48:54.810Z"
   },
   {
    "duration": 12,
    "start_time": "2023-04-29T14:48:54.894Z"
   },
   {
    "duration": 4,
    "start_time": "2023-04-29T15:06:43.628Z"
   },
   {
    "duration": 4,
    "start_time": "2023-04-29T15:09:21.130Z"
   },
   {
    "duration": 4,
    "start_time": "2023-04-29T15:09:22.733Z"
   },
   {
    "duration": 4,
    "start_time": "2023-04-29T15:09:49.941Z"
   },
   {
    "duration": 4,
    "start_time": "2023-04-29T15:09:52.659Z"
   },
   {
    "duration": 4,
    "start_time": "2023-04-29T15:09:54.572Z"
   },
   {
    "duration": 4,
    "start_time": "2023-04-29T15:10:31.366Z"
   },
   {
    "duration": 4,
    "start_time": "2023-04-29T15:10:33.634Z"
   },
   {
    "duration": 5,
    "start_time": "2023-04-29T15:10:36.572Z"
   },
   {
    "duration": 47,
    "start_time": "2023-04-29T15:18:30.252Z"
   },
   {
    "duration": 3,
    "start_time": "2023-04-29T15:23:00.733Z"
   },
   {
    "duration": 4,
    "start_time": "2023-04-29T15:26:08.256Z"
   },
   {
    "duration": 4,
    "start_time": "2023-04-29T15:26:16.123Z"
   },
   {
    "duration": 3,
    "start_time": "2023-04-29T15:26:25.124Z"
   },
   {
    "duration": 45,
    "start_time": "2023-04-29T15:51:52.092Z"
   },
   {
    "duration": 3,
    "start_time": "2023-04-29T16:16:27.826Z"
   },
   {
    "duration": 4,
    "start_time": "2023-04-29T16:16:43.711Z"
   },
   {
    "duration": 11,
    "start_time": "2023-04-29T16:17:50.411Z"
   },
   {
    "duration": 6,
    "start_time": "2023-04-29T16:18:05.151Z"
   },
   {
    "duration": 3,
    "start_time": "2023-04-29T16:18:15.100Z"
   },
   {
    "duration": 106,
    "start_time": "2023-04-29T16:18:16.707Z"
   },
   {
    "duration": 4,
    "start_time": "2023-04-29T16:18:28.143Z"
   },
   {
    "duration": 8,
    "start_time": "2023-04-29T16:18:30.076Z"
   },
   {
    "duration": 3,
    "start_time": "2023-04-29T16:19:34.660Z"
   },
   {
    "duration": 9,
    "start_time": "2023-04-29T16:19:36.607Z"
   },
   {
    "duration": 4,
    "start_time": "2023-04-29T16:20:25.926Z"
   },
   {
    "duration": 6,
    "start_time": "2023-04-29T16:20:27.920Z"
   },
   {
    "duration": 6,
    "start_time": "2023-04-29T16:20:30.431Z"
   },
   {
    "duration": 10,
    "start_time": "2023-04-29T16:21:05.498Z"
   },
   {
    "duration": 4,
    "start_time": "2023-04-29T16:22:33.854Z"
   },
   {
    "duration": 51,
    "start_time": "2023-04-29T16:29:03.507Z"
   },
   {
    "duration": 3,
    "start_time": "2023-04-29T16:29:44.488Z"
   },
   {
    "duration": 8,
    "start_time": "2023-04-29T16:29:48.060Z"
   },
   {
    "duration": 6,
    "start_time": "2023-04-29T16:29:49.924Z"
   },
   {
    "duration": 6,
    "start_time": "2023-04-29T16:29:51.524Z"
   },
   {
    "duration": 3,
    "start_time": "2023-04-29T16:33:55.082Z"
   },
   {
    "duration": 4,
    "start_time": "2023-04-29T16:55:29.343Z"
   },
   {
    "duration": 6,
    "start_time": "2023-04-29T16:55:32.107Z"
   },
   {
    "duration": 5,
    "start_time": "2023-04-29T16:56:12.057Z"
   },
   {
    "duration": 12,
    "start_time": "2023-04-29T16:56:14.079Z"
   },
   {
    "duration": 6,
    "start_time": "2023-04-29T16:56:21.459Z"
   },
   {
    "duration": 6,
    "start_time": "2023-04-29T16:56:27.661Z"
   },
   {
    "duration": 7,
    "start_time": "2023-04-29T16:56:36.144Z"
   },
   {
    "duration": 6,
    "start_time": "2023-04-29T16:56:48.276Z"
   },
   {
    "duration": 9,
    "start_time": "2023-04-29T16:58:18.165Z"
   },
   {
    "duration": 11,
    "start_time": "2023-04-29T16:58:21.958Z"
   },
   {
    "duration": 9,
    "start_time": "2023-04-29T16:58:53.817Z"
   },
   {
    "duration": 10,
    "start_time": "2023-04-29T16:59:22.402Z"
   },
   {
    "duration": 3,
    "start_time": "2023-04-29T17:09:41.083Z"
   },
   {
    "duration": 48,
    "start_time": "2023-04-29T17:35:09.690Z"
   },
   {
    "duration": 54,
    "start_time": "2023-04-29T17:35:39.387Z"
   },
   {
    "duration": 7,
    "start_time": "2023-04-29T17:35:51.427Z"
   },
   {
    "duration": 5,
    "start_time": "2023-04-29T17:36:56.519Z"
   },
   {
    "duration": 14,
    "start_time": "2023-04-29T17:37:00.600Z"
   },
   {
    "duration": 4,
    "start_time": "2023-04-29T17:37:48.362Z"
   },
   {
    "duration": 11,
    "start_time": "2023-04-29T17:37:50.167Z"
   },
   {
    "duration": 5,
    "start_time": "2023-04-29T17:39:42.678Z"
   },
   {
    "duration": 1457,
    "start_time": "2023-04-29T17:39:44.483Z"
   },
   {
    "duration": 10,
    "start_time": "2023-04-29T17:40:54.006Z"
   },
   {
    "duration": 4,
    "start_time": "2023-04-29T17:41:11.421Z"
   },
   {
    "duration": 6,
    "start_time": "2023-04-29T17:41:16.737Z"
   },
   {
    "duration": 1235,
    "start_time": "2023-04-29T17:41:18.763Z"
   },
   {
    "duration": 8,
    "start_time": "2023-04-29T17:42:28.724Z"
   },
   {
    "duration": 1258,
    "start_time": "2023-04-29T17:42:30.623Z"
   },
   {
    "duration": 5,
    "start_time": "2023-04-29T17:43:02.912Z"
   },
   {
    "duration": 1240,
    "start_time": "2023-04-29T17:43:05.767Z"
   },
   {
    "duration": 6,
    "start_time": "2023-04-29T17:43:30.417Z"
   },
   {
    "duration": 11,
    "start_time": "2023-04-29T17:43:33.919Z"
   },
   {
    "duration": 6,
    "start_time": "2023-04-29T17:43:49.416Z"
   },
   {
    "duration": 5,
    "start_time": "2023-04-29T17:47:55.726Z"
   },
   {
    "duration": 2117,
    "start_time": "2023-04-29T17:47:57.806Z"
   },
   {
    "duration": 4,
    "start_time": "2023-04-29T17:49:52.222Z"
   },
   {
    "duration": 2069,
    "start_time": "2023-04-29T17:49:54.044Z"
   },
   {
    "duration": 5,
    "start_time": "2023-04-29T17:50:27.307Z"
   },
   {
    "duration": 2044,
    "start_time": "2023-04-29T17:50:29.024Z"
   },
   {
    "duration": 6,
    "start_time": "2023-04-29T17:57:16.588Z"
   },
   {
    "duration": 6,
    "start_time": "2023-04-29T17:57:18.670Z"
   },
   {
    "duration": 6,
    "start_time": "2023-04-29T17:57:24.460Z"
   },
   {
    "duration": 8,
    "start_time": "2023-04-29T17:57:26.532Z"
   },
   {
    "duration": 5,
    "start_time": "2023-04-29T17:57:29.203Z"
   },
   {
    "duration": 620,
    "start_time": "2023-04-29T17:57:32.499Z"
   },
   {
    "duration": 612,
    "start_time": "2023-04-29T17:57:55.590Z"
   },
   {
    "duration": 636,
    "start_time": "2023-04-29T17:58:10.679Z"
   },
   {
    "duration": 632,
    "start_time": "2023-04-29T17:58:23.240Z"
   },
   {
    "duration": 7700,
    "start_time": "2023-04-29T20:08:35.913Z"
   },
   {
    "duration": 417,
    "start_time": "2023-04-29T20:08:43.615Z"
   },
   {
    "duration": 240,
    "start_time": "2023-04-29T20:08:44.033Z"
   },
   {
    "duration": 227,
    "start_time": "2023-04-29T20:08:44.275Z"
   },
   {
    "duration": 49,
    "start_time": "2023-04-29T20:08:44.503Z"
   },
   {
    "duration": 54,
    "start_time": "2023-04-29T20:08:44.555Z"
   },
   {
    "duration": 77,
    "start_time": "2023-04-29T20:08:44.612Z"
   },
   {
    "duration": 70,
    "start_time": "2023-04-29T20:08:44.691Z"
   },
   {
    "duration": 119,
    "start_time": "2023-04-29T20:08:44.763Z"
   },
   {
    "duration": 49,
    "start_time": "2023-04-29T20:08:44.886Z"
   },
   {
    "duration": 77,
    "start_time": "2023-04-29T20:08:44.938Z"
   },
   {
    "duration": 55,
    "start_time": "2023-04-29T20:08:45.017Z"
   },
   {
    "duration": 90,
    "start_time": "2023-04-29T20:08:45.074Z"
   },
   {
    "duration": 27,
    "start_time": "2023-04-29T20:08:45.165Z"
   },
   {
    "duration": 17,
    "start_time": "2023-04-29T20:08:45.193Z"
   },
   {
    "duration": 10,
    "start_time": "2023-04-29T20:08:45.211Z"
   },
   {
    "duration": 35,
    "start_time": "2023-04-29T20:08:45.236Z"
   },
   {
    "duration": 26,
    "start_time": "2023-04-29T20:08:45.273Z"
   },
   {
    "duration": 45,
    "start_time": "2023-04-29T20:08:45.302Z"
   },
   {
    "duration": 880,
    "start_time": "2023-04-29T20:08:45.349Z"
   },
   {
    "duration": 934,
    "start_time": "2023-04-29T20:08:46.234Z"
   },
   {
    "duration": 810,
    "start_time": "2023-04-29T20:08:47.169Z"
   },
   {
    "duration": 5,
    "start_time": "2023-04-29T20:08:47.981Z"
   },
   {
    "duration": 7,
    "start_time": "2023-04-29T20:08:47.988Z"
   },
   {
    "duration": 11,
    "start_time": "2023-04-29T20:08:47.996Z"
   },
   {
    "duration": 28,
    "start_time": "2023-04-29T20:08:48.008Z"
   },
   {
    "duration": 8,
    "start_time": "2023-04-29T20:08:48.038Z"
   },
   {
    "duration": 7,
    "start_time": "2023-04-29T20:08:48.053Z"
   },
   {
    "duration": 10,
    "start_time": "2023-04-29T20:08:48.062Z"
   },
   {
    "duration": 10,
    "start_time": "2023-04-29T20:08:48.073Z"
   },
   {
    "duration": 16,
    "start_time": "2023-04-29T20:08:48.084Z"
   },
   {
    "duration": 55,
    "start_time": "2023-04-29T20:08:48.102Z"
   },
   {
    "duration": 9,
    "start_time": "2023-04-29T20:08:48.159Z"
   },
   {
    "duration": 13,
    "start_time": "2023-04-29T20:08:48.170Z"
   },
   {
    "duration": 18,
    "start_time": "2023-04-29T20:08:48.184Z"
   },
   {
    "duration": 31,
    "start_time": "2023-04-29T20:08:48.204Z"
   },
   {
    "duration": 24,
    "start_time": "2023-04-29T20:08:48.238Z"
   },
   {
    "duration": 18,
    "start_time": "2023-04-29T20:08:48.264Z"
   },
   {
    "duration": 60,
    "start_time": "2023-04-29T20:08:48.283Z"
   },
   {
    "duration": 102,
    "start_time": "2023-04-29T20:08:48.348Z"
   },
   {
    "duration": 282,
    "start_time": "2023-04-29T20:08:48.454Z"
   },
   {
    "duration": 112,
    "start_time": "2023-04-29T20:08:48.743Z"
   },
   {
    "duration": 5,
    "start_time": "2023-04-29T20:08:48.857Z"
   },
   {
    "duration": 5,
    "start_time": "2023-04-29T20:08:48.863Z"
   },
   {
    "duration": 7,
    "start_time": "2023-04-29T20:08:48.869Z"
   },
   {
    "duration": 6,
    "start_time": "2023-04-29T20:08:48.877Z"
   },
   {
    "duration": 7,
    "start_time": "2023-04-29T20:08:48.884Z"
   },
   {
    "duration": 5,
    "start_time": "2023-04-29T20:08:48.892Z"
   },
   {
    "duration": 5,
    "start_time": "2023-04-29T20:08:48.899Z"
   },
   {
    "duration": 4,
    "start_time": "2023-04-29T20:08:48.906Z"
   },
   {
    "duration": 30,
    "start_time": "2023-04-29T20:08:48.912Z"
   },
   {
    "duration": 7,
    "start_time": "2023-04-29T20:08:48.947Z"
   },
   {
    "duration": 8,
    "start_time": "2023-04-29T20:08:48.955Z"
   },
   {
    "duration": 5,
    "start_time": "2023-04-29T20:08:48.964Z"
   },
   {
    "duration": 793,
    "start_time": "2023-04-29T20:08:48.970Z"
   },
   {
    "duration": 733,
    "start_time": "2023-04-29T20:08:49.764Z"
   },
   {
    "duration": 712,
    "start_time": "2023-04-29T20:08:50.499Z"
   },
   {
    "duration": 4,
    "start_time": "2023-04-29T20:09:03.705Z"
   },
   {
    "duration": 6,
    "start_time": "2023-04-29T20:09:04.623Z"
   },
   {
    "duration": 6,
    "start_time": "2023-04-29T20:09:05.652Z"
   },
   {
    "duration": 7,
    "start_time": "2023-04-29T20:09:07.109Z"
   },
   {
    "duration": 4,
    "start_time": "2023-04-29T20:09:10.393Z"
   },
   {
    "duration": 6,
    "start_time": "2023-04-29T20:09:40.815Z"
   },
   {
    "duration": 6,
    "start_time": "2023-04-29T20:09:41.933Z"
   },
   {
    "duration": 7,
    "start_time": "2023-04-29T20:09:42.438Z"
   },
   {
    "duration": 7,
    "start_time": "2023-04-29T20:09:42.722Z"
   },
   {
    "duration": 4,
    "start_time": "2023-04-29T20:09:46.064Z"
   },
   {
    "duration": 4,
    "start_time": "2023-04-29T20:09:48.268Z"
   },
   {
    "duration": 7,
    "start_time": "2023-04-29T20:09:48.942Z"
   },
   {
    "duration": 6,
    "start_time": "2023-04-29T20:09:49.171Z"
   },
   {
    "duration": 7,
    "start_time": "2023-04-29T20:09:49.377Z"
   },
   {
    "duration": 6,
    "start_time": "2023-04-29T20:09:55.320Z"
   },
   {
    "duration": 6,
    "start_time": "2023-04-29T20:10:02.264Z"
   },
   {
    "duration": 3,
    "start_time": "2023-04-29T20:12:19.521Z"
   },
   {
    "duration": 10,
    "start_time": "2023-04-29T20:12:20.240Z"
   },
   {
    "duration": 9,
    "start_time": "2023-04-29T20:12:21.234Z"
   },
   {
    "duration": 10,
    "start_time": "2023-04-29T20:12:23.267Z"
   },
   {
    "duration": 3,
    "start_time": "2023-04-29T20:12:31.169Z"
   },
   {
    "duration": 26,
    "start_time": "2023-04-29T20:14:44.390Z"
   },
   {
    "duration": 20,
    "start_time": "2023-04-29T20:14:44.544Z"
   },
   {
    "duration": 26,
    "start_time": "2023-04-29T20:14:45.021Z"
   },
   {
    "duration": 4,
    "start_time": "2023-04-29T20:14:48.577Z"
   },
   {
    "duration": 7,
    "start_time": "2023-04-29T20:14:49.149Z"
   },
   {
    "duration": 7,
    "start_time": "2023-04-29T20:14:49.347Z"
   },
   {
    "duration": 6,
    "start_time": "2023-04-29T20:14:49.530Z"
   },
   {
    "duration": 4,
    "start_time": "2023-04-29T20:14:52.870Z"
   },
   {
    "duration": 7,
    "start_time": "2023-04-29T20:14:53.373Z"
   },
   {
    "duration": 6,
    "start_time": "2023-04-29T20:14:53.546Z"
   },
   {
    "duration": 6,
    "start_time": "2023-04-29T20:14:54.275Z"
   },
   {
    "duration": 5,
    "start_time": "2023-04-29T20:15:01.253Z"
   },
   {
    "duration": 664,
    "start_time": "2023-04-29T20:15:01.571Z"
   },
   {
    "duration": 665,
    "start_time": "2023-04-29T20:15:02.237Z"
   },
   {
    "duration": 675,
    "start_time": "2023-04-29T20:15:02.903Z"
   },
   {
    "duration": 4,
    "start_time": "2023-04-29T20:15:08.063Z"
   },
   {
    "duration": 12,
    "start_time": "2023-04-29T20:15:08.567Z"
   },
   {
    "duration": 13,
    "start_time": "2023-04-29T20:15:08.736Z"
   },
   {
    "duration": 13,
    "start_time": "2023-04-29T20:15:08.923Z"
   },
   {
    "duration": 4,
    "start_time": "2023-04-29T20:15:09.140Z"
   },
   {
    "duration": 4,
    "start_time": "2023-04-29T20:15:15.897Z"
   },
   {
    "duration": 4,
    "start_time": "2023-04-29T20:15:17.710Z"
   },
   {
    "duration": 7,
    "start_time": "2023-04-29T20:15:18.195Z"
   },
   {
    "duration": 7,
    "start_time": "2023-04-29T20:15:18.339Z"
   },
   {
    "duration": 7,
    "start_time": "2023-04-29T20:15:18.503Z"
   },
   {
    "duration": 6,
    "start_time": "2023-04-29T20:15:44.925Z"
   },
   {
    "duration": 769,
    "start_time": "2023-04-29T20:15:45.180Z"
   },
   {
    "duration": 685,
    "start_time": "2023-04-29T20:15:45.951Z"
   },
   {
    "duration": 673,
    "start_time": "2023-04-29T20:15:46.638Z"
   },
   {
    "duration": 4,
    "start_time": "2023-04-29T20:16:35.647Z"
   },
   {
    "duration": 646,
    "start_time": "2023-04-29T20:16:35.960Z"
   },
   {
    "duration": 694,
    "start_time": "2023-04-29T20:16:36.608Z"
   },
   {
    "duration": 658,
    "start_time": "2023-04-29T20:16:37.303Z"
   },
   {
    "duration": 5,
    "start_time": "2023-04-29T20:16:39.408Z"
   },
   {
    "duration": 6,
    "start_time": "2023-04-29T20:16:39.905Z"
   },
   {
    "duration": 7,
    "start_time": "2023-04-29T20:16:40.065Z"
   },
   {
    "duration": 6,
    "start_time": "2023-04-29T20:16:40.240Z"
   },
   {
    "duration": 5,
    "start_time": "2023-04-29T20:16:40.433Z"
   },
   {
    "duration": 695,
    "start_time": "2023-04-29T20:16:40.809Z"
   },
   {
    "duration": 718,
    "start_time": "2023-04-29T20:16:41.506Z"
   },
   {
    "duration": 675,
    "start_time": "2023-04-29T20:16:42.226Z"
   },
   {
    "duration": 1563,
    "start_time": "2023-04-29T21:10:46.853Z"
   },
   {
    "duration": 604,
    "start_time": "2023-04-29T21:10:48.419Z"
   },
   {
    "duration": 675,
    "start_time": "2023-04-29T21:10:49.025Z"
   },
   {
    "duration": 596,
    "start_time": "2023-04-29T21:10:49.702Z"
   },
   {
    "duration": 41,
    "start_time": "2023-04-29T21:10:50.300Z"
   },
   {
    "duration": 66,
    "start_time": "2023-04-29T21:10:50.342Z"
   },
   {
    "duration": 46,
    "start_time": "2023-04-29T21:10:50.412Z"
   },
   {
    "duration": 54,
    "start_time": "2023-04-29T21:10:50.460Z"
   },
   {
    "duration": 91,
    "start_time": "2023-04-29T21:10:50.515Z"
   },
   {
    "duration": 28,
    "start_time": "2023-04-29T21:10:50.613Z"
   },
   {
    "duration": 72,
    "start_time": "2023-04-29T21:10:50.642Z"
   },
   {
    "duration": 27,
    "start_time": "2023-04-29T21:10:50.716Z"
   },
   {
    "duration": 93,
    "start_time": "2023-04-29T21:10:50.745Z"
   },
   {
    "duration": 28,
    "start_time": "2023-04-29T21:10:50.841Z"
   },
   {
    "duration": 36,
    "start_time": "2023-04-29T21:10:50.871Z"
   },
   {
    "duration": 3,
    "start_time": "2023-04-29T21:10:50.914Z"
   },
   {
    "duration": 23,
    "start_time": "2023-04-29T21:10:50.919Z"
   },
   {
    "duration": 21,
    "start_time": "2023-04-29T21:10:50.944Z"
   },
   {
    "duration": 47,
    "start_time": "2023-04-29T21:10:50.966Z"
   },
   {
    "duration": 795,
    "start_time": "2023-04-29T21:10:51.014Z"
   },
   {
    "duration": 895,
    "start_time": "2023-04-29T21:10:51.813Z"
   },
   {
    "duration": 809,
    "start_time": "2023-04-29T21:10:52.710Z"
   },
   {
    "duration": 5,
    "start_time": "2023-04-29T21:10:53.520Z"
   },
   {
    "duration": 4,
    "start_time": "2023-04-29T21:10:53.527Z"
   },
   {
    "duration": 9,
    "start_time": "2023-04-29T21:10:53.533Z"
   },
   {
    "duration": 5,
    "start_time": "2023-04-29T21:10:53.543Z"
   },
   {
    "duration": 5,
    "start_time": "2023-04-29T21:10:53.549Z"
   },
   {
    "duration": 53,
    "start_time": "2023-04-29T21:10:53.555Z"
   },
   {
    "duration": 5,
    "start_time": "2023-04-29T21:10:53.612Z"
   },
   {
    "duration": 5,
    "start_time": "2023-04-29T21:10:53.619Z"
   },
   {
    "duration": 5,
    "start_time": "2023-04-29T21:10:53.625Z"
   },
   {
    "duration": 36,
    "start_time": "2023-04-29T21:10:53.632Z"
   },
   {
    "duration": 8,
    "start_time": "2023-04-29T21:10:53.670Z"
   },
   {
    "duration": 12,
    "start_time": "2023-04-29T21:10:53.687Z"
   },
   {
    "duration": 11,
    "start_time": "2023-04-29T21:10:53.701Z"
   },
   {
    "duration": 21,
    "start_time": "2023-04-29T21:10:53.714Z"
   },
   {
    "duration": 18,
    "start_time": "2023-04-29T21:10:53.737Z"
   },
   {
    "duration": 42,
    "start_time": "2023-04-29T21:10:53.756Z"
   },
   {
    "duration": 95,
    "start_time": "2023-04-29T21:10:53.808Z"
   },
   {
    "duration": 111,
    "start_time": "2023-04-29T21:10:53.905Z"
   },
   {
    "duration": 119,
    "start_time": "2023-04-29T21:10:54.090Z"
   },
   {
    "duration": 75,
    "start_time": "2023-04-29T21:10:54.211Z"
   },
   {
    "duration": 9,
    "start_time": "2023-04-29T21:10:54.288Z"
   },
   {
    "duration": 12,
    "start_time": "2023-04-29T21:10:54.300Z"
   },
   {
    "duration": 3,
    "start_time": "2023-04-29T21:12:04.745Z"
   },
   {
    "duration": 3,
    "start_time": "2023-04-29T21:12:27.624Z"
   },
   {
    "duration": 4,
    "start_time": "2023-04-29T21:13:41.009Z"
   },
   {
    "duration": 4,
    "start_time": "2023-04-29T21:13:45.459Z"
   },
   {
    "duration": 4,
    "start_time": "2023-04-29T21:13:47.706Z"
   },
   {
    "duration": 3,
    "start_time": "2023-04-29T21:13:49.638Z"
   },
   {
    "duration": 6,
    "start_time": "2023-04-29T21:15:26.497Z"
   },
   {
    "duration": 8,
    "start_time": "2023-04-29T21:15:42.129Z"
   },
   {
    "duration": 7,
    "start_time": "2023-04-29T21:15:48.801Z"
   },
   {
    "duration": 8,
    "start_time": "2023-04-29T21:15:51.545Z"
   },
   {
    "duration": 4,
    "start_time": "2023-04-29T21:16:16.110Z"
   },
   {
    "duration": 147,
    "start_time": "2023-04-29T21:16:18.932Z"
   },
   {
    "duration": 746,
    "start_time": "2023-04-29T21:16:46.848Z"
   },
   {
    "duration": 801,
    "start_time": "2023-04-29T21:17:06.936Z"
   },
   {
    "duration": 767,
    "start_time": "2023-04-29T21:17:11.732Z"
   },
   {
    "duration": 3412,
    "start_time": "2023-04-30T04:31:13.289Z"
   },
   {
    "duration": 546,
    "start_time": "2023-04-30T04:31:16.703Z"
   },
   {
    "duration": 529,
    "start_time": "2023-04-30T04:31:17.251Z"
   },
   {
    "duration": 514,
    "start_time": "2023-04-30T04:31:17.783Z"
   },
   {
    "duration": 33,
    "start_time": "2023-04-30T04:31:18.298Z"
   },
   {
    "duration": 44,
    "start_time": "2023-04-30T04:31:18.333Z"
   },
   {
    "duration": 56,
    "start_time": "2023-04-30T04:31:18.379Z"
   },
   {
    "duration": 58,
    "start_time": "2023-04-30T04:31:18.436Z"
   },
   {
    "duration": 58,
    "start_time": "2023-04-30T04:31:18.496Z"
   },
   {
    "duration": 39,
    "start_time": "2023-04-30T04:31:18.556Z"
   },
   {
    "duration": 55,
    "start_time": "2023-04-30T04:31:18.597Z"
   },
   {
    "duration": 41,
    "start_time": "2023-04-30T04:31:18.654Z"
   },
   {
    "duration": 69,
    "start_time": "2023-04-30T04:31:18.697Z"
   },
   {
    "duration": 36,
    "start_time": "2023-04-30T04:31:18.768Z"
   },
   {
    "duration": 15,
    "start_time": "2023-04-30T04:31:18.805Z"
   },
   {
    "duration": 5,
    "start_time": "2023-04-30T04:31:18.821Z"
   },
   {
    "duration": 20,
    "start_time": "2023-04-30T04:31:18.828Z"
   },
   {
    "duration": 19,
    "start_time": "2023-04-30T04:31:18.850Z"
   },
   {
    "duration": 21,
    "start_time": "2023-04-30T04:31:18.894Z"
   },
   {
    "duration": 692,
    "start_time": "2023-04-30T04:31:18.916Z"
   },
   {
    "duration": 819,
    "start_time": "2023-04-30T04:31:19.610Z"
   },
   {
    "duration": 855,
    "start_time": "2023-04-30T04:31:20.430Z"
   },
   {
    "duration": 5,
    "start_time": "2023-04-30T04:31:21.294Z"
   },
   {
    "duration": 9,
    "start_time": "2023-04-30T04:31:21.300Z"
   },
   {
    "duration": 7,
    "start_time": "2023-04-30T04:31:21.310Z"
   },
   {
    "duration": 11,
    "start_time": "2023-04-30T04:31:21.319Z"
   },
   {
    "duration": 4,
    "start_time": "2023-04-30T04:31:21.331Z"
   },
   {
    "duration": 4,
    "start_time": "2023-04-30T04:31:21.338Z"
   },
   {
    "duration": 6,
    "start_time": "2023-04-30T04:31:21.343Z"
   },
   {
    "duration": 4,
    "start_time": "2023-04-30T04:31:21.350Z"
   },
   {
    "duration": 6,
    "start_time": "2023-04-30T04:31:21.355Z"
   },
   {
    "duration": 68,
    "start_time": "2023-04-30T04:31:21.362Z"
   },
   {
    "duration": 11,
    "start_time": "2023-04-30T04:31:21.432Z"
   },
   {
    "duration": 36,
    "start_time": "2023-04-30T04:31:21.444Z"
   },
   {
    "duration": 10,
    "start_time": "2023-04-30T04:31:21.482Z"
   },
   {
    "duration": 18,
    "start_time": "2023-04-30T04:31:21.493Z"
   },
   {
    "duration": 18,
    "start_time": "2023-04-30T04:31:21.513Z"
   },
   {
    "duration": 16,
    "start_time": "2023-04-30T04:31:21.533Z"
   },
   {
    "duration": 147,
    "start_time": "2023-04-30T04:31:21.550Z"
   },
   {
    "duration": 101,
    "start_time": "2023-04-30T04:31:21.699Z"
   },
   {
    "duration": 193,
    "start_time": "2023-04-30T04:31:21.802Z"
   },
   {
    "duration": 6,
    "start_time": "2023-04-30T04:31:21.998Z"
   },
   {
    "duration": 92,
    "start_time": "2023-04-30T04:31:22.006Z"
   },
   {
    "duration": 27,
    "start_time": "2023-04-30T04:31:22.099Z"
   },
   {
    "duration": 8,
    "start_time": "2023-04-30T04:31:22.128Z"
   },
   {
    "duration": 5,
    "start_time": "2023-04-30T04:31:22.137Z"
   },
   {
    "duration": 4,
    "start_time": "2023-04-30T04:31:22.143Z"
   },
   {
    "duration": 5,
    "start_time": "2023-04-30T04:31:22.149Z"
   },
   {
    "duration": 4,
    "start_time": "2023-04-30T04:31:22.155Z"
   },
   {
    "duration": 7,
    "start_time": "2023-04-30T04:31:22.160Z"
   },
   {
    "duration": 7,
    "start_time": "2023-04-30T04:31:22.168Z"
   },
   {
    "duration": 5,
    "start_time": "2023-04-30T04:31:22.176Z"
   },
   {
    "duration": 5,
    "start_time": "2023-04-30T04:31:22.194Z"
   },
   {
    "duration": 4,
    "start_time": "2023-04-30T04:31:22.201Z"
   },
   {
    "duration": 681,
    "start_time": "2023-04-30T04:31:22.206Z"
   },
   {
    "duration": 641,
    "start_time": "2023-04-30T04:31:22.888Z"
   },
   {
    "duration": 648,
    "start_time": "2023-04-30T04:31:23.530Z"
   }
  ],
  "kernelspec": {
   "display_name": "Python 3 (ipykernel)",
   "language": "python",
   "name": "python3"
  },
  "language_info": {
   "codemirror_mode": {
    "name": "ipython",
    "version": 3
   },
   "file_extension": ".py",
   "mimetype": "text/x-python",
   "name": "python",
   "nbconvert_exporter": "python",
   "pygments_lexer": "ipython3",
   "version": "3.12.7"
  },
  "toc": {
   "base_numbering": 1,
   "nav_menu": {},
   "number_sections": true,
   "sideBar": true,
   "skip_h1_title": true,
   "title_cell": "Table of Contents",
   "title_sidebar": "Contents",
   "toc_cell": false,
   "toc_position": {},
   "toc_section_display": true,
   "toc_window_display": false
  }
 },
 "nbformat": 4,
 "nbformat_minor": 4
}
